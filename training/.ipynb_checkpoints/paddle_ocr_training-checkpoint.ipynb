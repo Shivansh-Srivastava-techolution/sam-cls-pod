{
 "cells": [
  {
   "cell_type": "markdown",
   "id": "5b4f96d9",
   "metadata": {
    "id": "5b4f96d9",
    "papermill": {
     "duration": 0.020028,
     "end_time": "2023-05-23T15:38:46.645167",
     "exception": false,
     "start_time": "2023-05-23T15:38:46.625139",
     "status": "completed"
    },
    "tags": []
   },
   "source": [
    "# Environment Setup"
   ]
  },
  {
   "cell_type": "code",
   "execution_count": 11,
   "id": "b955a09f-de18-4ad1-95c3-9eaa46307935",
   "metadata": {},
   "outputs": [],
   "source": [
    "import os"
   ]
  },
  {
   "cell_type": "code",
   "execution_count": null,
   "id": "9e13ade7-9daa-48ac-beea-3ef1eff4433a",
   "metadata": {},
   "outputs": [],
   "source": []
  },
  {
   "cell_type": "code",
   "execution_count": 21,
   "id": "ebc458d9-6b15-4297-9973-f9189e0a13a2",
   "metadata": {},
   "outputs": [
    {
     "data": {
      "text/plain": [
       "'/home/jupyter/vamshi/pOCR-Pod/training'"
      ]
     },
     "execution_count": 21,
     "metadata": {},
     "output_type": "execute_result"
    }
   ],
   "source": [
    "os.getcwd()"
   ]
  },
  {
   "cell_type": "code",
   "execution_count": null,
   "id": "440c5662-a96a-4715-bee0-7344fc9b0285",
   "metadata": {},
   "outputs": [],
   "source": []
  },
  {
   "cell_type": "code",
   "execution_count": 25,
   "id": "097fca5a-90ee-45ea-81f0-53974c0be3ca",
   "metadata": {},
   "outputs": [
    {
     "data": {
      "text/plain": [
       "True"
      ]
     },
     "execution_count": 25,
     "metadata": {},
     "output_type": "execute_result"
    }
   ],
   "source": [
    "os.path.exists(\"/home/jupyter/vamshi/pOCR-Pod/data/6620c24d36edce8d2ae17dc6/train_data/661e68ba165e70ceeaa085cd.png\")"
   ]
  },
  {
   "cell_type": "code",
   "execution_count": 20,
   "id": "bc9f8f1f-137d-430d-93b2-c3709be511b1",
   "metadata": {},
   "outputs": [
    {
     "data": {
      "text/plain": [
       "False"
      ]
     },
     "execution_count": 20,
     "metadata": {},
     "output_type": "execute_result"
    }
   ],
   "source": [
    "os.path.exists(\"./data/6620c24d36edce8d2ae17dc6/train_data/661e68ba165e70ceeaa085cd.png\")"
   ]
  },
  {
   "cell_type": "code",
   "execution_count": 16,
   "id": "9e396543-7336-4ef4-96c9-103f1ef1bbe5",
   "metadata": {},
   "outputs": [
    {
     "name": "stdout",
     "output_type": "stream",
     "text": [
      "Current working directory: /home/jupyter/vamshi/pOCR-Pod/training\n",
      "Resolved file path: /home/jupter/vamshi/pOCR-Pod/data/6620c24d36edce8d2ae17dc6/train_data/661e68ba165e70ceeaa085cd.png\n",
      "File does not exist.\n"
     ]
    }
   ],
   "source": [
    "import os\n",
    "\n",
    "# File path to check\n",
    "file_path = \"/home/jupter/vamshi/pOCR-Pod/data/6620c24d36edce8d2ae17dc6/train_data/661e68ba165e70ceeaa085cd.png\"\n",
    "\n",
    "# Print current working directory\n",
    "print(\"Current working directory:\", os.getcwd())\n",
    "\n",
    "# Print resolved file path\n",
    "print(\"Resolved file path:\", os.path.abspath(file_path))\n",
    "\n",
    "# Check if file exists\n",
    "if os.path.exists(file_path):\n",
    "    print(\"File exists!\")\n",
    "else:\n",
    "    print(\"File does not exist.\")\n"
   ]
  },
  {
   "cell_type": "code",
   "execution_count": 17,
   "id": "d8ace380-cef0-478c-aa6b-2e2a0279be0c",
   "metadata": {},
   "outputs": [
    {
     "name": "stdout",
     "output_type": "stream",
     "text": [
      "File does not exist.\n"
     ]
    }
   ],
   "source": [
    "import os\n",
    "\n",
    "file_path = \"/home/jupter/vamshi/pOCR-Pod/data/6620c24d36edce8d2ae17dc6/train_data/661e68ba165e70ceeaa085cd.png\"\n",
    "\n",
    "if os.path.isfile(file_path):\n",
    "    print(\"File exists!\")\n",
    "else:\n",
    "    print(\"File does not exist.\")\n"
   ]
  },
  {
   "cell_type": "code",
   "execution_count": 9,
   "id": "4037c60a-0c43-47f4-8914-6584c436b10d",
   "metadata": {},
   "outputs": [],
   "source": [
    "drd = \"/home/jupyter/vamshi/pOCR-Pod/data/6620bc7b36edce8d2ae0c81d/train_data/661e79c2165e70ceeaa144ee.png\""
   ]
  },
  {
   "cell_type": "code",
   "execution_count": 7,
   "id": "a7b28dcb-5baa-437b-9192-8b9f3372c17e",
   "metadata": {},
   "outputs": [
    {
     "data": {
      "text/plain": [
       "True"
      ]
     },
     "execution_count": 7,
     "metadata": {},
     "output_type": "execute_result"
    }
   ],
   "source": [
    "\"6620bc7b36edce8d2ae0c81d\"==\"6620bc7b36edce8d2ae0c81d\""
   ]
  },
  {
   "cell_type": "code",
   "execution_count": 10,
   "id": "870dea2d-95e7-4477-a2de-8e3814ba1e56",
   "metadata": {},
   "outputs": [
    {
     "data": {
      "text/plain": [
       "True"
      ]
     },
     "execution_count": 10,
     "metadata": {},
     "output_type": "execute_result"
    }
   ],
   "source": [
    "\"/home/jupyter/vamshi/pOCR-Pod/data/6620bc7b36edce8d2ae0c81d/train_data/661e79c2165e70ceeaa144ee.png\"==drd"
   ]
  },
  {
   "cell_type": "code",
   "execution_count": 1,
   "id": "8542f0da",
   "metadata": {
    "colab": {
     "base_uri": "https://localhost:8080/"
    },
    "collapsed": true,
    "execution": {
     "iopub.execute_input": "2023-05-23T15:38:46.687402Z",
     "iopub.status.busy": "2023-05-23T15:38:46.686813Z",
     "iopub.status.idle": "2023-05-23T15:38:47.157860Z",
     "shell.execute_reply": "2023-05-23T15:38:47.156512Z"
    },
    "id": "8542f0da",
    "jupyter": {
     "outputs_hidden": true,
     "source_hidden": true
    },
    "outputId": "92dafc77-89de-4a00-e2d0-3f634e0bccc1",
    "papermill": {
     "duration": 0.494653,
     "end_time": "2023-05-23T15:38:47.159616",
     "exception": true,
     "start_time": "2023-05-23T15:38:46.664963",
     "status": "failed"
    },
    "tags": []
   },
   "outputs": [
    {
     "name": "stdout",
     "output_type": "stream",
     "text": [
      "Mounted at /content/drive\n"
     ]
    }
   ],
   "source": [
    "from google.colab import drive\n",
    "drive.mount('/content/drive')"
   ]
  },
  {
   "cell_type": "code",
   "execution_count": 1,
   "id": "d43771fe",
   "metadata": {
    "colab": {
     "base_uri": "https://localhost:8080/"
    },
    "id": "d43771fe",
    "outputId": "7d3e7dd3-4b62-437f-8cd5-0d6d2c66bc8f",
    "papermill": {
     "duration": null,
     "end_time": null,
     "exception": null,
     "start_time": null,
     "status": "pending"
    },
    "tags": []
   },
   "outputs": [
    {
     "name": "stdout",
     "output_type": "stream",
     "text": [
      "Wed Apr 17 19:22:13 2024       \n",
      "+-----------------------------------------------------------------------------+\n",
      "| NVIDIA-SMI 510.47.03    Driver Version: 510.47.03    CUDA Version: 11.6     |\n",
      "|-------------------------------+----------------------+----------------------+\n",
      "| GPU  Name        Persistence-M| Bus-Id        Disp.A | Volatile Uncorr. ECC |\n",
      "| Fan  Temp  Perf  Pwr:Usage/Cap|         Memory-Usage | GPU-Util  Compute M. |\n",
      "|                               |                      |               MIG M. |\n",
      "|===============================+======================+======================|\n",
      "|   0  Tesla T4            On   | 00000000:00:04.0 Off |                    0 |\n",
      "| N/A   49C    P8    15W /  70W |      0MiB / 15360MiB |      0%      Default |\n",
      "|                               |                      |                  N/A |\n",
      "+-------------------------------+----------------------+----------------------+\n",
      "                                                                               \n",
      "+-----------------------------------------------------------------------------+\n",
      "| Processes:                                                                  |\n",
      "|  GPU   GI   CI        PID   Type   Process name                  GPU Memory |\n",
      "|        ID   ID                                                   Usage      |\n",
      "|=============================================================================|\n",
      "|  No running processes found                                                 |\n",
      "+-----------------------------------------------------------------------------+\n"
     ]
    }
   ],
   "source": [
    "!nvidia-smi"
   ]
  },
  {
   "cell_type": "code",
   "execution_count": 2,
   "id": "4a39fdba",
   "metadata": {
    "colab": {
     "base_uri": "https://localhost:8080/"
    },
    "id": "4a39fdba",
    "outputId": "4ac4b25b-db4d-477a-ca54-5e43f86c93e0",
    "papermill": {
     "duration": null,
     "end_time": null,
     "exception": null,
     "start_time": null,
     "status": "pending"
    },
    "tags": []
   },
   "outputs": [
    {
     "name": "stdout",
     "output_type": "stream",
     "text": [
      "Wed Apr 17 19:22:19 2024       \n",
      "+-----------------------------------------------------------------------------+\n",
      "| NVIDIA-SMI 510.47.03    Driver Version: 510.47.03    CUDA Version: 11.6     |\n",
      "|-------------------------------+----------------------+----------------------+\n",
      "| GPU  Name        Persistence-M| Bus-Id        Disp.A | Volatile Uncorr. ECC |\n",
      "| Fan  Temp  Perf  Pwr:Usage/Cap|         Memory-Usage | GPU-Util  Compute M. |\n",
      "|                               |                      |               MIG M. |\n",
      "|===============================+======================+======================|\n",
      "|   0  Tesla T4            On   | 00000000:00:04.0 Off |                    0 |\n",
      "| N/A   49C    P8    15W /  70W |      0MiB / 15360MiB |      0%      Default |\n",
      "|                               |                      |                  N/A |\n",
      "+-------------------------------+----------------------+----------------------+\n",
      "                                                                               \n",
      "+-----------------------------------------------------------------------------+\n",
      "| Processes:                                                                  |\n",
      "|  GPU   GI   CI        PID   Type   Process name                  GPU Memory |\n",
      "|        ID   ID                                                   Usage      |\n",
      "|=============================================================================|\n",
      "|  No running processes found                                                 |\n",
      "+-----------------------------------------------------------------------------+\n"
     ]
    }
   ],
   "source": [
    "!nvidia-smi"
   ]
  },
  {
   "cell_type": "markdown",
   "id": "4f15215a",
   "metadata": {
    "id": "4f15215a",
    "papermill": {
     "duration": null,
     "end_time": null,
     "exception": null,
     "start_time": null,
     "status": "pending"
    },
    "tags": []
   },
   "source": [
    "#### Download PaddlePaddle from this [website](https://www.paddlepaddle.org.cn/en/install/quick?docurl=/documentation/docs/en/install/pip/linux-pip_en.html)"
   ]
  },
  {
   "cell_type": "code",
   "execution_count": 3,
   "id": "95efb204",
   "metadata": {
    "colab": {
     "base_uri": "https://localhost:8080/"
    },
    "execution": {
     "iopub.execute_input": "2023-05-23T15:02:58.752696Z",
     "iopub.status.busy": "2023-05-23T15:02:58.752335Z",
     "iopub.status.idle": "2023-05-23T15:04:50.927806Z",
     "shell.execute_reply": "2023-05-23T15:04:50.926699Z",
     "shell.execute_reply.started": "2023-05-23T15:02:58.752667Z"
    },
    "id": "95efb204",
    "outputId": "9800127a-ba2e-407d-c9fa-73a71023ce2a",
    "papermill": {
     "duration": null,
     "end_time": null,
     "exception": null,
     "start_time": null,
     "status": "pending"
    },
    "scrolled": true,
    "tags": []
   },
   "outputs": [
    {
     "name": "stdout",
     "output_type": "stream",
     "text": [
      "Looking in links: https://www.paddlepaddle.org.cn/whl/linux/mkl/avx/stable.html\n",
      "Collecting paddlepaddle-gpu==2.4.2.post112\n",
      "  Downloading https://paddle-wheel.bj.bcebos.com/2.4.2/linux/linux-gpu-cuda11.2-cudnn8-mkl-gcc8.2-avx/paddlepaddle_gpu-2.4.2.post112-cp310-cp310-linux_x86_64.whl (548.3 MB)\n",
      "\u001b[2K     \u001b[90m━━━━━━━━━━━━━━━━━━━━━━━━━━━━━━━━━━━━━━━━\u001b[0m \u001b[32m548.3/548.3 MB\u001b[0m \u001b[31m1.2 MB/s\u001b[0m eta \u001b[36m0:00:00\u001b[0m\n",
      "\u001b[?25hRequirement already satisfied: requests>=2.20.0 in /usr/local/lib/python3.10/dist-packages (from paddlepaddle-gpu==2.4.2.post112) (2.31.0)\n",
      "Requirement already satisfied: numpy>=1.13 in /usr/local/lib/python3.10/dist-packages (from paddlepaddle-gpu==2.4.2.post112) (1.23.5)\n",
      "Collecting protobuf<=3.20.0,>=3.1.0 (from paddlepaddle-gpu==2.4.2.post112)\n",
      "  Downloading protobuf-3.20.0-cp310-cp310-manylinux_2_12_x86_64.manylinux2010_x86_64.whl (1.1 MB)\n",
      "\u001b[2K     \u001b[90m━━━━━━━━━━━━━━━━━━━━━━━━━━━━━━━━━━━━━━━━\u001b[0m \u001b[32m1.1/1.1 MB\u001b[0m \u001b[31m6.0 MB/s\u001b[0m eta \u001b[36m0:00:00\u001b[0m\n",
      "\u001b[?25hRequirement already satisfied: Pillow in /usr/local/lib/python3.10/dist-packages (from paddlepaddle-gpu==2.4.2.post112) (9.4.0)\n",
      "Requirement already satisfied: six in /usr/local/lib/python3.10/dist-packages (from paddlepaddle-gpu==2.4.2.post112) (1.16.0)\n",
      "Requirement already satisfied: decorator in /usr/local/lib/python3.10/dist-packages (from paddlepaddle-gpu==2.4.2.post112) (4.4.2)\n",
      "Collecting astor (from paddlepaddle-gpu==2.4.2.post112)\n",
      "  Downloading astor-0.8.1-py2.py3-none-any.whl (27 kB)\n",
      "Collecting paddle-bfloat==0.1.7 (from paddlepaddle-gpu==2.4.2.post112)\n",
      "  Downloading paddle_bfloat-0.1.7-cp310-cp310-manylinux_2_17_x86_64.manylinux2014_x86_64.whl (383 kB)\n",
      "\u001b[2K     \u001b[90m━━━━━━━━━━━━━━━━━━━━━━━━━━━━━━━━━━━━━━━━\u001b[0m \u001b[32m383.2/383.2 kB\u001b[0m \u001b[31m42.4 MB/s\u001b[0m eta \u001b[36m0:00:00\u001b[0m\n",
      "\u001b[?25hRequirement already satisfied: opt-einsum==3.3.0 in /usr/local/lib/python3.10/dist-packages (from paddlepaddle-gpu==2.4.2.post112) (3.3.0)\n",
      "Requirement already satisfied: charset-normalizer<4,>=2 in /usr/local/lib/python3.10/dist-packages (from requests>=2.20.0->paddlepaddle-gpu==2.4.2.post112) (3.3.2)\n",
      "Requirement already satisfied: idna<4,>=2.5 in /usr/local/lib/python3.10/dist-packages (from requests>=2.20.0->paddlepaddle-gpu==2.4.2.post112) (3.6)\n",
      "Requirement already satisfied: urllib3<3,>=1.21.1 in /usr/local/lib/python3.10/dist-packages (from requests>=2.20.0->paddlepaddle-gpu==2.4.2.post112) (2.0.7)\n",
      "Requirement already satisfied: certifi>=2017.4.17 in /usr/local/lib/python3.10/dist-packages (from requests>=2.20.0->paddlepaddle-gpu==2.4.2.post112) (2023.11.17)\n",
      "Installing collected packages: paddle-bfloat, protobuf, astor, paddlepaddle-gpu\n",
      "  Attempting uninstall: protobuf\n",
      "    Found existing installation: protobuf 3.20.3\n",
      "    Uninstalling protobuf-3.20.3:\n",
      "      Successfully uninstalled protobuf-3.20.3\n",
      "\u001b[31mERROR: pip's dependency resolver does not currently take into account all the packages that are installed. This behaviour is the source of the following dependency conflicts.\n",
      "google-ai-generativelanguage 0.3.3 requires protobuf!=3.20.0,!=3.20.1,!=4.21.0,!=4.21.1,!=4.21.2,!=4.21.3,!=4.21.4,!=4.21.5,<5.0.0dev,>=3.19.5, but you have protobuf 3.20.0 which is incompatible.\n",
      "google-api-core 2.11.1 requires protobuf!=3.20.0,!=3.20.1,!=4.21.0,!=4.21.1,!=4.21.2,!=4.21.3,!=4.21.4,!=4.21.5,<5.0.0.dev0,>=3.19.5, but you have protobuf 3.20.0 which is incompatible.\n",
      "google-cloud-aiplatform 1.36.4 requires protobuf!=3.20.0,!=3.20.1,!=4.21.0,!=4.21.1,!=4.21.2,!=4.21.3,!=4.21.4,!=4.21.5,<5.0.0dev,>=3.19.5, but you have protobuf 3.20.0 which is incompatible.\n",
      "google-cloud-bigquery 3.12.0 requires protobuf!=3.20.0,!=3.20.1,!=4.21.0,!=4.21.1,!=4.21.2,!=4.21.3,!=4.21.4,!=4.21.5,<5.0.0dev,>=3.19.5, but you have protobuf 3.20.0 which is incompatible.\n",
      "google-cloud-bigquery-connection 1.12.1 requires protobuf!=3.20.0,!=3.20.1,!=4.21.0,!=4.21.1,!=4.21.2,!=4.21.3,!=4.21.4,!=4.21.5,<5.0.0dev,>=3.19.5, but you have protobuf 3.20.0 which is incompatible.\n",
      "google-cloud-bigquery-storage 2.23.0 requires protobuf!=3.20.0,!=3.20.1,!=4.21.0,!=4.21.1,!=4.21.2,!=4.21.3,!=4.21.4,!=4.21.5,<5.0.0dev,>=3.19.5, but you have protobuf 3.20.0 which is incompatible.\n",
      "google-cloud-datastore 2.15.2 requires protobuf!=3.20.0,!=3.20.1,!=4.21.0,!=4.21.1,!=4.21.2,!=4.21.3,!=4.21.4,!=4.21.5,<5.0.0dev,>=3.19.5, but you have protobuf 3.20.0 which is incompatible.\n",
      "google-cloud-firestore 2.11.1 requires protobuf!=3.20.0,!=3.20.1,!=4.21.0,!=4.21.1,!=4.21.2,!=4.21.3,!=4.21.4,!=4.21.5,<5.0.0dev,>=3.19.5, but you have protobuf 3.20.0 which is incompatible.\n",
      "google-cloud-functions 1.13.3 requires protobuf!=3.20.0,!=3.20.1,!=4.21.0,!=4.21.1,!=4.21.2,!=4.21.3,!=4.21.4,!=4.21.5,<5.0.0dev,>=3.19.5, but you have protobuf 3.20.0 which is incompatible.\n",
      "google-cloud-iam 2.12.2 requires protobuf!=3.20.0,!=3.20.1,!=4.21.0,!=4.21.1,!=4.21.2,!=4.21.3,!=4.21.4,!=4.21.5,<5.0.0dev,>=3.19.5, but you have protobuf 3.20.0 which is incompatible.\n",
      "google-cloud-language 2.9.1 requires protobuf!=3.20.0,!=3.20.1,!=4.21.0,!=4.21.1,!=4.21.2,!=4.21.3,!=4.21.4,!=4.21.5,<5.0.0dev,>=3.19.5, but you have protobuf 3.20.0 which is incompatible.\n",
      "google-cloud-resource-manager 1.10.4 requires protobuf!=3.20.0,!=3.20.1,!=4.21.0,!=4.21.1,!=4.21.2,!=4.21.3,!=4.21.4,!=4.21.5,<5.0.0dev,>=3.19.5, but you have protobuf 3.20.0 which is incompatible.\n",
      "google-cloud-translate 3.11.3 requires protobuf!=3.20.0,!=3.20.1,!=4.21.0,!=4.21.1,!=4.21.2,!=4.21.3,!=4.21.4,!=4.21.5,<5.0.0dev,>=3.19.5, but you have protobuf 3.20.0 which is incompatible.\n",
      "googleapis-common-protos 1.61.0 requires protobuf!=3.20.0,!=3.20.1,!=4.21.1,!=4.21.2,!=4.21.3,!=4.21.4,!=4.21.5,<5.0.0.dev0,>=3.19.5, but you have protobuf 3.20.0 which is incompatible.\n",
      "grpc-google-iam-v1 0.12.7 requires protobuf!=3.20.0,!=3.20.1,!=4.21.1,!=4.21.2,!=4.21.3,!=4.21.4,!=4.21.5,<5.0.0dev,>=3.19.5, but you have protobuf 3.20.0 which is incompatible.\n",
      "tensorflow 2.14.0 requires protobuf!=4.21.0,!=4.21.1,!=4.21.2,!=4.21.3,!=4.21.4,!=4.21.5,<5.0.0dev,>=3.20.3, but you have protobuf 3.20.0 which is incompatible.\n",
      "tensorflow-metadata 1.14.0 requires protobuf<4.21,>=3.20.3, but you have protobuf 3.20.0 which is incompatible.\u001b[0m\u001b[31m\n",
      "\u001b[0mSuccessfully installed astor-0.8.1 paddle-bfloat-0.1.7 paddlepaddle-gpu-2.4.2.post112 protobuf-3.20.0\n"
     ]
    }
   ],
   "source": [
    "# Using GPU for this project - Linux\n",
    "!python3 -m pip install paddlepaddle-gpu==2.4.2.post112 -f https://www.paddlepaddle.org.cn/whl/linux/mkl/avx/stable.html"
   ]
  },
  {
   "cell_type": "code",
   "execution_count": 4,
   "id": "e4b22f49",
   "metadata": {
    "colab": {
     "base_uri": "https://localhost:8080/"
    },
    "collapsed": true,
    "id": "e4b22f49",
    "jupyter": {
     "outputs_hidden": true,
     "source_hidden": true
    },
    "outputId": "fd1105f8-fce7-4ef7-a945-477f3ff29cac",
    "papermill": {
     "duration": null,
     "end_time": null,
     "exception": null,
     "start_time": null,
     "status": "pending"
    },
    "tags": []
   },
   "outputs": [
    {
     "name": "stdout",
     "output_type": "stream",
     "text": [
      "Looking in indexes: https://mirror.baidu.com/pypi/simple\n",
      "Collecting paddlepaddle==2.4.2\n",
      "  Downloading https://mirror.baidu.com/pypi/packages/47/c4/189a13c2342abca94575d45e58df3b5b770fa2b3cb6eee62301c38ce30d7/paddlepaddle-2.4.2-cp310-cp310-manylinux1_x86_64.whl (121.7 MB)\n",
      "\u001b[2K     \u001b[90m━━━━━━━━━━━━━━━━━━━━━━━━━━━━━━━━━━━━━━━━\u001b[0m \u001b[32m121.7/121.7 MB\u001b[0m \u001b[31m4.2 MB/s\u001b[0m eta \u001b[36m0:00:00\u001b[0m\n",
      "\u001b[?25hRequirement already satisfied: requests>=2.20.0 in /usr/local/lib/python3.10/dist-packages (from paddlepaddle==2.4.2) (2.31.0)\n",
      "Requirement already satisfied: numpy>=1.13 in /usr/local/lib/python3.10/dist-packages (from paddlepaddle==2.4.2) (1.23.5)\n",
      "Requirement already satisfied: protobuf<=3.20.0,>=3.1.0 in /usr/local/lib/python3.10/dist-packages (from paddlepaddle==2.4.2) (3.20.0)\n",
      "Requirement already satisfied: Pillow in /usr/local/lib/python3.10/dist-packages (from paddlepaddle==2.4.2) (9.4.0)\n",
      "Requirement already satisfied: six in /usr/local/lib/python3.10/dist-packages (from paddlepaddle==2.4.2) (1.16.0)\n",
      "Requirement already satisfied: decorator in /usr/local/lib/python3.10/dist-packages (from paddlepaddle==2.4.2) (4.4.2)\n",
      "Requirement already satisfied: astor in /usr/local/lib/python3.10/dist-packages (from paddlepaddle==2.4.2) (0.8.1)\n",
      "Requirement already satisfied: paddle-bfloat==0.1.7 in /usr/local/lib/python3.10/dist-packages (from paddlepaddle==2.4.2) (0.1.7)\n",
      "Requirement already satisfied: opt-einsum==3.3.0 in /usr/local/lib/python3.10/dist-packages (from paddlepaddle==2.4.2) (3.3.0)\n",
      "Requirement already satisfied: charset-normalizer<4,>=2 in /usr/local/lib/python3.10/dist-packages (from requests>=2.20.0->paddlepaddle==2.4.2) (3.3.2)\n",
      "Requirement already satisfied: idna<4,>=2.5 in /usr/local/lib/python3.10/dist-packages (from requests>=2.20.0->paddlepaddle==2.4.2) (3.6)\n",
      "Requirement already satisfied: urllib3<3,>=1.21.1 in /usr/local/lib/python3.10/dist-packages (from requests>=2.20.0->paddlepaddle==2.4.2) (2.0.7)\n",
      "Requirement already satisfied: certifi>=2017.4.17 in /usr/local/lib/python3.10/dist-packages (from requests>=2.20.0->paddlepaddle==2.4.2) (2023.11.17)\n",
      "Installing collected packages: paddlepaddle\n",
      "Successfully installed paddlepaddle-2.4.2\n"
     ]
    }
   ],
   "source": [
    "!python -m pip install paddlepaddle==2.4.2 -i https://mirror.baidu.com/pypi/simple"
   ]
  },
  {
   "cell_type": "code",
   "execution_count": 3,
   "id": "667bbbc9",
   "metadata": {
    "colab": {
     "base_uri": "https://localhost:8080/"
    },
    "id": "667bbbc9",
    "outputId": "e885c3b5-866b-400d-f750-4caa80dbac31",
    "papermill": {
     "duration": null,
     "end_time": null,
     "exception": null,
     "start_time": null,
     "status": "pending"
    },
    "tags": []
   },
   "outputs": [
    {
     "name": "stdout",
     "output_type": "stream",
     "text": [
      "Running verify PaddlePaddle program ... \n"
     ]
    },
    {
     "name": "stderr",
     "output_type": "stream",
     "text": [
      "I0417 19:22:38.971233 584892 interpretercore.cc:237] New Executor is Running.\n",
      "W0417 19:22:38.973074 584892 gpu_resources.cc:119] Please NOTE: device: 0, GPU Compute Capability: 7.5, Driver API Version: 11.6, Runtime API Version: 11.8\n",
      "W0417 19:22:38.978279 584892 gpu_resources.cc:149] device: 0, cuDNN Version: 8.2.\n",
      "W0417 19:22:38.978309 584892 gpu_resources.cc:175] WARNING: device: 0. The installed Paddle is compiled with CUDA 11.8, but CUDA runtime version in your machine is 11.6, which may cause serious incompatible bug. Please recompile or reinstall Paddle with compatible CUDA version.\n",
      "I0417 19:22:41.738790 584892 interpreter_util.cc:518] Standalone Executor is Used.\n"
     ]
    },
    {
     "name": "stdout",
     "output_type": "stream",
     "text": [
      "PaddlePaddle works well on 1 GPU.\n",
      "PaddlePaddle is installed successfully! Let's start deep learning with PaddlePaddle now.\n"
     ]
    }
   ],
   "source": [
    "# Check if paddle installed properly\n",
    "import paddle\n",
    "paddle.utils.run_check()"
   ]
  },
  {
   "cell_type": "code",
   "execution_count": 6,
   "id": "544fc0d1",
   "metadata": {
    "colab": {
     "base_uri": "https://localhost:8080/"
    },
    "execution": {
     "iopub.execute_input": "2023-05-23T15:04:59.046442Z",
     "iopub.status.busy": "2023-05-23T15:04:59.045764Z",
     "iopub.status.idle": "2023-05-23T15:05:14.835493Z",
     "shell.execute_reply": "2023-05-23T15:05:14.834354Z",
     "shell.execute_reply.started": "2023-05-23T15:04:59.046407Z"
    },
    "id": "544fc0d1",
    "outputId": "a2bd312d-f5ac-4349-c4d0-6cb772569487",
    "papermill": {
     "duration": null,
     "end_time": null,
     "exception": null,
     "start_time": null,
     "status": "pending"
    },
    "tags": []
   },
   "outputs": [
    {
     "name": "stderr",
     "output_type": "stream",
     "text": [
      "/usr/local/lib/python3.10/dist-packages/ipykernel/ipkernel.py:283: DeprecationWarning: `should_run_async` will not call `transform_cell` automatically in the future. Please pass the result to `transformed_cell` argument and any exception that happen during thetransform in `preprocessing_exc_tuple` in IPython 7.17 and above.\n",
      "  and should_run_async(code)\n"
     ]
    },
    {
     "name": "stdout",
     "output_type": "stream",
     "text": [
      "Cloning into 'PaddleOCR'...\n",
      "remote: Enumerating objects: 47642, done.\u001b[K\n",
      "remote: Counting objects: 100% (5/5), done.\u001b[K\n",
      "remote: Compressing objects: 100% (5/5), done.\u001b[K\n",
      "remote: Total 47642 (delta 0), reused 2 (delta 0), pack-reused 47637\u001b[K\n",
      "Receiving objects: 100% (47642/47642), 345.05 MiB | 25.53 MiB/s, done.\n",
      "Resolving deltas: 100% (33666/33666), done.\n",
      "Updating files: 100% (1892/1892), done.\n"
     ]
    }
   ],
   "source": [
    "# Colne Paddle Github\n",
    "!git clone https://github.com/PaddlePaddle/PaddleOCR.git"
   ]
  },
  {
   "cell_type": "code",
   "execution_count": 7,
   "id": "6e16114b",
   "metadata": {
    "colab": {
     "base_uri": "https://localhost:8080/"
    },
    "execution": {
     "iopub.execute_input": "2023-05-23T14:16:18.698247Z",
     "iopub.status.busy": "2023-05-23T14:16:18.697167Z",
     "iopub.status.idle": "2023-05-23T14:16:19.751677Z",
     "shell.execute_reply": "2023-05-23T14:16:19.748043Z",
     "shell.execute_reply.started": "2023-05-23T14:16:18.698189Z"
    },
    "id": "6e16114b",
    "outputId": "28aec5b0-88e7-4de1-d90d-7d1d2429f9b4",
    "papermill": {
     "duration": null,
     "end_time": null,
     "exception": null,
     "start_time": null,
     "status": "pending"
    },
    "tags": []
   },
   "outputs": [
    {
     "name": "stdout",
     "output_type": "stream",
     "text": [
      "PaddleOCR  sample_data\n"
     ]
    }
   ],
   "source": [
    "!ls"
   ]
  },
  {
   "cell_type": "code",
   "execution_count": 9,
   "id": "d0189333",
   "metadata": {
    "collapsed": true,
    "id": "d0189333",
    "jupyter": {
     "outputs_hidden": true,
     "source_hidden": true
    },
    "papermill": {
     "duration": null,
     "end_time": null,
     "exception": null,
     "start_time": null,
     "status": "pending"
    },
    "tags": []
   },
   "outputs": [],
   "source": [
    "# Copy \"PaddleOCR\" folder which downloaded from github to Google Drive\n",
    "!cp -r PaddleOCR/ /content/drive/MyDrive/MachineLearning/"
   ]
  },
  {
   "cell_type": "markdown",
   "id": "56eb3cd8",
   "metadata": {
    "id": "56eb3cd8",
    "papermill": {
     "duration": null,
     "end_time": null,
     "exception": null,
     "start_time": null,
     "status": "pending"
    },
    "tags": []
   },
   "source": [
    "### Restart Kernel and Run the scrip"
   ]
  },
  {
   "cell_type": "markdown",
   "id": "654c94b7",
   "metadata": {
    "id": "654c94b7",
    "papermill": {
     "duration": null,
     "end_time": null,
     "exception": null,
     "start_time": null,
     "status": "pending"
    },
    "tags": []
   },
   "source": [
    "### Verify installation\n",
    "After the installation is complete, you can use python3 to enter the Python interpreter and then use import paddle and paddle.utils.run_check()\n",
    "\n",
    "If PaddlePaddle is installed successfully! appears, to verify that the installation was successful."
   ]
  },
  {
   "cell_type": "markdown",
   "id": "e35b9a70",
   "metadata": {
    "id": "e35b9a70",
    "papermill": {
     "duration": null,
     "end_time": null,
     "exception": null,
     "start_time": null,
     "status": "pending"
    },
    "tags": []
   },
   "source": [
    "# Prequisites"
   ]
  },
  {
   "cell_type": "code",
   "execution_count": 5,
   "id": "e731f74c",
   "metadata": {
    "colab": {
     "base_uri": "https://localhost:8080/",
     "height": 104
    },
    "id": "e731f74c",
    "outputId": "c4694170-e200-4c47-9c36-cd453dc6a5fe",
    "papermill": {
     "duration": null,
     "end_time": null,
     "exception": null,
     "start_time": null,
     "status": "pending"
    },
    "tags": []
   },
   "outputs": [
    {
     "name": "stdout",
     "output_type": "stream",
     "text": [
      "Access denied with the following error:\n"
     ]
    },
    {
     "name": "stderr",
     "output_type": "stream",
     "text": [
      "\n",
      " \tCannot retrieve the public link of the file. You may need to change\n",
      "\tthe permission to 'Anyone with the link', or have had many accesses. \n",
      "\n",
      "You may still be able to access the file from the browser:\n",
      "\n",
      "\t https://drive.google.com/uc?id=19kSj_GswccuXk45yH87jTXLqpLTxaS67 \n",
      "\n"
     ]
    }
   ],
   "source": [
    "import gdown\n",
    "\n",
    "url = \"https://drive.google.com/uc?id=19kSj_GswccuXk45yH87jTXLqpLTxaS67\"\n",
    "output = \"PPOCRdata.tar\"\n",
    "\n",
    "gdown.download(url, output)"
   ]
  },
  {
   "cell_type": "code",
   "execution_count": 6,
   "id": "ee1b0f48",
   "metadata": {
    "id": "ee1b0f48",
    "papermill": {
     "duration": null,
     "end_time": null,
     "exception": null,
     "start_time": null,
     "status": "pending"
    },
    "tags": []
   },
   "outputs": [
    {
     "name": "stdout",
     "output_type": "stream",
     "text": [
      "tar: PPOCRdata.tar: Cannot open: No such file or directory\n",
      "tar: Error is not recoverable: exiting now\n"
     ]
    }
   ],
   "source": [
    "!tar -xf PPOCRdata.tar && rm -rf PPOCRdata.tar"
   ]
  },
  {
   "cell_type": "code",
   "execution_count": 10,
   "id": "b31edccf",
   "metadata": {
    "colab": {
     "base_uri": "https://localhost:8080/"
    },
    "execution": {
     "iopub.execute_input": "2023-05-23T15:07:00.717706Z",
     "iopub.status.busy": "2023-05-23T15:07:00.717044Z",
     "iopub.status.idle": "2023-05-23T15:07:01.741233Z",
     "shell.execute_reply": "2023-05-23T15:07:01.739965Z",
     "shell.execute_reply.started": "2023-05-23T15:07:00.717674Z"
    },
    "id": "b31edccf",
    "outputId": "5d8f3f2e-a46c-4569-c568-73c54c75a605",
    "papermill": {
     "duration": null,
     "end_time": null,
     "exception": null,
     "start_time": null,
     "status": "pending"
    },
    "tags": []
   },
   "outputs": [
    {
     "name": "stdout",
     "output_type": "stream",
     "text": [
      "total 24K\n",
      "-rwxrwxrwx  1 root root 3.1K May 23  2023 det_mv3_db.yml\n",
      "-rwxrwxrwx  1 root root 2.6K May 23  2023 en_PP-OCRv3_rec.yml\n",
      "drwxr-xr-x 15 root root 4.0K Dec 12 06:16 PaddleOCR\n",
      "drwxrwxrwx  3 root root 4.0K May 23  2023 pretrain_models\n",
      "drwxr-xr-x  1 root root 4.0K Dec  8 14:20 sample_data\n",
      "drwxrwxrwx  4 root root 4.0K May 23  2023 Sample-Data\n"
     ]
    }
   ],
   "source": [
    "!ls -lh"
   ]
  },
  {
   "cell_type": "code",
   "execution_count": 11,
   "id": "e147ca6a",
   "metadata": {
    "colab": {
     "base_uri": "https://localhost:8080/"
    },
    "execution": {
     "iopub.execute_input": "2023-05-23T15:06:23.973974Z",
     "iopub.status.busy": "2023-05-23T15:06:23.973597Z",
     "iopub.status.idle": "2023-05-23T15:06:37.754742Z",
     "shell.execute_reply": "2023-05-23T15:06:37.753583Z",
     "shell.execute_reply.started": "2023-05-23T15:06:23.973945Z"
    },
    "id": "e147ca6a",
    "outputId": "adafed17-8a80-498f-a2b8-3e41ad17fd6f",
    "papermill": {
     "duration": null,
     "end_time": null,
     "exception": null,
     "start_time": null,
     "status": "pending"
    },
    "tags": []
   },
   "outputs": [
    {
     "name": "stdout",
     "output_type": "stream",
     "text": [
      "Requirement already satisfied: tqdm in /usr/local/lib/python3.10/dist-packages (4.66.1)\n",
      "Requirement already satisfied: imutils in /usr/local/lib/python3.10/dist-packages (0.5.4)\n",
      "Requirement already satisfied: opencv-python in /usr/local/lib/python3.10/dist-packages (4.8.0.76)\n",
      "Requirement already satisfied: matplotlib in /usr/local/lib/python3.10/dist-packages (3.7.1)\n",
      "Requirement already satisfied: gdown in /usr/local/lib/python3.10/dist-packages (4.6.6)\n",
      "Requirement already satisfied: numpy>=1.21.2 in /usr/local/lib/python3.10/dist-packages (from opencv-python) (1.23.5)\n",
      "Requirement already satisfied: contourpy>=1.0.1 in /usr/local/lib/python3.10/dist-packages (from matplotlib) (1.2.0)\n",
      "Requirement already satisfied: cycler>=0.10 in /usr/local/lib/python3.10/dist-packages (from matplotlib) (0.12.1)\n",
      "Requirement already satisfied: fonttools>=4.22.0 in /usr/local/lib/python3.10/dist-packages (from matplotlib) (4.46.0)\n",
      "Requirement already satisfied: kiwisolver>=1.0.1 in /usr/local/lib/python3.10/dist-packages (from matplotlib) (1.4.5)\n",
      "Requirement already satisfied: packaging>=20.0 in /usr/local/lib/python3.10/dist-packages (from matplotlib) (23.2)\n",
      "Requirement already satisfied: pillow>=6.2.0 in /usr/local/lib/python3.10/dist-packages (from matplotlib) (9.4.0)\n",
      "Requirement already satisfied: pyparsing>=2.3.1 in /usr/local/lib/python3.10/dist-packages (from matplotlib) (3.1.1)\n",
      "Requirement already satisfied: python-dateutil>=2.7 in /usr/local/lib/python3.10/dist-packages (from matplotlib) (2.8.2)\n",
      "Requirement already satisfied: filelock in /usr/local/lib/python3.10/dist-packages (from gdown) (3.13.1)\n",
      "Requirement already satisfied: requests[socks] in /usr/local/lib/python3.10/dist-packages (from gdown) (2.31.0)\n",
      "Requirement already satisfied: six in /usr/local/lib/python3.10/dist-packages (from gdown) (1.16.0)\n",
      "Requirement already satisfied: beautifulsoup4 in /usr/local/lib/python3.10/dist-packages (from gdown) (4.11.2)\n",
      "Requirement already satisfied: soupsieve>1.2 in /usr/local/lib/python3.10/dist-packages (from beautifulsoup4->gdown) (2.5)\n",
      "Requirement already satisfied: charset-normalizer<4,>=2 in /usr/local/lib/python3.10/dist-packages (from requests[socks]->gdown) (3.3.2)\n",
      "Requirement already satisfied: idna<4,>=2.5 in /usr/local/lib/python3.10/dist-packages (from requests[socks]->gdown) (3.6)\n",
      "Requirement already satisfied: urllib3<3,>=1.21.1 in /usr/local/lib/python3.10/dist-packages (from requests[socks]->gdown) (2.0.7)\n",
      "Requirement already satisfied: certifi>=2017.4.17 in /usr/local/lib/python3.10/dist-packages (from requests[socks]->gdown) (2023.11.17)\n",
      "Requirement already satisfied: PySocks!=1.5.7,>=1.5.6 in /usr/local/lib/python3.10/dist-packages (from requests[socks]->gdown) (1.7.1)\n"
     ]
    }
   ],
   "source": [
    "\n",
    "!pip install tqdm imutils opencv-python matplotlib gdown"
   ]
  },
  {
   "cell_type": "code",
   "execution_count": 12,
   "id": "99b5257b",
   "metadata": {
    "execution": {
     "iopub.execute_input": "2023-05-23T15:08:44.179356Z",
     "iopub.status.busy": "2023-05-23T15:08:44.178942Z",
     "iopub.status.idle": "2023-05-23T15:08:44.184806Z",
     "shell.execute_reply": "2023-05-23T15:08:44.183478Z",
     "shell.execute_reply.started": "2023-05-23T15:08:44.179321Z"
    },
    "id": "99b5257b",
    "papermill": {
     "duration": null,
     "end_time": null,
     "exception": null,
     "start_time": null,
     "status": "pending"
    },
    "tags": []
   },
   "outputs": [],
   "source": [
    "import cv2\n",
    "import os\n",
    "#from imutils import perspective\n",
    "import numpy as np\n",
    "import json\n",
    "from tqdm import tqdm\n",
    "import matplotlib.pyplot as plt\n",
    "from imutils import perspective"
   ]
  },
  {
   "cell_type": "code",
   "execution_count": 13,
   "id": "52404498",
   "metadata": {
    "colab": {
     "base_uri": "https://localhost:8080/"
    },
    "execution": {
     "iopub.execute_input": "2023-05-23T15:08:08.353980Z",
     "iopub.status.busy": "2023-05-23T15:08:08.353531Z",
     "iopub.status.idle": "2023-05-23T15:08:36.338494Z",
     "shell.execute_reply": "2023-05-23T15:08:36.337037Z",
     "shell.execute_reply.started": "2023-05-23T15:08:08.353946Z"
    },
    "id": "52404498",
    "outputId": "f61bd4c8-fd01-4c21-e35c-bbcfe265def9",
    "papermill": {
     "duration": null,
     "end_time": null,
     "exception": null,
     "start_time": null,
     "status": "pending"
    },
    "tags": []
   },
   "outputs": [
    {
     "name": "stderr",
     "output_type": "stream",
     "text": [
      "/usr/local/lib/python3.10/dist-packages/ipykernel/ipkernel.py:283: DeprecationWarning: `should_run_async` will not call `transform_cell` automatically in the future. Please pass the result to `transformed_cell` argument and any exception that happen during thetransform in `preprocessing_exc_tuple` in IPython 7.17 and above.\n",
      "  and should_run_async(code)\n"
     ]
    },
    {
     "name": "stdout",
     "output_type": "stream",
     "text": [
      "Requirement already satisfied: scipy in /usr/local/lib/python3.10/dist-packages (1.11.4)\n",
      "Requirement already satisfied: numpy in /usr/local/lib/python3.10/dist-packages (1.23.5)\n",
      "Collecting numpy\n",
      "  Downloading numpy-1.26.2-cp310-cp310-manylinux_2_17_x86_64.manylinux2014_x86_64.whl (18.2 MB)\n",
      "\u001b[2K     \u001b[90m━━━━━━━━━━━━━━━━━━━━━━━━━━━━━━━━━━━━━━━━\u001b[0m \u001b[32m18.2/18.2 MB\u001b[0m \u001b[31m60.0 MB/s\u001b[0m eta \u001b[36m0:00:00\u001b[0m\n",
      "\u001b[?25hInstalling collected packages: numpy\n",
      "  Attempting uninstall: numpy\n",
      "    Found existing installation: numpy 1.23.5\n",
      "    Uninstalling numpy-1.23.5:\n",
      "      Successfully uninstalled numpy-1.23.5\n",
      "\u001b[31mERROR: pip's dependency resolver does not currently take into account all the packages that are installed. This behaviour is the source of the following dependency conflicts.\n",
      "lida 0.0.10 requires fastapi, which is not installed.\n",
      "lida 0.0.10 requires kaleido, which is not installed.\n",
      "lida 0.0.10 requires python-multipart, which is not installed.\n",
      "lida 0.0.10 requires uvicorn, which is not installed.\n",
      "cupy-cuda11x 11.0.0 requires numpy<1.26,>=1.20, but you have numpy 1.26.2 which is incompatible.\n",
      "tensorflow 2.14.0 requires protobuf!=4.21.0,!=4.21.1,!=4.21.2,!=4.21.3,!=4.21.4,!=4.21.5,<5.0.0dev,>=3.20.3, but you have protobuf 3.20.0 which is incompatible.\u001b[0m\u001b[31m\n",
      "\u001b[0mSuccessfully installed numpy-1.26.2\n"
     ]
    }
   ],
   "source": [
    "!pip install --upgrade scipy numpy"
   ]
  },
  {
   "cell_type": "markdown",
   "id": "c266e721",
   "metadata": {
    "id": "c266e721",
    "papermill": {
     "duration": null,
     "end_time": null,
     "exception": null,
     "start_time": null,
     "status": "pending"
    },
    "tags": []
   },
   "source": [
    "# Detector Training"
   ]
  },
  {
   "cell_type": "code",
   "execution_count": 16,
   "id": "ce33dce2",
   "metadata": {
    "colab": {
     "base_uri": "https://localhost:8080/",
     "height": 212
    },
    "collapsed": true,
    "id": "ce33dce2",
    "jupyter": {
     "outputs_hidden": true,
     "source_hidden": true
    },
    "outputId": "596841e4-76e6-428d-a295-2356b4e08ca2",
    "papermill": {
     "duration": null,
     "end_time": null,
     "exception": null,
     "start_time": null,
     "status": "pending"
    },
    "tags": []
   },
   "outputs": [
    {
     "ename": "FileNotFoundError",
     "evalue": "ignored",
     "output_type": "error",
     "traceback": [
      "\u001b[0;31m---------------------------------------------------------------------------\u001b[0m",
      "\u001b[0;31mFileNotFoundError\u001b[0m                         Traceback (most recent call last)",
      "\u001b[0;32m<ipython-input-16-fbee3c299c71>\u001b[0m in \u001b[0;36m<cell line: 1>\u001b[0;34m()\u001b[0m\n\u001b[0;32m----> 1\u001b[0;31m \u001b[0mprint\u001b[0m\u001b[0;34m(\u001b[0m\u001b[0;34m\"Number of Training images are\"\u001b[0m\u001b[0;34m,\u001b[0m \u001b[0mlen\u001b[0m\u001b[0;34m(\u001b[0m\u001b[0mos\u001b[0m\u001b[0;34m.\u001b[0m\u001b[0mlistdir\u001b[0m\u001b[0;34m(\u001b[0m\u001b[0;34m\"/content/drive/MyDrive/MachineLearning/Total-Text\"\u001b[0m\u001b[0;34m)\u001b[0m\u001b[0;34m)\u001b[0m\u001b[0;34m)\u001b[0m\u001b[0;34m\u001b[0m\u001b[0;34m\u001b[0m\u001b[0m\n\u001b[0m",
      "\u001b[0;31mFileNotFoundError\u001b[0m: [Errno 2] No such file or directory: '/content/drive/MyDrive/MachineLearning/Total-Text'"
     ]
    }
   ],
   "source": [
    "print(\"Number of Training images are\", len(os.listdir(\"/content/drive/MyDrive/MachineLearning/Total-Text\")))"
   ]
  },
  {
   "cell_type": "code",
   "execution_count": null,
   "id": "9d90dd51",
   "metadata": {
    "collapsed": true,
    "id": "9d90dd51",
    "jupyter": {
     "outputs_hidden": true,
     "source_hidden": true
    },
    "papermill": {
     "duration": null,
     "end_time": null,
     "exception": null,
     "start_time": null,
     "status": "pending"
    },
    "tags": []
   },
   "outputs": [],
   "source": [
    "#@title\n",
    "# Code JL - Preparring Training Annotation Text file\n",
    "count =0\n",
    "flag = 1\n",
    "train_dir = os.path.join(\"/content/Sample-Data\", \"Train\")\n",
    "annotation_polygonal_dir = os.path.join(\"/content/Sample-Data\", \"Train\")\n",
    "for i in tqdm(os.listdir(train_dir)):\n",
    "    img_path = os.path.join(train_dir, i)\n",
    "    bounding_box_path = os.path.join(annotation_polygonal_dir, \"poly_gt_\"+i.split('.')[0]+\".txt\")\n",
    "    bounding_box_data = open(bounding_box_path, 'r')\n",
    "    bounding_box_data = bounding_box_data.readlines()\n",
    "    lis = []\n",
    "    for j in bounding_box_data:\n",
    "        try:\n",
    "            j = j.replace('\\n', '')\n",
    "            x_coordinates = j.split(\",\")[0].split(\"[\")[2].split(\"]\")[0].split(\" \")\n",
    "            y_coordinates = j.split(\",\")[1].split(\"[\")[2].split(\"]\")[0].split(\" \")\n",
    "            # if len(x_coordinates)!=6 or len(y_coordinates)!=6:\n",
    "            #     continue\n",
    "            # if(j.split(\" \")[-1]==\"[]\"):\n",
    "            #     continue\n",
    "            text = j.split(\" \")[-1].split(\"'\")[1]\n",
    "            if('#' in text):\n",
    "                text = '###'\n",
    "            x1, x2, x3, x4, x5, x6 = x_coordinates[0], x_coordinates[1], x_coordinates[2], x_coordinates[3], x_coordinates[4], x_coordinates[5]\n",
    "            y1, y2, y3, y4, y5, y6 = y_coordinates[0], y_coordinates[1], y_coordinates[2], y_coordinates[3], y_coordinates[4], y_coordinates[5]\n",
    "            dic = {}\n",
    "            dic[\"points\"] = [[x1, y1], [x2, y2], [x3, y3], [x4, y4], [x5, y5], [x6, x6]]\n",
    "            dic[\"transcription\"] = str(text)\n",
    "            lis.append(dic)\n",
    "        except:\n",
    "            flag = 0\n",
    "    lis = json.dumps(lis)\n",
    "    # if(flag==0):\n",
    "    #     flag = 1\n",
    "    #     continue\n",
    "    # if(lis==[] or lis==[]):\n",
    "    #     continue\n",
    "    with open(\"train.txt\", 'a') as ob:\n",
    "        ob.write(img_path+\"\\t\"+str(lis)+\"\\n\")\n",
    "    count = count + 1\n",
    "print(\"Total number of Annotations created for Training are \", count)"
   ]
  },
  {
   "cell_type": "code",
   "execution_count": null,
   "id": "7b11f95f",
   "metadata": {
    "collapsed": true,
    "id": "7b11f95f",
    "jupyter": {
     "outputs_hidden": true,
     "source_hidden": true
    },
    "papermill": {
     "duration": null,
     "end_time": null,
     "exception": null,
     "start_time": null,
     "status": "pending"
    },
    "tags": []
   },
   "outputs": [],
   "source": [
    "#@title\n",
    "# Preparing Training Annotation Text file\n",
    "\n",
    "count = 0\n",
    "flag = 1\n",
    "for i in tqdm(os.listdir(\"/content/Sample-Data/Train\")):\n",
    "  img_path = os.path.join(\"/content/Sample-DataTrain\", i)\n",
    "  bounding_box_path = os.path.join(\"Total-Text/Annotation/groundtruth_polygonal_annotation/Train\", \"poly_gt_\"+i.split(\".\")[0]+\".txt\")\n",
    "  var = open(bounding_box_path, \"r\")\n",
    "  var = var.readlines()\n",
    "  lis = []\n",
    "  for j in var:\n",
    "    try:\n",
    "      j = j.replace(\"\\n\", '')\n",
    "      x_coordinates = j.split(\",\")[0].split(\"[\")[2].split(\"]\")[0].split(\" \")\n",
    "      y_coordinates = j.split(\",\")[1].split(\"[\")[2].split(\"]\")[0].split(\" \")\n",
    "      if(len(x_coordinates) != 4 or len(y_coordinates)!=4):\n",
    "        continue\n",
    "      #text = j.split(\",\")[3].split(\"[\")[1].split(\"'\")[1]\n",
    "      if(j.split(\" \")[-1]==\"[]\"):\n",
    "        continue\n",
    "      text = j.split(\" \")[-1].split(\"'\")[1]\n",
    "      if(\"#\" in text):\n",
    "        text = \"###\"\n",
    "      x1, x2, x3, x4 = x_coordinates[0], x_coordinates[1], x_coordinates[2], x_coordinates[3]\n",
    "      y1, y2, y3, y4 = y_coordinates[0], y_coordinates[1], y_coordinates[2], y_coordinates[3]\n",
    "      dic = {}\n",
    "      dic[\"points\"] = [[x1,y1], [x2,y2], [x3,y3], [x4,y4]]\n",
    "      dic[\"transcription\"] = str(text)\n",
    "      lis.append(dic)\n",
    "    except:\n",
    "      flag = 0\n",
    "  lis = json.dumps(lis)\n",
    "  if(flag == 0):\n",
    "    flag = 1\n",
    "    continue\n",
    "  if(lis == [] or lis==\"[]\"):\n",
    "    continue\n",
    "  with open(\"train.txt\", \"a\") as ob:\n",
    "    ob.write(img_path+\"\\t\"+str(lis)+\"\\n\")\n",
    "  count = count + 1\n",
    "\n",
    "print(\"Total number of Annotations created for Training are \", count)"
   ]
  },
  {
   "cell_type": "code",
   "execution_count": null,
   "id": "6302685a",
   "metadata": {
    "collapsed": true,
    "id": "6302685a",
    "jupyter": {
     "outputs_hidden": true,
     "source_hidden": true
    },
    "papermill": {
     "duration": null,
     "end_time": null,
     "exception": null,
     "start_time": null,
     "status": "pending"
    },
    "tags": []
   },
   "outputs": [],
   "source": [
    "#@title\n",
    "# Code JL - Preparring Test or Validation Annotation Text file\n",
    "count =0\n",
    "flag = 1\n",
    "test_dir = os.path.join(\"Total-Text\", \"Test\")\n",
    "annotation_polygonal_dir = os.path.join(\"Total-Text\", \"Annotation\", \"groundtruth_polygonal_annotation\", \"Test\")\n",
    "for i in tqdm(os.listdir(test_dir)):\n",
    "    img_path = os.path.join(test_dir, i)\n",
    "    bounding_box_path = os.path.join(annotation_polygonal_dir, \"poly_gt_\"+i.split('.')[0]+\".txt\")\n",
    "    bounding_box_data = open(bounding_box_path, 'r')\n",
    "    bounding_box_data = bounding_box_data.readlines()\n",
    "    lis = []\n",
    "    for j in bounding_box_data:\n",
    "        try:\n",
    "            j = j.replace('\\n', '')\n",
    "            x_coordinates = j.split(\",\")[0].split(\"[\")[2].split(\"]\")[0].split(\" \")\n",
    "            y_coordinates = j.split(\",\")[1].split(\"[\")[2].split(\"]\")[0].split(\" \")\n",
    "            # if len(x_coordinates)!=6 or len(y_coordinates)!=6:\n",
    "            #     continue\n",
    "            # if(j.split(\" \")[-1]==\"[]\"):\n",
    "            #     continue\n",
    "            text = j.split(\" \")[-1].split(\"'\")[1]\n",
    "            if('#' in text):\n",
    "                text = '###'\n",
    "            x1, x2, x3, x4, x5, x6 = x_coordinates[0], x_coordinates[1], x_coordinates[2], x_coordinates[3], x_coordinates[4], x_coordinates[5]\n",
    "            y1, y2, y3, y4, y5, y6 = y_coordinates[0], y_coordinates[1], y_coordinates[2], y_coordinates[3], y_coordinates[4], y_coordinates[5]\n",
    "            dic = {}\n",
    "            dic[\"points\"] = [[x1, y1], [x2, y2], [x3, y3], [x4, y4], [x5, y5], [x6, x6]]\n",
    "            dic[\"transcription\"] = str(text)\n",
    "            lis.append(dic)\n",
    "        except:\n",
    "            flag = 0\n",
    "    lis = json.dumps(lis)\n",
    "    # if(flag==0):\n",
    "    #     flag = 1\n",
    "    #     continue\n",
    "    # if(lis==[] or lis==[]):\n",
    "    #     continue\n",
    "    with open(\"test.txt\", 'a') as ob:\n",
    "        ob.write(img_path+\"\\t\"+str(lis)+\"\\n\")\n",
    "    count = count + 1\n",
    "print(\"Total number of Annotations created for Testing are \", count)"
   ]
  },
  {
   "cell_type": "code",
   "execution_count": null,
   "id": "58f1d4e4",
   "metadata": {
    "id": "58f1d4e4",
    "papermill": {
     "duration": null,
     "end_time": null,
     "exception": null,
     "start_time": null,
     "status": "pending"
    },
    "tags": []
   },
   "outputs": [],
   "source": [
    "#@title\n",
    "# Preparing Testing/Validation Annotation Text file\n",
    "\n",
    "count = 0\n",
    "flag = 1\n",
    "for i in tqdm(os.listdir(\"Total-Text/Test\")):\n",
    "  img_path = os.path.join(\"Total-Text/Test\", i)\n",
    "  bounding_box_path = os.path.join(\"Total-Text/Annotation/groundtruth_polygonal_annotation/Test\", \"poly_gt_\"+i.split(\".\")[0]+\".txt\")\n",
    "  var = open(bounding_box_path, \"r\")\n",
    "  var = var.readlines()\n",
    "  lis = []\n",
    "  for j in var:\n",
    "    try:\n",
    "      j = j.replace(\"\\n\", '')\n",
    "      x_coordinates = j.split(\",\")[0].split(\"[\")[2].split(\"]\")[0].split(\" \")\n",
    "      y_coordinates = j.split(\",\")[1].split(\"[\")[2].split(\"]\")[0].split(\" \")\n",
    "      if(len(x_coordinates) != 4 or len(y_coordinates)!=4):\n",
    "        continue\n",
    "      #text = j.split(\",\")[3].split(\"[\")[1].split(\"'\")[1]\n",
    "      if(j.split(\" \")[-1]==\"[]\"):\n",
    "        continue\n",
    "      text = j.split(\" \")[-1].split(\"'\")[1]\n",
    "      if(\"#\" in text):\n",
    "        text = \"###\"\n",
    "      x1, x2, x3, x4 = x_coordinates[0], x_coordinates[1], x_coordinates[2], x_coordinates[3]\n",
    "      y1, y2, y3, y4 = y_coordinates[0], y_coordinates[1], y_coordinates[2], y_coordinates[3]\n",
    "      dic = {}\n",
    "      dic[\"points\"] = [[x1,y1], [x2,y2], [x3,y3], [x4,y4]]\n",
    "      dic[\"transcription\"] = str(text)\n",
    "      lis.append(dic)\n",
    "    except:\n",
    "      flag = 0\n",
    "  lis = json.dumps(lis)\n",
    "  if(flag == 0):\n",
    "    flag = 1\n",
    "    continue\n",
    "  if(lis == [] or lis==\"[]\"):\n",
    "    continue\n",
    "  with open(\"test.txt\", \"a\") as ob:\n",
    "    ob.write(img_path+\"\\t\"+str(lis)+\"\\n\")\n",
    "  count = count + 1\n",
    "\n",
    "print(\"Total number of Annotations created for Test/Eval are \", count)"
   ]
  },
  {
   "cell_type": "code",
   "execution_count": 14,
   "id": "1d6e218f",
   "metadata": {
    "colab": {
     "base_uri": "https://localhost:8080/"
    },
    "id": "1d6e218f",
    "outputId": "5af929ca-af50-4def-abd9-3ed24dfcb6df",
    "papermill": {
     "duration": null,
     "end_time": null,
     "exception": null,
     "start_time": null,
     "status": "pending"
    },
    "tags": []
   },
   "outputs": [
    {
     "name": "stdout",
     "output_type": "stream",
     "text": [
      "fatal: destination path 'PaddleOCR' already exists and is not an empty directory.\n"
     ]
    }
   ],
   "source": [
    "#@title\n",
    "!git clone https://github.com/PaddlePaddle/PaddleOCR.git"
   ]
  },
  {
   "cell_type": "code",
   "execution_count": 15,
   "id": "2b24c3f2",
   "metadata": {
    "colab": {
     "base_uri": "https://localhost:8080/"
    },
    "execution": {
     "iopub.execute_input": "2023-05-23T15:08:51.251207Z",
     "iopub.status.busy": "2023-05-23T15:08:51.250747Z",
     "iopub.status.idle": "2023-05-23T15:08:51.259348Z",
     "shell.execute_reply": "2023-05-23T15:08:51.258209Z",
     "shell.execute_reply.started": "2023-05-23T15:08:51.251132Z"
    },
    "id": "2b24c3f2",
    "outputId": "5dca7057-bb2e-4b09-fa87-1c4f169042f0",
    "papermill": {
     "duration": null,
     "end_time": null,
     "exception": null,
     "start_time": null,
     "status": "pending"
    },
    "tags": []
   },
   "outputs": [
    {
     "name": "stdout",
     "output_type": "stream",
     "text": [
      "/content/PaddleOCR\n"
     ]
    }
   ],
   "source": [
    "%cd ./PaddleOCR"
   ]
  },
  {
   "cell_type": "code",
   "execution_count": 16,
   "id": "5f3b76f3",
   "metadata": {
    "colab": {
     "base_uri": "https://localhost:8080/",
     "height": 1000
    },
    "execution": {
     "iopub.execute_input": "2023-05-23T15:08:54.014243Z",
     "iopub.status.busy": "2023-05-23T15:08:54.013859Z",
     "iopub.status.idle": "2023-05-23T15:09:58.881457Z",
     "shell.execute_reply": "2023-05-23T15:09:58.880071Z",
     "shell.execute_reply.started": "2023-05-23T15:08:54.014212Z"
    },
    "id": "5f3b76f3",
    "outputId": "bb792aac-34a4-48a0-8708-fce30564438f",
    "papermill": {
     "duration": null,
     "end_time": null,
     "exception": null,
     "start_time": null,
     "status": "pending"
    },
    "scrolled": true,
    "tags": []
   },
   "outputs": [
    {
     "name": "stdout",
     "output_type": "stream",
     "text": [
      "Requirement already satisfied: shapely in /usr/local/lib/python3.10/dist-packages (from -r requirements.txt (line 1)) (2.0.2)\n",
      "Requirement already satisfied: scikit-image in /usr/local/lib/python3.10/dist-packages (from -r requirements.txt (line 2)) (0.19.3)\n",
      "Requirement already satisfied: imgaug in /usr/local/lib/python3.10/dist-packages (from -r requirements.txt (line 3)) (0.4.0)\n",
      "Collecting pyclipper (from -r requirements.txt (line 4))\n",
      "  Downloading pyclipper-1.3.0.post5-cp310-cp310-manylinux_2_12_x86_64.manylinux2010_x86_64.whl (908 kB)\n",
      "\u001b[2K     \u001b[90m━━━━━━━━━━━━━━━━━━━━━━━━━━━━━━━━━━━━━━━━\u001b[0m \u001b[32m908.3/908.3 kB\u001b[0m \u001b[31m5.4 MB/s\u001b[0m eta \u001b[36m0:00:00\u001b[0m\n",
      "\u001b[?25hCollecting lmdb (from -r requirements.txt (line 5))\n",
      "  Downloading lmdb-1.4.1-cp310-cp310-manylinux_2_17_x86_64.manylinux2014_x86_64.whl (299 kB)\n",
      "\u001b[2K     \u001b[90m━━━━━━━━━━━━━━━━━━━━━━━━━━━━━━━━━━━━━━━━\u001b[0m \u001b[32m299.2/299.2 kB\u001b[0m \u001b[31m34.3 MB/s\u001b[0m eta \u001b[36m0:00:00\u001b[0m\n",
      "\u001b[?25hRequirement already satisfied: tqdm in /usr/local/lib/python3.10/dist-packages (from -r requirements.txt (line 6)) (4.66.1)\n",
      "Requirement already satisfied: numpy in /usr/local/lib/python3.10/dist-packages (from -r requirements.txt (line 7)) (1.26.2)\n",
      "Collecting visualdl (from -r requirements.txt (line 8))\n",
      "  Downloading visualdl-2.5.3-py3-none-any.whl (6.3 MB)\n",
      "\u001b[2K     \u001b[90m━━━━━━━━━━━━━━━━━━━━━━━━━━━━━━━━━━━━━━━━\u001b[0m \u001b[32m6.3/6.3 MB\u001b[0m \u001b[31m47.2 MB/s\u001b[0m eta \u001b[36m0:00:00\u001b[0m\n",
      "\u001b[?25hCollecting rapidfuzz (from -r requirements.txt (line 9))\n",
      "  Downloading rapidfuzz-3.5.2-cp310-cp310-manylinux_2_17_x86_64.manylinux2014_x86_64.whl (3.3 MB)\n",
      "\u001b[2K     \u001b[90m━━━━━━━━━━━━━━━━━━━━━━━━━━━━━━━━━━━━━━━━\u001b[0m \u001b[32m3.3/3.3 MB\u001b[0m \u001b[31m83.0 MB/s\u001b[0m eta \u001b[36m0:00:00\u001b[0m\n",
      "\u001b[?25hCollecting opencv-python<=4.6.0.66 (from -r requirements.txt (line 10))\n",
      "  Downloading opencv_python-4.6.0.66-cp36-abi3-manylinux_2_17_x86_64.manylinux2014_x86_64.whl (60.9 MB)\n",
      "\u001b[2K     \u001b[90m━━━━━━━━━━━━━━━━━━━━━━━━━━━━━━━━━━━━━━━━\u001b[0m \u001b[32m60.9/60.9 MB\u001b[0m \u001b[31m10.2 MB/s\u001b[0m eta \u001b[36m0:00:00\u001b[0m\n",
      "\u001b[?25hCollecting opencv-contrib-python<=4.6.0.66 (from -r requirements.txt (line 11))\n",
      "  Downloading opencv_contrib_python-4.6.0.66-cp36-abi3-manylinux_2_17_x86_64.manylinux2014_x86_64.whl (67.1 MB)\n",
      "\u001b[2K     \u001b[90m━━━━━━━━━━━━━━━━━━━━━━━━━━━━━━━━━━━━━━━━\u001b[0m \u001b[32m67.1/67.1 MB\u001b[0m \u001b[31m10.6 MB/s\u001b[0m eta \u001b[36m0:00:00\u001b[0m\n",
      "\u001b[?25hRequirement already satisfied: cython in /usr/local/lib/python3.10/dist-packages (from -r requirements.txt (line 12)) (3.0.6)\n",
      "Requirement already satisfied: lxml in /usr/local/lib/python3.10/dist-packages (from -r requirements.txt (line 13)) (4.9.3)\n",
      "Collecting premailer (from -r requirements.txt (line 14))\n",
      "  Downloading premailer-3.10.0-py2.py3-none-any.whl (19 kB)\n",
      "Requirement already satisfied: openpyxl in /usr/local/lib/python3.10/dist-packages (from -r requirements.txt (line 15)) (3.1.2)\n",
      "Collecting attrdict (from -r requirements.txt (line 16))\n",
      "  Downloading attrdict-2.0.1-py2.py3-none-any.whl (9.9 kB)\n",
      "Collecting PyMuPDF<1.21.0 (from -r requirements.txt (line 17))\n",
      "  Downloading PyMuPDF-1.20.2-cp310-cp310-manylinux_2_17_x86_64.manylinux2014_x86_64.whl (8.9 MB)\n",
      "\u001b[2K     \u001b[90m━━━━━━━━━━━━━━━━━━━━━━━━━━━━━━━━━━━━━━━━\u001b[0m \u001b[32m8.9/8.9 MB\u001b[0m \u001b[31m29.0 MB/s\u001b[0m eta \u001b[36m0:00:00\u001b[0m\n",
      "\u001b[?25hCollecting Pillow>=10.0.0 (from -r requirements.txt (line 18))\n",
      "  Downloading Pillow-10.1.0-cp310-cp310-manylinux_2_28_x86_64.whl (3.6 MB)\n",
      "\u001b[2K     \u001b[90m━━━━━━━━━━━━━━━━━━━━━━━━━━━━━━━━━━━━━━━━\u001b[0m \u001b[32m3.6/3.6 MB\u001b[0m \u001b[31m80.3 MB/s\u001b[0m eta \u001b[36m0:00:00\u001b[0m\n",
      "\u001b[?25hRequirement already satisfied: pyyaml in /usr/local/lib/python3.10/dist-packages (from -r requirements.txt (line 19)) (6.0.1)\n",
      "Requirement already satisfied: scipy>=1.4.1 in /usr/local/lib/python3.10/dist-packages (from scikit-image->-r requirements.txt (line 2)) (1.11.4)\n",
      "Requirement already satisfied: networkx>=2.2 in /usr/local/lib/python3.10/dist-packages (from scikit-image->-r requirements.txt (line 2)) (3.2.1)\n",
      "Requirement already satisfied: imageio>=2.4.1 in /usr/local/lib/python3.10/dist-packages (from scikit-image->-r requirements.txt (line 2)) (2.31.6)\n",
      "Requirement already satisfied: tifffile>=2019.7.26 in /usr/local/lib/python3.10/dist-packages (from scikit-image->-r requirements.txt (line 2)) (2023.9.26)\n",
      "Requirement already satisfied: PyWavelets>=1.1.1 in /usr/local/lib/python3.10/dist-packages (from scikit-image->-r requirements.txt (line 2)) (1.5.0)\n",
      "Requirement already satisfied: packaging>=20.0 in /usr/local/lib/python3.10/dist-packages (from scikit-image->-r requirements.txt (line 2)) (23.2)\n",
      "Requirement already satisfied: six in /usr/local/lib/python3.10/dist-packages (from imgaug->-r requirements.txt (line 3)) (1.16.0)\n",
      "Requirement already satisfied: matplotlib in /usr/local/lib/python3.10/dist-packages (from imgaug->-r requirements.txt (line 3)) (3.7.1)\n",
      "Collecting bce-python-sdk (from visualdl->-r requirements.txt (line 8))\n",
      "  Downloading bce_python_sdk-0.8.97-py3-none-any.whl (241 kB)\n",
      "\u001b[2K     \u001b[90m━━━━━━━━━━━━━━━━━━━━━━━━━━━━━━━━━━━━━━━━\u001b[0m \u001b[32m241.5/241.5 kB\u001b[0m \u001b[31m19.6 MB/s\u001b[0m eta \u001b[36m0:00:00\u001b[0m\n",
      "\u001b[?25hRequirement already satisfied: flask>=1.1.1 in /usr/local/lib/python3.10/dist-packages (from visualdl->-r requirements.txt (line 8)) (2.2.5)\n",
      "Collecting Flask-Babel>=3.0.0 (from visualdl->-r requirements.txt (line 8))\n",
      "  Downloading flask_babel-4.0.0-py3-none-any.whl (9.6 kB)\n",
      "Requirement already satisfied: protobuf>=3.20.0 in /usr/local/lib/python3.10/dist-packages (from visualdl->-r requirements.txt (line 8)) (3.20.0)\n",
      "Requirement already satisfied: requests in /usr/local/lib/python3.10/dist-packages (from visualdl->-r requirements.txt (line 8)) (2.31.0)\n",
      "Requirement already satisfied: pandas in /usr/local/lib/python3.10/dist-packages (from visualdl->-r requirements.txt (line 8)) (1.5.3)\n",
      "Collecting rarfile (from visualdl->-r requirements.txt (line 8))\n",
      "  Downloading rarfile-4.1-py3-none-any.whl (28 kB)\n",
      "Requirement already satisfied: psutil in /usr/local/lib/python3.10/dist-packages (from visualdl->-r requirements.txt (line 8)) (5.9.5)\n",
      "Collecting cssselect (from premailer->-r requirements.txt (line 14))\n",
      "  Downloading cssselect-1.2.0-py2.py3-none-any.whl (18 kB)\n",
      "Collecting cssutils (from premailer->-r requirements.txt (line 14))\n",
      "  Downloading cssutils-2.9.0-py3-none-any.whl (398 kB)\n",
      "\u001b[2K     \u001b[90m━━━━━━━━━━━━━━━━━━━━━━━━━━━━━━━━━━━━━━━━\u001b[0m \u001b[32m398.5/398.5 kB\u001b[0m \u001b[31m39.5 MB/s\u001b[0m eta \u001b[36m0:00:00\u001b[0m\n",
      "\u001b[?25hRequirement already satisfied: cachetools in /usr/local/lib/python3.10/dist-packages (from premailer->-r requirements.txt (line 14)) (5.3.2)\n",
      "Requirement already satisfied: et-xmlfile in /usr/local/lib/python3.10/dist-packages (from openpyxl->-r requirements.txt (line 15)) (1.1.0)\n",
      "Requirement already satisfied: Werkzeug>=2.2.2 in /usr/local/lib/python3.10/dist-packages (from flask>=1.1.1->visualdl->-r requirements.txt (line 8)) (3.0.1)\n",
      "Requirement already satisfied: Jinja2>=3.0 in /usr/local/lib/python3.10/dist-packages (from flask>=1.1.1->visualdl->-r requirements.txt (line 8)) (3.1.2)\n",
      "Requirement already satisfied: itsdangerous>=2.0 in /usr/local/lib/python3.10/dist-packages (from flask>=1.1.1->visualdl->-r requirements.txt (line 8)) (2.1.2)\n",
      "Requirement already satisfied: click>=8.0 in /usr/local/lib/python3.10/dist-packages (from flask>=1.1.1->visualdl->-r requirements.txt (line 8)) (8.1.7)\n",
      "Requirement already satisfied: Babel>=2.12 in /usr/local/lib/python3.10/dist-packages (from Flask-Babel>=3.0.0->visualdl->-r requirements.txt (line 8)) (2.13.1)\n",
      "Requirement already satisfied: pytz>=2022.7 in /usr/local/lib/python3.10/dist-packages (from Flask-Babel>=3.0.0->visualdl->-r requirements.txt (line 8)) (2023.3.post1)\n",
      "Collecting Pillow>=10.0.0 (from -r requirements.txt (line 18))\n",
      "  Downloading Pillow-10.0.1-cp310-cp310-manylinux_2_28_x86_64.whl (3.6 MB)\n",
      "\u001b[2K     \u001b[90m━━━━━━━━━━━━━━━━━━━━━━━━━━━━━━━━━━━━━━━━\u001b[0m \u001b[32m3.6/3.6 MB\u001b[0m \u001b[31m49.4 MB/s\u001b[0m eta \u001b[36m0:00:00\u001b[0m\n",
      "\u001b[?25hCollecting pycryptodome>=3.8.0 (from bce-python-sdk->visualdl->-r requirements.txt (line 8))\n",
      "  Downloading pycryptodome-3.19.0-cp35-abi3-manylinux_2_17_x86_64.manylinux2014_x86_64.whl (2.1 MB)\n",
      "\u001b[2K     \u001b[90m━━━━━━━━━━━━━━━━━━━━━━━━━━━━━━━━━━━━━━━━\u001b[0m \u001b[32m2.1/2.1 MB\u001b[0m \u001b[31m62.7 MB/s\u001b[0m eta \u001b[36m0:00:00\u001b[0m\n",
      "\u001b[?25hRequirement already satisfied: future>=0.6.0 in /usr/local/lib/python3.10/dist-packages (from bce-python-sdk->visualdl->-r requirements.txt (line 8)) (0.18.3)\n",
      "Requirement already satisfied: contourpy>=1.0.1 in /usr/local/lib/python3.10/dist-packages (from matplotlib->imgaug->-r requirements.txt (line 3)) (1.2.0)\n",
      "Requirement already satisfied: cycler>=0.10 in /usr/local/lib/python3.10/dist-packages (from matplotlib->imgaug->-r requirements.txt (line 3)) (0.12.1)\n",
      "Requirement already satisfied: fonttools>=4.22.0 in /usr/local/lib/python3.10/dist-packages (from matplotlib->imgaug->-r requirements.txt (line 3)) (4.46.0)\n",
      "Requirement already satisfied: kiwisolver>=1.0.1 in /usr/local/lib/python3.10/dist-packages (from matplotlib->imgaug->-r requirements.txt (line 3)) (1.4.5)\n",
      "Requirement already satisfied: pyparsing>=2.3.1 in /usr/local/lib/python3.10/dist-packages (from matplotlib->imgaug->-r requirements.txt (line 3)) (3.1.1)\n",
      "Requirement already satisfied: python-dateutil>=2.7 in /usr/local/lib/python3.10/dist-packages (from matplotlib->imgaug->-r requirements.txt (line 3)) (2.8.2)\n",
      "Requirement already satisfied: charset-normalizer<4,>=2 in /usr/local/lib/python3.10/dist-packages (from requests->visualdl->-r requirements.txt (line 8)) (3.3.2)\n",
      "Requirement already satisfied: idna<4,>=2.5 in /usr/local/lib/python3.10/dist-packages (from requests->visualdl->-r requirements.txt (line 8)) (3.6)\n",
      "Requirement already satisfied: urllib3<3,>=1.21.1 in /usr/local/lib/python3.10/dist-packages (from requests->visualdl->-r requirements.txt (line 8)) (2.0.7)\n",
      "Requirement already satisfied: certifi>=2017.4.17 in /usr/local/lib/python3.10/dist-packages (from requests->visualdl->-r requirements.txt (line 8)) (2023.11.17)\n",
      "Requirement already satisfied: MarkupSafe>=2.0 in /usr/local/lib/python3.10/dist-packages (from Jinja2>=3.0->flask>=1.1.1->visualdl->-r requirements.txt (line 8)) (2.1.3)\n",
      "Installing collected packages: pyclipper, lmdb, rarfile, rapidfuzz, PyMuPDF, pycryptodome, Pillow, opencv-python, opencv-contrib-python, cssutils, cssselect, attrdict, premailer, bce-python-sdk, Flask-Babel, visualdl\n",
      "  Attempting uninstall: Pillow\n",
      "    Found existing installation: Pillow 9.4.0\n",
      "    Uninstalling Pillow-9.4.0:\n",
      "      Successfully uninstalled Pillow-9.4.0\n",
      "  Attempting uninstall: opencv-python\n",
      "    Found existing installation: opencv-python 4.8.0.76\n",
      "    Uninstalling opencv-python-4.8.0.76:\n",
      "      Successfully uninstalled opencv-python-4.8.0.76\n",
      "  Attempting uninstall: opencv-contrib-python\n",
      "    Found existing installation: opencv-contrib-python 4.8.0.76\n",
      "    Uninstalling opencv-contrib-python-4.8.0.76:\n",
      "      Successfully uninstalled opencv-contrib-python-4.8.0.76\n",
      "Successfully installed Flask-Babel-4.0.0 Pillow-10.0.1 PyMuPDF-1.20.2 attrdict-2.0.1 bce-python-sdk-0.8.97 cssselect-1.2.0 cssutils-2.9.0 lmdb-1.4.1 opencv-contrib-python-4.6.0.66 opencv-python-4.6.0.66 premailer-3.10.0 pyclipper-1.3.0.post5 pycryptodome-3.19.0 rapidfuzz-3.5.2 rarfile-4.1 visualdl-2.5.3\n"
     ]
    },
    {
     "data": {
      "application/vnd.colab-display-data+json": {
       "pip_warning": {
        "packages": [
         "PIL",
         "cv2"
        ]
       }
      }
     },
     "metadata": {},
     "output_type": "display_data"
    }
   ],
   "source": [
    "!pip install -r requirements.txt"
   ]
  },
  {
   "cell_type": "code",
   "execution_count": 1,
   "id": "3c654143",
   "metadata": {
    "colab": {
     "base_uri": "https://localhost:8080/"
    },
    "execution": {
     "iopub.execute_input": "2023-05-23T15:10:09.934832Z",
     "iopub.status.busy": "2023-05-23T15:10:09.934417Z",
     "iopub.status.idle": "2023-05-23T15:10:09.944194Z",
     "shell.execute_reply": "2023-05-23T15:10:09.943195Z",
     "shell.execute_reply.started": "2023-05-23T15:10:09.934795Z"
    },
    "id": "3c654143",
    "outputId": "349ad74f-cb95-417d-fc46-c6eb39d0fc33",
    "papermill": {
     "duration": null,
     "end_time": null,
     "exception": null,
     "start_time": null,
     "status": "pending"
    },
    "tags": []
   },
   "outputs": [
    {
     "name": "stdout",
     "output_type": "stream",
     "text": [
      "/\n"
     ]
    }
   ],
   "source": [
    "%cd .."
   ]
  },
  {
   "cell_type": "code",
   "execution_count": 1,
   "id": "f48b0aef",
   "metadata": {
    "colab": {
     "base_uri": "https://localhost:8080/"
    },
    "execution": {
     "iopub.execute_input": "2023-05-23T15:16:18.191915Z",
     "iopub.status.busy": "2023-05-23T15:16:18.191117Z",
     "iopub.status.idle": "2023-05-23T15:16:19.249348Z",
     "shell.execute_reply": "2023-05-23T15:16:19.247972Z",
     "shell.execute_reply.started": "2023-05-23T15:16:18.191876Z"
    },
    "id": "f48b0aef",
    "outputId": "58106f53-1a95-45b6-f0a5-d27e3681d823",
    "papermill": {
     "duration": null,
     "end_time": null,
     "exception": null,
     "start_time": null,
     "status": "pending"
    },
    "tags": []
   },
   "outputs": [
    {
     "name": "stdout",
     "output_type": "stream",
     "text": [
      "det_mv3_db.yml\ten_PP-OCRv3_rec.yml  PaddleOCR\tpretrain_models  sample_data  Sample-Data\n"
     ]
    }
   ],
   "source": [
    "!ls"
   ]
  },
  {
   "cell_type": "code",
   "execution_count": 3,
   "id": "ulBxBN5pQrf_",
   "metadata": {
    "colab": {
     "base_uri": "https://localhost:8080/"
    },
    "id": "ulBxBN5pQrf_",
    "outputId": "bdb331aa-1556-4e98-db90-b6ce09dd832e"
   },
   "outputs": [
    {
     "name": "stdout",
     "output_type": "stream",
     "text": [
      "/content\n"
     ]
    }
   ],
   "source": [
    "%cd content\n"
   ]
  },
  {
   "cell_type": "code",
   "execution_count": 2,
   "id": "13a24bf2",
   "metadata": {
    "colab": {
     "base_uri": "https://localhost:8080/"
    },
    "execution": {
     "iopub.execute_input": "2023-05-23T15:16:30.419414Z",
     "iopub.status.busy": "2023-05-23T15:16:30.418975Z",
     "iopub.status.idle": "2023-05-23T15:16:31.476247Z",
     "shell.execute_reply": "2023-05-23T15:16:31.475075Z",
     "shell.execute_reply.started": "2023-05-23T15:16:30.419378Z"
    },
    "id": "13a24bf2",
    "outputId": "d5951b66-ed81-4309-ccf3-df59e59f354f",
    "papermill": {
     "duration": null,
     "end_time": null,
     "exception": null,
     "start_time": null,
     "status": "pending"
    },
    "tags": []
   },
   "outputs": [
    {
     "name": "stdout",
     "output_type": "stream",
     "text": [
      "Global:\n",
      "  debug: false\n",
      "  use_gpu: true\n",
      "  epoch_num: 50\n",
      "  log_smooth_window: 20\n",
      "  print_batch_step: 10\n",
      "  save_model_dir: ./output/v3_en_mobile\n",
      "  save_epoch_step: 3\n",
      "  eval_batch_step: [0, 10]\n",
      "  cal_metric_during_train: true\n",
      "  pretrained_model:\n",
      "  checkpoints:\n",
      "  save_inference_dir:\n",
      "  use_visualdl: false\n",
      "  infer_img: ./Sample-Data/Train/11664.jpg\n",
      "  character_dict_path: ./PaddleOCR/ppocr/utils/en_dict.txt\n",
      "  max_text_length: &max_text_length 25\n",
      "  infer_mode: false\n",
      "  use_space_char: true\n",
      "  distributed: true\n",
      "  save_res_path: ./output/rec/predicts_ppocrv3_en.txt\n",
      "\n",
      "\n",
      "Optimizer:\n",
      "  name: Adam\n",
      "  beta1: 0.9\n",
      "  beta2: 0.999\n",
      "  lr:\n",
      "    name: Cosine\n",
      "    learning_rate: 0.001\n",
      "    warmup_epoch: 5\n",
      "  regularizer:\n",
      "    name: L2\n",
      "    factor: 3.0e-05\n",
      "\n",
      "\n",
      "Architecture:\n",
      "  model_type: rec\n",
      "  algorithm: SVTR\n",
      "  Transform:\n",
      "  Backbone:\n",
      "    name: MobileNetV1Enhance\n",
      "    scale: 0.5\n",
      "    last_conv_stride: [1, 2]\n",
      "    last_pool_type: avg\n",
      "  Head:\n",
      "    name: MultiHead\n",
      "    head_list:\n",
      "      - CTCHead:\n",
      "          Neck:\n",
      "            name: svtr\n",
      "            dims: 64\n",
      "            depth: 2\n",
      "            hidden_dims: 120\n",
      "            use_guide: True\n",
      "          Head:\n",
      "            fc_decay: 0.00001\n",
      "      - SARHead:\n",
      "          enc_dim: 512\n",
      "          max_text_length: *max_text_length\n",
      "\n",
      "Loss:\n",
      "  name: MultiLoss\n",
      "  loss_config_list:\n",
      "    - CTCLoss:\n",
      "    - SARLoss:\n",
      "\n",
      "PostProcess:  \n",
      "  name: CTCLabelDecode\n",
      "\n",
      "Metric:\n",
      "  name: RecMetric\n",
      "  main_indicator: acc\n",
      "  ignore_space: False\n",
      "\n",
      "Train:\n",
      "  dataset:\n",
      "    name: SimpleDataSet\n",
      "    data_dir: ./Sample-Data/Train/\n",
      "    ext_op_transform_idx: 1\n",
      "    label_file_list:\n",
      "    - ./Sample-Data/Train/train.txt\n",
      "    transforms:\n",
      "    - DecodeImage:\n",
      "        img_mode: BGR\n",
      "        channel_first: false\n",
      "    - RecConAug:\n",
      "        prob: 0.5\n",
      "        ext_data_num: 2\n",
      "        image_shape: [48, 320, 3]\n",
      "        max_text_length: *max_text_length\n",
      "    - RecAug:\n",
      "    - MultiLabelEncode:\n",
      "    - RecResizeImg:\n",
      "        image_shape: [3, 48, 320]\n",
      "    - KeepKeys:\n",
      "        keep_keys:\n",
      "        - image\n",
      "        - label_ctc\n",
      "        - label_sar\n",
      "        - length\n",
      "        - valid_ratio\n",
      "  loader:\n",
      "    shuffle: true\n",
      "    batch_size_per_card: 3\n",
      "    drop_last: true\n",
      "    num_workers: 4\n",
      "Eval:\n",
      "  dataset:\n",
      "    name: SimpleDataSet\n",
      "    data_dir: ./Sample-Data/Test/\n",
      "    label_file_list:\n",
      "    - ./Sample-Data/Test/test.txt\n",
      "    transforms:\n",
      "    - DecodeImage:\n",
      "        img_mode: BGR\n",
      "        channel_first: false\n",
      "    - MultiLabelEncode:\n",
      "    - RecResizeImg:\n",
      "        image_shape: [3, 48, 320]\n",
      "    - KeepKeys:\n",
      "        keep_keys:\n",
      "        - image\n",
      "        - label_ctc\n",
      "        - label_sar\n",
      "        - length\n",
      "        - valid_ratio\n",
      "  loader:\n",
      "    shuffle: false\n",
      "    drop_last: false\n",
      "    batch_size_per_card: 3\n",
      "    num_workers: 4\n"
     ]
    }
   ],
   "source": [
    "!cat en_PP-OCRv3_rec.yml"
   ]
  },
  {
   "cell_type": "code",
   "execution_count": 3,
   "id": "f244423b",
   "metadata": {
    "colab": {
     "base_uri": "https://localhost:8080/"
    },
    "collapsed": true,
    "id": "f244423b",
    "jupyter": {
     "outputs_hidden": true,
     "source_hidden": true
    },
    "outputId": "1e53e8fd-cddf-4b58-e608-9b8c3ce60abb",
    "papermill": {
     "duration": null,
     "end_time": null,
     "exception": null,
     "start_time": null,
     "status": "pending"
    },
    "tags": []
   },
   "outputs": [
    {
     "name": "stdout",
     "output_type": "stream",
     "text": [
      "--2023-12-12 06:18:50--  https://paddleocr.bj.bcebos.com/pretrained/MobileNetV3_large_x0_5_pretrained.pdparams\n",
      "Resolving paddleocr.bj.bcebos.com (paddleocr.bj.bcebos.com)... 103.235.46.61, 2409:8c04:1001:1002:0:ff:b001:368a\n",
      "Connecting to paddleocr.bj.bcebos.com (paddleocr.bj.bcebos.com)|103.235.46.61|:443... connected.\n",
      "HTTP request sent, awaiting response... 200 OK\n",
      "Length: 3189601 (3.0M) [application/octet-stream]\n",
      "Saving to: ‘./pretrain_models/MobileNetV3_large_x0_5_pretrained.pdparams.1’\n",
      "\n",
      "MobileNetV3_large_x 100%[===================>]   3.04M   582KB/s    in 14s     \n",
      "\n",
      "2023-12-12 06:19:05 (227 KB/s) - ‘./pretrain_models/MobileNetV3_large_x0_5_pretrained.pdparams.1’ saved [3189601/3189601]\n",
      "\n"
     ]
    }
   ],
   "source": [
    "!wget -P ./pretrain_models/ https://paddleocr.bj.bcebos.com/pretrained/MobileNetV3_large_x0_5_pretrained.pdparams"
   ]
  },
  {
   "cell_type": "code",
   "execution_count": 4,
   "id": "s43RI6KQUdAc",
   "metadata": {
    "colab": {
     "base_uri": "https://localhost:8080/"
    },
    "id": "s43RI6KQUdAc",
    "outputId": "b6035e6d-fa77-4b67-e487-fc1a67ca2988"
   },
   "outputs": [
    {
     "name": "stdout",
     "output_type": "stream",
     "text": [
      "/content/PaddleOCR\n"
     ]
    }
   ],
   "source": [
    "%cd PaddleOCR/"
   ]
  },
  {
   "cell_type": "code",
   "execution_count": 7,
   "id": "StYCmCaAr0m8",
   "metadata": {
    "id": "StYCmCaAr0m8"
   },
   "outputs": [],
   "source": [
    "import paddle.distributed as dist\n",
    "env = dist.ParallelEnv()"
   ]
  },
  {
   "cell_type": "code",
   "execution_count": 2,
   "id": "rlpxE90suY9S",
   "metadata": {
    "colab": {
     "base_uri": "https://localhost:8080/",
     "height": 535
    },
    "id": "rlpxE90suY9S",
    "outputId": "e1ff9328-1441-46fb-894f-cea7eccf5714"
   },
   "outputs": [
    {
     "name": "stdout",
     "output_type": "stream",
     "text": [
      "Collecting paddlepaddle-gpu==2.5.2\n",
      "  Downloading paddlepaddle_gpu-2.5.2-cp310-cp310-manylinux1_x86_64.whl (542.5 MB)\n",
      "\u001b[2K     \u001b[90m━━━━━━━━━━━━━━━━━━━━━━━━━━━━━━━━━━━━━━━━\u001b[0m \u001b[32m542.5/542.5 MB\u001b[0m \u001b[31m2.9 MB/s\u001b[0m eta \u001b[36m0:00:00\u001b[0m\n",
      "\u001b[?25hRequirement already satisfied: httpx in /usr/local/lib/python3.10/dist-packages (from paddlepaddle-gpu==2.5.2) (0.25.2)\n",
      "Requirement already satisfied: numpy>=1.13 in /usr/local/lib/python3.10/dist-packages (from paddlepaddle-gpu==2.5.2) (1.26.2)\n",
      "Requirement already satisfied: Pillow in /usr/local/lib/python3.10/dist-packages (from paddlepaddle-gpu==2.5.2) (10.0.1)\n",
      "Requirement already satisfied: decorator in /usr/local/lib/python3.10/dist-packages (from paddlepaddle-gpu==2.5.2) (4.4.2)\n",
      "Requirement already satisfied: astor in /usr/local/lib/python3.10/dist-packages (from paddlepaddle-gpu==2.5.2) (0.8.1)\n",
      "Requirement already satisfied: opt-einsum==3.3.0 in /usr/local/lib/python3.10/dist-packages (from paddlepaddle-gpu==2.5.2) (3.3.0)\n",
      "Requirement already satisfied: protobuf>=3.20.2 in /usr/local/lib/python3.10/dist-packages (from paddlepaddle-gpu==2.5.2) (4.25.1)\n",
      "Requirement already satisfied: anyio in /usr/local/lib/python3.10/dist-packages (from httpx->paddlepaddle-gpu==2.5.2) (3.7.1)\n",
      "Requirement already satisfied: certifi in /usr/local/lib/python3.10/dist-packages (from httpx->paddlepaddle-gpu==2.5.2) (2023.11.17)\n",
      "Requirement already satisfied: httpcore==1.* in /usr/local/lib/python3.10/dist-packages (from httpx->paddlepaddle-gpu==2.5.2) (1.0.2)\n",
      "Requirement already satisfied: idna in /usr/local/lib/python3.10/dist-packages (from httpx->paddlepaddle-gpu==2.5.2) (3.6)\n",
      "Requirement already satisfied: sniffio in /usr/local/lib/python3.10/dist-packages (from httpx->paddlepaddle-gpu==2.5.2) (1.3.0)\n",
      "Requirement already satisfied: h11<0.15,>=0.13 in /usr/local/lib/python3.10/dist-packages (from httpcore==1.*->httpx->paddlepaddle-gpu==2.5.2) (0.14.0)\n",
      "Requirement already satisfied: exceptiongroup in /usr/local/lib/python3.10/dist-packages (from anyio->httpx->paddlepaddle-gpu==2.5.2) (1.2.0)\n",
      "Installing collected packages: paddlepaddle-gpu\n",
      "  Attempting uninstall: paddlepaddle-gpu\n",
      "    Found existing installation: paddlepaddle-gpu 2.4.2.post112\n",
      "    Uninstalling paddlepaddle-gpu-2.4.2.post112:\n",
      "      Successfully uninstalled paddlepaddle-gpu-2.4.2.post112\n",
      "Successfully installed paddlepaddle-gpu-2.5.2\n"
     ]
    },
    {
     "data": {
      "application/vnd.colab-display-data+json": {
       "pip_warning": {
        "packages": [
         "paddle"
        ]
       }
      }
     },
     "metadata": {},
     "output_type": "display_data"
    }
   ],
   "source": [
    "!pip install paddlepaddle-gpu==2.5.2"
   ]
  },
  {
   "cell_type": "code",
   "execution_count": 1,
   "id": "8LQxR9ksuLky",
   "metadata": {
    "colab": {
     "base_uri": "https://localhost:8080/"
    },
    "id": "8LQxR9ksuLky",
    "outputId": "d3c06c5c-1f58-49cd-972e-6f430cbe9c5d"
   },
   "outputs": [
    {
     "name": "stdout",
     "output_type": "stream",
     "text": [
      "The device id are 0\n"
     ]
    }
   ],
   "source": [
    "# execute this command in terminal: export FLAGS_selected_gpus=1\n",
    "import paddle.distributed as dist\n",
    "\n",
    "env = dist.ParallelEnv()\n",
    "print(\"The device id are %d\" % env.device_id)\n",
    "# The device id are 1\n"
   ]
  },
  {
   "cell_type": "code",
   "execution_count": 10,
   "id": "fWLTZVdOrva5",
   "metadata": {
    "colab": {
     "base_uri": "https://localhost:8080/",
     "height": 299
    },
    "id": "fWLTZVdOrva5",
    "outputId": "187b1402-ecdc-4bbd-d5ac-f03462a16492"
   },
   "outputs": [
    {
     "ename": "AttributeError",
     "evalue": "ignored",
     "output_type": "error",
     "traceback": [
      "\u001b[0;31m---------------------------------------------------------------------------\u001b[0m",
      "\u001b[0;31mAttributeError\u001b[0m                            Traceback (most recent call last)",
      "\u001b[0;32m<ipython-input-10-a80d023af87c>\u001b[0m in \u001b[0;36m<cell line: 1>\u001b[0;34m()\u001b[0m\n\u001b[0;32m----> 1\u001b[0;31m \u001b[0mdevice_id\u001b[0m \u001b[0;34m=\u001b[0m \u001b[0menv\u001b[0m\u001b[0;34m.\u001b[0m\u001b[0mdevice_id\u001b[0m\u001b[0;34m\u001b[0m\u001b[0;34m\u001b[0m\u001b[0m\n\u001b[0m",
      "\u001b[0;32m/usr/local/lib/python3.10/dist-packages/paddle/fluid/dygraph/parallel.py\u001b[0m in \u001b[0;36mdevice_id\u001b[0;34m(self)\u001b[0m\n\u001b[1;32m    206\u001b[0m             \u001b[0;31m# The device id are 1\u001b[0m\u001b[0;34m\u001b[0m\u001b[0;34m\u001b[0m\u001b[0m\n\u001b[1;32m    207\u001b[0m         \"\"\"\n\u001b[0;32m--> 208\u001b[0;31m         \u001b[0;32mreturn\u001b[0m \u001b[0mself\u001b[0m\u001b[0;34m.\u001b[0m\u001b[0m_device_id\u001b[0m\u001b[0;34m\u001b[0m\u001b[0;34m\u001b[0m\u001b[0m\n\u001b[0m\u001b[1;32m    209\u001b[0m \u001b[0;34m\u001b[0m\u001b[0m\n\u001b[1;32m    210\u001b[0m     \u001b[0;34m@\u001b[0m\u001b[0mproperty\u001b[0m\u001b[0;34m\u001b[0m\u001b[0;34m\u001b[0m\u001b[0m\n",
      "\u001b[0;31mAttributeError\u001b[0m: 'ParallelEnv' object has no attribute '_device_id'"
     ]
    }
   ],
   "source": [
    "device_id = env.device_id"
   ]
  },
  {
   "cell_type": "code",
   "execution_count": 11,
   "id": "98Bs7SdercX0",
   "metadata": {
    "colab": {
     "base_uri": "https://localhost:8080/"
    },
    "id": "98Bs7SdercX0",
    "outputId": "df0a84fe-ed15-49ad-d8df-a411bf3c27e9"
   },
   "outputs": [
    {
     "name": "stdout",
     "output_type": "stream",
     "text": [
      "[2023/12/12 06:43:28] ppocr INFO: Architecture : \n",
      "[2023/12/12 06:43:28] ppocr INFO:     Backbone : \n",
      "[2023/12/12 06:43:28] ppocr INFO:         model_name : large\n",
      "[2023/12/12 06:43:28] ppocr INFO:         name : MobileNetV3\n",
      "[2023/12/12 06:43:28] ppocr INFO:         scale : 0.5\n",
      "[2023/12/12 06:43:28] ppocr INFO:     Head : \n",
      "[2023/12/12 06:43:28] ppocr INFO:         k : 50\n",
      "[2023/12/12 06:43:28] ppocr INFO:         name : DBHead\n",
      "[2023/12/12 06:43:28] ppocr INFO:     Neck : \n",
      "[2023/12/12 06:43:28] ppocr INFO:         name : DBFPN\n",
      "[2023/12/12 06:43:28] ppocr INFO:         out_channels : 256\n",
      "[2023/12/12 06:43:28] ppocr INFO:     Transform : None\n",
      "[2023/12/12 06:43:28] ppocr INFO:     algorithm : DB\n",
      "[2023/12/12 06:43:28] ppocr INFO:     model_type : det\n",
      "[2023/12/12 06:43:28] ppocr INFO: Eval : \n",
      "[2023/12/12 06:43:28] ppocr INFO:     dataset : \n",
      "[2023/12/12 06:43:28] ppocr INFO:         data_dir : /content/Sample-Data/Test/\n",
      "[2023/12/12 06:43:28] ppocr INFO:         label_file_list : ['/content/Sample-Data/Test/test.txt']\n",
      "[2023/12/12 06:43:28] ppocr INFO:         name : SimpleDataSet\n",
      "[2023/12/12 06:43:28] ppocr INFO:         transforms : \n",
      "[2023/12/12 06:43:28] ppocr INFO:             DecodeImage : \n",
      "[2023/12/12 06:43:28] ppocr INFO:                 channel_first : False\n",
      "[2023/12/12 06:43:28] ppocr INFO:                 img_mode : BGR\n",
      "[2023/12/12 06:43:28] ppocr INFO:             DetLabelEncode : None\n",
      "[2023/12/12 06:43:28] ppocr INFO:             DetResizeForTest : \n",
      "[2023/12/12 06:43:28] ppocr INFO:                 image_shape : [736, 1280]\n",
      "[2023/12/12 06:43:28] ppocr INFO:             NormalizeImage : \n",
      "[2023/12/12 06:43:28] ppocr INFO:                 mean : [0.485, 0.456, 0.406]\n",
      "[2023/12/12 06:43:28] ppocr INFO:                 order : hwc\n",
      "[2023/12/12 06:43:28] ppocr INFO:                 scale : 1./255.\n",
      "[2023/12/12 06:43:28] ppocr INFO:                 std : [0.229, 0.224, 0.225]\n",
      "[2023/12/12 06:43:28] ppocr INFO:             ToCHWImage : None\n",
      "[2023/12/12 06:43:28] ppocr INFO:             KeepKeys : \n",
      "[2023/12/12 06:43:28] ppocr INFO:                 keep_keys : ['image', 'shape', 'polys', 'ignore_tags']\n",
      "[2023/12/12 06:43:28] ppocr INFO:     loader : \n",
      "[2023/12/12 06:43:28] ppocr INFO:         batch_size_per_card : 1\n",
      "[2023/12/12 06:43:28] ppocr INFO:         drop_last : False\n",
      "[2023/12/12 06:43:28] ppocr INFO:         num_workers : 8\n",
      "[2023/12/12 06:43:28] ppocr INFO:         shuffle : False\n",
      "[2023/12/12 06:43:28] ppocr INFO:         use_shared_memory : True\n",
      "[2023/12/12 06:43:28] ppocr INFO: Global : \n",
      "[2023/12/12 06:43:28] ppocr INFO:     cal_metric_during_train : False\n",
      "[2023/12/12 06:43:28] ppocr INFO:     checkpoints : None\n",
      "[2023/12/12 06:43:28] ppocr INFO:     distributed : False\n",
      "[2023/12/12 06:43:28] ppocr INFO:     epoch_num : 500\n",
      "[2023/12/12 06:43:28] ppocr INFO:     eval_batch_step : [0, 100]\n",
      "[2023/12/12 06:43:28] ppocr INFO:     infer_img : /content/Sample-Data/Train/11664.jpg\n",
      "[2023/12/12 06:43:28] ppocr INFO:     log_smooth_window : 20\n",
      "[2023/12/12 06:43:28] ppocr INFO:     pretrained_model : /content/pretrain_models/MobileNetV3_large_x0_5_pretrained.pdparams\n",
      "[2023/12/12 06:43:28] ppocr INFO:     print_batch_step : 10\n",
      "[2023/12/12 06:43:28] ppocr INFO:     save_epoch_step : 500\n",
      "[2023/12/12 06:43:28] ppocr INFO:     save_inference_dir : None\n",
      "[2023/12/12 06:43:28] ppocr INFO:     save_model_dir : ./output/db_mv3/\n",
      "[2023/12/12 06:43:28] ppocr INFO:     save_res_path : ./output/det_db/predicts_db.txt\n",
      "[2023/12/12 06:43:28] ppocr INFO:     use_gpu : True\n",
      "[2023/12/12 06:43:28] ppocr INFO:     use_mlu : False\n",
      "[2023/12/12 06:43:28] ppocr INFO:     use_visualdl : False\n",
      "[2023/12/12 06:43:28] ppocr INFO:     use_xpu : False\n",
      "[2023/12/12 06:43:28] ppocr INFO: Loss : \n",
      "[2023/12/12 06:43:28] ppocr INFO:     alpha : 5\n",
      "[2023/12/12 06:43:28] ppocr INFO:     balance_loss : True\n",
      "[2023/12/12 06:43:28] ppocr INFO:     beta : 10\n",
      "[2023/12/12 06:43:28] ppocr INFO:     main_loss_type : DiceLoss\n",
      "[2023/12/12 06:43:28] ppocr INFO:     name : DBLoss\n",
      "[2023/12/12 06:43:28] ppocr INFO:     ohem_ratio : 3\n",
      "[2023/12/12 06:43:28] ppocr INFO: Metric : \n",
      "[2023/12/12 06:43:28] ppocr INFO:     main_indicator : hmean\n",
      "[2023/12/12 06:43:28] ppocr INFO:     name : DetMetric\n",
      "[2023/12/12 06:43:28] ppocr INFO: Optimizer : \n",
      "[2023/12/12 06:43:28] ppocr INFO:     beta1 : 0.9\n",
      "[2023/12/12 06:43:28] ppocr INFO:     beta2 : 0.999\n",
      "[2023/12/12 06:43:28] ppocr INFO:     lr : \n",
      "[2023/12/12 06:43:28] ppocr INFO:         learning_rate : 0.001\n",
      "[2023/12/12 06:43:28] ppocr INFO:     name : Adam\n",
      "[2023/12/12 06:43:28] ppocr INFO:     regularizer : \n",
      "[2023/12/12 06:43:28] ppocr INFO:         factor : 0\n",
      "[2023/12/12 06:43:28] ppocr INFO:         name : L2\n",
      "[2023/12/12 06:43:28] ppocr INFO: PostProcess : \n",
      "[2023/12/12 06:43:28] ppocr INFO:     box_thresh : 0.6\n",
      "[2023/12/12 06:43:28] ppocr INFO:     max_candidates : 1000\n",
      "[2023/12/12 06:43:28] ppocr INFO:     name : DBPostProcess\n",
      "[2023/12/12 06:43:28] ppocr INFO:     thresh : 0.3\n",
      "[2023/12/12 06:43:28] ppocr INFO:     unclip_ratio : 1.5\n",
      "[2023/12/12 06:43:28] ppocr INFO: Train : \n",
      "[2023/12/12 06:43:28] ppocr INFO:     dataset : \n",
      "[2023/12/12 06:43:28] ppocr INFO:         data_dir : /content/Sample-Data/Train/\n",
      "[2023/12/12 06:43:28] ppocr INFO:         label_file_list : ['/content/Sample-Data/Train/train.txt']\n",
      "[2023/12/12 06:43:28] ppocr INFO:         name : SimpleDataSet\n",
      "[2023/12/12 06:43:28] ppocr INFO:         ratio_list : [1.0]\n",
      "[2023/12/12 06:43:28] ppocr INFO:         transforms : \n",
      "[2023/12/12 06:43:28] ppocr INFO:             DecodeImage : \n",
      "[2023/12/12 06:43:28] ppocr INFO:                 channel_first : False\n",
      "[2023/12/12 06:43:28] ppocr INFO:                 img_mode : BGR\n",
      "[2023/12/12 06:43:28] ppocr INFO:             DetLabelEncode : None\n",
      "[2023/12/12 06:43:28] ppocr INFO:             IaaAugment : \n",
      "[2023/12/12 06:43:28] ppocr INFO:                 augmenter_args : \n",
      "[2023/12/12 06:43:28] ppocr INFO:                     args : \n",
      "[2023/12/12 06:43:28] ppocr INFO:                         p : 0.5\n",
      "[2023/12/12 06:43:28] ppocr INFO:                     type : Fliplr\n",
      "[2023/12/12 06:43:28] ppocr INFO:                     args : \n",
      "[2023/12/12 06:43:28] ppocr INFO:                         rotate : [-10, 10]\n",
      "[2023/12/12 06:43:28] ppocr INFO:                     type : Affine\n",
      "[2023/12/12 06:43:28] ppocr INFO:                     args : \n",
      "[2023/12/12 06:43:28] ppocr INFO:                         size : [0.5, 3]\n",
      "[2023/12/12 06:43:28] ppocr INFO:                     type : Resize\n",
      "[2023/12/12 06:43:28] ppocr INFO:             EastRandomCropData : \n",
      "[2023/12/12 06:43:28] ppocr INFO:                 keep_ratio : True\n",
      "[2023/12/12 06:43:28] ppocr INFO:                 max_tries : 50\n",
      "[2023/12/12 06:43:28] ppocr INFO:                 size : [640, 640]\n",
      "[2023/12/12 06:43:28] ppocr INFO:             MakeBorderMap : \n",
      "[2023/12/12 06:43:28] ppocr INFO:                 shrink_ratio : 0.4\n",
      "[2023/12/12 06:43:28] ppocr INFO:                 thresh_max : 0.7\n",
      "[2023/12/12 06:43:28] ppocr INFO:                 thresh_min : 0.3\n",
      "[2023/12/12 06:43:28] ppocr INFO:             MakeShrinkMap : \n",
      "[2023/12/12 06:43:28] ppocr INFO:                 min_text_size : 8\n",
      "[2023/12/12 06:43:28] ppocr INFO:                 shrink_ratio : 0.4\n",
      "[2023/12/12 06:43:28] ppocr INFO:             NormalizeImage : \n",
      "[2023/12/12 06:43:28] ppocr INFO:                 mean : [0.485, 0.456, 0.406]\n",
      "[2023/12/12 06:43:28] ppocr INFO:                 order : hwc\n",
      "[2023/12/12 06:43:28] ppocr INFO:                 scale : 1./255.\n",
      "[2023/12/12 06:43:28] ppocr INFO:                 std : [0.229, 0.224, 0.225]\n",
      "[2023/12/12 06:43:28] ppocr INFO:             ToCHWImage : None\n",
      "[2023/12/12 06:43:28] ppocr INFO:             KeepKeys : \n",
      "[2023/12/12 06:43:28] ppocr INFO:                 keep_keys : ['image', 'threshold_map', 'threshold_mask', 'shrink_map', 'shrink_mask']\n",
      "[2023/12/12 06:43:28] ppocr INFO:     loader : \n",
      "[2023/12/12 06:43:28] ppocr INFO:         batch_size_per_card : 5\n",
      "[2023/12/12 06:43:28] ppocr INFO:         drop_last : False\n",
      "[2023/12/12 06:43:28] ppocr INFO:         num_workers : 8\n",
      "[2023/12/12 06:43:28] ppocr INFO:         shuffle : True\n",
      "[2023/12/12 06:43:28] ppocr INFO:         use_shared_memory : True\n",
      "[2023/12/12 06:43:28] ppocr INFO: profiler_options : None\n",
      "[2023/12/12 06:43:28] ppocr INFO: train with paddle 2.5.2 and device Place(gpu:0)\n",
      "[2023/12/12 06:43:28] ppocr INFO: Initialize indexs of datasets:['/content/Sample-Data/Train/train.txt']\n",
      "[2023/12/12 06:43:28] ppocr INFO: Initialize indexs of datasets:['/content/Sample-Data/Test/test.txt']\n",
      "W1212 06:43:28.694075  9015 gpu_resources.cc:119] Please NOTE: device: 0, GPU Compute Capability: 7.5, Driver API Version: 12.0, Runtime API Version: 11.8\n",
      "W1212 06:43:28.695163  9015 gpu_resources.cc:149] device: 0, cuDNN Version: 8.9.\n",
      "[2023/12/12 06:43:30] ppocr INFO: train dataloader has 3 iters\n",
      "[2023/12/12 06:43:30] ppocr INFO: valid dataloader has 6 iters\n",
      "[2023/12/12 06:43:30] ppocr INFO: load pretrain successful from /content/pretrain_models/MobileNetV3_large_x0_5_pretrained\n",
      "[2023/12/12 06:43:30] ppocr INFO: During the training process, after the 0th iteration, an evaluation is run every 100 iterations\n",
      "[2023/12/12 06:43:41] ppocr INFO: epoch: [1/500], global_step: 3, lr: 0.001000, loss: 8.845739, loss_shrink_maps: 4.402926, loss_threshold_maps: 3.567629, loss_binary_maps: 0.925935, loss_cbn: 0.000000, avg_reader_cost: 0.19823 s, avg_batch_cost: 1.09982 s, avg_samples: 1.5, ips: 1.36386 samples/s, eta: 1:31:28\n",
      "[2023/12/12 06:43:41] ppocr INFO: save model in ./output/db_mv3/latest\n",
      "[2023/12/12 06:43:45] ppocr INFO: epoch: [2/500], global_step: 6, lr: 0.001000, loss: 8.411586, loss_shrink_maps: 4.371973, loss_threshold_maps: 3.099741, loss_binary_maps: 0.914496, loss_cbn: 0.000000, avg_reader_cost: 0.27179 s, avg_batch_cost: 0.32339 s, avg_samples: 1.5, ips: 4.63843 samples/s, eta: 0:59:03\n",
      "[2023/12/12 06:43:45] ppocr INFO: save model in ./output/db_mv3/latest\n",
      "[2023/12/12 06:43:48] ppocr INFO: epoch: [3/500], global_step: 9, lr: 0.001000, loss: 7.251522, loss_shrink_maps: 4.284621, loss_threshold_maps: 2.164897, loss_binary_maps: 0.906219, loss_cbn: 0.000000, avg_reader_cost: 0.32967 s, avg_batch_cost: 0.38892 s, avg_samples: 1.5, ips: 3.85679 samples/s, eta: 0:50:02\n",
      "[2023/12/12 06:43:49] ppocr INFO: save model in ./output/db_mv3/latest\n",
      "[2023/12/12 06:43:52] ppocr INFO: epoch: [4/500], global_step: 10, lr: 0.001000, loss: 7.103614, loss_shrink_maps: 4.239207, loss_threshold_maps: 1.964881, loss_binary_maps: 0.899526, loss_cbn: 0.000000, avg_reader_cost: 0.35113 s, avg_batch_cost: 0.37905 s, avg_samples: 0.5, ips: 1.31909 samples/s, eta: 0:54:24\n",
      "[2023/12/12 06:43:53] ppocr INFO: epoch: [4/500], global_step: 12, lr: 0.001000, loss: 6.599679, loss_shrink_maps: 4.189224, loss_threshold_maps: 1.547940, loss_binary_maps: 0.880400, loss_cbn: 0.000000, avg_reader_cost: 0.02706 s, avg_batch_cost: 0.05639 s, avg_samples: 1.0, ips: 17.73418 samples/s, eta: 0:46:26\n",
      "[2023/12/12 06:43:53] ppocr INFO: save model in ./output/db_mv3/latest\n",
      "[2023/12/12 06:43:56] ppocr INFO: epoch: [5/500], global_step: 15, lr: 0.001000, loss: 6.215070, loss_shrink_maps: 4.078503, loss_threshold_maps: 1.205112, loss_binary_maps: 0.858514, loss_cbn: 0.000000, avg_reader_cost: 0.26147 s, avg_batch_cost: 0.32027 s, avg_samples: 1.5, ips: 4.68360 samples/s, eta: 0:42:22\n",
      "[2023/12/12 06:43:57] ppocr INFO: save model in ./output/db_mv3/latest\n",
      "[2023/12/12 06:44:00] ppocr INFO: epoch: [6/500], global_step: 18, lr: 0.001000, loss: 6.043614, loss_shrink_maps: 4.053860, loss_threshold_maps: 1.159258, loss_binary_maps: 0.843607, loss_cbn: 0.000000, avg_reader_cost: 0.27966 s, avg_batch_cost: 0.33263 s, avg_samples: 1.5, ips: 4.50948 samples/s, eta: 0:39:48\n",
      "[2023/12/12 06:44:00] ppocr INFO: save model in ./output/db_mv3/latest\n",
      "[2023/12/12 06:44:04] ppocr INFO: epoch: [7/500], global_step: 20, lr: 0.001000, loss: 5.923630, loss_shrink_maps: 4.016574, loss_threshold_maps: 1.099913, loss_binary_maps: 0.829136, loss_cbn: 0.000000, avg_reader_cost: 0.37421 s, avg_batch_cost: 0.41432 s, avg_samples: 1.0, ips: 2.41358 samples/s, eta: 0:40:52\n",
      "[2023/12/12 06:44:04] ppocr INFO: epoch: [7/500], global_step: 21, lr: 0.001000, loss: 5.842993, loss_shrink_maps: 3.981108, loss_threshold_maps: 1.070144, loss_binary_maps: 0.813949, loss_cbn: 0.000000, avg_reader_cost: 0.00002 s, avg_batch_cost: 0.01545 s, avg_samples: 0.5, ips: 32.36750 samples/s, eta: 0:39:05\n",
      "[2023/12/12 06:44:05] ppocr INFO: save model in ./output/db_mv3/latest\n",
      "[2023/12/12 06:44:08] ppocr INFO: epoch: [8/500], global_step: 24, lr: 0.001000, loss: 5.600570, loss_shrink_maps: 3.762694, loss_threshold_maps: 1.010192, loss_binary_maps: 0.767287, loss_cbn: 0.000000, avg_reader_cost: 0.36562 s, avg_batch_cost: 0.42078 s, avg_samples: 1.5, ips: 3.56479 samples/s, eta: 0:38:26\n",
      "[2023/12/12 06:44:09] ppocr INFO: save model in ./output/db_mv3/latest\n",
      "[2023/12/12 06:44:12] ppocr INFO: epoch: [9/500], global_step: 27, lr: 0.001000, loss: 5.219650, loss_shrink_maps: 3.621830, loss_threshold_maps: 0.946304, loss_binary_maps: 0.699463, loss_cbn: 0.000000, avg_reader_cost: 0.26157 s, avg_batch_cost: 0.31496 s, avg_samples: 1.5, ips: 4.76252 samples/s, eta: 0:36:58\n",
      "[2023/12/12 06:44:12] ppocr INFO: save model in ./output/db_mv3/latest\n",
      "[2023/12/12 06:44:15] ppocr INFO: epoch: [10/500], global_step: 30, lr: 0.001000, loss: 5.058858, loss_shrink_maps: 3.494157, loss_threshold_maps: 0.921341, loss_binary_maps: 0.648501, loss_cbn: 0.000000, avg_reader_cost: 0.29102 s, avg_batch_cost: 0.34256 s, avg_samples: 1.5, ips: 4.37874 samples/s, eta: 0:36:00\n",
      "[2023/12/12 06:44:16] ppocr INFO: save model in ./output/db_mv3/latest\n",
      "[2023/12/12 06:44:19] ppocr INFO: epoch: [11/500], global_step: 33, lr: 0.001000, loss: 4.949880, loss_shrink_maps: 3.382734, loss_threshold_maps: 0.900320, loss_binary_maps: 0.614663, loss_cbn: 0.000000, avg_reader_cost: 0.36115 s, avg_batch_cost: 0.41334 s, avg_samples: 1.5, ips: 3.62900 samples/s, eta: 0:35:43\n",
      "[2023/12/12 06:44:20] ppocr INFO: save model in ./output/db_mv3/latest\n",
      "[2023/12/12 06:44:24] ppocr INFO: epoch: [12/500], global_step: 36, lr: 0.001000, loss: 4.780778, loss_shrink_maps: 3.294344, loss_threshold_maps: 0.875466, loss_binary_maps: 0.596526, loss_cbn: 0.000000, avg_reader_cost: 0.34114 s, avg_batch_cost: 0.39755 s, avg_samples: 1.5, ips: 3.77307 samples/s, eta: 0:35:22\n",
      "[2023/12/12 06:44:24] ppocr INFO: save model in ./output/db_mv3/latest\n",
      "[2023/12/12 06:44:27] ppocr INFO: epoch: [13/500], global_step: 39, lr: 0.001000, loss: 4.446722, loss_shrink_maps: 3.056791, loss_threshold_maps: 0.853702, loss_binary_maps: 0.548986, loss_cbn: 0.000000, avg_reader_cost: 0.32599 s, avg_batch_cost: 0.37915 s, avg_samples: 1.5, ips: 3.95620 samples/s, eta: 0:34:57\n",
      "[2023/12/12 06:44:28] ppocr INFO: save model in ./output/db_mv3/latest\n",
      "[2023/12/12 06:44:31] ppocr INFO: epoch: [14/500], global_step: 40, lr: 0.001000, loss: 4.446722, loss_shrink_maps: 3.056791, loss_threshold_maps: 0.853702, loss_binary_maps: 0.548986, loss_cbn: 0.000000, avg_reader_cost: 0.27968 s, avg_batch_cost: 0.30252 s, avg_samples: 0.5, ips: 1.65277 samples/s, eta: 0:35:53\n",
      "[2023/12/12 06:44:31] ppocr INFO: epoch: [14/500], global_step: 42, lr: 0.001000, loss: 4.370240, loss_shrink_maps: 2.972781, loss_threshold_maps: 0.834747, loss_binary_maps: 0.532581, loss_cbn: 0.000000, avg_reader_cost: 0.00004 s, avg_batch_cost: 0.02904 s, avg_samples: 1.0, ips: 34.43927 samples/s, eta: 0:34:18\n",
      "[2023/12/12 06:44:31] ppocr INFO: save model in ./output/db_mv3/latest\n",
      "[2023/12/12 06:44:35] ppocr INFO: epoch: [15/500], global_step: 45, lr: 0.001000, loss: 4.227005, loss_shrink_maps: 2.863562, loss_threshold_maps: 0.819124, loss_binary_maps: 0.507793, loss_cbn: 0.000000, avg_reader_cost: 0.36728 s, avg_batch_cost: 0.43353 s, avg_samples: 1.5, ips: 3.45994 samples/s, eta: 0:34:17\n",
      "[2023/12/12 06:44:36] ppocr INFO: save model in ./output/db_mv3/latest\n",
      "[2023/12/12 06:44:39] ppocr INFO: epoch: [16/500], global_step: 48, lr: 0.001000, loss: 4.075314, loss_shrink_maps: 2.759156, loss_threshold_maps: 0.827416, loss_binary_maps: 0.495975, loss_cbn: 0.000000, avg_reader_cost: 0.31745 s, avg_batch_cost: 0.37535 s, avg_samples: 1.5, ips: 3.99629 samples/s, eta: 0:33:58\n",
      "[2023/12/12 06:44:40] ppocr INFO: save model in ./output/db_mv3/latest\n",
      "[2023/12/12 06:44:43] ppocr INFO: epoch: [17/500], global_step: 50, lr: 0.001000, loss: 3.948638, loss_shrink_maps: 2.630833, loss_threshold_maps: 0.819761, loss_binary_maps: 0.474665, loss_cbn: 0.000000, avg_reader_cost: 0.28606 s, avg_batch_cost: 0.32446 s, avg_samples: 1.0, ips: 3.08204 samples/s, eta: 0:34:08\n",
      "[2023/12/12 06:44:43] ppocr INFO: epoch: [17/500], global_step: 51, lr: 0.001000, loss: 3.909928, loss_shrink_maps: 2.620655, loss_threshold_maps: 0.815761, loss_binary_maps: 0.471400, loss_cbn: 0.000000, avg_reader_cost: 0.00002 s, avg_batch_cost: 0.01432 s, avg_samples: 0.5, ips: 34.91076 samples/s, eta: 0:33:30\n",
      "[2023/12/12 06:44:43] ppocr INFO: save model in ./output/db_mv3/latest\n",
      "[2023/12/12 06:44:46] ppocr INFO: epoch: [18/500], global_step: 54, lr: 0.001000, loss: 3.729540, loss_shrink_maps: 2.446331, loss_threshold_maps: 0.797085, loss_binary_maps: 0.429455, loss_cbn: 0.000000, avg_reader_cost: 0.26249 s, avg_batch_cost: 0.32045 s, avg_samples: 1.5, ips: 4.68091 samples/s, eta: 0:33:01\n",
      "[2023/12/12 06:44:46] ppocr INFO: save model in ./output/db_mv3/latest\n",
      "[2023/12/12 06:44:50] ppocr INFO: epoch: [19/500], global_step: 57, lr: 0.001000, loss: 3.613890, loss_shrink_maps: 2.426422, loss_threshold_maps: 0.792257, loss_binary_maps: 0.423937, loss_cbn: 0.000000, avg_reader_cost: 0.32678 s, avg_batch_cost: 0.38984 s, avg_samples: 1.5, ips: 3.84771 samples/s, eta: 0:32:51\n",
      "[2023/12/12 06:44:51] ppocr INFO: save model in ./output/db_mv3/latest\n",
      "[2023/12/12 06:44:54] ppocr INFO: epoch: [20/500], global_step: 60, lr: 0.001000, loss: 3.514208, loss_shrink_maps: 2.360326, loss_threshold_maps: 0.791413, loss_binary_maps: 0.410910, loss_cbn: 0.000000, avg_reader_cost: 0.36598 s, avg_batch_cost: 0.41928 s, avg_samples: 1.5, ips: 3.57760 samples/s, eta: 0:32:49\n",
      "[2023/12/12 06:44:55] ppocr INFO: save model in ./output/db_mv3/latest\n",
      "[2023/12/12 06:44:58] ppocr INFO: epoch: [21/500], global_step: 63, lr: 0.001000, loss: 3.474866, loss_shrink_maps: 2.301408, loss_threshold_maps: 0.788876, loss_binary_maps: 0.392036, loss_cbn: 0.000000, avg_reader_cost: 0.26222 s, avg_batch_cost: 0.32110 s, avg_samples: 1.5, ips: 4.67141 samples/s, eta: 0:32:25\n",
      "[2023/12/12 06:44:58] ppocr INFO: save model in ./output/db_mv3/latest\n",
      "[2023/12/12 06:45:01] ppocr INFO: epoch: [22/500], global_step: 66, lr: 0.001000, loss: 3.350718, loss_shrink_maps: 2.184299, loss_threshold_maps: 0.788876, loss_binary_maps: 0.375452, loss_cbn: 0.000000, avg_reader_cost: 0.28465 s, avg_batch_cost: 0.33755 s, avg_samples: 1.5, ips: 4.44373 samples/s, eta: 0:32:06\n",
      "[2023/12/12 06:45:02] ppocr INFO: save model in ./output/db_mv3/latest\n",
      "[2023/12/12 06:45:05] ppocr INFO: epoch: [23/500], global_step: 69, lr: 0.001000, loss: 3.260041, loss_shrink_maps: 2.099534, loss_threshold_maps: 0.787981, loss_binary_maps: 0.367732, loss_cbn: 0.000000, avg_reader_cost: 0.35798 s, avg_batch_cost: 0.41261 s, avg_samples: 1.5, ips: 3.63543 samples/s, eta: 0:32:04\n",
      "[2023/12/12 06:45:06] ppocr INFO: save model in ./output/db_mv3/latest\n",
      "[2023/12/12 06:45:09] ppocr INFO: epoch: [24/500], global_step: 70, lr: 0.001000, loss: 3.228857, loss_shrink_maps: 2.078134, loss_threshold_maps: 0.784443, loss_binary_maps: 0.366764, loss_cbn: 0.000000, avg_reader_cost: 0.35161 s, avg_batch_cost: 0.37919 s, avg_samples: 0.5, ips: 1.31859 samples/s, eta: 0:32:52\n",
      "[2023/12/12 06:45:10] ppocr INFO: epoch: [24/500], global_step: 72, lr: 0.001000, loss: 3.204375, loss_shrink_maps: 2.059226, loss_threshold_maps: 0.784443, loss_binary_maps: 0.364480, loss_cbn: 0.000000, avg_reader_cost: 0.01630 s, avg_batch_cost: 0.04651 s, avg_samples: 1.0, ips: 21.50294 samples/s, eta: 0:32:04\n",
      "[2023/12/12 06:45:10] ppocr INFO: save model in ./output/db_mv3/latest\n",
      "[2023/12/12 06:45:13] ppocr INFO: epoch: [25/500], global_step: 75, lr: 0.001000, loss: 3.063475, loss_shrink_maps: 1.946200, loss_threshold_maps: 0.772704, loss_binary_maps: 0.348974, loss_cbn: 0.000000, avg_reader_cost: 0.25565 s, avg_batch_cost: 0.31272 s, avg_samples: 1.5, ips: 4.79666 samples/s, eta: 0:31:43\n",
      "[2023/12/12 06:45:13] ppocr INFO: save model in ./output/db_mv3/latest\n",
      "[2023/12/12 06:45:16] ppocr INFO: epoch: [26/500], global_step: 78, lr: 0.001000, loss: 2.992250, loss_shrink_maps: 1.897510, loss_threshold_maps: 0.764772, loss_binary_maps: 0.335524, loss_cbn: 0.000000, avg_reader_cost: 0.27578 s, avg_batch_cost: 0.32897 s, avg_samples: 1.5, ips: 4.55972 samples/s, eta: 0:31:26\n",
      "[2023/12/12 06:45:17] ppocr INFO: save model in ./output/db_mv3/latest\n",
      "[2023/12/12 06:45:21] ppocr INFO: epoch: [27/500], global_step: 80, lr: 0.001000, loss: 2.985860, loss_shrink_maps: 1.919585, loss_threshold_maps: 0.755036, loss_binary_maps: 0.342997, loss_cbn: 0.000000, avg_reader_cost: 0.39620 s, avg_batch_cost: 0.43592 s, avg_samples: 1.0, ips: 2.29399 samples/s, eta: 0:31:53\n",
      "[2023/12/12 06:45:21] ppocr INFO: epoch: [27/500], global_step: 81, lr: 0.001000, loss: 2.960314, loss_shrink_maps: 1.877765, loss_threshold_maps: 0.755036, loss_binary_maps: 0.333245, loss_cbn: 0.000000, avg_reader_cost: 0.00002 s, avg_batch_cost: 0.01476 s, avg_samples: 0.5, ips: 33.87207 samples/s, eta: 0:31:31\n",
      "[2023/12/12 06:45:22] ppocr INFO: save model in ./output/db_mv3/latest\n",
      "[2023/12/12 06:45:25] ppocr INFO: epoch: [28/500], global_step: 84, lr: 0.001000, loss: 2.878810, loss_shrink_maps: 1.812213, loss_threshold_maps: 0.740744, loss_binary_maps: 0.321296, loss_cbn: 0.000000, avg_reader_cost: 0.34772 s, avg_batch_cost: 0.40296 s, avg_samples: 1.5, ips: 3.72241 samples/s, eta: 0:31:27\n",
      "[2023/12/12 06:45:26] ppocr INFO: save model in ./output/db_mv3/latest\n",
      "[2023/12/12 06:45:29] ppocr INFO: epoch: [29/500], global_step: 87, lr: 0.001000, loss: 2.815764, loss_shrink_maps: 1.773539, loss_threshold_maps: 0.730741, loss_binary_maps: 0.318712, loss_cbn: 0.000000, avg_reader_cost: 0.26415 s, avg_batch_cost: 0.32156 s, avg_samples: 1.5, ips: 4.66475 samples/s, eta: 0:31:11\n",
      "[2023/12/12 06:45:29] ppocr INFO: save model in ./output/db_mv3/latest\n",
      "[2023/12/12 06:45:32] ppocr INFO: epoch: [30/500], global_step: 90, lr: 0.001000, loss: 2.810296, loss_shrink_maps: 1.766883, loss_threshold_maps: 0.725663, loss_binary_maps: 0.316348, loss_cbn: 0.000000, avg_reader_cost: 0.28456 s, avg_batch_cost: 0.33664 s, avg_samples: 1.5, ips: 4.45583 samples/s, eta: 0:30:57\n",
      "[2023/12/12 06:45:32] ppocr INFO: save model in ./output/db_mv3/latest\n",
      "[2023/12/12 06:45:36] ppocr INFO: epoch: [31/500], global_step: 93, lr: 0.001000, loss: 2.765392, loss_shrink_maps: 1.716751, loss_threshold_maps: 0.725663, loss_binary_maps: 0.312209, loss_cbn: 0.000000, avg_reader_cost: 0.38186 s, avg_batch_cost: 0.43605 s, avg_samples: 1.5, ips: 3.43995 samples/s, eta: 0:30:59\n",
      "[2023/12/12 06:45:37] ppocr INFO: save model in ./output/db_mv3/latest\n",
      "[2023/12/12 06:45:41] ppocr INFO: epoch: [32/500], global_step: 96, lr: 0.001000, loss: 2.738906, loss_shrink_maps: 1.715284, loss_threshold_maps: 0.720613, loss_binary_maps: 0.306685, loss_cbn: 0.000000, avg_reader_cost: 0.36847 s, avg_batch_cost: 0.42975 s, avg_samples: 1.5, ips: 3.49042 samples/s, eta: 0:31:00\n",
      "[2023/12/12 06:45:41] ppocr INFO: save model in ./output/db_mv3/latest\n",
      "[2023/12/12 06:45:44] ppocr INFO: epoch: [33/500], global_step: 99, lr: 0.001000, loss: 2.719144, loss_shrink_maps: 1.684340, loss_threshold_maps: 0.718115, loss_binary_maps: 0.303200, loss_cbn: 0.000000, avg_reader_cost: 0.26427 s, avg_batch_cost: 0.32177 s, avg_samples: 1.5, ips: 4.66179 samples/s, eta: 0:30:46\n",
      "[2023/12/12 06:45:45] ppocr INFO: save model in ./output/db_mv3/latest\n",
      "[2023/12/12 06:45:47] ppocr INFO: epoch: [34/500], global_step: 100, lr: 0.001000, loss: 2.682914, loss_shrink_maps: 1.645682, loss_threshold_maps: 0.711984, loss_binary_maps: 0.300969, loss_cbn: 0.000000, avg_reader_cost: 0.23421 s, avg_batch_cost: 0.26245 s, avg_samples: 0.5, ips: 1.90514 samples/s, eta: 0:31:03\n",
      "eval model:: 100% 6/6 [00:02<00:00,  2.42it/s]\n",
      "[2023/12/12 06:45:49] ppocr INFO: cur metric, precision: 0.4742268041237113, recall: 0.2541436464088398, hmean: 0.33093525179856115, fps: 16.37805016146478\n",
      "[2023/12/12 06:45:50] ppocr INFO: save best model is to ./output/db_mv3/best_accuracy\n",
      "[2023/12/12 06:45:50] ppocr INFO: best metric, hmean: 0.33093525179856115, is_float16: False, precision: 0.4742268041237113, recall: 0.2541436464088398, fps: 16.37805016146478, best_epoch: 34\n",
      "[2023/12/12 06:45:50] ppocr INFO: epoch: [34/500], global_step: 102, lr: 0.001000, loss: 2.682914, loss_shrink_maps: 1.645682, loss_threshold_maps: 0.711984, loss_binary_maps: 0.300969, loss_cbn: 0.000000, avg_reader_cost: 0.00005 s, avg_batch_cost: 0.03711 s, avg_samples: 1.0, ips: 26.94403 samples/s, eta: 0:30:29\n",
      "[2023/12/12 06:45:51] ppocr INFO: save model in ./output/db_mv3/latest\n",
      "[2023/12/12 06:45:55] ppocr INFO: epoch: [35/500], global_step: 105, lr: 0.001000, loss: 2.679868, loss_shrink_maps: 1.646406, loss_threshold_maps: 0.708938, loss_binary_maps: 0.298763, loss_cbn: 0.000000, avg_reader_cost: 0.38088 s, avg_batch_cost: 0.43371 s, avg_samples: 1.5, ips: 3.45850 samples/s, eta: 0:30:30\n",
      "[2023/12/12 06:45:55] ppocr INFO: save model in ./output/db_mv3/latest\n",
      "[2023/12/12 06:45:58] ppocr INFO: epoch: [36/500], global_step: 108, lr: 0.001000, loss: 2.690207, loss_shrink_maps: 1.662809, loss_threshold_maps: 0.705869, loss_binary_maps: 0.304086, loss_cbn: 0.000000, avg_reader_cost: 0.25194 s, avg_batch_cost: 0.31042 s, avg_samples: 1.5, ips: 4.83220 samples/s, eta: 0:30:15\n",
      "[2023/12/12 06:45:58] ppocr INFO: save model in ./output/db_mv3/latest\n",
      "[2023/12/12 06:46:01] ppocr INFO: epoch: [37/500], global_step: 110, lr: 0.001000, loss: 2.661624, loss_shrink_maps: 1.646406, loss_threshold_maps: 0.714032, loss_binary_maps: 0.298763, loss_cbn: 0.000000, avg_reader_cost: 0.28104 s, avg_batch_cost: 0.31843 s, avg_samples: 1.0, ips: 3.14045 samples/s, eta: 0:30:20\n",
      "[2023/12/12 06:46:01] ppocr INFO: epoch: [37/500], global_step: 111, lr: 0.001000, loss: 2.638236, loss_shrink_maps: 1.623462, loss_threshold_maps: 0.703426, loss_binary_maps: 0.297264, loss_cbn: 0.000000, avg_reader_cost: 0.00002 s, avg_batch_cost: 0.01454 s, avg_samples: 0.5, ips: 34.39149 samples/s, eta: 0:30:04\n",
      "[2023/12/12 06:46:02] ppocr INFO: save model in ./output/db_mv3/latest\n",
      "[2023/12/12 06:46:05] ppocr INFO: epoch: [38/500], global_step: 114, lr: 0.001000, loss: 2.661624, loss_shrink_maps: 1.662809, loss_threshold_maps: 0.703426, loss_binary_maps: 0.304086, loss_cbn: 0.000000, avg_reader_cost: 0.29539 s, avg_batch_cost: 0.34897 s, avg_samples: 1.5, ips: 4.29832 samples/s, eta: 0:29:55\n",
      "[2023/12/12 06:46:05] ppocr INFO: save model in ./output/db_mv3/latest\n",
      "[2023/12/12 06:46:09] ppocr INFO: epoch: [39/500], global_step: 117, lr: 0.001000, loss: 2.661624, loss_shrink_maps: 1.662809, loss_threshold_maps: 0.705140, loss_binary_maps: 0.303837, loss_cbn: 0.000000, avg_reader_cost: 0.37843 s, avg_batch_cost: 0.43057 s, avg_samples: 1.5, ips: 3.48375 samples/s, eta: 0:29:56\n",
      "[2023/12/12 06:46:10] ppocr INFO: save model in ./output/db_mv3/latest\n",
      "[2023/12/12 06:46:13] ppocr INFO: epoch: [40/500], global_step: 120, lr: 0.001000, loss: 2.681708, loss_shrink_maps: 1.662809, loss_threshold_maps: 0.711291, loss_binary_maps: 0.309491, loss_cbn: 0.000000, avg_reader_cost: 0.32326 s, avg_batch_cost: 0.37619 s, avg_samples: 1.5, ips: 3.98739 samples/s, eta: 0:29:51\n",
      "[2023/12/12 06:46:13] ppocr INFO: save model in ./output/db_mv3/latest\n",
      "[2023/12/12 06:46:16] ppocr INFO: epoch: [41/500], global_step: 123, lr: 0.001000, loss: 2.661624, loss_shrink_maps: 1.654069, loss_threshold_maps: 0.705783, loss_binary_maps: 0.303837, loss_cbn: 0.000000, avg_reader_cost: 0.25326 s, avg_batch_cost: 0.30727 s, avg_samples: 1.5, ips: 4.88175 samples/s, eta: 0:29:38\n",
      "[2023/12/12 06:46:17] ppocr INFO: save model in ./output/db_mv3/latest\n",
      "[2023/12/12 06:46:20] ppocr INFO: epoch: [42/500], global_step: 126, lr: 0.001000, loss: 2.636520, loss_shrink_maps: 1.639810, loss_threshold_maps: 0.693006, loss_binary_maps: 0.300543, loss_cbn: 0.000000, avg_reader_cost: 0.35986 s, avg_batch_cost: 0.41263 s, avg_samples: 1.5, ips: 3.63525 samples/s, eta: 0:29:37\n",
      "[2023/12/12 06:46:21] ppocr INFO: save model in ./output/db_mv3/latest\n",
      "[2023/12/12 06:46:25] ppocr INFO: epoch: [43/500], global_step: 129, lr: 0.001000, loss: 2.477240, loss_shrink_maps: 1.487777, loss_threshold_maps: 0.693006, loss_binary_maps: 0.270510, loss_cbn: 0.000000, avg_reader_cost: 0.34221 s, avg_batch_cost: 0.39688 s, avg_samples: 1.5, ips: 3.77944 samples/s, eta: 0:29:34\n",
      "[2023/12/12 06:46:25] ppocr INFO: save model in ./output/db_mv3/latest\n",
      "[2023/12/12 06:46:28] ppocr INFO: epoch: [44/500], global_step: 130, lr: 0.001000, loss: 2.425618, loss_shrink_maps: 1.417140, loss_threshold_maps: 0.693006, loss_binary_maps: 0.264858, loss_cbn: 0.000000, avg_reader_cost: 0.28803 s, avg_batch_cost: 0.31033 s, avg_samples: 0.5, ips: 1.61119 samples/s, eta: 0:29:52\n",
      "[2023/12/12 06:46:28] ppocr INFO: epoch: [44/500], global_step: 132, lr: 0.001000, loss: 2.476662, loss_shrink_maps: 1.467841, loss_threshold_maps: 0.700583, loss_binary_maps: 0.270510, loss_cbn: 0.000000, avg_reader_cost: 0.00003 s, avg_batch_cost: 0.03021 s, avg_samples: 1.0, ips: 33.10664 samples/s, eta: 0:29:25\n",
      "[2023/12/12 06:46:28] ppocr INFO: save model in ./output/db_mv3/latest\n",
      "[2023/12/12 06:46:32] ppocr INFO: epoch: [45/500], global_step: 135, lr: 0.001000, loss: 2.378484, loss_shrink_maps: 1.402578, loss_threshold_maps: 0.683730, loss_binary_maps: 0.261934, loss_cbn: 0.000000, avg_reader_cost: 0.30562 s, avg_batch_cost: 0.35977 s, avg_samples: 1.5, ips: 4.16935 samples/s, eta: 0:29:18\n",
      "[2023/12/12 06:46:32] ppocr INFO: save model in ./output/db_mv3/latest\n",
      "[2023/12/12 06:46:36] ppocr INFO: epoch: [46/500], global_step: 138, lr: 0.001000, loss: 2.323699, loss_shrink_maps: 1.377141, loss_threshold_maps: 0.679388, loss_binary_maps: 0.252198, loss_cbn: 0.000000, avg_reader_cost: 0.36195 s, avg_batch_cost: 0.43045 s, avg_samples: 1.5, ips: 3.48474 samples/s, eta: 0:29:19\n",
      "[2023/12/12 06:46:37] ppocr INFO: save model in ./output/db_mv3/latest\n",
      "[2023/12/12 06:46:42] ppocr INFO: epoch: [47/500], global_step: 140, lr: 0.001000, loss: 2.269630, loss_shrink_maps: 1.358603, loss_threshold_maps: 0.679388, loss_binary_maps: 0.251772, loss_cbn: 0.000000, avg_reader_cost: 0.53149 s, avg_batch_cost: 0.56827 s, avg_samples: 1.0, ips: 1.75971 samples/s, eta: 0:29:46\n",
      "[2023/12/12 06:46:42] ppocr INFO: epoch: [47/500], global_step: 141, lr: 0.001000, loss: 2.260897, loss_shrink_maps: 1.347317, loss_threshold_maps: 0.677072, loss_binary_maps: 0.250901, loss_cbn: 0.000000, avg_reader_cost: 0.00002 s, avg_batch_cost: 0.01457 s, avg_samples: 0.5, ips: 34.32513 samples/s, eta: 0:29:34\n",
      "[2023/12/12 06:46:43] ppocr INFO: save model in ./output/db_mv3/latest\n",
      "[2023/12/12 06:46:45] ppocr INFO: epoch: [48/500], global_step: 144, lr: 0.001000, loss: 2.269630, loss_shrink_maps: 1.358603, loss_threshold_maps: 0.681705, loss_binary_maps: 0.251772, loss_cbn: 0.000000, avg_reader_cost: 0.26457 s, avg_batch_cost: 0.32114 s, avg_samples: 1.5, ips: 4.67089 samples/s, eta: 0:29:23\n",
      "[2023/12/12 06:46:46] ppocr INFO: save model in ./output/db_mv3/latest\n",
      "[2023/12/12 06:46:49] ppocr INFO: epoch: [49/500], global_step: 147, lr: 0.001000, loss: 2.254101, loss_shrink_maps: 1.358603, loss_threshold_maps: 0.676235, loss_binary_maps: 0.251705, loss_cbn: 0.000000, avg_reader_cost: 0.28734 s, avg_batch_cost: 0.33922 s, avg_samples: 1.5, ips: 4.42197 samples/s, eta: 0:29:15\n",
      "[2023/12/12 06:46:49] ppocr INFO: save model in ./output/db_mv3/latest\n",
      "[2023/12/12 06:46:53] ppocr INFO: epoch: [50/500], global_step: 150, lr: 0.001000, loss: 2.254101, loss_shrink_maps: 1.349011, loss_threshold_maps: 0.676235, loss_binary_maps: 0.251705, loss_cbn: 0.000000, avg_reader_cost: 0.38013 s, avg_batch_cost: 0.43280 s, avg_samples: 1.5, ips: 3.46577 samples/s, eta: 0:29:15\n",
      "[2023/12/12 06:46:54] ppocr INFO: save model in ./output/db_mv3/latest\n",
      "[2023/12/12 06:46:58] ppocr INFO: epoch: [51/500], global_step: 153, lr: 0.001000, loss: 2.254101, loss_shrink_maps: 1.339468, loss_threshold_maps: 0.682219, loss_binary_maps: 0.251856, loss_cbn: 0.000000, avg_reader_cost: 0.34836 s, avg_batch_cost: 0.40217 s, avg_samples: 1.5, ips: 3.72973 samples/s, eta: 0:29:12\n",
      "[2023/12/12 06:46:58] ppocr INFO: save model in ./output/db_mv3/latest\n",
      "[2023/12/12 06:47:01] ppocr INFO: epoch: [52/500], global_step: 156, lr: 0.001000, loss: 2.266947, loss_shrink_maps: 1.343616, loss_threshold_maps: 0.693131, loss_binary_maps: 0.250078, loss_cbn: 0.000000, avg_reader_cost: 0.30543 s, avg_batch_cost: 0.35763 s, avg_samples: 1.5, ips: 4.19422 samples/s, eta: 0:29:05\n",
      "[2023/12/12 06:47:02] ppocr INFO: save model in ./output/db_mv3/latest\n",
      "[2023/12/12 06:47:04] ppocr INFO: epoch: [53/500], global_step: 159, lr: 0.001000, loss: 2.252417, loss_shrink_maps: 1.334806, loss_threshold_maps: 0.690054, loss_binary_maps: 0.247309, loss_cbn: 0.000000, avg_reader_cost: 0.25576 s, avg_batch_cost: 0.31088 s, avg_samples: 1.5, ips: 4.82509 samples/s, eta: 0:28:55\n",
      "[2023/12/12 06:47:05] ppocr INFO: save model in ./output/db_mv3/latest\n",
      "[2023/12/12 06:47:08] ppocr INFO: epoch: [54/500], global_step: 160, lr: 0.001000, loss: 2.252417, loss_shrink_maps: 1.334806, loss_threshold_maps: 0.690054, loss_binary_maps: 0.247309, loss_cbn: 0.000000, avg_reader_cost: 0.36906 s, avg_batch_cost: 0.39440 s, avg_samples: 0.5, ips: 1.26773 samples/s, eta: 0:29:15\n",
      "[2023/12/12 06:47:09] ppocr INFO: epoch: [54/500], global_step: 162, lr: 0.001000, loss: 2.266947, loss_shrink_maps: 1.343616, loss_threshold_maps: 0.694575, loss_binary_maps: 0.250078, loss_cbn: 0.000000, avg_reader_cost: 0.00004 s, avg_batch_cost: 0.02973 s, avg_samples: 1.0, ips: 33.64136 samples/s, eta: 0:28:54\n",
      "[2023/12/12 06:47:09] ppocr INFO: save model in ./output/db_mv3/latest\n",
      "[2023/12/12 06:47:13] ppocr INFO: epoch: [55/500], global_step: 165, lr: 0.001000, loss: 2.252417, loss_shrink_maps: 1.331665, loss_threshold_maps: 0.682388, loss_binary_maps: 0.247721, loss_cbn: 0.000000, avg_reader_cost: 0.36188 s, avg_batch_cost: 0.41535 s, avg_samples: 1.5, ips: 3.61140 samples/s, eta: 0:28:52\n",
      "[2023/12/12 06:47:13] ppocr INFO: save model in ./output/db_mv3/latest\n",
      "[2023/12/12 06:47:16] ppocr INFO: epoch: [56/500], global_step: 168, lr: 0.001000, loss: 2.251918, loss_shrink_maps: 1.321441, loss_threshold_maps: 0.669726, loss_binary_maps: 0.245878, loss_cbn: 0.000000, avg_reader_cost: 0.25813 s, avg_batch_cost: 0.31745 s, avg_samples: 1.5, ips: 4.72511 samples/s, eta: 0:28:42\n",
      "[2023/12/12 06:47:17] ppocr INFO: save model in ./output/db_mv3/latest\n",
      "[2023/12/12 06:47:20] ppocr INFO: epoch: [57/500], global_step: 170, lr: 0.001000, loss: 2.266947, loss_shrink_maps: 1.331665, loss_threshold_maps: 0.678317, loss_binary_maps: 0.247721, loss_cbn: 0.000000, avg_reader_cost: 0.29003 s, avg_batch_cost: 0.32744 s, avg_samples: 1.0, ips: 3.05402 samples/s, eta: 0:28:45\n",
      "[2023/12/12 06:47:20] ppocr INFO: epoch: [57/500], global_step: 171, lr: 0.001000, loss: 2.251918, loss_shrink_maps: 1.321441, loss_threshold_maps: 0.667749, loss_binary_maps: 0.245742, loss_cbn: 0.000000, avg_reader_cost: 0.00002 s, avg_batch_cost: 0.01454 s, avg_samples: 0.5, ips: 34.37841 samples/s, eta: 0:28:35\n",
      "[2023/12/12 06:47:20] ppocr INFO: save model in ./output/db_mv3/latest\n",
      "[2023/12/12 06:47:24] ppocr INFO: epoch: [58/500], global_step: 174, lr: 0.001000, loss: 2.251918, loss_shrink_maps: 1.322214, loss_threshold_maps: 0.678317, loss_binary_maps: 0.246639, loss_cbn: 0.000000, avg_reader_cost: 0.37252 s, avg_batch_cost: 0.42624 s, avg_samples: 1.5, ips: 3.51912 samples/s, eta: 0:28:34\n",
      "[2023/12/12 06:47:25] ppocr INFO: save model in ./output/db_mv3/latest\n",
      "[2023/12/12 06:47:28] ppocr INFO: epoch: [59/500], global_step: 177, lr: 0.001000, loss: 2.241604, loss_shrink_maps: 1.311311, loss_threshold_maps: 0.677435, loss_binary_maps: 0.246639, loss_cbn: 0.000000, avg_reader_cost: 0.34383 s, avg_batch_cost: 0.39700 s, avg_samples: 1.5, ips: 3.77834 samples/s, eta: 0:28:31\n",
      "[2023/12/12 06:47:29] ppocr INFO: save model in ./output/db_mv3/latest\n",
      "[2023/12/12 06:47:32] ppocr INFO: epoch: [60/500], global_step: 180, lr: 0.001000, loss: 2.242505, loss_shrink_maps: 1.322214, loss_threshold_maps: 0.666117, loss_binary_maps: 0.248489, loss_cbn: 0.000000, avg_reader_cost: 0.25083 s, avg_batch_cost: 0.30873 s, avg_samples: 1.5, ips: 4.85869 samples/s, eta: 0:28:21\n",
      "[2023/12/12 06:47:32] ppocr INFO: save model in ./output/db_mv3/latest\n",
      "[2023/12/12 06:47:35] ppocr INFO: epoch: [61/500], global_step: 183, lr: 0.001000, loss: 2.221908, loss_shrink_maps: 1.292235, loss_threshold_maps: 0.666667, loss_binary_maps: 0.248489, loss_cbn: 0.000000, avg_reader_cost: 0.26419 s, avg_batch_cost: 0.31699 s, avg_samples: 1.5, ips: 4.73194 samples/s, eta: 0:28:12\n",
      "[2023/12/12 06:47:35] ppocr INFO: save model in ./output/db_mv3/latest\n",
      "[2023/12/12 06:47:39] ppocr INFO: epoch: [62/500], global_step: 186, lr: 0.001000, loss: 2.243265, loss_shrink_maps: 1.318753, loss_threshold_maps: 0.678471, loss_binary_maps: 0.252010, loss_cbn: 0.000000, avg_reader_cost: 0.34674 s, avg_batch_cost: 0.40773 s, avg_samples: 1.5, ips: 3.67891 samples/s, eta: 0:28:10\n",
      "[2023/12/12 06:47:40] ppocr INFO: save model in ./output/db_mv3/latest\n",
      "[2023/12/12 06:47:44] ppocr INFO: epoch: [63/500], global_step: 189, lr: 0.001000, loss: 2.221908, loss_shrink_maps: 1.292235, loss_threshold_maps: 0.661237, loss_binary_maps: 0.248341, loss_cbn: 0.000000, avg_reader_cost: 0.41875 s, avg_batch_cost: 0.47247 s, avg_samples: 1.5, ips: 3.17483 samples/s, eta: 0:28:12\n",
      "[2023/12/12 06:47:44] ppocr INFO: save model in ./output/db_mv3/latest\n",
      "[2023/12/12 06:47:46] ppocr INFO: epoch: [64/500], global_step: 190, lr: 0.001000, loss: 2.198497, loss_shrink_maps: 1.272069, loss_threshold_maps: 0.643901, loss_binary_maps: 0.243540, loss_cbn: 0.000000, avg_reader_cost: 0.20084 s, avg_batch_cost: 0.22724 s, avg_samples: 0.5, ips: 2.20032 samples/s, eta: 0:28:17\n",
      "[2023/12/12 06:47:47] ppocr INFO: epoch: [64/500], global_step: 192, lr: 0.001000, loss: 2.198497, loss_shrink_maps: 1.286694, loss_threshold_maps: 0.643901, loss_binary_maps: 0.248341, loss_cbn: 0.000000, avg_reader_cost: 0.04754 s, avg_batch_cost: 0.07724 s, avg_samples: 1.0, ips: 12.94591 samples/s, eta: 0:28:03\n",
      "[2023/12/12 06:47:47] ppocr INFO: save model in ./output/db_mv3/latest\n",
      "[2023/12/12 06:47:50] ppocr INFO: epoch: [65/500], global_step: 195, lr: 0.001000, loss: 2.214442, loss_shrink_maps: 1.300424, loss_threshold_maps: 0.643182, loss_binary_maps: 0.250017, loss_cbn: 0.000000, avg_reader_cost: 0.24120 s, avg_batch_cost: 0.29860 s, avg_samples: 1.5, ips: 5.02352 samples/s, eta: 0:27:53\n",
      "[2023/12/12 06:47:51] ppocr INFO: save model in ./output/db_mv3/latest\n",
      "[2023/12/12 06:47:54] ppocr INFO: epoch: [66/500], global_step: 198, lr: 0.001000, loss: 2.179417, loss_shrink_maps: 1.266334, loss_threshold_maps: 0.642043, loss_binary_maps: 0.243527, loss_cbn: 0.000000, avg_reader_cost: 0.33145 s, avg_batch_cost: 0.39643 s, avg_samples: 1.5, ips: 3.78380 samples/s, eta: 0:27:50\n",
      "[2023/12/12 06:47:55] ppocr INFO: save model in ./output/db_mv3/latest\n",
      "[2023/12/12 06:47:58] ppocr INFO: epoch: [67/500], global_step: 200, lr: 0.001000, loss: 2.091013, loss_shrink_maps: 1.225862, loss_threshold_maps: 0.642043, loss_binary_maps: 0.233332, loss_cbn: 0.000000, avg_reader_cost: 0.31649 s, avg_batch_cost: 0.35577 s, avg_samples: 1.0, ips: 2.81079 samples/s, eta: 0:27:54\n",
      "eval model:: 100% 6/6 [00:02<00:00,  2.87it/s]\n",
      "[2023/12/12 06:48:00] ppocr INFO: cur metric, precision: 0.41284403669724773, recall: 0.24861878453038674, hmean: 0.3103448275862069, fps: 25.622545880316643\n",
      "[2023/12/12 06:48:00] ppocr INFO: best metric, hmean: 0.33093525179856115, is_float16: False, precision: 0.4742268041237113, recall: 0.2541436464088398, fps: 16.37805016146478, best_epoch: 34\n",
      "[2023/12/12 06:48:00] ppocr INFO: epoch: [67/500], global_step: 201, lr: 0.001000, loss: 2.137309, loss_shrink_maps: 1.250414, loss_threshold_maps: 0.643182, loss_binary_maps: 0.238683, loss_cbn: 0.000000, avg_reader_cost: 0.00002 s, avg_batch_cost: 0.01633 s, avg_samples: 0.5, ips: 30.61706 samples/s, eta: 0:27:45\n",
      "[2023/12/12 06:48:01] ppocr INFO: save model in ./output/db_mv3/latest\n",
      "[2023/12/12 06:48:03] ppocr INFO: epoch: [68/500], global_step: 204, lr: 0.001000, loss: 2.038869, loss_shrink_maps: 1.178518, loss_threshold_maps: 0.638441, loss_binary_maps: 0.218038, loss_cbn: 0.000000, avg_reader_cost: 0.24423 s, avg_batch_cost: 0.30202 s, avg_samples: 1.5, ips: 4.96649 samples/s, eta: 0:27:36\n",
      "[2023/12/12 06:48:04] ppocr INFO: save model in ./output/db_mv3/latest\n",
      "[2023/12/12 06:48:07] ppocr INFO: epoch: [69/500], global_step: 207, lr: 0.001000, loss: 2.058906, loss_shrink_maps: 1.178518, loss_threshold_maps: 0.633773, loss_binary_maps: 0.218560, loss_cbn: 0.000000, avg_reader_cost: 0.27510 s, avg_batch_cost: 0.32914 s, avg_samples: 1.5, ips: 4.55730 samples/s, eta: 0:27:29\n",
      "[2023/12/12 06:48:07] ppocr INFO: save model in ./output/db_mv3/latest\n",
      "[2023/12/12 06:48:12] ppocr INFO: epoch: [70/500], global_step: 210, lr: 0.001000, loss: 2.075019, loss_shrink_maps: 1.191900, loss_threshold_maps: 0.643793, loss_binary_maps: 0.224286, loss_cbn: 0.000000, avg_reader_cost: 0.44855 s, avg_batch_cost: 0.50503 s, avg_samples: 1.5, ips: 2.97011 samples/s, eta: 0:27:32\n",
      "[2023/12/12 06:48:12] ppocr INFO: save model in ./output/db_mv3/latest\n",
      "[2023/12/12 06:48:15] ppocr INFO: epoch: [71/500], global_step: 213, lr: 0.001000, loss: 2.038869, loss_shrink_maps: 1.137590, loss_threshold_maps: 0.661838, loss_binary_maps: 0.216482, loss_cbn: 0.000000, avg_reader_cost: 0.28711 s, avg_batch_cost: 0.33936 s, avg_samples: 1.5, ips: 4.42014 samples/s, eta: 0:27:26\n",
      "[2023/12/12 06:48:16] ppocr INFO: save model in ./output/db_mv3/latest\n",
      "[2023/12/12 06:48:19] ppocr INFO: epoch: [72/500], global_step: 216, lr: 0.001000, loss: 2.058906, loss_shrink_maps: 1.144953, loss_threshold_maps: 0.686126, loss_binary_maps: 0.218560, loss_cbn: 0.000000, avg_reader_cost: 0.25045 s, avg_batch_cost: 0.30666 s, avg_samples: 1.5, ips: 4.89145 samples/s, eta: 0:27:17\n",
      "[2023/12/12 06:48:19] ppocr INFO: save model in ./output/db_mv3/latest\n",
      "[2023/12/12 06:48:22] ppocr INFO: epoch: [73/500], global_step: 219, lr: 0.001000, loss: 2.035351, loss_shrink_maps: 1.137590, loss_threshold_maps: 0.686164, loss_binary_maps: 0.216482, loss_cbn: 0.000000, avg_reader_cost: 0.29436 s, avg_batch_cost: 0.35234 s, avg_samples: 1.5, ips: 4.25723 samples/s, eta: 0:27:12\n",
      "[2023/12/12 06:48:23] ppocr INFO: save model in ./output/db_mv3/latest\n",
      "[2023/12/12 06:48:27] ppocr INFO: epoch: [74/500], global_step: 220, lr: 0.001000, loss: 2.005503, loss_shrink_maps: 1.130266, loss_threshold_maps: 0.686164, loss_binary_maps: 0.214449, loss_cbn: 0.000000, avg_reader_cost: 0.40954 s, avg_batch_cost: 0.43389 s, avg_samples: 0.5, ips: 1.15237 samples/s, eta: 0:27:28\n",
      "[2023/12/12 06:48:27] ppocr INFO: epoch: [74/500], global_step: 222, lr: 0.001000, loss: 2.005503, loss_shrink_maps: 1.124227, loss_threshold_maps: 0.677162, loss_binary_maps: 0.214449, loss_cbn: 0.000000, avg_reader_cost: 0.00003 s, avg_batch_cost: 0.02914 s, avg_samples: 1.0, ips: 34.31496 samples/s, eta: 0:27:13\n",
      "[2023/12/12 06:48:27] ppocr INFO: save model in ./output/db_mv3/latest\n",
      "[2023/12/12 06:48:30] ppocr INFO: epoch: [75/500], global_step: 225, lr: 0.001000, loss: 1.972994, loss_shrink_maps: 1.121840, loss_threshold_maps: 0.666974, loss_binary_maps: 0.214618, loss_cbn: 0.000000, avg_reader_cost: 0.27412 s, avg_batch_cost: 0.32619 s, avg_samples: 1.5, ips: 4.59859 samples/s, eta: 0:27:06\n",
      "[2023/12/12 06:48:31] ppocr INFO: save model in ./output/db_mv3/latest\n",
      "[2023/12/12 06:48:34] ppocr INFO: epoch: [76/500], global_step: 228, lr: 0.001000, loss: 1.959957, loss_shrink_maps: 1.088940, loss_threshold_maps: 0.659244, loss_binary_maps: 0.209979, loss_cbn: 0.000000, avg_reader_cost: 0.27622 s, avg_batch_cost: 0.32901 s, avg_samples: 1.5, ips: 4.55918 samples/s, eta: 0:26:59\n",
      "[2023/12/12 06:48:34] ppocr INFO: save model in ./output/db_mv3/latest\n",
      "[2023/12/12 06:48:37] ppocr INFO: epoch: [77/500], global_step: 230, lr: 0.001000, loss: 1.959957, loss_shrink_maps: 1.117238, loss_threshold_maps: 0.659244, loss_binary_maps: 0.211935, loss_cbn: 0.000000, avg_reader_cost: 0.31638 s, avg_batch_cost: 0.36140 s, avg_samples: 1.0, ips: 2.76701 samples/s, eta: 0:27:02\n",
      "[2023/12/12 06:48:38] ppocr INFO: epoch: [77/500], global_step: 231, lr: 0.001000, loss: 1.955725, loss_shrink_maps: 1.088940, loss_threshold_maps: 0.653488, loss_binary_maps: 0.208128, loss_cbn: 0.000000, avg_reader_cost: 0.03431 s, avg_batch_cost: 0.04904 s, avg_samples: 0.5, ips: 10.19667 samples/s, eta: 0:26:57\n",
      "[2023/12/12 06:48:39] ppocr INFO: save model in ./output/db_mv3/latest\n",
      "[2023/12/12 06:48:42] ppocr INFO: epoch: [78/500], global_step: 234, lr: 0.001000, loss: 1.913348, loss_shrink_maps: 1.077334, loss_threshold_maps: 0.648142, loss_binary_maps: 0.203278, loss_cbn: 0.000000, avg_reader_cost: 0.36354 s, avg_batch_cost: 0.41725 s, avg_samples: 1.5, ips: 3.59493 samples/s, eta: 0:26:55\n",
      "[2023/12/12 06:48:43] ppocr INFO: save model in ./output/db_mv3/latest\n",
      "[2023/12/12 06:48:46] ppocr INFO: epoch: [79/500], global_step: 237, lr: 0.001000, loss: 1.891941, loss_shrink_maps: 1.059060, loss_threshold_maps: 0.641032, loss_binary_maps: 0.201725, loss_cbn: 0.000000, avg_reader_cost: 0.28763 s, avg_batch_cost: 0.34215 s, avg_samples: 1.5, ips: 4.38409 samples/s, eta: 0:26:49\n",
      "[2023/12/12 06:48:46] ppocr INFO: save model in ./output/db_mv3/latest\n",
      "[2023/12/12 06:48:49] ppocr INFO: epoch: [80/500], global_step: 240, lr: 0.001000, loss: 1.926084, loss_shrink_maps: 1.080922, loss_threshold_maps: 0.634965, loss_binary_maps: 0.204275, loss_cbn: 0.000000, avg_reader_cost: 0.26138 s, avg_batch_cost: 0.31671 s, avg_samples: 1.5, ips: 4.73625 samples/s, eta: 0:26:41\n",
      "[2023/12/12 06:48:49] ppocr INFO: save model in ./output/db_mv3/latest\n",
      "[2023/12/12 06:48:53] ppocr INFO: epoch: [81/500], global_step: 243, lr: 0.001000, loss: 1.970153, loss_shrink_maps: 1.122595, loss_threshold_maps: 0.624114, loss_binary_maps: 0.212767, loss_cbn: 0.000000, avg_reader_cost: 0.37055 s, avg_batch_cost: 0.42409 s, avg_samples: 1.5, ips: 3.53699 samples/s, eta: 0:26:40\n",
      "[2023/12/12 06:48:54] ppocr INFO: save model in ./output/db_mv3/latest\n",
      "[2023/12/12 06:48:58] ppocr INFO: epoch: [82/500], global_step: 246, lr: 0.001000, loss: 1.954914, loss_shrink_maps: 1.109278, loss_threshold_maps: 0.624114, loss_binary_maps: 0.210383, loss_cbn: 0.000000, avg_reader_cost: 0.38018 s, avg_batch_cost: 0.43329 s, avg_samples: 1.5, ips: 3.46187 samples/s, eta: 0:26:39\n",
      "[2023/12/12 06:48:58] ppocr INFO: save model in ./output/db_mv3/latest\n",
      "[2023/12/12 06:49:01] ppocr INFO: epoch: [83/500], global_step: 249, lr: 0.001000, loss: 1.926084, loss_shrink_maps: 1.096884, loss_threshold_maps: 0.620013, loss_binary_maps: 0.209547, loss_cbn: 0.000000, avg_reader_cost: 0.27026 s, avg_batch_cost: 0.32252 s, avg_samples: 1.5, ips: 4.65084 samples/s, eta: 0:26:32\n",
      "[2023/12/12 06:49:02] ppocr INFO: save model in ./output/db_mv3/latest\n",
      "[2023/12/12 06:49:04] ppocr INFO: epoch: [84/500], global_step: 250, lr: 0.001000, loss: 1.891508, loss_shrink_maps: 1.077243, loss_threshold_maps: 0.620013, loss_binary_maps: 0.204275, loss_cbn: 0.000000, avg_reader_cost: 0.24456 s, avg_batch_cost: 0.26957 s, avg_samples: 0.5, ips: 1.85480 samples/s, eta: 0:26:38\n",
      "[2023/12/12 06:49:05] ppocr INFO: epoch: [84/500], global_step: 252, lr: 0.001000, loss: 1.954258, loss_shrink_maps: 1.096884, loss_threshold_maps: 0.620013, loss_binary_maps: 0.209846, loss_cbn: 0.000000, avg_reader_cost: 0.02884 s, avg_batch_cost: 0.05836 s, avg_samples: 1.0, ips: 17.13580 samples/s, eta: 0:26:25\n",
      "[2023/12/12 06:49:05] ppocr INFO: save model in ./output/db_mv3/latest\n",
      "[2023/12/12 06:49:09] ppocr INFO: epoch: [85/500], global_step: 255, lr: 0.001000, loss: 1.964678, loss_shrink_maps: 1.121695, loss_threshold_maps: 0.628714, loss_binary_maps: 0.214160, loss_cbn: 0.000000, avg_reader_cost: 0.34389 s, avg_batch_cost: 0.39905 s, avg_samples: 1.5, ips: 3.75894 samples/s, eta: 0:26:22\n",
      "[2023/12/12 06:49:09] ppocr INFO: save model in ./output/db_mv3/latest\n",
      "[2023/12/12 06:49:13] ppocr INFO: epoch: [86/500], global_step: 258, lr: 0.001000, loss: 1.935848, loss_shrink_maps: 1.118016, loss_threshold_maps: 0.619569, loss_binary_maps: 0.214160, loss_cbn: 0.000000, avg_reader_cost: 0.37127 s, avg_batch_cost: 0.42269 s, avg_samples: 1.5, ips: 3.54874 samples/s, eta: 0:26:20\n",
      "[2023/12/12 06:49:13] ppocr INFO: save model in ./output/db_mv3/latest\n",
      "[2023/12/12 06:49:16] ppocr INFO: epoch: [87/500], global_step: 260, lr: 0.001000, loss: 1.935182, loss_shrink_maps: 1.118513, loss_threshold_maps: 0.625423, loss_binary_maps: 0.214160, loss_cbn: 0.000000, avg_reader_cost: 0.27555 s, avg_batch_cost: 0.31276 s, avg_samples: 1.0, ips: 3.19731 samples/s, eta: 0:26:21\n",
      "[2023/12/12 06:49:16] ppocr INFO: epoch: [87/500], global_step: 261, lr: 0.001000, loss: 1.935182, loss_shrink_maps: 1.118513, loss_threshold_maps: 0.625423, loss_binary_maps: 0.214160, loss_cbn: 0.000000, avg_reader_cost: 0.00001 s, avg_batch_cost: 0.01448 s, avg_samples: 0.5, ips: 34.53609 samples/s, eta: 0:26:14\n",
      "[2023/12/12 06:49:17] ppocr INFO: save model in ./output/db_mv3/latest\n",
      "[2023/12/12 06:49:20] ppocr INFO: epoch: [88/500], global_step: 264, lr: 0.001000, loss: 1.907190, loss_shrink_maps: 1.093703, loss_threshold_maps: 0.626530, loss_binary_maps: 0.207909, loss_cbn: 0.000000, avg_reader_cost: 0.32293 s, avg_batch_cost: 0.37512 s, avg_samples: 1.5, ips: 3.99870 samples/s, eta: 0:26:10\n",
      "[2023/12/12 06:49:21] ppocr INFO: save model in ./output/db_mv3/latest\n",
      "[2023/12/12 06:49:25] ppocr INFO: epoch: [89/500], global_step: 267, lr: 0.001000, loss: 1.935182, loss_shrink_maps: 1.118513, loss_threshold_maps: 0.629969, loss_binary_maps: 0.211387, loss_cbn: 0.000000, avg_reader_cost: 0.43801 s, avg_batch_cost: 0.49069 s, avg_samples: 1.5, ips: 3.05694 samples/s, eta: 0:26:11\n",
      "[2023/12/12 06:49:26] ppocr INFO: save model in ./output/db_mv3/latest\n",
      "[2023/12/12 06:49:29] ppocr INFO: epoch: [90/500], global_step: 270, lr: 0.001000, loss: 1.907190, loss_shrink_maps: 1.084264, loss_threshold_maps: 0.625423, loss_binary_maps: 0.205381, loss_cbn: 0.000000, avg_reader_cost: 0.32297 s, avg_batch_cost: 0.37612 s, avg_samples: 1.5, ips: 3.98808 samples/s, eta: 0:26:07\n",
      "[2023/12/12 06:49:30] ppocr INFO: save model in ./output/db_mv3/latest\n",
      "[2023/12/12 06:49:32] ppocr INFO: epoch: [91/500], global_step: 273, lr: 0.001000, loss: 1.862250, loss_shrink_maps: 1.039164, loss_threshold_maps: 0.620783, loss_binary_maps: 0.199697, loss_cbn: 0.000000, avg_reader_cost: 0.24634 s, avg_batch_cost: 0.30047 s, avg_samples: 1.5, ips: 4.99221 samples/s, eta: 0:26:00\n",
      "[2023/12/12 06:49:33] ppocr INFO: save model in ./output/db_mv3/latest\n",
      "[2023/12/12 06:49:36] ppocr INFO: epoch: [92/500], global_step: 276, lr: 0.001000, loss: 1.879149, loss_shrink_maps: 1.061681, loss_threshold_maps: 0.628862, loss_binary_maps: 0.202792, loss_cbn: 0.000000, avg_reader_cost: 0.29860 s, avg_batch_cost: 0.35044 s, avg_samples: 1.5, ips: 4.28035 samples/s, eta: 0:25:54\n",
      "[2023/12/12 06:49:36] ppocr INFO: save model in ./output/db_mv3/latest\n",
      "[2023/12/12 06:49:41] ppocr INFO: epoch: [93/500], global_step: 279, lr: 0.001000, loss: 1.907190, loss_shrink_maps: 1.084264, loss_threshold_maps: 0.628862, loss_binary_maps: 0.205381, loss_cbn: 0.000000, avg_reader_cost: 0.43898 s, avg_batch_cost: 0.49354 s, avg_samples: 1.5, ips: 3.03926 samples/s, eta: 0:25:55\n",
      "[2023/12/12 06:49:41] ppocr INFO: save model in ./output/db_mv3/latest\n",
      "[2023/12/12 06:49:44] ppocr INFO: epoch: [94/500], global_step: 280, lr: 0.001000, loss: 1.968054, loss_shrink_maps: 1.128826, loss_threshold_maps: 0.633876, loss_binary_maps: 0.216670, loss_cbn: 0.000000, avg_reader_cost: 0.24718 s, avg_batch_cost: 0.27604 s, avg_samples: 0.5, ips: 1.81130 samples/s, eta: 0:26:01\n",
      "[2023/12/12 06:49:44] ppocr INFO: epoch: [94/500], global_step: 282, lr: 0.001000, loss: 1.956920, loss_shrink_maps: 1.128826, loss_threshold_maps: 0.624886, loss_binary_maps: 0.216670, loss_cbn: 0.000000, avg_reader_cost: 0.01420 s, avg_batch_cost: 0.04481 s, avg_samples: 1.0, ips: 22.31541 samples/s, eta: 0:25:49\n",
      "[2023/12/12 06:49:45] ppocr INFO: save model in ./output/db_mv3/latest\n",
      "[2023/12/12 06:49:48] ppocr INFO: epoch: [95/500], global_step: 285, lr: 0.001000, loss: 1.972738, loss_shrink_maps: 1.097811, loss_threshold_maps: 0.635429, loss_binary_maps: 0.209315, loss_cbn: 0.000000, avg_reader_cost: 0.27536 s, avg_batch_cost: 0.32856 s, avg_samples: 1.5, ips: 4.56537 samples/s, eta: 0:25:43\n",
      "[2023/12/12 06:49:48] ppocr INFO: save model in ./output/db_mv3/latest\n",
      "[2023/12/12 06:49:51] ppocr INFO: epoch: [96/500], global_step: 288, lr: 0.001000, loss: 1.981492, loss_shrink_maps: 1.098915, loss_threshold_maps: 0.637580, loss_binary_maps: 0.210336, loss_cbn: 0.000000, avg_reader_cost: 0.26243 s, avg_batch_cost: 0.32245 s, avg_samples: 1.5, ips: 4.65184 samples/s, eta: 0:25:37\n",
      "[2023/12/12 06:49:52] ppocr INFO: save model in ./output/db_mv3/latest\n",
      "[2023/12/12 06:49:56] ppocr INFO: epoch: [97/500], global_step: 290, lr: 0.001000, loss: 2.022074, loss_shrink_maps: 1.132175, loss_threshold_maps: 0.645620, loss_binary_maps: 0.216856, loss_cbn: 0.000000, avg_reader_cost: 0.41958 s, avg_batch_cost: 0.45818 s, avg_samples: 1.0, ips: 2.18256 samples/s, eta: 0:25:43\n",
      "[2023/12/12 06:49:56] ppocr INFO: epoch: [97/500], global_step: 291, lr: 0.001000, loss: 2.022074, loss_shrink_maps: 1.132175, loss_threshold_maps: 0.645620, loss_binary_maps: 0.216856, loss_cbn: 0.000000, avg_reader_cost: 0.00001 s, avg_batch_cost: 0.01459 s, avg_samples: 0.5, ips: 34.26030 samples/s, eta: 0:25:37\n",
      "[2023/12/12 06:49:56] ppocr INFO: save model in ./output/db_mv3/latest\n",
      "[2023/12/12 06:49:59] ppocr INFO: epoch: [98/500], global_step: 294, lr: 0.001000, loss: 1.986086, loss_shrink_maps: 1.132175, loss_threshold_maps: 0.640636, loss_binary_maps: 0.214231, loss_cbn: 0.000000, avg_reader_cost: 0.26539 s, avg_batch_cost: 0.31736 s, avg_samples: 1.5, ips: 4.72651 samples/s, eta: 0:25:30\n",
      "[2023/12/12 06:50:00] ppocr INFO: save model in ./output/db_mv3/latest\n",
      "[2023/12/12 06:50:02] ppocr INFO: epoch: [99/500], global_step: 297, lr: 0.001000, loss: 1.926948, loss_shrink_maps: 1.080750, loss_threshold_maps: 0.641699, loss_binary_maps: 0.208097, loss_cbn: 0.000000, avg_reader_cost: 0.26017 s, avg_batch_cost: 0.31311 s, avg_samples: 1.5, ips: 4.79068 samples/s, eta: 0:25:24\n",
      "[2023/12/12 06:50:03] ppocr INFO: save model in ./output/db_mv3/latest\n",
      "[2023/12/12 06:50:06] ppocr INFO: epoch: [100/500], global_step: 300, lr: 0.001000, loss: 1.918194, loss_shrink_maps: 1.056395, loss_threshold_maps: 0.647095, loss_binary_maps: 0.201279, loss_cbn: 0.000000, avg_reader_cost: 0.28064 s, avg_batch_cost: 0.33834 s, avg_samples: 1.5, ips: 4.43346 samples/s, eta: 0:25:18\n",
      "eval model:: 100% 6/6 [00:03<00:00,  1.78it/s]\n",
      "[2023/12/12 06:50:09] ppocr INFO: cur metric, precision: 0.37410071942446044, recall: 0.287292817679558, hmean: 0.32499999999999996, fps: 19.81656126790342\n",
      "[2023/12/12 06:50:09] ppocr INFO: best metric, hmean: 0.33093525179856115, is_float16: False, precision: 0.4742268041237113, recall: 0.2541436464088398, fps: 16.37805016146478, best_epoch: 34\n",
      "[2023/12/12 06:50:10] ppocr INFO: save model in ./output/db_mv3/latest\n",
      "[2023/12/12 06:50:13] ppocr INFO: epoch: [101/500], global_step: 303, lr: 0.001000, loss: 1.914508, loss_shrink_maps: 1.053084, loss_threshold_maps: 0.641699, loss_binary_maps: 0.200762, loss_cbn: 0.000000, avg_reader_cost: 0.26657 s, avg_batch_cost: 0.32013 s, avg_samples: 1.5, ips: 4.68554 samples/s, eta: 0:25:12\n",
      "[2023/12/12 06:50:13] ppocr INFO: save model in ./output/db_mv3/latest\n",
      "[2023/12/12 06:50:16] ppocr INFO: epoch: [102/500], global_step: 306, lr: 0.001000, loss: 1.883966, loss_shrink_maps: 1.044516, loss_threshold_maps: 0.631095, loss_binary_maps: 0.200318, loss_cbn: 0.000000, avg_reader_cost: 0.26589 s, avg_batch_cost: 0.31962 s, avg_samples: 1.5, ips: 4.69303 samples/s, eta: 0:25:06\n",
      "[2023/12/12 06:50:16] ppocr INFO: save model in ./output/db_mv3/latest\n",
      "[2023/12/12 06:50:19] ppocr INFO: epoch: [103/500], global_step: 309, lr: 0.001000, loss: 1.844439, loss_shrink_maps: 1.038820, loss_threshold_maps: 0.607622, loss_binary_maps: 0.199779, loss_cbn: 0.000000, avg_reader_cost: 0.26910 s, avg_batch_cost: 0.32127 s, avg_samples: 1.5, ips: 4.66895 samples/s, eta: 0:25:00\n",
      "[2023/12/12 06:50:20] ppocr INFO: save model in ./output/db_mv3/latest\n",
      "[2023/12/12 06:50:23] ppocr INFO: epoch: [104/500], global_step: 310, lr: 0.001000, loss: 1.857980, loss_shrink_maps: 1.044516, loss_threshold_maps: 0.602618, loss_binary_maps: 0.200318, loss_cbn: 0.000000, avg_reader_cost: 0.31934 s, avg_batch_cost: 0.34370 s, avg_samples: 0.5, ips: 1.45478 samples/s, eta: 0:25:07\n",
      "[2023/12/12 06:50:24] ppocr INFO: epoch: [104/500], global_step: 312, lr: 0.001000, loss: 1.857980, loss_shrink_maps: 1.044516, loss_threshold_maps: 0.607622, loss_binary_maps: 0.200318, loss_cbn: 0.000000, avg_reader_cost: 0.07784 s, avg_batch_cost: 0.10839 s, avg_samples: 1.0, ips: 9.22603 samples/s, eta: 0:24:59\n",
      "[2023/12/12 06:50:25] ppocr INFO: save model in ./output/db_mv3/latest\n",
      "[2023/12/12 06:50:28] ppocr INFO: epoch: [105/500], global_step: 315, lr: 0.001000, loss: 1.843410, loss_shrink_maps: 1.038820, loss_threshold_maps: 0.607622, loss_binary_maps: 0.199779, loss_cbn: 0.000000, avg_reader_cost: 0.35209 s, avg_batch_cost: 0.40546 s, avg_samples: 1.5, ips: 3.69954 samples/s, eta: 0:24:56\n",
      "[2023/12/12 06:50:28] ppocr INFO: save model in ./output/db_mv3/latest\n",
      "[2023/12/12 06:50:31] ppocr INFO: epoch: [106/500], global_step: 318, lr: 0.001000, loss: 1.849606, loss_shrink_maps: 1.044279, loss_threshold_maps: 0.609598, loss_binary_maps: 0.200258, loss_cbn: 0.000000, avg_reader_cost: 0.24982 s, avg_batch_cost: 0.30222 s, avg_samples: 1.5, ips: 4.96330 samples/s, eta: 0:24:50\n",
      "[2023/12/12 06:50:32] ppocr INFO: save model in ./output/db_mv3/latest\n",
      "[2023/12/12 06:50:34] ppocr INFO: epoch: [107/500], global_step: 320, lr: 0.001000, loss: 1.832551, loss_shrink_maps: 1.036347, loss_threshold_maps: 0.599224, loss_binary_maps: 0.199223, loss_cbn: 0.000000, avg_reader_cost: 0.25321 s, avg_batch_cost: 0.29180 s, avg_samples: 1.0, ips: 3.42698 samples/s, eta: 0:24:49\n",
      "[2023/12/12 06:50:34] ppocr INFO: epoch: [107/500], global_step: 321, lr: 0.001000, loss: 1.832551, loss_shrink_maps: 1.036347, loss_threshold_maps: 0.599224, loss_binary_maps: 0.199223, loss_cbn: 0.000000, avg_reader_cost: 0.00002 s, avg_batch_cost: 0.01456 s, avg_samples: 0.5, ips: 34.33322 samples/s, eta: 0:24:43\n",
      "[2023/12/12 06:50:35] ppocr INFO: save model in ./output/db_mv3/latest\n",
      "[2023/12/12 06:50:38] ppocr INFO: epoch: [108/500], global_step: 324, lr: 0.001000, loss: 1.815872, loss_shrink_maps: 1.027994, loss_threshold_maps: 0.594279, loss_binary_maps: 0.198459, loss_cbn: 0.000000, avg_reader_cost: 0.33836 s, avg_batch_cost: 0.39243 s, avg_samples: 1.5, ips: 3.82234 samples/s, eta: 0:24:40\n",
      "[2023/12/12 06:50:39] ppocr INFO: save model in ./output/db_mv3/latest\n",
      "[2023/12/12 06:50:43] ppocr INFO: epoch: [109/500], global_step: 327, lr: 0.001000, loss: 1.832551, loss_shrink_maps: 1.037727, loss_threshold_maps: 0.588835, loss_binary_maps: 0.199457, loss_cbn: 0.000000, avg_reader_cost: 0.35762 s, avg_batch_cost: 0.41569 s, avg_samples: 1.5, ips: 3.60849 samples/s, eta: 0:24:38\n",
      "[2023/12/12 06:50:43] ppocr INFO: save model in ./output/db_mv3/latest\n",
      "[2023/12/12 06:50:46] ppocr INFO: epoch: [110/500], global_step: 330, lr: 0.001000, loss: 1.812514, loss_shrink_maps: 1.027994, loss_threshold_maps: 0.595803, loss_binary_maps: 0.198459, loss_cbn: 0.000000, avg_reader_cost: 0.28709 s, avg_batch_cost: 0.33963 s, avg_samples: 1.5, ips: 4.41657 samples/s, eta: 0:24:32\n",
      "[2023/12/12 06:50:47] ppocr INFO: save model in ./output/db_mv3/latest\n",
      "[2023/12/12 06:50:50] ppocr INFO: epoch: [111/500], global_step: 333, lr: 0.001000, loss: 1.829194, loss_shrink_maps: 1.035491, loss_threshold_maps: 0.601829, loss_binary_maps: 0.198961, loss_cbn: 0.000000, avg_reader_cost: 0.26585 s, avg_batch_cost: 0.31912 s, avg_samples: 1.5, ips: 4.70044 samples/s, eta: 0:24:27\n",
      "[2023/12/12 06:50:50] ppocr INFO: save model in ./output/db_mv3/latest\n",
      "[2023/12/12 06:50:54] ppocr INFO: epoch: [112/500], global_step: 336, lr: 0.001000, loss: 1.796476, loss_shrink_maps: 1.003591, loss_threshold_maps: 0.586750, loss_binary_maps: 0.195065, loss_cbn: 0.000000, avg_reader_cost: 0.36929 s, avg_batch_cost: 0.42292 s, avg_samples: 1.5, ips: 3.54679 samples/s, eta: 0:24:24\n",
      "[2023/12/12 06:50:54] ppocr INFO: save model in ./output/db_mv3/latest\n",
      "[2023/12/12 06:50:58] ppocr INFO: epoch: [113/500], global_step: 339, lr: 0.001000, loss: 1.790779, loss_shrink_maps: 1.006399, loss_threshold_maps: 0.587155, loss_binary_maps: 0.193387, loss_cbn: 0.000000, avg_reader_cost: 0.33235 s, avg_batch_cost: 0.38584 s, avg_samples: 1.5, ips: 3.88759 samples/s, eta: 0:24:21\n",
      "[2023/12/12 06:50:58] ppocr INFO: save model in ./output/db_mv3/latest\n",
      "[2023/12/12 06:51:01] ppocr INFO: epoch: [114/500], global_step: 340, lr: 0.001000, loss: 1.790779, loss_shrink_maps: 0.999155, loss_threshold_maps: 0.587155, loss_binary_maps: 0.191610, loss_cbn: 0.000000, avg_reader_cost: 0.27052 s, avg_batch_cost: 0.29416 s, avg_samples: 0.5, ips: 1.69976 samples/s, eta: 0:24:25\n",
      "[2023/12/12 06:51:01] ppocr INFO: epoch: [114/500], global_step: 342, lr: 0.001000, loss: 1.795178, loss_shrink_maps: 1.001600, loss_threshold_maps: 0.585956, loss_binary_maps: 0.194019, loss_cbn: 0.000000, avg_reader_cost: 0.01171 s, avg_batch_cost: 0.04178 s, avg_samples: 1.0, ips: 23.93318 samples/s, eta: 0:24:16\n",
      "[2023/12/12 06:51:02] ppocr INFO: save model in ./output/db_mv3/latest\n",
      "[2023/12/12 06:51:05] ppocr INFO: epoch: [115/500], global_step: 345, lr: 0.001000, loss: 1.771327, loss_shrink_maps: 0.994091, loss_threshold_maps: 0.585956, loss_binary_maps: 0.191198, loss_cbn: 0.000000, avg_reader_cost: 0.26513 s, avg_batch_cost: 0.31840 s, avg_samples: 1.5, ips: 4.71101 samples/s, eta: 0:24:10\n",
      "[2023/12/12 06:51:05] ppocr INFO: save model in ./output/db_mv3/latest\n",
      "[2023/12/12 06:51:09] ppocr INFO: epoch: [116/500], global_step: 348, lr: 0.001000, loss: 1.721628, loss_shrink_maps: 0.972765, loss_threshold_maps: 0.574326, loss_binary_maps: 0.187948, loss_cbn: 0.000000, avg_reader_cost: 0.35514 s, avg_batch_cost: 0.41376 s, avg_samples: 1.5, ips: 3.62532 samples/s, eta: 0:24:07\n",
      "[2023/12/12 06:51:09] ppocr INFO: save model in ./output/db_mv3/latest\n",
      "[2023/12/12 06:51:13] ppocr INFO: epoch: [117/500], global_step: 350, lr: 0.001000, loss: 1.721628, loss_shrink_maps: 0.984890, loss_threshold_maps: 0.574326, loss_binary_maps: 0.188729, loss_cbn: 0.000000, avg_reader_cost: 0.37778 s, avg_batch_cost: 0.41633 s, avg_samples: 1.0, ips: 2.40193 samples/s, eta: 0:24:10\n",
      "[2023/12/12 06:51:13] ppocr INFO: epoch: [117/500], global_step: 351, lr: 0.001000, loss: 1.721628, loss_shrink_maps: 0.984890, loss_threshold_maps: 0.574326, loss_binary_maps: 0.188729, loss_cbn: 0.000000, avg_reader_cost: 0.00002 s, avg_batch_cost: 0.01484 s, avg_samples: 0.5, ips: 33.70229 samples/s, eta: 0:24:05\n",
      "[2023/12/12 06:51:14] ppocr INFO: save model in ./output/db_mv3/latest\n",
      "[2023/12/12 06:51:17] ppocr INFO: epoch: [118/500], global_step: 354, lr: 0.001000, loss: 1.713569, loss_shrink_maps: 0.975423, loss_threshold_maps: 0.562954, loss_binary_maps: 0.187804, loss_cbn: 0.000000, avg_reader_cost: 0.28820 s, avg_batch_cost: 0.34376 s, avg_samples: 1.5, ips: 4.36350 samples/s, eta: 0:24:01\n",
      "[2023/12/12 06:51:17] ppocr INFO: save model in ./output/db_mv3/latest\n",
      "[2023/12/12 06:51:20] ppocr INFO: epoch: [119/500], global_step: 357, lr: 0.001000, loss: 1.721628, loss_shrink_maps: 0.984359, loss_threshold_maps: 0.569418, loss_binary_maps: 0.188922, loss_cbn: 0.000000, avg_reader_cost: 0.29170 s, avg_batch_cost: 0.34534 s, avg_samples: 1.5, ips: 4.34353 samples/s, eta: 0:23:56\n",
      "[2023/12/12 06:51:21] ppocr INFO: save model in ./output/db_mv3/latest\n",
      "[2023/12/12 06:51:25] ppocr INFO: epoch: [120/500], global_step: 360, lr: 0.001000, loss: 1.711250, loss_shrink_maps: 0.984359, loss_threshold_maps: 0.565631, loss_binary_maps: 0.190274, loss_cbn: 0.000000, avg_reader_cost: 0.39581 s, avg_batch_cost: 0.45004 s, avg_samples: 1.5, ips: 3.33303 samples/s, eta: 0:23:54\n",
      "[2023/12/12 06:51:26] ppocr INFO: save model in ./output/db_mv3/latest\n",
      "[2023/12/12 06:51:29] ppocr INFO: epoch: [121/500], global_step: 363, lr: 0.001000, loss: 1.706244, loss_shrink_maps: 0.966620, loss_threshold_maps: 0.572095, loss_binary_maps: 0.187200, loss_cbn: 0.000000, avg_reader_cost: 0.32016 s, avg_batch_cost: 0.37886 s, avg_samples: 1.5, ips: 3.95923 samples/s, eta: 0:23:51\n",
      "[2023/12/12 06:51:29] ppocr INFO: save model in ./output/db_mv3/latest\n",
      "[2023/12/12 06:51:32] ppocr INFO: epoch: [122/500], global_step: 366, lr: 0.001000, loss: 1.703964, loss_shrink_maps: 0.962674, loss_threshold_maps: 0.572095, loss_binary_maps: 0.184768, loss_cbn: 0.000000, avg_reader_cost: 0.26937 s, avg_batch_cost: 0.32318 s, avg_samples: 1.5, ips: 4.64139 samples/s, eta: 0:23:45\n",
      "[2023/12/12 06:51:33] ppocr INFO: save model in ./output/db_mv3/latest\n",
      "[2023/12/12 06:51:35] ppocr INFO: epoch: [123/500], global_step: 369, lr: 0.001000, loss: 1.769924, loss_shrink_maps: 0.990654, loss_threshold_maps: 0.581167, loss_binary_maps: 0.191318, loss_cbn: 0.000000, avg_reader_cost: 0.24540 s, avg_batch_cost: 0.29696 s, avg_samples: 1.5, ips: 5.05116 samples/s, eta: 0:23:39\n",
      "[2023/12/12 06:51:36] ppocr INFO: save model in ./output/db_mv3/latest\n",
      "[2023/12/12 06:51:39] ppocr INFO: epoch: [124/500], global_step: 370, lr: 0.001000, loss: 1.733137, loss_shrink_maps: 0.968288, loss_threshold_maps: 0.576622, loss_binary_maps: 0.187393, loss_cbn: 0.000000, avg_reader_cost: 0.34649 s, avg_batch_cost: 0.36926 s, avg_samples: 0.5, ips: 1.35405 samples/s, eta: 0:23:45\n",
      "[2023/12/12 06:51:40] ppocr INFO: epoch: [124/500], global_step: 372, lr: 0.001000, loss: 1.783476, loss_shrink_maps: 1.014964, loss_threshold_maps: 0.584159, loss_binary_maps: 0.196137, loss_cbn: 0.000000, avg_reader_cost: 0.00004 s, avg_batch_cost: 0.03086 s, avg_samples: 1.0, ips: 32.40061 samples/s, eta: 0:23:36\n",
      "[2023/12/12 06:51:40] ppocr INFO: save model in ./output/db_mv3/latest\n",
      "[2023/12/12 06:51:44] ppocr INFO: epoch: [125/500], global_step: 375, lr: 0.001000, loss: 1.783476, loss_shrink_maps: 1.014964, loss_threshold_maps: 0.584159, loss_binary_maps: 0.196137, loss_cbn: 0.000000, avg_reader_cost: 0.34971 s, avg_batch_cost: 0.40523 s, avg_samples: 1.5, ips: 3.70159 samples/s, eta: 0:23:33\n",
      "[2023/12/12 06:51:44] ppocr INFO: save model in ./output/db_mv3/latest\n",
      "[2023/12/12 06:51:47] ppocr INFO: epoch: [126/500], global_step: 378, lr: 0.001000, loss: 1.743486, loss_shrink_maps: 0.961370, loss_threshold_maps: 0.574149, loss_binary_maps: 0.185134, loss_cbn: 0.000000, avg_reader_cost: 0.25058 s, avg_batch_cost: 0.30639 s, avg_samples: 1.5, ips: 4.89579 samples/s, eta: 0:23:27\n",
      "[2023/12/12 06:51:47] ppocr INFO: save model in ./output/db_mv3/latest\n",
      "[2023/12/12 06:51:50] ppocr INFO: epoch: [127/500], global_step: 380, lr: 0.001000, loss: 1.743486, loss_shrink_maps: 0.961370, loss_threshold_maps: 0.581668, loss_binary_maps: 0.185398, loss_cbn: 0.000000, avg_reader_cost: 0.26762 s, avg_batch_cost: 0.30562 s, avg_samples: 1.0, ips: 3.27205 samples/s, eta: 0:23:26\n",
      "[2023/12/12 06:51:50] ppocr INFO: epoch: [127/500], global_step: 381, lr: 0.001000, loss: 1.743486, loss_shrink_maps: 0.961370, loss_threshold_maps: 0.579263, loss_binary_maps: 0.185410, loss_cbn: 0.000000, avg_reader_cost: 0.00001 s, avg_batch_cost: 0.01474 s, avg_samples: 0.5, ips: 33.91266 samples/s, eta: 0:23:22\n",
      "[2023/12/12 06:51:51] ppocr INFO: save model in ./output/db_mv3/latest\n",
      "[2023/12/12 06:51:54] ppocr INFO: epoch: [128/500], global_step: 384, lr: 0.001000, loss: 1.720116, loss_shrink_maps: 0.960099, loss_threshold_maps: 0.579263, loss_binary_maps: 0.184206, loss_cbn: 0.000000, avg_reader_cost: 0.31087 s, avg_batch_cost: 0.37079 s, avg_samples: 1.5, ips: 4.04545 samples/s, eta: 0:23:18\n",
      "[2023/12/12 06:51:55] ppocr INFO: save model in ./output/db_mv3/latest\n",
      "[2023/12/12 06:51:58] ppocr INFO: epoch: [129/500], global_step: 387, lr: 0.001000, loss: 1.720294, loss_shrink_maps: 0.964314, loss_threshold_maps: 0.570479, loss_binary_maps: 0.186430, loss_cbn: 0.000000, avg_reader_cost: 0.33214 s, avg_batch_cost: 0.38784 s, avg_samples: 1.5, ips: 3.86758 samples/s, eta: 0:23:14\n",
      "[2023/12/12 06:51:58] ppocr INFO: save model in ./output/db_mv3/latest\n",
      "[2023/12/12 06:52:01] ppocr INFO: epoch: [130/500], global_step: 390, lr: 0.001000, loss: 1.728986, loss_shrink_maps: 0.983175, loss_threshold_maps: 0.580706, loss_binary_maps: 0.189398, loss_cbn: 0.000000, avg_reader_cost: 0.26319 s, avg_batch_cost: 0.31892 s, avg_samples: 1.5, ips: 4.70340 samples/s, eta: 0:23:09\n",
      "[2023/12/12 06:52:02] ppocr INFO: save model in ./output/db_mv3/latest\n",
      "[2023/12/12 06:52:05] ppocr INFO: epoch: [131/500], global_step: 393, lr: 0.001000, loss: 1.726535, loss_shrink_maps: 0.983175, loss_threshold_maps: 0.565798, loss_binary_maps: 0.189398, loss_cbn: 0.000000, avg_reader_cost: 0.28917 s, avg_batch_cost: 0.34157 s, avg_samples: 1.5, ips: 4.39143 samples/s, eta: 0:23:04\n",
      "[2023/12/12 06:52:05] ppocr INFO: save model in ./output/db_mv3/latest\n",
      "[2023/12/12 06:52:09] ppocr INFO: epoch: [132/500], global_step: 396, lr: 0.001000, loss: 1.726535, loss_shrink_maps: 0.990499, loss_threshold_maps: 0.565798, loss_binary_maps: 0.189875, loss_cbn: 0.000000, avg_reader_cost: 0.33074 s, avg_batch_cost: 0.39150 s, avg_samples: 1.5, ips: 3.83138 samples/s, eta: 0:23:01\n",
      "[2023/12/12 06:52:10] ppocr INFO: save model in ./output/db_mv3/latest\n",
      "[2023/12/12 06:52:15] ppocr INFO: epoch: [133/500], global_step: 399, lr: 0.001000, loss: 1.717665, loss_shrink_maps: 0.974895, loss_threshold_maps: 0.570479, loss_binary_maps: 0.188956, loss_cbn: 0.000000, avg_reader_cost: 0.53515 s, avg_batch_cost: 0.58890 s, avg_samples: 1.5, ips: 2.54713 samples/s, eta: 0:23:03\n",
      "[2023/12/12 06:52:15] ppocr INFO: save model in ./output/db_mv3/latest\n",
      "[2023/12/12 06:52:18] ppocr INFO: epoch: [134/500], global_step: 400, lr: 0.001000, loss: 1.726535, loss_shrink_maps: 0.990499, loss_threshold_maps: 0.580706, loss_binary_maps: 0.189875, loss_cbn: 0.000000, avg_reader_cost: 0.29041 s, avg_batch_cost: 0.31443 s, avg_samples: 0.5, ips: 1.59016 samples/s, eta: 0:23:07\n",
      "eval model:: 100% 6/6 [00:02<00:00,  2.76it/s]\n",
      "[2023/12/12 06:52:20] ppocr INFO: cur metric, precision: 0.41911764705882354, recall: 0.3149171270718232, hmean: 0.35962145110410093, fps: 23.123190702879715\n",
      "[2023/12/12 06:52:20] ppocr INFO: save best model is to ./output/db_mv3/best_accuracy\n",
      "[2023/12/12 06:52:20] ppocr INFO: best metric, hmean: 0.35962145110410093, is_float16: False, precision: 0.41911764705882354, recall: 0.3149171270718232, fps: 23.123190702879715, best_epoch: 134\n",
      "[2023/12/12 06:52:21] ppocr INFO: epoch: [134/500], global_step: 402, lr: 0.001000, loss: 1.746308, loss_shrink_maps: 1.002371, loss_threshold_maps: 0.576025, loss_binary_maps: 0.193108, loss_cbn: 0.000000, avg_reader_cost: 0.00005 s, avg_batch_cost: 0.03645 s, avg_samples: 1.0, ips: 27.43191 samples/s, eta: 0:22:59\n",
      "[2023/12/12 06:52:21] ppocr INFO: save model in ./output/db_mv3/latest\n",
      "[2023/12/12 06:52:24] ppocr INFO: epoch: [135/500], global_step: 405, lr: 0.001000, loss: 1.746308, loss_shrink_maps: 0.996938, loss_threshold_maps: 0.563070, loss_binary_maps: 0.192357, loss_cbn: 0.000000, avg_reader_cost: 0.26171 s, avg_batch_cost: 0.32314 s, avg_samples: 1.5, ips: 4.64197 samples/s, eta: 0:22:53\n",
      "[2023/12/12 06:52:25] ppocr INFO: save model in ./output/db_mv3/latest\n",
      "[2023/12/12 06:52:29] ppocr INFO: epoch: [136/500], global_step: 408, lr: 0.001000, loss: 1.717884, loss_shrink_maps: 0.988658, loss_threshold_maps: 0.563070, loss_binary_maps: 0.189875, loss_cbn: 0.000000, avg_reader_cost: 0.39730 s, avg_batch_cost: 0.45148 s, avg_samples: 1.5, ips: 3.32238 samples/s, eta: 0:22:52\n",
      "[2023/12/12 06:52:29] ppocr INFO: save model in ./output/db_mv3/latest\n",
      "[2023/12/12 06:52:32] ppocr INFO: epoch: [137/500], global_step: 410, lr: 0.001000, loss: 1.740207, loss_shrink_maps: 0.977071, loss_threshold_maps: 0.563070, loss_binary_maps: 0.186786, loss_cbn: 0.000000, avg_reader_cost: 0.24481 s, avg_batch_cost: 0.28400 s, avg_samples: 1.0, ips: 3.52114 samples/s, eta: 0:22:50\n",
      "[2023/12/12 06:52:32] ppocr INFO: epoch: [137/500], global_step: 411, lr: 0.001000, loss: 1.745131, loss_shrink_maps: 0.977071, loss_threshold_maps: 0.577504, loss_binary_maps: 0.186786, loss_cbn: 0.000000, avg_reader_cost: 0.00002 s, avg_batch_cost: 0.01461 s, avg_samples: 0.5, ips: 34.21425 samples/s, eta: 0:22:46\n",
      "[2023/12/12 06:52:32] ppocr INFO: save model in ./output/db_mv3/latest\n",
      "[2023/12/12 06:52:35] ppocr INFO: epoch: [138/500], global_step: 414, lr: 0.001000, loss: 1.701782, loss_shrink_maps: 0.948260, loss_threshold_maps: 0.583850, loss_binary_maps: 0.183434, loss_cbn: 0.000000, avg_reader_cost: 0.25688 s, avg_batch_cost: 0.31412 s, avg_samples: 1.5, ips: 4.77524 samples/s, eta: 0:22:40\n",
      "[2023/12/12 06:52:36] ppocr INFO: save model in ./output/db_mv3/latest\n",
      "[2023/12/12 06:52:39] ppocr INFO: epoch: [139/500], global_step: 417, lr: 0.001000, loss: 1.677264, loss_shrink_maps: 0.935827, loss_threshold_maps: 0.569416, loss_binary_maps: 0.180164, loss_cbn: 0.000000, avg_reader_cost: 0.31497 s, avg_batch_cost: 0.36885 s, avg_samples: 1.5, ips: 4.06665 samples/s, eta: 0:22:36\n",
      "[2023/12/12 06:52:40] ppocr INFO: save model in ./output/db_mv3/latest\n",
      "[2023/12/12 06:52:43] ppocr INFO: epoch: [140/500], global_step: 420, lr: 0.001000, loss: 1.668778, loss_shrink_maps: 0.935827, loss_threshold_maps: 0.569416, loss_binary_maps: 0.180164, loss_cbn: 0.000000, avg_reader_cost: 0.36544 s, avg_batch_cost: 0.41819 s, avg_samples: 1.5, ips: 3.58690 samples/s, eta: 0:22:34\n",
      "[2023/12/12 06:52:44] ppocr INFO: save model in ./output/db_mv3/latest\n",
      "[2023/12/12 06:52:46] ppocr INFO: epoch: [141/500], global_step: 423, lr: 0.001000, loss: 1.701782, loss_shrink_maps: 0.942498, loss_threshold_maps: 0.597320, loss_binary_maps: 0.181687, loss_cbn: 0.000000, avg_reader_cost: 0.25138 s, avg_batch_cost: 0.30812 s, avg_samples: 1.5, ips: 4.86827 samples/s, eta: 0:22:28\n",
      "[2023/12/12 06:52:47] ppocr INFO: save model in ./output/db_mv3/latest\n",
      "[2023/12/12 06:52:50] ppocr INFO: epoch: [142/500], global_step: 426, lr: 0.001000, loss: 1.693616, loss_shrink_maps: 0.937703, loss_threshold_maps: 0.590522, loss_binary_maps: 0.180164, loss_cbn: 0.000000, avg_reader_cost: 0.23829 s, avg_batch_cost: 0.29486 s, avg_samples: 1.5, ips: 5.08711 samples/s, eta: 0:22:22\n",
      "[2023/12/12 06:52:50] ppocr INFO: save model in ./output/db_mv3/latest\n",
      "[2023/12/12 06:52:53] ppocr INFO: epoch: [143/500], global_step: 429, lr: 0.001000, loss: 1.654382, loss_shrink_maps: 0.925305, loss_threshold_maps: 0.574710, loss_binary_maps: 0.179216, loss_cbn: 0.000000, avg_reader_cost: 0.29357 s, avg_batch_cost: 0.35002 s, avg_samples: 1.5, ips: 4.28542 samples/s, eta: 0:22:18\n",
      "[2023/12/12 06:52:54] ppocr INFO: save model in ./output/db_mv3/latest\n",
      "[2023/12/12 06:52:57] ppocr INFO: epoch: [144/500], global_step: 430, lr: 0.001000, loss: 1.679220, loss_shrink_maps: 0.931411, loss_threshold_maps: 0.581151, loss_binary_maps: 0.179619, loss_cbn: 0.000000, avg_reader_cost: 0.35591 s, avg_batch_cost: 0.37959 s, avg_samples: 0.5, ips: 1.31720 samples/s, eta: 0:22:23\n",
      "[2023/12/12 06:52:57] ppocr INFO: epoch: [144/500], global_step: 432, lr: 0.001000, loss: 1.679220, loss_shrink_maps: 0.931411, loss_threshold_maps: 0.576702, loss_binary_maps: 0.179216, loss_cbn: 0.000000, avg_reader_cost: 0.00003 s, avg_batch_cost: 0.02964 s, avg_samples: 1.0, ips: 33.73319 samples/s, eta: 0:22:15\n",
      "[2023/12/12 06:52:58] ppocr INFO: save model in ./output/db_mv3/latest\n",
      "[2023/12/12 06:53:01] ppocr INFO: epoch: [145/500], global_step: 435, lr: 0.001000, loss: 1.628125, loss_shrink_maps: 0.913329, loss_threshold_maps: 0.557960, loss_binary_maps: 0.175484, loss_cbn: 0.000000, avg_reader_cost: 0.26277 s, avg_batch_cost: 0.31759 s, avg_samples: 1.5, ips: 4.72304 samples/s, eta: 0:22:10\n",
      "[2023/12/12 06:53:01] ppocr INFO: save model in ./output/db_mv3/latest\n",
      "[2023/12/12 06:53:04] ppocr INFO: epoch: [146/500], global_step: 438, lr: 0.001000, loss: 1.644819, loss_shrink_maps: 0.900384, loss_threshold_maps: 0.574217, loss_binary_maps: 0.174008, loss_cbn: 0.000000, avg_reader_cost: 0.27529 s, avg_batch_cost: 0.32718 s, avg_samples: 1.5, ips: 4.58460 samples/s, eta: 0:22:05\n",
      "[2023/12/12 06:53:04] ppocr INFO: save model in ./output/db_mv3/latest\n",
      "[2023/12/12 06:53:08] ppocr INFO: epoch: [147/500], global_step: 440, lr: 0.001000, loss: 1.630674, loss_shrink_maps: 0.900384, loss_threshold_maps: 0.574217, loss_binary_maps: 0.174008, loss_cbn: 0.000000, avg_reader_cost: 0.34580 s, avg_batch_cost: 0.38403 s, avg_samples: 1.0, ips: 2.60395 samples/s, eta: 0:22:06\n",
      "[2023/12/12 06:53:08] ppocr INFO: epoch: [147/500], global_step: 441, lr: 0.001000, loss: 1.630674, loss_shrink_maps: 0.900384, loss_threshold_maps: 0.574217, loss_binary_maps: 0.174008, loss_cbn: 0.000000, avg_reader_cost: 0.00002 s, avg_batch_cost: 0.01503 s, avg_samples: 0.5, ips: 33.26194 samples/s, eta: 0:22:02\n",
      "[2023/12/12 06:53:09] ppocr INFO: save model in ./output/db_mv3/latest\n",
      "[2023/12/12 06:53:12] ppocr INFO: epoch: [148/500], global_step: 444, lr: 0.001000, loss: 1.630674, loss_shrink_maps: 0.889252, loss_threshold_maps: 0.574217, loss_binary_maps: 0.172708, loss_cbn: 0.000000, avg_reader_cost: 0.33797 s, avg_batch_cost: 0.39148 s, avg_samples: 1.5, ips: 3.83160 samples/s, eta: 0:21:59\n",
      "[2023/12/12 06:53:13] ppocr INFO: save model in ./output/db_mv3/latest\n",
      "[2023/12/12 06:53:16] ppocr INFO: epoch: [149/500], global_step: 447, lr: 0.001000, loss: 1.602088, loss_shrink_maps: 0.882141, loss_threshold_maps: 0.555667, loss_binary_maps: 0.170271, loss_cbn: 0.000000, avg_reader_cost: 0.28740 s, avg_batch_cost: 0.34041 s, avg_samples: 1.5, ips: 4.40641 samples/s, eta: 0:21:54\n",
      "[2023/12/12 06:53:16] ppocr INFO: save model in ./output/db_mv3/latest\n",
      "[2023/12/12 06:53:19] ppocr INFO: epoch: [150/500], global_step: 450, lr: 0.001000, loss: 1.616166, loss_shrink_maps: 0.882141, loss_threshold_maps: 0.566353, loss_binary_maps: 0.170271, loss_cbn: 0.000000, avg_reader_cost: 0.28349 s, avg_batch_cost: 0.33963 s, avg_samples: 1.5, ips: 4.41656 samples/s, eta: 0:21:49\n",
      "[2023/12/12 06:53:20] ppocr INFO: save model in ./output/db_mv3/latest\n",
      "[2023/12/12 06:53:24] ppocr INFO: epoch: [151/500], global_step: 453, lr: 0.001000, loss: 1.616166, loss_shrink_maps: 0.884535, loss_threshold_maps: 0.568336, loss_binary_maps: 0.170456, loss_cbn: 0.000000, avg_reader_cost: 0.40081 s, avg_batch_cost: 0.45643 s, avg_samples: 1.5, ips: 3.28636 samples/s, eta: 0:21:48\n",
      "[2023/12/12 06:53:25] ppocr INFO: save model in ./output/db_mv3/latest\n",
      "[2023/12/12 06:53:28] ppocr INFO: epoch: [152/500], global_step: 456, lr: 0.001000, loss: 1.606558, loss_shrink_maps: 0.886728, loss_threshold_maps: 0.556816, loss_binary_maps: 0.170456, loss_cbn: 0.000000, avg_reader_cost: 0.31136 s, avg_batch_cost: 0.36859 s, avg_samples: 1.5, ips: 4.06960 samples/s, eta: 0:21:44\n",
      "[2023/12/12 06:53:28] ppocr INFO: save model in ./output/db_mv3/latest\n",
      "[2023/12/12 06:53:31] ppocr INFO: epoch: [153/500], global_step: 459, lr: 0.001000, loss: 1.606558, loss_shrink_maps: 0.888911, loss_threshold_maps: 0.555667, loss_binary_maps: 0.171064, loss_cbn: 0.000000, avg_reader_cost: 0.26264 s, avg_batch_cost: 0.31786 s, avg_samples: 1.5, ips: 4.71905 samples/s, eta: 0:21:39\n",
      "[2023/12/12 06:53:31] ppocr INFO: save model in ./output/db_mv3/latest\n",
      "[2023/12/12 06:53:34] ppocr INFO: epoch: [154/500], global_step: 460, lr: 0.001000, loss: 1.602257, loss_shrink_maps: 0.887713, loss_threshold_maps: 0.555667, loss_binary_maps: 0.170456, loss_cbn: 0.000000, avg_reader_cost: 0.23637 s, avg_batch_cost: 0.26153 s, avg_samples: 0.5, ips: 1.91180 samples/s, eta: 0:21:41\n",
      "[2023/12/12 06:53:34] ppocr INFO: epoch: [154/500], global_step: 462, lr: 0.001000, loss: 1.606558, loss_shrink_maps: 0.888911, loss_threshold_maps: 0.556816, loss_binary_maps: 0.170474, loss_cbn: 0.000000, avg_reader_cost: 0.02076 s, avg_batch_cost: 0.05128 s, avg_samples: 1.0, ips: 19.50098 samples/s, eta: 0:21:34\n",
      "[2023/12/12 06:53:35] ppocr INFO: save model in ./output/db_mv3/latest\n",
      "[2023/12/12 06:53:38] ppocr INFO: epoch: [155/500], global_step: 465, lr: 0.001000, loss: 1.643997, loss_shrink_maps: 0.890465, loss_threshold_maps: 0.568358, loss_binary_maps: 0.171204, loss_cbn: 0.000000, avg_reader_cost: 0.31331 s, avg_batch_cost: 0.37012 s, avg_samples: 1.5, ips: 4.05275 samples/s, eta: 0:21:30\n",
      "[2023/12/12 06:53:39] ppocr INFO: save model in ./output/db_mv3/latest\n",
      "[2023/12/12 06:53:42] ppocr INFO: epoch: [156/500], global_step: 468, lr: 0.001000, loss: 1.606558, loss_shrink_maps: 0.888911, loss_threshold_maps: 0.553882, loss_binary_maps: 0.170474, loss_cbn: 0.000000, avg_reader_cost: 0.34398 s, avg_batch_cost: 0.39873 s, avg_samples: 1.5, ips: 3.76196 samples/s, eta: 0:21:27\n",
      "[2023/12/12 06:53:43] ppocr INFO: save model in ./output/db_mv3/latest\n",
      "[2023/12/12 06:53:45] ppocr INFO: epoch: [157/500], global_step: 470, lr: 0.001000, loss: 1.606558, loss_shrink_maps: 0.888911, loss_threshold_maps: 0.553882, loss_binary_maps: 0.170474, loss_cbn: 0.000000, avg_reader_cost: 0.26445 s, avg_batch_cost: 0.30338 s, avg_samples: 1.0, ips: 3.29620 samples/s, eta: 0:21:25\n",
      "[2023/12/12 06:53:45] ppocr INFO: epoch: [157/500], global_step: 471, lr: 0.001000, loss: 1.602257, loss_shrink_maps: 0.887713, loss_threshold_maps: 0.552078, loss_binary_maps: 0.169854, loss_cbn: 0.000000, avg_reader_cost: 0.00002 s, avg_batch_cost: 0.01501 s, avg_samples: 0.5, ips: 33.31240 samples/s, eta: 0:21:22\n",
      "[2023/12/12 06:53:46] ppocr INFO: save model in ./output/db_mv3/latest\n",
      "[2023/12/12 06:53:49] ppocr INFO: epoch: [158/500], global_step: 474, lr: 0.001000, loss: 1.608658, loss_shrink_maps: 0.888911, loss_threshold_maps: 0.552916, loss_binary_maps: 0.171098, loss_cbn: 0.000000, avg_reader_cost: 0.28777 s, avg_batch_cost: 0.34166 s, avg_samples: 1.5, ips: 4.39027 samples/s, eta: 0:21:17\n",
      "[2023/12/12 06:53:49] ppocr INFO: save model in ./output/db_mv3/latest\n",
      "[2023/12/12 06:53:53] ppocr INFO: epoch: [159/500], global_step: 477, lr: 0.001000, loss: 1.585190, loss_shrink_maps: 0.865125, loss_threshold_maps: 0.552916, loss_binary_maps: 0.167149, loss_cbn: 0.000000, avg_reader_cost: 0.31353 s, avg_batch_cost: 0.37233 s, avg_samples: 1.5, ips: 4.02869 samples/s, eta: 0:21:13\n",
      "[2023/12/12 06:53:53] ppocr INFO: save model in ./output/db_mv3/latest\n",
      "[2023/12/12 06:53:57] ppocr INFO: epoch: [160/500], global_step: 480, lr: 0.001000, loss: 1.639667, loss_shrink_maps: 0.890147, loss_threshold_maps: 0.559373, loss_binary_maps: 0.171938, loss_cbn: 0.000000, avg_reader_cost: 0.35005 s, avg_batch_cost: 0.40556 s, avg_samples: 1.5, ips: 3.69858 samples/s, eta: 0:21:10\n",
      "[2023/12/12 06:53:57] ppocr INFO: save model in ./output/db_mv3/latest\n",
      "[2023/12/12 06:54:00] ppocr INFO: epoch: [161/500], global_step: 483, lr: 0.001000, loss: 1.639667, loss_shrink_maps: 0.886759, loss_threshold_maps: 0.559373, loss_binary_maps: 0.171068, loss_cbn: 0.000000, avg_reader_cost: 0.27495 s, avg_batch_cost: 0.32716 s, avg_samples: 1.5, ips: 4.58496 samples/s, eta: 0:21:06\n",
      "[2023/12/12 06:54:01] ppocr INFO: save model in ./output/db_mv3/latest\n",
      "[2023/12/12 06:54:04] ppocr INFO: epoch: [162/500], global_step: 486, lr: 0.001000, loss: 1.593195, loss_shrink_maps: 0.875784, loss_threshold_maps: 0.553685, loss_binary_maps: 0.169477, loss_cbn: 0.000000, avg_reader_cost: 0.27173 s, avg_batch_cost: 0.32757 s, avg_samples: 1.5, ips: 4.57920 samples/s, eta: 0:21:01\n",
      "[2023/12/12 06:54:04] ppocr INFO: save model in ./output/db_mv3/latest\n",
      "[2023/12/12 06:54:08] ppocr INFO: epoch: [163/500], global_step: 489, lr: 0.001000, loss: 1.622461, loss_shrink_maps: 0.886759, loss_threshold_maps: 0.555037, loss_binary_maps: 0.171068, loss_cbn: 0.000000, avg_reader_cost: 0.35312 s, avg_batch_cost: 0.40697 s, avg_samples: 1.5, ips: 3.68581 samples/s, eta: 0:20:58\n",
      "[2023/12/12 06:54:09] ppocr INFO: save model in ./output/db_mv3/latest\n",
      "[2023/12/12 06:54:11] ppocr INFO: epoch: [164/500], global_step: 490, lr: 0.001000, loss: 1.640943, loss_shrink_maps: 0.892684, loss_threshold_maps: 0.559373, loss_binary_maps: 0.171938, loss_cbn: 0.000000, avg_reader_cost: 0.30204 s, avg_batch_cost: 0.32689 s, avg_samples: 0.5, ips: 1.52954 samples/s, eta: 0:21:01\n",
      "[2023/12/12 06:54:12] ppocr INFO: epoch: [164/500], global_step: 492, lr: 0.001000, loss: 1.648159, loss_shrink_maps: 0.892684, loss_threshold_maps: 0.569739, loss_binary_maps: 0.171938, loss_cbn: 0.000000, avg_reader_cost: 0.04111 s, avg_batch_cost: 0.07120 s, avg_samples: 1.0, ips: 14.04561 samples/s, eta: 0:20:55\n",
      "[2023/12/12 06:54:12] ppocr INFO: save model in ./output/db_mv3/latest\n",
      "[2023/12/12 06:54:15] ppocr INFO: epoch: [165/500], global_step: 495, lr: 0.001000, loss: 1.637882, loss_shrink_maps: 0.880735, loss_threshold_maps: 0.570716, loss_binary_maps: 0.169793, loss_cbn: 0.000000, avg_reader_cost: 0.26577 s, avg_batch_cost: 0.32193 s, avg_samples: 1.5, ips: 4.65940 samples/s, eta: 0:20:50\n",
      "[2023/12/12 06:54:16] ppocr INFO: save model in ./output/db_mv3/latest\n",
      "[2023/12/12 06:54:19] ppocr INFO: epoch: [166/500], global_step: 498, lr: 0.001000, loss: 1.607358, loss_shrink_maps: 0.869759, loss_threshold_maps: 0.559155, loss_binary_maps: 0.168250, loss_cbn: 0.000000, avg_reader_cost: 0.28732 s, avg_batch_cost: 0.34100 s, avg_samples: 1.5, ips: 4.39885 samples/s, eta: 0:20:46\n",
      "[2023/12/12 06:54:19] ppocr INFO: save model in ./output/db_mv3/latest\n",
      "[2023/12/12 06:54:23] ppocr INFO: epoch: [167/500], global_step: 500, lr: 0.001000, loss: 1.586618, loss_shrink_maps: 0.858124, loss_threshold_maps: 0.559155, loss_binary_maps: 0.166315, loss_cbn: 0.000000, avg_reader_cost: 0.37134 s, avg_batch_cost: 0.41175 s, avg_samples: 1.0, ips: 2.42866 samples/s, eta: 0:20:46\n",
      "eval model:: 100% 6/6 [00:03<00:00,  1.91it/s]\n",
      "[2023/12/12 06:54:26] ppocr INFO: cur metric, precision: 0.47297297297297297, recall: 0.3867403314917127, hmean: 0.4255319148936171, fps: 17.476351621153714\n",
      "[2023/12/12 06:54:26] ppocr INFO: save best model is to ./output/db_mv3/best_accuracy\n",
      "[2023/12/12 06:54:26] ppocr INFO: best metric, hmean: 0.4255319148936171, is_float16: False, precision: 0.47297297297297297, recall: 0.3867403314917127, fps: 17.476351621153714, best_epoch: 167\n",
      "[2023/12/12 06:54:27] ppocr INFO: epoch: [167/500], global_step: 501, lr: 0.001000, loss: 1.560462, loss_shrink_maps: 0.841250, loss_threshold_maps: 0.550792, loss_binary_maps: 0.163424, loss_cbn: 0.000000, avg_reader_cost: 0.00002 s, avg_batch_cost: 0.01992 s, avg_samples: 0.5, ips: 25.10291 samples/s, eta: 0:20:43\n",
      "[2023/12/12 06:54:27] ppocr INFO: save model in ./output/db_mv3/latest\n",
      "[2023/12/12 06:54:30] ppocr INFO: epoch: [168/500], global_step: 504, lr: 0.001000, loss: 1.505186, loss_shrink_maps: 0.817408, loss_threshold_maps: 0.545177, loss_binary_maps: 0.158738, loss_cbn: 0.000000, avg_reader_cost: 0.25904 s, avg_batch_cost: 0.31409 s, avg_samples: 1.5, ips: 4.77574 samples/s, eta: 0:20:38\n",
      "[2023/12/12 06:54:30] ppocr INFO: save model in ./output/db_mv3/latest\n",
      "[2023/12/12 06:54:33] ppocr INFO: epoch: [169/500], global_step: 507, lr: 0.001000, loss: 1.505186, loss_shrink_maps: 0.817408, loss_threshold_maps: 0.538038, loss_binary_maps: 0.158738, loss_cbn: 0.000000, avg_reader_cost: 0.24533 s, avg_batch_cost: 0.30160 s, avg_samples: 1.5, ips: 4.97353 samples/s, eta: 0:20:33\n",
      "[2023/12/12 06:54:33] ppocr INFO: save model in ./output/db_mv3/latest\n",
      "[2023/12/12 06:54:37] ppocr INFO: epoch: [170/500], global_step: 510, lr: 0.001000, loss: 1.468281, loss_shrink_maps: 0.800620, loss_threshold_maps: 0.527301, loss_binary_maps: 0.155280, loss_cbn: 0.000000, avg_reader_cost: 0.29447 s, avg_batch_cost: 0.34882 s, avg_samples: 1.5, ips: 4.30024 samples/s, eta: 0:20:29\n",
      "[2023/12/12 06:54:37] ppocr INFO: save model in ./output/db_mv3/latest\n",
      "[2023/12/12 06:54:41] ppocr INFO: epoch: [171/500], global_step: 513, lr: 0.001000, loss: 1.468281, loss_shrink_maps: 0.800620, loss_threshold_maps: 0.527301, loss_binary_maps: 0.155280, loss_cbn: 0.000000, avg_reader_cost: 0.37823 s, avg_batch_cost: 0.43107 s, avg_samples: 1.5, ips: 3.47974 samples/s, eta: 0:20:26\n",
      "[2023/12/12 06:54:41] ppocr INFO: save model in ./output/db_mv3/latest\n",
      "[2023/12/12 06:54:45] ppocr INFO: epoch: [172/500], global_step: 516, lr: 0.001000, loss: 1.510608, loss_shrink_maps: 0.824675, loss_threshold_maps: 0.534431, loss_binary_maps: 0.159716, loss_cbn: 0.000000, avg_reader_cost: 0.30265 s, avg_batch_cost: 0.35483 s, avg_samples: 1.5, ips: 4.22741 samples/s, eta: 0:20:22\n",
      "[2023/12/12 06:54:45] ppocr INFO: save model in ./output/db_mv3/latest\n",
      "[2023/12/12 06:54:48] ppocr INFO: epoch: [173/500], global_step: 519, lr: 0.001000, loss: 1.554179, loss_shrink_maps: 0.851167, loss_threshold_maps: 0.536641, loss_binary_maps: 0.166150, loss_cbn: 0.000000, avg_reader_cost: 0.29823 s, avg_batch_cost: 0.35150 s, avg_samples: 1.5, ips: 4.26748 samples/s, eta: 0:20:18\n",
      "[2023/12/12 06:54:49] ppocr INFO: save model in ./output/db_mv3/latest\n",
      "[2023/12/12 06:54:52] ppocr INFO: epoch: [174/500], global_step: 520, lr: 0.001000, loss: 1.510608, loss_shrink_maps: 0.823035, loss_threshold_maps: 0.530546, loss_binary_maps: 0.159716, loss_cbn: 0.000000, avg_reader_cost: 0.37436 s, avg_batch_cost: 0.39729 s, avg_samples: 0.5, ips: 1.25854 samples/s, eta: 0:20:22\n",
      "[2023/12/12 06:54:53] ppocr INFO: epoch: [174/500], global_step: 522, lr: 0.001000, loss: 1.560646, loss_shrink_maps: 0.851167, loss_threshold_maps: 0.536641, loss_binary_maps: 0.166150, loss_cbn: 0.000000, avg_reader_cost: 0.00004 s, avg_batch_cost: 0.03057 s, avg_samples: 1.0, ips: 32.71127 samples/s, eta: 0:20:15\n",
      "[2023/12/12 06:54:53] ppocr INFO: save model in ./output/db_mv3/latest\n",
      "[2023/12/12 06:54:57] ppocr INFO: epoch: [175/500], global_step: 525, lr: 0.001000, loss: 1.554179, loss_shrink_maps: 0.846024, loss_threshold_maps: 0.536641, loss_binary_maps: 0.162699, loss_cbn: 0.000000, avg_reader_cost: 0.34934 s, avg_batch_cost: 0.40256 s, avg_samples: 1.5, ips: 3.72615 samples/s, eta: 0:20:12\n",
      "[2023/12/12 06:54:57] ppocr INFO: save model in ./output/db_mv3/latest\n",
      "[2023/12/12 06:55:00] ppocr INFO: epoch: [176/500], global_step: 528, lr: 0.001000, loss: 1.554179, loss_shrink_maps: 0.846024, loss_threshold_maps: 0.542579, loss_binary_maps: 0.162699, loss_cbn: 0.000000, avg_reader_cost: 0.28267 s, avg_batch_cost: 0.33555 s, avg_samples: 1.5, ips: 4.47033 samples/s, eta: 0:20:08\n",
      "[2023/12/12 06:55:01] ppocr INFO: save model in ./output/db_mv3/latest\n",
      "[2023/12/12 06:55:04] ppocr INFO: epoch: [177/500], global_step: 530, lr: 0.001000, loss: 1.560646, loss_shrink_maps: 0.851167, loss_threshold_maps: 0.548083, loss_binary_maps: 0.166150, loss_cbn: 0.000000, avg_reader_cost: 0.29591 s, avg_batch_cost: 0.33428 s, avg_samples: 1.0, ips: 2.99150 samples/s, eta: 0:20:07\n",
      "[2023/12/12 06:55:04] ppocr INFO: epoch: [177/500], global_step: 531, lr: 0.001000, loss: 1.554179, loss_shrink_maps: 0.846024, loss_threshold_maps: 0.542579, loss_binary_maps: 0.162699, loss_cbn: 0.000000, avg_reader_cost: 0.00001 s, avg_batch_cost: 0.01467 s, avg_samples: 0.5, ips: 34.09255 samples/s, eta: 0:20:03\n",
      "[2023/12/12 06:55:04] ppocr INFO: save model in ./output/db_mv3/latest\n",
      "[2023/12/12 06:55:09] ppocr INFO: epoch: [178/500], global_step: 534, lr: 0.001000, loss: 1.560646, loss_shrink_maps: 0.832673, loss_threshold_maps: 0.548083, loss_binary_maps: 0.160304, loss_cbn: 0.000000, avg_reader_cost: 0.39490 s, avg_batch_cost: 0.45294 s, avg_samples: 1.5, ips: 3.31168 samples/s, eta: 0:20:01\n",
      "[2023/12/12 06:55:09] ppocr INFO: save model in ./output/db_mv3/latest\n",
      "[2023/12/12 06:55:13] ppocr INFO: epoch: [179/500], global_step: 537, lr: 0.001000, loss: 1.572388, loss_shrink_maps: 0.838723, loss_threshold_maps: 0.555249, loss_binary_maps: 0.160304, loss_cbn: 0.000000, avg_reader_cost: 0.33895 s, avg_batch_cost: 0.39370 s, avg_samples: 1.5, ips: 3.80998 samples/s, eta: 0:19:58\n",
      "[2023/12/12 06:55:13] ppocr INFO: save model in ./output/db_mv3/latest\n",
      "[2023/12/12 06:55:16] ppocr INFO: epoch: [180/500], global_step: 540, lr: 0.001000, loss: 1.591532, loss_shrink_maps: 0.838723, loss_threshold_maps: 0.555249, loss_binary_maps: 0.160304, loss_cbn: 0.000000, avg_reader_cost: 0.26321 s, avg_batch_cost: 0.32065 s, avg_samples: 1.5, ips: 4.67797 samples/s, eta: 0:19:53\n",
      "[2023/12/12 06:55:16] ppocr INFO: save model in ./output/db_mv3/latest\n",
      "[2023/12/12 06:55:20] ppocr INFO: epoch: [181/500], global_step: 543, lr: 0.001000, loss: 1.534233, loss_shrink_maps: 0.807904, loss_threshold_maps: 0.552039, loss_binary_maps: 0.156358, loss_cbn: 0.000000, avg_reader_cost: 0.29695 s, avg_batch_cost: 0.35142 s, avg_samples: 1.5, ips: 4.26838 samples/s, eta: 0:19:49\n",
      "[2023/12/12 06:55:20] ppocr INFO: save model in ./output/db_mv3/latest\n",
      "[2023/12/12 06:55:24] ppocr INFO: epoch: [182/500], global_step: 546, lr: 0.001000, loss: 1.544261, loss_shrink_maps: 0.826821, loss_threshold_maps: 0.555755, loss_binary_maps: 0.159075, loss_cbn: 0.000000, avg_reader_cost: 0.39372 s, avg_batch_cost: 0.45290 s, avg_samples: 1.5, ips: 3.31201 samples/s, eta: 0:19:47\n",
      "[2023/12/12 06:55:25] ppocr INFO: save model in ./output/db_mv3/latest\n",
      "[2023/12/12 06:55:28] ppocr INFO: epoch: [183/500], global_step: 549, lr: 0.001000, loss: 1.557916, loss_shrink_maps: 0.826821, loss_threshold_maps: 0.556040, loss_binary_maps: 0.159555, loss_cbn: 0.000000, avg_reader_cost: 0.30794 s, avg_batch_cost: 0.36155 s, avg_samples: 1.5, ips: 4.14883 samples/s, eta: 0:19:43\n",
      "[2023/12/12 06:55:28] ppocr INFO: save model in ./output/db_mv3/latest\n",
      "[2023/12/12 06:55:31] ppocr INFO: epoch: [184/500], global_step: 550, lr: 0.001000, loss: 1.552799, loss_shrink_maps: 0.818858, loss_threshold_maps: 0.556040, loss_binary_maps: 0.159183, loss_cbn: 0.000000, avg_reader_cost: 0.23573 s, avg_batch_cost: 0.25631 s, avg_samples: 0.5, ips: 1.95074 samples/s, eta: 0:19:44\n",
      "[2023/12/12 06:55:32] ppocr INFO: epoch: [184/500], global_step: 552, lr: 0.001000, loss: 1.522532, loss_shrink_maps: 0.815126, loss_threshold_maps: 0.551034, loss_binary_maps: 0.158853, loss_cbn: 0.000000, avg_reader_cost: 0.05259 s, avg_batch_cost: 0.08292 s, avg_samples: 1.0, ips: 12.06049 samples/s, eta: 0:19:38\n",
      "[2023/12/12 06:55:32] ppocr INFO: save model in ./output/db_mv3/latest\n",
      "[2023/12/12 06:55:35] ppocr INFO: epoch: [185/500], global_step: 555, lr: 0.001000, loss: 1.522532, loss_shrink_maps: 0.815126, loss_threshold_maps: 0.551034, loss_binary_maps: 0.159334, loss_cbn: 0.000000, avg_reader_cost: 0.23752 s, avg_batch_cost: 0.29509 s, avg_samples: 1.5, ips: 5.08313 samples/s, eta: 0:19:33\n",
      "[2023/12/12 06:55:35] ppocr INFO: save model in ./output/db_mv3/latest\n",
      "[2023/12/12 06:55:39] ppocr INFO: epoch: [186/500], global_step: 558, lr: 0.001000, loss: 1.552799, loss_shrink_maps: 0.829279, loss_threshold_maps: 0.551034, loss_binary_maps: 0.160874, loss_cbn: 0.000000, avg_reader_cost: 0.39493 s, avg_batch_cost: 0.44901 s, avg_samples: 1.5, ips: 3.34070 samples/s, eta: 0:19:31\n",
      "[2023/12/12 06:55:40] ppocr INFO: save model in ./output/db_mv3/latest\n",
      "[2023/12/12 06:55:43] ppocr INFO: epoch: [187/500], global_step: 560, lr: 0.001000, loss: 1.522532, loss_shrink_maps: 0.815126, loss_threshold_maps: 0.548743, loss_binary_maps: 0.159334, loss_cbn: 0.000000, avg_reader_cost: 0.33173 s, avg_batch_cost: 0.37380 s, avg_samples: 1.0, ips: 2.67524 samples/s, eta: 0:19:31\n",
      "[2023/12/12 06:55:43] ppocr INFO: epoch: [187/500], global_step: 561, lr: 0.001000, loss: 1.522532, loss_shrink_maps: 0.815126, loss_threshold_maps: 0.548743, loss_binary_maps: 0.159334, loss_cbn: 0.000000, avg_reader_cost: 0.00001 s, avg_batch_cost: 0.01489 s, avg_samples: 0.5, ips: 33.58759 samples/s, eta: 0:19:27\n",
      "[2023/12/12 06:55:44] ppocr INFO: save model in ./output/db_mv3/latest\n",
      "[2023/12/12 06:55:46] ppocr INFO: epoch: [188/500], global_step: 564, lr: 0.001000, loss: 1.523774, loss_shrink_maps: 0.815126, loss_threshold_maps: 0.544697, loss_binary_maps: 0.159334, loss_cbn: 0.000000, avg_reader_cost: 0.25393 s, avg_batch_cost: 0.31174 s, avg_samples: 1.5, ips: 4.81166 samples/s, eta: 0:19:23\n",
      "[2023/12/12 06:55:47] ppocr INFO: save model in ./output/db_mv3/latest\n",
      "[2023/12/12 06:55:50] ppocr INFO: epoch: [189/500], global_step: 567, lr: 0.001000, loss: 1.552799, loss_shrink_maps: 0.830450, loss_threshold_maps: 0.550071, loss_binary_maps: 0.161159, loss_cbn: 0.000000, avg_reader_cost: 0.25998 s, avg_batch_cost: 0.31627 s, avg_samples: 1.5, ips: 4.74277 samples/s, eta: 0:19:18\n",
      "[2023/12/12 06:55:50] ppocr INFO: save model in ./output/db_mv3/latest\n",
      "[2023/12/12 06:55:54] ppocr INFO: epoch: [190/500], global_step: 570, lr: 0.001000, loss: 1.506918, loss_shrink_maps: 0.830450, loss_threshold_maps: 0.537778, loss_binary_maps: 0.160515, loss_cbn: 0.000000, avg_reader_cost: 0.36647 s, avg_batch_cost: 0.43227 s, avg_samples: 1.5, ips: 3.47008 samples/s, eta: 0:19:15\n",
      "[2023/12/12 06:55:55] ppocr INFO: save model in ./output/db_mv3/latest\n",
      "[2023/12/12 06:55:58] ppocr INFO: epoch: [191/500], global_step: 573, lr: 0.001000, loss: 1.508950, loss_shrink_maps: 0.813683, loss_threshold_maps: 0.537778, loss_binary_maps: 0.156996, loss_cbn: 0.000000, avg_reader_cost: 0.35777 s, avg_batch_cost: 0.41174 s, avg_samples: 1.5, ips: 3.64305 samples/s, eta: 0:19:12\n",
      "[2023/12/12 06:55:59] ppocr INFO: save model in ./output/db_mv3/latest\n",
      "[2023/12/12 06:56:02] ppocr INFO: epoch: [192/500], global_step: 576, lr: 0.001000, loss: 1.505387, loss_shrink_maps: 0.799666, loss_threshold_maps: 0.537778, loss_binary_maps: 0.154417, loss_cbn: 0.000000, avg_reader_cost: 0.26424 s, avg_batch_cost: 0.31794 s, avg_samples: 1.5, ips: 4.71791 samples/s, eta: 0:19:08\n",
      "[2023/12/12 06:56:02] ppocr INFO: save model in ./output/db_mv3/latest\n",
      "[2023/12/12 06:56:05] ppocr INFO: epoch: [193/500], global_step: 579, lr: 0.001000, loss: 1.508950, loss_shrink_maps: 0.813683, loss_threshold_maps: 0.536468, loss_binary_maps: 0.156996, loss_cbn: 0.000000, avg_reader_cost: 0.26778 s, avg_batch_cost: 0.32294 s, avg_samples: 1.5, ips: 4.64477 samples/s, eta: 0:19:03\n",
      "[2023/12/12 06:56:05] ppocr INFO: save model in ./output/db_mv3/latest\n",
      "[2023/12/12 06:56:08] ppocr INFO: epoch: [194/500], global_step: 580, lr: 0.001000, loss: 1.505387, loss_shrink_maps: 0.799666, loss_threshold_maps: 0.527579, loss_binary_maps: 0.154417, loss_cbn: 0.000000, avg_reader_cost: 0.31645 s, avg_batch_cost: 0.34397 s, avg_samples: 0.5, ips: 1.45362 samples/s, eta: 0:19:05\n",
      "[2023/12/12 06:56:09] ppocr INFO: epoch: [194/500], global_step: 582, lr: 0.001000, loss: 1.505387, loss_shrink_maps: 0.794528, loss_threshold_maps: 0.536468, loss_binary_maps: 0.154051, loss_cbn: 0.000000, avg_reader_cost: 0.02953 s, avg_batch_cost: 0.06082 s, avg_samples: 1.0, ips: 16.44245 samples/s, eta: 0:19:00\n",
      "[2023/12/12 06:56:10] ppocr INFO: save model in ./output/db_mv3/latest\n",
      "[2023/12/12 06:56:14] ppocr INFO: epoch: [195/500], global_step: 585, lr: 0.001000, loss: 1.484268, loss_shrink_maps: 0.789295, loss_threshold_maps: 0.525366, loss_binary_maps: 0.153140, loss_cbn: 0.000000, avg_reader_cost: 0.36836 s, avg_batch_cost: 0.42608 s, avg_samples: 1.5, ips: 3.52043 samples/s, eta: 0:18:57\n",
      "[2023/12/12 06:56:14] ppocr INFO: save model in ./output/db_mv3/latest\n",
      "[2023/12/12 06:56:17] ppocr INFO: epoch: [196/500], global_step: 588, lr: 0.001000, loss: 1.492229, loss_shrink_maps: 0.789295, loss_threshold_maps: 0.536634, loss_binary_maps: 0.153140, loss_cbn: 0.000000, avg_reader_cost: 0.26277 s, avg_batch_cost: 0.32105 s, avg_samples: 1.5, ips: 4.67217 samples/s, eta: 0:18:52\n",
      "[2023/12/12 06:56:17] ppocr INFO: save model in ./output/db_mv3/latest\n",
      "[2023/12/12 06:56:20] ppocr INFO: epoch: [197/500], global_step: 590, lr: 0.001000, loss: 1.492229, loss_shrink_maps: 0.782088, loss_threshold_maps: 0.527579, loss_binary_maps: 0.152054, loss_cbn: 0.000000, avg_reader_cost: 0.26783 s, avg_batch_cost: 0.30923 s, avg_samples: 1.0, ips: 3.23382 samples/s, eta: 0:18:51\n",
      "[2023/12/12 06:56:20] ppocr INFO: epoch: [197/500], global_step: 591, lr: 0.001000, loss: 1.492229, loss_shrink_maps: 0.782088, loss_threshold_maps: 0.527579, loss_binary_maps: 0.152173, loss_cbn: 0.000000, avg_reader_cost: 0.00001 s, avg_batch_cost: 0.01473 s, avg_samples: 0.5, ips: 33.93955 samples/s, eta: 0:18:48\n",
      "[2023/12/12 06:56:21] ppocr INFO: save model in ./output/db_mv3/latest\n",
      "[2023/12/12 06:56:25] ppocr INFO: epoch: [198/500], global_step: 594, lr: 0.001000, loss: 1.532689, loss_shrink_maps: 0.806382, loss_threshold_maps: 0.536298, loss_binary_maps: 0.156070, loss_cbn: 0.000000, avg_reader_cost: 0.37510 s, avg_batch_cost: 0.42871 s, avg_samples: 1.5, ips: 3.49889 samples/s, eta: 0:18:45\n",
      "[2023/12/12 06:56:25] ppocr INFO: save model in ./output/db_mv3/latest\n",
      "[2023/12/12 06:56:29] ppocr INFO: epoch: [199/500], global_step: 597, lr: 0.001000, loss: 1.539421, loss_shrink_maps: 0.814585, loss_threshold_maps: 0.553125, loss_binary_maps: 0.157183, loss_cbn: 0.000000, avg_reader_cost: 0.33665 s, avg_batch_cost: 0.39470 s, avg_samples: 1.5, ips: 3.80035 samples/s, eta: 0:18:42\n",
      "[2023/12/12 06:56:29] ppocr INFO: save model in ./output/db_mv3/latest\n",
      "[2023/12/12 06:56:32] ppocr INFO: epoch: [200/500], global_step: 600, lr: 0.001000, loss: 1.544560, loss_shrink_maps: 0.827864, loss_threshold_maps: 0.553125, loss_binary_maps: 0.158432, loss_cbn: 0.000000, avg_reader_cost: 0.25008 s, avg_batch_cost: 0.30457 s, avg_samples: 1.5, ips: 4.92505 samples/s, eta: 0:18:37\n",
      "eval model:: 100% 6/6 [00:02<00:00,  2.69it/s]\n",
      "[2023/12/12 06:56:34] ppocr INFO: cur metric, precision: 0.4444444444444444, recall: 0.39779005524861877, hmean: 0.4198250728862974, fps: 25.737926633202832\n",
      "[2023/12/12 06:56:34] ppocr INFO: best metric, hmean: 0.4255319148936171, is_float16: False, precision: 0.47297297297297297, recall: 0.3867403314917127, fps: 17.476351621153714, best_epoch: 167\n",
      "[2023/12/12 06:56:34] ppocr INFO: save model in ./output/db_mv3/latest\n",
      "[2023/12/12 06:56:38] ppocr INFO: epoch: [201/500], global_step: 603, lr: 0.001000, loss: 1.544560, loss_shrink_maps: 0.840129, loss_threshold_maps: 0.560113, loss_binary_maps: 0.162386, loss_cbn: 0.000000, avg_reader_cost: 0.29052 s, avg_batch_cost: 0.34412 s, avg_samples: 1.5, ips: 4.35891 samples/s, eta: 0:18:33\n",
      "[2023/12/12 06:56:38] ppocr INFO: save model in ./output/db_mv3/latest\n",
      "[2023/12/12 06:56:42] ppocr INFO: epoch: [202/500], global_step: 606, lr: 0.001000, loss: 1.609823, loss_shrink_maps: 0.873731, loss_threshold_maps: 0.553125, loss_binary_maps: 0.169306, loss_cbn: 0.000000, avg_reader_cost: 0.40752 s, avg_batch_cost: 0.46041 s, avg_samples: 1.5, ips: 3.25796 samples/s, eta: 0:18:30\n",
      "[2023/12/12 06:56:43] ppocr INFO: save model in ./output/db_mv3/latest\n",
      "[2023/12/12 06:56:46] ppocr INFO: epoch: [203/500], global_step: 609, lr: 0.001000, loss: 1.609823, loss_shrink_maps: 0.877978, loss_threshold_maps: 0.560113, loss_binary_maps: 0.171325, loss_cbn: 0.000000, avg_reader_cost: 0.26334 s, avg_batch_cost: 0.31938 s, avg_samples: 1.5, ips: 4.69666 samples/s, eta: 0:18:26\n",
      "[2023/12/12 06:56:46] ppocr INFO: save model in ./output/db_mv3/latest\n",
      "[2023/12/12 06:56:49] ppocr INFO: epoch: [204/500], global_step: 610, lr: 0.001000, loss: 1.558251, loss_shrink_maps: 0.857316, loss_threshold_maps: 0.560113, loss_binary_maps: 0.167464, loss_cbn: 0.000000, avg_reader_cost: 0.27551 s, avg_batch_cost: 0.29951 s, avg_samples: 0.5, ips: 1.66940 samples/s, eta: 0:18:27\n",
      "[2023/12/12 06:56:49] ppocr INFO: epoch: [204/500], global_step: 612, lr: 0.001000, loss: 1.609823, loss_shrink_maps: 0.877978, loss_threshold_maps: 0.565139, loss_binary_maps: 0.171325, loss_cbn: 0.000000, avg_reader_cost: 0.00003 s, avg_batch_cost: 0.02960 s, avg_samples: 1.0, ips: 33.78675 samples/s, eta: 0:18:22\n",
      "[2023/12/12 06:56:49] ppocr INFO: save model in ./output/db_mv3/latest\n",
      "[2023/12/12 06:56:53] ppocr INFO: epoch: [205/500], global_step: 615, lr: 0.001000, loss: 1.651864, loss_shrink_maps: 0.886583, loss_threshold_maps: 0.569296, loss_binary_maps: 0.173456, loss_cbn: 0.000000, avg_reader_cost: 0.34961 s, avg_batch_cost: 0.40386 s, avg_samples: 1.5, ips: 3.71420 samples/s, eta: 0:18:18\n",
      "[2023/12/12 06:56:54] ppocr INFO: save model in ./output/db_mv3/latest\n",
      "[2023/12/12 06:56:58] ppocr INFO: epoch: [206/500], global_step: 618, lr: 0.001000, loss: 1.651864, loss_shrink_maps: 0.886583, loss_threshold_maps: 0.569296, loss_binary_maps: 0.173456, loss_cbn: 0.000000, avg_reader_cost: 0.36087 s, avg_batch_cost: 0.41465 s, avg_samples: 1.5, ips: 3.61750 samples/s, eta: 0:18:15\n",
      "[2023/12/12 06:56:58] ppocr INFO: save model in ./output/db_mv3/latest\n",
      "[2023/12/12 06:57:01] ppocr INFO: epoch: [207/500], global_step: 620, lr: 0.001000, loss: 1.651864, loss_shrink_maps: 0.886583, loss_threshold_maps: 0.573105, loss_binary_maps: 0.173456, loss_cbn: 0.000000, avg_reader_cost: 0.27022 s, avg_batch_cost: 0.30850 s, avg_samples: 1.0, ips: 3.24153 samples/s, eta: 0:18:14\n",
      "[2023/12/12 06:57:01] ppocr INFO: epoch: [207/500], global_step: 621, lr: 0.001000, loss: 1.599960, loss_shrink_maps: 0.864073, loss_threshold_maps: 0.569296, loss_binary_maps: 0.167607, loss_cbn: 0.000000, avg_reader_cost: 0.00001 s, avg_batch_cost: 0.01462 s, avg_samples: 0.5, ips: 34.20967 samples/s, eta: 0:18:11\n",
      "[2023/12/12 06:57:01] ppocr INFO: save model in ./output/db_mv3/latest\n",
      "[2023/12/12 06:57:04] ppocr INFO: epoch: [208/500], global_step: 624, lr: 0.001000, loss: 1.625893, loss_shrink_maps: 0.864073, loss_threshold_maps: 0.581386, loss_binary_maps: 0.167607, loss_cbn: 0.000000, avg_reader_cost: 0.26821 s, avg_batch_cost: 0.32132 s, avg_samples: 1.5, ips: 4.66824 samples/s, eta: 0:18:06\n",
      "[2023/12/12 06:57:05] ppocr INFO: save model in ./output/db_mv3/latest\n",
      "[2023/12/12 06:57:08] ppocr INFO: epoch: [209/500], global_step: 627, lr: 0.001000, loss: 1.570229, loss_shrink_maps: 0.833711, loss_threshold_maps: 0.572716, loss_binary_maps: 0.160994, loss_cbn: 0.000000, avg_reader_cost: 0.33890 s, avg_batch_cost: 0.39278 s, avg_samples: 1.5, ips: 3.81889 samples/s, eta: 0:18:03\n",
      "[2023/12/12 06:57:09] ppocr INFO: save model in ./output/db_mv3/latest\n",
      "[2023/12/12 06:57:12] ppocr INFO: epoch: [210/500], global_step: 630, lr: 0.001000, loss: 1.595830, loss_shrink_maps: 0.852899, loss_threshold_maps: 0.571263, loss_binary_maps: 0.163723, loss_cbn: 0.000000, avg_reader_cost: 0.33993 s, avg_batch_cost: 0.39570 s, avg_samples: 1.5, ips: 3.79073 samples/s, eta: 0:17:59\n",
      "[2023/12/12 06:57:13] ppocr INFO: save model in ./output/db_mv3/latest\n",
      "[2023/12/12 06:57:16] ppocr INFO: epoch: [211/500], global_step: 633, lr: 0.001000, loss: 1.552934, loss_shrink_maps: 0.833711, loss_threshold_maps: 0.558295, loss_binary_maps: 0.160994, loss_cbn: 0.000000, avg_reader_cost: 0.27865 s, avg_batch_cost: 0.33326 s, avg_samples: 1.5, ips: 4.50096 samples/s, eta: 0:17:55\n",
      "[2023/12/12 06:57:16] ppocr INFO: save model in ./output/db_mv3/latest\n",
      "[2023/12/12 06:57:19] ppocr INFO: epoch: [212/500], global_step: 636, lr: 0.001000, loss: 1.536123, loss_shrink_maps: 0.823935, loss_threshold_maps: 0.558295, loss_binary_maps: 0.159907, loss_cbn: 0.000000, avg_reader_cost: 0.27901 s, avg_batch_cost: 0.33215 s, avg_samples: 1.5, ips: 4.51604 samples/s, eta: 0:17:51\n",
      "[2023/12/12 06:57:20] ppocr INFO: save model in ./output/db_mv3/latest\n",
      "[2023/12/12 06:57:23] ppocr INFO: epoch: [213/500], global_step: 639, lr: 0.001000, loss: 1.500012, loss_shrink_maps: 0.804698, loss_threshold_maps: 0.555685, loss_binary_maps: 0.157625, loss_cbn: 0.000000, avg_reader_cost: 0.33853 s, avg_batch_cost: 0.39869 s, avg_samples: 1.5, ips: 3.76234 samples/s, eta: 0:17:48\n",
      "[2023/12/12 06:57:24] ppocr INFO: save model in ./output/db_mv3/latest\n",
      "[2023/12/12 06:57:27] ppocr INFO: epoch: [214/500], global_step: 640, lr: 0.001000, loss: 1.536123, loss_shrink_maps: 0.825858, loss_threshold_maps: 0.555685, loss_binary_maps: 0.161310, loss_cbn: 0.000000, avg_reader_cost: 0.33257 s, avg_batch_cost: 0.36029 s, avg_samples: 0.5, ips: 1.38775 samples/s, eta: 0:17:49\n",
      "[2023/12/12 06:57:28] ppocr INFO: epoch: [214/500], global_step: 642, lr: 0.001000, loss: 1.536123, loss_shrink_maps: 0.833042, loss_threshold_maps: 0.555685, loss_binary_maps: 0.162196, loss_cbn: 0.000000, avg_reader_cost: 0.01964 s, avg_batch_cost: 0.04988 s, avg_samples: 1.0, ips: 20.04998 samples/s, eta: 0:17:44\n",
      "[2023/12/12 06:57:28] ppocr INFO: save model in ./output/db_mv3/latest\n",
      "[2023/12/12 06:57:31] ppocr INFO: epoch: [215/500], global_step: 645, lr: 0.001000, loss: 1.536123, loss_shrink_maps: 0.833042, loss_threshold_maps: 0.550577, loss_binary_maps: 0.162196, loss_cbn: 0.000000, avg_reader_cost: 0.25124 s, avg_batch_cost: 0.30840 s, avg_samples: 1.5, ips: 4.86383 samples/s, eta: 0:17:40\n",
      "[2023/12/12 06:57:31] ppocr INFO: save model in ./output/db_mv3/latest\n",
      "[2023/12/12 06:57:34] ppocr INFO: epoch: [216/500], global_step: 648, lr: 0.001000, loss: 1.532421, loss_shrink_maps: 0.833042, loss_threshold_maps: 0.534360, loss_binary_maps: 0.162196, loss_cbn: 0.000000, avg_reader_cost: 0.27718 s, avg_batch_cost: 0.33131 s, avg_samples: 1.5, ips: 4.52742 samples/s, eta: 0:17:36\n",
      "[2023/12/12 06:57:34] ppocr INFO: save model in ./output/db_mv3/latest\n",
      "[2023/12/12 06:57:37] ppocr INFO: epoch: [217/500], global_step: 650, lr: 0.001000, loss: 1.532421, loss_shrink_maps: 0.824784, loss_threshold_maps: 0.524263, loss_binary_maps: 0.160619, loss_cbn: 0.000000, avg_reader_cost: 0.27556 s, avg_batch_cost: 0.32572 s, avg_samples: 1.0, ips: 3.07013 samples/s, eta: 0:17:34\n",
      "[2023/12/12 06:57:38] ppocr INFO: epoch: [217/500], global_step: 651, lr: 0.001000, loss: 1.532421, loss_shrink_maps: 0.824784, loss_threshold_maps: 0.524263, loss_binary_maps: 0.160619, loss_cbn: 0.000000, avg_reader_cost: 0.03420 s, avg_batch_cost: 0.04992 s, avg_samples: 0.5, ips: 10.01587 samples/s, eta: 0:17:32\n",
      "[2023/12/12 06:57:39] ppocr INFO: save model in ./output/db_mv3/latest\n",
      "[2023/12/12 06:57:43] ppocr INFO: epoch: [218/500], global_step: 654, lr: 0.001000, loss: 1.478607, loss_shrink_maps: 0.810751, loss_threshold_maps: 0.525816, loss_binary_maps: 0.157608, loss_cbn: 0.000000, avg_reader_cost: 0.46747 s, avg_batch_cost: 0.52300 s, avg_samples: 1.5, ips: 2.86808 samples/s, eta: 0:17:30\n",
      "[2023/12/12 06:57:44] ppocr INFO: save model in ./output/db_mv3/latest\n",
      "[2023/12/12 06:57:48] ppocr INFO: epoch: [219/500], global_step: 657, lr: 0.001000, loss: 1.478607, loss_shrink_maps: 0.800329, loss_threshold_maps: 0.525816, loss_binary_maps: 0.156378, loss_cbn: 0.000000, avg_reader_cost: 0.37550 s, avg_batch_cost: 0.42890 s, avg_samples: 1.5, ips: 3.49729 samples/s, eta: 0:17:27\n",
      "[2023/12/12 06:57:48] ppocr INFO: save model in ./output/db_mv3/latest\n",
      "[2023/12/12 06:57:51] ppocr INFO: epoch: [220/500], global_step: 660, lr: 0.001000, loss: 1.504653, loss_shrink_maps: 0.800329, loss_threshold_maps: 0.534139, loss_binary_maps: 0.156378, loss_cbn: 0.000000, avg_reader_cost: 0.30126 s, avg_batch_cost: 0.35513 s, avg_samples: 1.5, ips: 4.22376 samples/s, eta: 0:17:23\n",
      "[2023/12/12 06:57:52] ppocr INFO: save model in ./output/db_mv3/latest\n",
      "[2023/12/12 06:57:56] ppocr INFO: epoch: [221/500], global_step: 663, lr: 0.001000, loss: 1.502686, loss_shrink_maps: 0.797132, loss_threshold_maps: 0.540871, loss_binary_maps: 0.156065, loss_cbn: 0.000000, avg_reader_cost: 0.40476 s, avg_batch_cost: 0.45686 s, avg_samples: 1.5, ips: 3.28328 samples/s, eta: 0:17:20\n",
      "[2023/12/12 06:57:56] ppocr INFO: save model in ./output/db_mv3/latest\n",
      "[2023/12/12 06:58:00] ppocr INFO: epoch: [222/500], global_step: 666, lr: 0.001000, loss: 1.428770, loss_shrink_maps: 0.766988, loss_threshold_maps: 0.532045, loss_binary_maps: 0.151708, loss_cbn: 0.000000, avg_reader_cost: 0.31079 s, avg_batch_cost: 0.36454 s, avg_samples: 1.5, ips: 4.11480 samples/s, eta: 0:17:17\n",
      "[2023/12/12 06:58:00] ppocr INFO: save model in ./output/db_mv3/latest\n",
      "[2023/12/12 06:58:04] ppocr INFO: epoch: [223/500], global_step: 669, lr: 0.001000, loss: 1.446164, loss_shrink_maps: 0.781626, loss_threshold_maps: 0.532045, loss_binary_maps: 0.154299, loss_cbn: 0.000000, avg_reader_cost: 0.30355 s, avg_batch_cost: 0.35576 s, avg_samples: 1.5, ips: 4.21629 samples/s, eta: 0:17:13\n",
      "[2023/12/12 06:58:04] ppocr INFO: save model in ./output/db_mv3/latest\n",
      "[2023/12/12 06:58:07] ppocr INFO: epoch: [224/500], global_step: 670, lr: 0.001000, loss: 1.428770, loss_shrink_maps: 0.766988, loss_threshold_maps: 0.525964, loss_binary_maps: 0.151708, loss_cbn: 0.000000, avg_reader_cost: 0.28867 s, avg_batch_cost: 0.31577 s, avg_samples: 0.5, ips: 1.58342 samples/s, eta: 0:17:14\n",
      "[2023/12/12 06:58:07] ppocr INFO: epoch: [224/500], global_step: 672, lr: 0.001000, loss: 1.428770, loss_shrink_maps: 0.766988, loss_threshold_maps: 0.525964, loss_binary_maps: 0.151708, loss_cbn: 0.000000, avg_reader_cost: 0.02211 s, avg_batch_cost: 0.05220 s, avg_samples: 1.0, ips: 19.15695 samples/s, eta: 0:17:09\n",
      "[2023/12/12 06:58:08] ppocr INFO: save model in ./output/db_mv3/latest\n",
      "[2023/12/12 06:58:11] ppocr INFO: epoch: [225/500], global_step: 675, lr: 0.001000, loss: 1.422252, loss_shrink_maps: 0.766895, loss_threshold_maps: 0.524058, loss_binary_maps: 0.151099, loss_cbn: 0.000000, avg_reader_cost: 0.34709 s, avg_batch_cost: 0.40140 s, avg_samples: 1.5, ips: 3.73691 samples/s, eta: 0:17:06\n",
      "[2023/12/12 06:58:12] ppocr INFO: save model in ./output/db_mv3/latest\n",
      "[2023/12/12 06:58:15] ppocr INFO: epoch: [226/500], global_step: 678, lr: 0.001000, loss: 1.413075, loss_shrink_maps: 0.755073, loss_threshold_maps: 0.523522, loss_binary_maps: 0.149595, loss_cbn: 0.000000, avg_reader_cost: 0.25524 s, avg_batch_cost: 0.31316 s, avg_samples: 1.5, ips: 4.78985 samples/s, eta: 0:17:01\n",
      "[2023/12/12 06:58:15] ppocr INFO: save model in ./output/db_mv3/latest\n",
      "[2023/12/12 06:58:18] ppocr INFO: epoch: [227/500], global_step: 680, lr: 0.001000, loss: 1.402463, loss_shrink_maps: 0.741755, loss_threshold_maps: 0.509809, loss_binary_maps: 0.146854, loss_cbn: 0.000000, avg_reader_cost: 0.27397 s, avg_batch_cost: 0.31361 s, avg_samples: 1.0, ips: 3.18871 samples/s, eta: 0:16:59\n",
      "[2023/12/12 06:58:18] ppocr INFO: epoch: [227/500], global_step: 681, lr: 0.001000, loss: 1.402463, loss_shrink_maps: 0.741755, loss_threshold_maps: 0.509419, loss_binary_maps: 0.146854, loss_cbn: 0.000000, avg_reader_cost: 0.00001 s, avg_batch_cost: 0.01469 s, avg_samples: 0.5, ips: 34.04462 samples/s, eta: 0:16:57\n",
      "[2023/12/12 06:58:18] ppocr INFO: save model in ./output/db_mv3/latest\n",
      "[2023/12/12 06:58:22] ppocr INFO: epoch: [228/500], global_step: 684, lr: 0.001000, loss: 1.402463, loss_shrink_maps: 0.747198, loss_threshold_maps: 0.506188, loss_binary_maps: 0.147647, loss_cbn: 0.000000, avg_reader_cost: 0.35315 s, avg_batch_cost: 0.40773 s, avg_samples: 1.5, ips: 3.67895 samples/s, eta: 0:16:53\n",
      "[2023/12/12 06:58:23] ppocr INFO: save model in ./output/db_mv3/latest\n",
      "[2023/12/12 06:58:27] ppocr INFO: epoch: [229/500], global_step: 687, lr: 0.001000, loss: 1.393174, loss_shrink_maps: 0.740129, loss_threshold_maps: 0.509170, loss_binary_maps: 0.145670, loss_cbn: 0.000000, avg_reader_cost: 0.36127 s, avg_batch_cost: 0.41824 s, avg_samples: 1.5, ips: 3.58644 samples/s, eta: 0:16:50\n",
      "[2023/12/12 06:58:27] ppocr INFO: save model in ./output/db_mv3/latest\n",
      "[2023/12/12 06:58:30] ppocr INFO: epoch: [230/500], global_step: 690, lr: 0.001000, loss: 1.411640, loss_shrink_maps: 0.747198, loss_threshold_maps: 0.509419, loss_binary_maps: 0.147647, loss_cbn: 0.000000, avg_reader_cost: 0.27254 s, avg_batch_cost: 0.32562 s, avg_samples: 1.5, ips: 4.60656 samples/s, eta: 0:16:46\n",
      "[2023/12/12 06:58:30] ppocr INFO: save model in ./output/db_mv3/latest\n",
      "[2023/12/12 06:58:34] ppocr INFO: epoch: [231/500], global_step: 693, lr: 0.001000, loss: 1.404911, loss_shrink_maps: 0.738507, loss_threshold_maps: 0.509419, loss_binary_maps: 0.145670, loss_cbn: 0.000000, avg_reader_cost: 0.29544 s, avg_batch_cost: 0.34915 s, avg_samples: 1.5, ips: 4.29612 samples/s, eta: 0:16:42\n",
      "[2023/12/12 06:58:34] ppocr INFO: save model in ./output/db_mv3/latest\n",
      "[2023/12/12 06:58:38] ppocr INFO: epoch: [232/500], global_step: 696, lr: 0.001000, loss: 1.393174, loss_shrink_maps: 0.738907, loss_threshold_maps: 0.509324, loss_binary_maps: 0.145670, loss_cbn: 0.000000, avg_reader_cost: 0.35513 s, avg_batch_cost: 0.42140 s, avg_samples: 1.5, ips: 3.55955 samples/s, eta: 0:16:39\n",
      "[2023/12/12 06:58:39] ppocr INFO: save model in ./output/db_mv3/latest\n",
      "[2023/12/12 06:58:42] ppocr INFO: epoch: [233/500], global_step: 699, lr: 0.001000, loss: 1.381984, loss_shrink_maps: 0.731841, loss_threshold_maps: 0.511165, loss_binary_maps: 0.144001, loss_cbn: 0.000000, avg_reader_cost: 0.34630 s, avg_batch_cost: 0.40132 s, avg_samples: 1.5, ips: 3.73764 samples/s, eta: 0:16:35\n",
      "[2023/12/12 06:58:42] ppocr INFO: save model in ./output/db_mv3/latest\n",
      "[2023/12/12 06:58:45] ppocr INFO: epoch: [234/500], global_step: 700, lr: 0.001000, loss: 1.378272, loss_shrink_maps: 0.731175, loss_threshold_maps: 0.515424, loss_binary_maps: 0.142820, loss_cbn: 0.000000, avg_reader_cost: 0.24417 s, avg_batch_cost: 0.27138 s, avg_samples: 0.5, ips: 1.84245 samples/s, eta: 0:16:36\n",
      "eval model:: 100% 6/6 [00:02<00:00,  2.53it/s]\n",
      "[2023/12/12 06:58:47] ppocr INFO: cur metric, precision: 0.496551724137931, recall: 0.39779005524861877, hmean: 0.44171779141104295, fps: 22.121662081029527\n",
      "[2023/12/12 06:58:47] ppocr INFO: save best model is to ./output/db_mv3/best_accuracy\n",
      "[2023/12/12 06:58:47] ppocr INFO: best metric, hmean: 0.44171779141104295, is_float16: False, precision: 0.496551724137931, recall: 0.39779005524861877, fps: 22.121662081029527, best_epoch: 234\n",
      "[2023/12/12 06:58:48] ppocr INFO: epoch: [234/500], global_step: 702, lr: 0.001000, loss: 1.377092, loss_shrink_maps: 0.727684, loss_threshold_maps: 0.520958, loss_binary_maps: 0.141537, loss_cbn: 0.000000, avg_reader_cost: 0.00004 s, avg_batch_cost: 0.03594 s, avg_samples: 1.0, ips: 27.82502 samples/s, eta: 0:16:31\n",
      "[2023/12/12 06:58:48] ppocr INFO: save model in ./output/db_mv3/latest\n",
      "[2023/12/12 06:58:52] ppocr INFO: epoch: [235/500], global_step: 705, lr: 0.001000, loss: 1.376142, loss_shrink_maps: 0.723098, loss_threshold_maps: 0.528680, loss_binary_maps: 0.140257, loss_cbn: 0.000000, avg_reader_cost: 0.33012 s, avg_batch_cost: 0.38839 s, avg_samples: 1.5, ips: 3.86214 samples/s, eta: 0:16:27\n",
      "[2023/12/12 06:58:52] ppocr INFO: save model in ./output/db_mv3/latest\n",
      "[2023/12/12 06:58:56] ppocr INFO: epoch: [236/500], global_step: 708, lr: 0.001000, loss: 1.359439, loss_shrink_maps: 0.716361, loss_threshold_maps: 0.520958, loss_binary_maps: 0.138791, loss_cbn: 0.000000, avg_reader_cost: 0.36546 s, avg_batch_cost: 0.41980 s, avg_samples: 1.5, ips: 3.57313 samples/s, eta: 0:16:24\n",
      "[2023/12/12 06:58:56] ppocr INFO: save model in ./output/db_mv3/latest\n",
      "[2023/12/12 06:58:59] ppocr INFO: epoch: [237/500], global_step: 710, lr: 0.001000, loss: 1.359439, loss_shrink_maps: 0.716361, loss_threshold_maps: 0.511165, loss_binary_maps: 0.138791, loss_cbn: 0.000000, avg_reader_cost: 0.24912 s, avg_batch_cost: 0.28947 s, avg_samples: 1.0, ips: 3.45458 samples/s, eta: 0:16:22\n",
      "[2023/12/12 06:58:59] ppocr INFO: epoch: [237/500], global_step: 711, lr: 0.001000, loss: 1.359439, loss_shrink_maps: 0.716361, loss_threshold_maps: 0.511165, loss_binary_maps: 0.138791, loss_cbn: 0.000000, avg_reader_cost: 0.00001 s, avg_batch_cost: 0.01470 s, avg_samples: 0.5, ips: 34.01243 samples/s, eta: 0:16:20\n",
      "[2023/12/12 06:59:00] ppocr INFO: save model in ./output/db_mv3/latest\n",
      "[2023/12/12 06:59:03] ppocr INFO: epoch: [238/500], global_step: 714, lr: 0.001000, loss: 1.352219, loss_shrink_maps: 0.715474, loss_threshold_maps: 0.498313, loss_binary_maps: 0.138791, loss_cbn: 0.000000, avg_reader_cost: 0.26553 s, avg_batch_cost: 0.31795 s, avg_samples: 1.5, ips: 4.71774 samples/s, eta: 0:16:15\n",
      "[2023/12/12 06:59:03] ppocr INFO: save model in ./output/db_mv3/latest\n",
      "[2023/12/12 06:59:06] ppocr INFO: epoch: [239/500], global_step: 717, lr: 0.001000, loss: 1.354884, loss_shrink_maps: 0.717832, loss_threshold_maps: 0.498313, loss_binary_maps: 0.139186, loss_cbn: 0.000000, avg_reader_cost: 0.30469 s, avg_batch_cost: 0.35990 s, avg_samples: 1.5, ips: 4.16788 samples/s, eta: 0:16:12\n",
      "[2023/12/12 06:59:07] ppocr INFO: save model in ./output/db_mv3/latest\n",
      "[2023/12/12 06:59:11] ppocr INFO: epoch: [240/500], global_step: 720, lr: 0.001000, loss: 1.364389, loss_shrink_maps: 0.719496, loss_threshold_maps: 0.498313, loss_binary_maps: 0.139676, loss_cbn: 0.000000, avg_reader_cost: 0.41322 s, avg_batch_cost: 0.46594 s, avg_samples: 1.5, ips: 3.21931 samples/s, eta: 0:16:09\n",
      "[2023/12/12 06:59:11] ppocr INFO: save model in ./output/db_mv3/latest\n",
      "[2023/12/12 06:59:14] ppocr INFO: epoch: [241/500], global_step: 723, lr: 0.001000, loss: 1.364389, loss_shrink_maps: 0.721292, loss_threshold_maps: 0.508398, loss_binary_maps: 0.139887, loss_cbn: 0.000000, avg_reader_cost: 0.25844 s, avg_batch_cost: 0.31389 s, avg_samples: 1.5, ips: 4.77881 samples/s, eta: 0:16:04\n",
      "[2023/12/12 06:59:15] ppocr INFO: save model in ./output/db_mv3/latest\n",
      "[2023/12/12 06:59:18] ppocr INFO: epoch: [242/500], global_step: 726, lr: 0.001000, loss: 1.377299, loss_shrink_maps: 0.721292, loss_threshold_maps: 0.508398, loss_binary_maps: 0.139887, loss_cbn: 0.000000, avg_reader_cost: 0.26054 s, avg_batch_cost: 0.31724 s, avg_samples: 1.5, ips: 4.72826 samples/s, eta: 0:16:00\n",
      "[2023/12/12 06:59:18] ppocr INFO: save model in ./output/db_mv3/latest\n",
      "[2023/12/12 06:59:22] ppocr INFO: epoch: [243/500], global_step: 729, lr: 0.001000, loss: 1.411943, loss_shrink_maps: 0.733341, loss_threshold_maps: 0.508398, loss_binary_maps: 0.142825, loss_cbn: 0.000000, avg_reader_cost: 0.32793 s, avg_batch_cost: 0.39774 s, avg_samples: 1.5, ips: 3.77131 samples/s, eta: 0:15:57\n",
      "[2023/12/12 06:59:22] ppocr INFO: save model in ./output/db_mv3/latest\n",
      "[2023/12/12 06:59:25] ppocr INFO: epoch: [244/500], global_step: 730, lr: 0.001000, loss: 1.451124, loss_shrink_maps: 0.758989, loss_threshold_maps: 0.513120, loss_binary_maps: 0.149273, loss_cbn: 0.000000, avg_reader_cost: 0.33608 s, avg_batch_cost: 0.35827 s, avg_samples: 0.5, ips: 1.39558 samples/s, eta: 0:15:58\n",
      "[2023/12/12 06:59:26] ppocr INFO: epoch: [244/500], global_step: 732, lr: 0.001000, loss: 1.467070, loss_shrink_maps: 0.766119, loss_threshold_maps: 0.514361, loss_binary_maps: 0.151285, loss_cbn: 0.000000, avg_reader_cost: 0.01222 s, avg_batch_cost: 0.04339 s, avg_samples: 1.0, ips: 23.04883 samples/s, eta: 0:15:53\n",
      "[2023/12/12 06:59:26] ppocr INFO: save model in ./output/db_mv3/latest\n",
      "[2023/12/12 06:59:29] ppocr INFO: epoch: [245/500], global_step: 735, lr: 0.001000, loss: 1.467070, loss_shrink_maps: 0.766119, loss_threshold_maps: 0.513120, loss_binary_maps: 0.151309, loss_cbn: 0.000000, avg_reader_cost: 0.25536 s, avg_batch_cost: 0.31081 s, avg_samples: 1.5, ips: 4.82613 samples/s, eta: 0:15:49\n",
      "[2023/12/12 06:59:29] ppocr INFO: save model in ./output/db_mv3/latest\n",
      "[2023/12/12 06:59:32] ppocr INFO: epoch: [246/500], global_step: 738, lr: 0.001000, loss: 1.467070, loss_shrink_maps: 0.779751, loss_threshold_maps: 0.514361, loss_binary_maps: 0.152860, loss_cbn: 0.000000, avg_reader_cost: 0.25199 s, avg_batch_cost: 0.30783 s, avg_samples: 1.5, ips: 4.87280 samples/s, eta: 0:15:44\n",
      "[2023/12/12 06:59:33] ppocr INFO: save model in ./output/db_mv3/latest\n",
      "[2023/12/12 06:59:36] ppocr INFO: epoch: [247/500], global_step: 740, lr: 0.001000, loss: 1.474211, loss_shrink_maps: 0.779751, loss_threshold_maps: 0.513798, loss_binary_maps: 0.152860, loss_cbn: 0.000000, avg_reader_cost: 0.29797 s, avg_batch_cost: 0.34447 s, avg_samples: 1.0, ips: 2.90297 samples/s, eta: 0:15:43\n",
      "[2023/12/12 06:59:36] ppocr INFO: epoch: [247/500], global_step: 741, lr: 0.001000, loss: 1.466854, loss_shrink_maps: 0.770045, loss_threshold_maps: 0.501640, loss_binary_maps: 0.151230, loss_cbn: 0.000000, avg_reader_cost: 0.00002 s, avg_batch_cost: 0.01491 s, avg_samples: 0.5, ips: 33.52847 samples/s, eta: 0:15:41\n",
      "[2023/12/12 06:59:37] ppocr INFO: save model in ./output/db_mv3/latest\n",
      "[2023/12/12 06:59:40] ppocr INFO: epoch: [248/500], global_step: 744, lr: 0.001000, loss: 1.474211, loss_shrink_maps: 0.790431, loss_threshold_maps: 0.521029, loss_binary_maps: 0.154389, loss_cbn: 0.000000, avg_reader_cost: 0.37814 s, avg_batch_cost: 0.43076 s, avg_samples: 1.5, ips: 3.48219 samples/s, eta: 0:15:38\n",
      "[2023/12/12 06:59:41] ppocr INFO: save model in ./output/db_mv3/latest\n",
      "[2023/12/12 06:59:44] ppocr INFO: epoch: [249/500], global_step: 747, lr: 0.001000, loss: 1.466854, loss_shrink_maps: 0.781199, loss_threshold_maps: 0.521029, loss_binary_maps: 0.153781, loss_cbn: 0.000000, avg_reader_cost: 0.26982 s, avg_batch_cost: 0.32220 s, avg_samples: 1.5, ips: 4.65546 samples/s, eta: 0:15:33\n",
      "[2023/12/12 06:59:44] ppocr INFO: save model in ./output/db_mv3/latest\n",
      "[2023/12/12 06:59:47] ppocr INFO: epoch: [250/500], global_step: 750, lr: 0.001000, loss: 1.452251, loss_shrink_maps: 0.774523, loss_threshold_maps: 0.516914, loss_binary_maps: 0.151230, loss_cbn: 0.000000, avg_reader_cost: 0.25980 s, avg_batch_cost: 0.31724 s, avg_samples: 1.5, ips: 4.72835 samples/s, eta: 0:15:29\n",
      "[2023/12/12 06:59:47] ppocr INFO: save model in ./output/db_mv3/latest\n",
      "[2023/12/12 06:59:51] ppocr INFO: epoch: [251/500], global_step: 753, lr: 0.001000, loss: 1.438354, loss_shrink_maps: 0.781199, loss_threshold_maps: 0.516914, loss_binary_maps: 0.152342, loss_cbn: 0.000000, avg_reader_cost: 0.33561 s, avg_batch_cost: 0.39792 s, avg_samples: 1.5, ips: 3.76963 samples/s, eta: 0:15:26\n",
      "[2023/12/12 06:59:52] ppocr INFO: save model in ./output/db_mv3/latest\n",
      "[2023/12/12 06:59:56] ppocr INFO: epoch: [252/500], global_step: 756, lr: 0.001000, loss: 1.393975, loss_shrink_maps: 0.764171, loss_threshold_maps: 0.506490, loss_binary_maps: 0.148312, loss_cbn: 0.000000, avg_reader_cost: 0.39689 s, avg_batch_cost: 0.45097 s, avg_samples: 1.5, ips: 3.32614 samples/s, eta: 0:15:23\n",
      "[2023/12/12 06:59:56] ppocr INFO: save model in ./output/db_mv3/latest\n",
      "[2023/12/12 06:59:59] ppocr INFO: epoch: [253/500], global_step: 759, lr: 0.001000, loss: 1.379253, loss_shrink_maps: 0.749947, loss_threshold_maps: 0.504346, loss_binary_maps: 0.146506, loss_cbn: 0.000000, avg_reader_cost: 0.26727 s, avg_batch_cost: 0.32328 s, avg_samples: 1.5, ips: 4.63998 samples/s, eta: 0:15:18\n",
      "[2023/12/12 06:59:59] ppocr INFO: save model in ./output/db_mv3/latest\n",
      "[2023/12/12 07:00:02] ppocr INFO: epoch: [254/500], global_step: 760, lr: 0.001000, loss: 1.379253, loss_shrink_maps: 0.734921, loss_threshold_maps: 0.504346, loss_binary_maps: 0.144510, loss_cbn: 0.000000, avg_reader_cost: 0.28567 s, avg_batch_cost: 0.30958 s, avg_samples: 0.5, ips: 1.61507 samples/s, eta: 0:15:19\n",
      "[2023/12/12 07:00:03] ppocr INFO: epoch: [254/500], global_step: 762, lr: 0.001000, loss: 1.413749, loss_shrink_maps: 0.755832, loss_threshold_maps: 0.509858, loss_binary_maps: 0.147684, loss_cbn: 0.000000, avg_reader_cost: 0.00003 s, avg_batch_cost: 0.02940 s, avg_samples: 1.0, ips: 34.00857 samples/s, eta: 0:15:14\n",
      "[2023/12/12 07:00:03] ppocr INFO: save model in ./output/db_mv3/latest\n",
      "[2023/12/12 07:00:07] ppocr INFO: epoch: [255/500], global_step: 765, lr: 0.001000, loss: 1.413749, loss_shrink_maps: 0.741700, loss_threshold_maps: 0.509858, loss_binary_maps: 0.142022, loss_cbn: 0.000000, avg_reader_cost: 0.34471 s, avg_batch_cost: 0.40540 s, avg_samples: 1.5, ips: 3.70006 samples/s, eta: 0:15:11\n",
      "[2023/12/12 07:00:07] ppocr INFO: save model in ./output/db_mv3/latest\n",
      "[2023/12/12 07:00:11] ppocr INFO: epoch: [256/500], global_step: 768, lr: 0.001000, loss: 1.393975, loss_shrink_maps: 0.727547, loss_threshold_maps: 0.506981, loss_binary_maps: 0.140592, loss_cbn: 0.000000, avg_reader_cost: 0.38464 s, avg_batch_cost: 0.43848 s, avg_samples: 1.5, ips: 3.42089 samples/s, eta: 0:15:08\n",
      "[2023/12/12 07:00:12] ppocr INFO: save model in ./output/db_mv3/latest\n",
      "[2023/12/12 07:00:14] ppocr INFO: epoch: [257/500], global_step: 770, lr: 0.001000, loss: 1.399676, loss_shrink_maps: 0.715588, loss_threshold_maps: 0.511111, loss_binary_maps: 0.139537, loss_cbn: 0.000000, avg_reader_cost: 0.26487 s, avg_batch_cost: 0.30493 s, avg_samples: 1.0, ips: 3.27949 samples/s, eta: 0:15:06\n",
      "[2023/12/12 07:00:15] ppocr INFO: epoch: [257/500], global_step: 771, lr: 0.001000, loss: 1.369636, loss_shrink_maps: 0.703017, loss_threshold_maps: 0.511111, loss_binary_maps: 0.136621, loss_cbn: 0.000000, avg_reader_cost: 0.00001 s, avg_batch_cost: 0.01492 s, avg_samples: 0.5, ips: 33.50554 samples/s, eta: 0:15:04\n",
      "[2023/12/12 07:00:15] ppocr INFO: save model in ./output/db_mv3/latest\n",
      "[2023/12/12 07:00:18] ppocr INFO: epoch: [258/500], global_step: 774, lr: 0.001000, loss: 1.366190, loss_shrink_maps: 0.719883, loss_threshold_maps: 0.509084, loss_binary_maps: 0.140521, loss_cbn: 0.000000, avg_reader_cost: 0.25775 s, avg_batch_cost: 0.31421 s, avg_samples: 1.5, ips: 4.77389 samples/s, eta: 0:14:59\n",
      "[2023/12/12 07:00:18] ppocr INFO: save model in ./output/db_mv3/latest\n",
      "[2023/12/12 07:00:22] ppocr INFO: epoch: [259/500], global_step: 777, lr: 0.001000, loss: 1.366190, loss_shrink_maps: 0.719883, loss_threshold_maps: 0.509084, loss_binary_maps: 0.140521, loss_cbn: 0.000000, avg_reader_cost: 0.39855 s, avg_batch_cost: 0.45465 s, avg_samples: 1.5, ips: 3.29921 samples/s, eta: 0:14:56\n",
      "[2023/12/12 07:00:23] ppocr INFO: save model in ./output/db_mv3/latest\n",
      "[2023/12/12 07:00:27] ppocr INFO: epoch: [260/500], global_step: 780, lr: 0.001000, loss: 1.388288, loss_shrink_maps: 0.729566, loss_threshold_maps: 0.509084, loss_binary_maps: 0.142022, loss_cbn: 0.000000, avg_reader_cost: 0.35306 s, avg_batch_cost: 0.40699 s, avg_samples: 1.5, ips: 3.68557 samples/s, eta: 0:14:53\n",
      "[2023/12/12 07:00:27] ppocr INFO: save model in ./output/db_mv3/latest\n",
      "[2023/12/12 07:00:30] ppocr INFO: epoch: [261/500], global_step: 783, lr: 0.001000, loss: 1.379630, loss_shrink_maps: 0.719883, loss_threshold_maps: 0.509084, loss_binary_maps: 0.140836, loss_cbn: 0.000000, avg_reader_cost: 0.26453 s, avg_batch_cost: 0.31683 s, avg_samples: 1.5, ips: 4.73446 samples/s, eta: 0:14:49\n",
      "[2023/12/12 07:00:30] ppocr INFO: save model in ./output/db_mv3/latest\n",
      "[2023/12/12 07:00:33] ppocr INFO: epoch: [262/500], global_step: 786, lr: 0.001000, loss: 1.361144, loss_shrink_maps: 0.714927, loss_threshold_maps: 0.499595, loss_binary_maps: 0.139598, loss_cbn: 0.000000, avg_reader_cost: 0.24923 s, avg_batch_cost: 0.30722 s, avg_samples: 1.5, ips: 4.88257 samples/s, eta: 0:14:45\n",
      "[2023/12/12 07:00:34] ppocr INFO: save model in ./output/db_mv3/latest\n",
      "[2023/12/12 07:00:37] ppocr INFO: epoch: [263/500], global_step: 789, lr: 0.001000, loss: 1.354500, loss_shrink_maps: 0.710864, loss_threshold_maps: 0.490194, loss_binary_maps: 0.138730, loss_cbn: 0.000000, avg_reader_cost: 0.35378 s, avg_batch_cost: 0.41178 s, avg_samples: 1.5, ips: 3.64268 samples/s, eta: 0:14:41\n",
      "[2023/12/12 07:00:38] ppocr INFO: save model in ./output/db_mv3/latest\n",
      "[2023/12/12 07:00:41] ppocr INFO: epoch: [264/500], global_step: 790, lr: 0.001000, loss: 1.349499, loss_shrink_maps: 0.708637, loss_threshold_maps: 0.479391, loss_binary_maps: 0.138730, loss_cbn: 0.000000, avg_reader_cost: 0.37445 s, avg_batch_cost: 0.39855 s, avg_samples: 0.5, ips: 1.25455 samples/s, eta: 0:14:42\n",
      "[2023/12/12 07:00:42] ppocr INFO: epoch: [264/500], global_step: 792, lr: 0.001000, loss: 1.349499, loss_shrink_maps: 0.708637, loss_threshold_maps: 0.487873, loss_binary_maps: 0.138730, loss_cbn: 0.000000, avg_reader_cost: 0.00003 s, avg_batch_cost: 0.02949 s, avg_samples: 1.0, ips: 33.90912 samples/s, eta: 0:14:38\n",
      "[2023/12/12 07:00:42] ppocr INFO: save model in ./output/db_mv3/latest\n",
      "[2023/12/12 07:00:45] ppocr INFO: epoch: [265/500], global_step: 795, lr: 0.001000, loss: 1.329352, loss_shrink_maps: 0.704097, loss_threshold_maps: 0.487873, loss_binary_maps: 0.137842, loss_cbn: 0.000000, avg_reader_cost: 0.29657 s, avg_batch_cost: 0.35041 s, avg_samples: 1.5, ips: 4.28070 samples/s, eta: 0:14:34\n",
      "[2023/12/12 07:00:46] ppocr INFO: save model in ./output/db_mv3/latest\n",
      "[2023/12/12 07:00:49] ppocr INFO: epoch: [266/500], global_step: 798, lr: 0.001000, loss: 1.358927, loss_shrink_maps: 0.713894, loss_threshold_maps: 0.485498, loss_binary_maps: 0.139572, loss_cbn: 0.000000, avg_reader_cost: 0.27867 s, avg_batch_cost: 0.33228 s, avg_samples: 1.5, ips: 4.51430 samples/s, eta: 0:14:30\n",
      "[2023/12/12 07:00:49] ppocr INFO: save model in ./output/db_mv3/latest\n",
      "[2023/12/12 07:00:53] ppocr INFO: epoch: [267/500], global_step: 800, lr: 0.001000, loss: 1.328630, loss_shrink_maps: 0.704097, loss_threshold_maps: 0.485498, loss_binary_maps: 0.137842, loss_cbn: 0.000000, avg_reader_cost: 0.36575 s, avg_batch_cost: 0.40999 s, avg_samples: 1.0, ips: 2.43911 samples/s, eta: 0:14:29\n",
      "eval model:: 100% 6/6 [00:03<00:00,  1.69it/s]\n",
      "[2023/12/12 07:00:57] ppocr INFO: cur metric, precision: 0.5059523809523809, recall: 0.4696132596685083, hmean: 0.4871060171919771, fps: 18.26470581831404\n",
      "[2023/12/12 07:00:57] ppocr INFO: save best model is to ./output/db_mv3/best_accuracy\n",
      "[2023/12/12 07:00:57] ppocr INFO: best metric, hmean: 0.4871060171919771, is_float16: False, precision: 0.5059523809523809, recall: 0.4696132596685083, fps: 18.26470581831404, best_epoch: 267\n",
      "[2023/12/12 07:00:57] ppocr INFO: epoch: [267/500], global_step: 801, lr: 0.001000, loss: 1.328630, loss_shrink_maps: 0.704097, loss_threshold_maps: 0.485498, loss_binary_maps: 0.137842, loss_cbn: 0.000000, avg_reader_cost: 0.00002 s, avg_batch_cost: 0.02181 s, avg_samples: 0.5, ips: 22.92004 samples/s, eta: 0:14:27\n",
      "[2023/12/12 07:00:57] ppocr INFO: save model in ./output/db_mv3/latest\n",
      "[2023/12/12 07:01:00] ppocr INFO: epoch: [268/500], global_step: 804, lr: 0.001000, loss: 1.320629, loss_shrink_maps: 0.698264, loss_threshold_maps: 0.489799, loss_binary_maps: 0.136933, loss_cbn: 0.000000, avg_reader_cost: 0.28157 s, avg_batch_cost: 0.33427 s, avg_samples: 1.5, ips: 4.48742 samples/s, eta: 0:14:23\n",
      "[2023/12/12 07:01:01] ppocr INFO: save model in ./output/db_mv3/latest\n",
      "[2023/12/12 07:01:04] ppocr INFO: epoch: [269/500], global_step: 807, lr: 0.001000, loss: 1.295781, loss_shrink_maps: 0.690931, loss_threshold_maps: 0.495676, loss_binary_maps: 0.135615, loss_cbn: 0.000000, avg_reader_cost: 0.27876 s, avg_batch_cost: 0.33806 s, avg_samples: 1.5, ips: 4.43711 samples/s, eta: 0:14:19\n",
      "[2023/12/12 07:01:04] ppocr INFO: save model in ./output/db_mv3/latest\n",
      "[2023/12/12 07:01:08] ppocr INFO: epoch: [270/500], global_step: 810, lr: 0.001000, loss: 1.295781, loss_shrink_maps: 0.681767, loss_threshold_maps: 0.492498, loss_binary_maps: 0.132187, loss_cbn: 0.000000, avg_reader_cost: 0.37094 s, avg_batch_cost: 0.42507 s, avg_samples: 1.5, ips: 3.52884 samples/s, eta: 0:14:15\n",
      "[2023/12/12 07:01:09] ppocr INFO: save model in ./output/db_mv3/latest\n",
      "[2023/12/12 07:01:12] ppocr INFO: epoch: [271/500], global_step: 813, lr: 0.001000, loss: 1.287110, loss_shrink_maps: 0.671331, loss_threshold_maps: 0.488197, loss_binary_maps: 0.129560, loss_cbn: 0.000000, avg_reader_cost: 0.34506 s, avg_batch_cost: 0.39960 s, avg_samples: 1.5, ips: 3.75376 samples/s, eta: 0:14:12\n",
      "[2023/12/12 07:01:13] ppocr INFO: save model in ./output/db_mv3/latest\n",
      "[2023/12/12 07:01:16] ppocr INFO: epoch: [272/500], global_step: 816, lr: 0.001000, loss: 1.287110, loss_shrink_maps: 0.667813, loss_threshold_maps: 0.492498, loss_binary_maps: 0.129560, loss_cbn: 0.000000, avg_reader_cost: 0.30850 s, avg_batch_cost: 0.36077 s, avg_samples: 1.5, ips: 4.15774 samples/s, eta: 0:14:08\n",
      "[2023/12/12 07:01:17] ppocr INFO: save model in ./output/db_mv3/latest\n",
      "[2023/12/12 07:01:20] ppocr INFO: epoch: [273/500], global_step: 819, lr: 0.001000, loss: 1.287110, loss_shrink_maps: 0.662585, loss_threshold_maps: 0.492498, loss_binary_maps: 0.129910, loss_cbn: 0.000000, avg_reader_cost: 0.29040 s, avg_batch_cost: 0.34991 s, avg_samples: 1.5, ips: 4.28681 samples/s, eta: 0:14:04\n",
      "[2023/12/12 07:01:20] ppocr INFO: save model in ./output/db_mv3/latest\n",
      "[2023/12/12 07:01:24] ppocr INFO: epoch: [274/500], global_step: 820, lr: 0.001000, loss: 1.287110, loss_shrink_maps: 0.662585, loss_threshold_maps: 0.484984, loss_binary_maps: 0.129910, loss_cbn: 0.000000, avg_reader_cost: 0.37499 s, avg_batch_cost: 0.40010 s, avg_samples: 0.5, ips: 1.24967 samples/s, eta: 0:14:05\n",
      "[2023/12/12 07:01:24] ppocr INFO: epoch: [274/500], global_step: 822, lr: 0.001000, loss: 1.261241, loss_shrink_maps: 0.660661, loss_threshold_maps: 0.477622, loss_binary_maps: 0.129041, loss_cbn: 0.000000, avg_reader_cost: 0.00684 s, avg_batch_cost: 0.03825 s, avg_samples: 1.0, ips: 26.14451 samples/s, eta: 0:14:01\n",
      "[2023/12/12 07:01:25] ppocr INFO: save model in ./output/db_mv3/latest\n",
      "[2023/12/12 07:01:29] ppocr INFO: epoch: [275/500], global_step: 825, lr: 0.001000, loss: 1.227558, loss_shrink_maps: 0.658737, loss_threshold_maps: 0.477622, loss_binary_maps: 0.128297, loss_cbn: 0.000000, avg_reader_cost: 0.36608 s, avg_batch_cost: 0.41969 s, avg_samples: 1.5, ips: 3.57403 samples/s, eta: 0:13:58\n",
      "[2023/12/12 07:01:29] ppocr INFO: save model in ./output/db_mv3/latest\n",
      "[2023/12/12 07:01:32] ppocr INFO: epoch: [276/500], global_step: 828, lr: 0.001000, loss: 1.324321, loss_shrink_maps: 0.699423, loss_threshold_maps: 0.485908, loss_binary_maps: 0.136488, loss_cbn: 0.000000, avg_reader_cost: 0.25968 s, avg_batch_cost: 0.31712 s, avg_samples: 1.5, ips: 4.73013 samples/s, eta: 0:13:54\n",
      "[2023/12/12 07:01:32] ppocr INFO: save model in ./output/db_mv3/latest\n",
      "[2023/12/12 07:01:35] ppocr INFO: epoch: [277/500], global_step: 830, lr: 0.001000, loss: 1.275852, loss_shrink_maps: 0.667575, loss_threshold_maps: 0.498526, loss_binary_maps: 0.130871, loss_cbn: 0.000000, avg_reader_cost: 0.28948 s, avg_batch_cost: 0.32842 s, avg_samples: 1.0, ips: 3.04489 samples/s, eta: 0:13:52\n",
      "[2023/12/12 07:01:35] ppocr INFO: epoch: [277/500], global_step: 831, lr: 0.001000, loss: 1.275852, loss_shrink_maps: 0.667575, loss_threshold_maps: 0.489182, loss_binary_maps: 0.130871, loss_cbn: 0.000000, avg_reader_cost: 0.00002 s, avg_batch_cost: 0.01502 s, avg_samples: 0.5, ips: 33.29923 samples/s, eta: 0:13:50\n",
      "[2023/12/12 07:01:36] ppocr INFO: save model in ./output/db_mv3/latest\n",
      "[2023/12/12 07:01:40] ppocr INFO: epoch: [278/500], global_step: 834, lr: 0.001000, loss: 1.275852, loss_shrink_maps: 0.667575, loss_threshold_maps: 0.489182, loss_binary_maps: 0.130871, loss_cbn: 0.000000, avg_reader_cost: 0.39802 s, avg_batch_cost: 0.45982 s, avg_samples: 1.5, ips: 3.26215 samples/s, eta: 0:13:47\n",
      "[2023/12/12 07:01:41] ppocr INFO: save model in ./output/db_mv3/latest\n",
      "[2023/12/12 07:01:44] ppocr INFO: epoch: [279/500], global_step: 837, lr: 0.001000, loss: 1.311789, loss_shrink_maps: 0.708367, loss_threshold_maps: 0.497977, loss_binary_maps: 0.139632, loss_cbn: 0.000000, avg_reader_cost: 0.32762 s, avg_batch_cost: 0.38440 s, avg_samples: 1.5, ips: 3.90214 samples/s, eta: 0:13:43\n",
      "[2023/12/12 07:01:45] ppocr INFO: save model in ./output/db_mv3/latest\n",
      "[2023/12/12 07:01:47] ppocr INFO: epoch: [280/500], global_step: 840, lr: 0.001000, loss: 1.298298, loss_shrink_maps: 0.697103, loss_threshold_maps: 0.496633, loss_binary_maps: 0.138431, loss_cbn: 0.000000, avg_reader_cost: 0.27160 s, avg_batch_cost: 0.32505 s, avg_samples: 1.5, ips: 4.61465 samples/s, eta: 0:13:39\n",
      "[2023/12/12 07:01:48] ppocr INFO: save model in ./output/db_mv3/latest\n",
      "[2023/12/12 07:01:51] ppocr INFO: epoch: [281/500], global_step: 843, lr: 0.001000, loss: 1.306840, loss_shrink_maps: 0.701818, loss_threshold_maps: 0.496633, loss_binary_maps: 0.138431, loss_cbn: 0.000000, avg_reader_cost: 0.28932 s, avg_batch_cost: 0.34374 s, avg_samples: 1.5, ips: 4.36377 samples/s, eta: 0:13:35\n",
      "[2023/12/12 07:01:51] ppocr INFO: save model in ./output/db_mv3/latest\n",
      "[2023/12/12 07:01:56] ppocr INFO: epoch: [282/500], global_step: 846, lr: 0.001000, loss: 1.279060, loss_shrink_maps: 0.680998, loss_threshold_maps: 0.476898, loss_binary_maps: 0.134877, loss_cbn: 0.000000, avg_reader_cost: 0.37944 s, avg_batch_cost: 0.44707 s, avg_samples: 1.5, ips: 3.35521 samples/s, eta: 0:13:32\n",
      "[2023/12/12 07:01:56] ppocr INFO: save model in ./output/db_mv3/latest\n",
      "[2023/12/12 07:02:00] ppocr INFO: epoch: [283/500], global_step: 849, lr: 0.001000, loss: 1.279060, loss_shrink_maps: 0.676592, loss_threshold_maps: 0.471165, loss_binary_maps: 0.132519, loss_cbn: 0.000000, avg_reader_cost: 0.38762 s, avg_batch_cost: 0.44149 s, avg_samples: 1.5, ips: 3.39756 samples/s, eta: 0:13:29\n",
      "[2023/12/12 07:02:01] ppocr INFO: save model in ./output/db_mv3/latest\n",
      "[2023/12/12 07:02:03] ppocr INFO: epoch: [284/500], global_step: 850, lr: 0.001000, loss: 1.293429, loss_shrink_maps: 0.686286, loss_threshold_maps: 0.471165, loss_binary_maps: 0.135066, loss_cbn: 0.000000, avg_reader_cost: 0.27375 s, avg_batch_cost: 0.29925 s, avg_samples: 0.5, ips: 1.67083 samples/s, eta: 0:13:29\n",
      "[2023/12/12 07:02:04] ppocr INFO: epoch: [284/500], global_step: 852, lr: 0.001000, loss: 1.279060, loss_shrink_maps: 0.676592, loss_threshold_maps: 0.482900, loss_binary_maps: 0.132519, loss_cbn: 0.000000, avg_reader_cost: 0.00004 s, avg_batch_cost: 0.03106 s, avg_samples: 1.0, ips: 32.19785 samples/s, eta: 0:13:24\n",
      "[2023/12/12 07:02:04] ppocr INFO: save model in ./output/db_mv3/latest\n",
      "[2023/12/12 07:02:07] ppocr INFO: epoch: [285/500], global_step: 855, lr: 0.001000, loss: 1.275473, loss_shrink_maps: 0.666305, loss_threshold_maps: 0.473097, loss_binary_maps: 0.130807, loss_cbn: 0.000000, avg_reader_cost: 0.25237 s, avg_batch_cost: 0.30649 s, avg_samples: 1.5, ips: 4.89411 samples/s, eta: 0:13:20\n",
      "[2023/12/12 07:02:07] ppocr INFO: save model in ./output/db_mv3/latest\n",
      "[2023/12/12 07:02:11] ppocr INFO: epoch: [286/500], global_step: 858, lr: 0.001000, loss: 1.281802, loss_shrink_maps: 0.668961, loss_threshold_maps: 0.473097, loss_binary_maps: 0.131177, loss_cbn: 0.000000, avg_reader_cost: 0.38929 s, avg_batch_cost: 0.45058 s, avg_samples: 1.5, ips: 3.32902 samples/s, eta: 0:13:17\n",
      "[2023/12/12 07:02:12] ppocr INFO: save model in ./output/db_mv3/latest\n",
      "[2023/12/12 07:02:15] ppocr INFO: epoch: [287/500], global_step: 860, lr: 0.001000, loss: 1.260243, loss_shrink_maps: 0.663962, loss_threshold_maps: 0.464518, loss_binary_maps: 0.129859, loss_cbn: 0.000000, avg_reader_cost: 0.34918 s, avg_batch_cost: 0.38816 s, avg_samples: 1.0, ips: 2.57622 samples/s, eta: 0:13:16\n",
      "[2023/12/12 07:02:15] ppocr INFO: epoch: [287/500], global_step: 861, lr: 0.001000, loss: 1.260243, loss_shrink_maps: 0.657989, loss_threshold_maps: 0.464518, loss_binary_maps: 0.128294, loss_cbn: 0.000000, avg_reader_cost: 0.00002 s, avg_batch_cost: 0.01487 s, avg_samples: 0.5, ips: 33.62939 samples/s, eta: 0:13:14\n",
      "[2023/12/12 07:02:16] ppocr INFO: save model in ./output/db_mv3/latest\n",
      "[2023/12/12 07:02:19] ppocr INFO: epoch: [288/500], global_step: 864, lr: 0.001000, loss: 1.267116, loss_shrink_maps: 0.649238, loss_threshold_maps: 0.476512, loss_binary_maps: 0.126899, loss_cbn: 0.000000, avg_reader_cost: 0.27562 s, avg_batch_cost: 0.32962 s, avg_samples: 1.5, ips: 4.55075 samples/s, eta: 0:13:10\n",
      "[2023/12/12 07:02:19] ppocr INFO: save model in ./output/db_mv3/latest\n",
      "[2023/12/12 07:02:22] ppocr INFO: epoch: [289/500], global_step: 867, lr: 0.001000, loss: 1.267116, loss_shrink_maps: 0.649238, loss_threshold_maps: 0.476512, loss_binary_maps: 0.126899, loss_cbn: 0.000000, avg_reader_cost: 0.27936 s, avg_batch_cost: 0.33899 s, avg_samples: 1.5, ips: 4.42490 samples/s, eta: 0:13:06\n",
      "[2023/12/12 07:02:23] ppocr INFO: save model in ./output/db_mv3/latest\n",
      "[2023/12/12 07:02:27] ppocr INFO: epoch: [290/500], global_step: 870, lr: 0.001000, loss: 1.264200, loss_shrink_maps: 0.649238, loss_threshold_maps: 0.470184, loss_binary_maps: 0.126899, loss_cbn: 0.000000, avg_reader_cost: 0.36665 s, avg_batch_cost: 0.42534 s, avg_samples: 1.5, ips: 3.52656 samples/s, eta: 0:13:02\n",
      "[2023/12/12 07:02:27] ppocr INFO: save model in ./output/db_mv3/latest\n",
      "[2023/12/12 07:02:31] ppocr INFO: epoch: [291/500], global_step: 873, lr: 0.001000, loss: 1.264200, loss_shrink_maps: 0.652489, loss_threshold_maps: 0.463254, loss_binary_maps: 0.126899, loss_cbn: 0.000000, avg_reader_cost: 0.39347 s, avg_batch_cost: 0.44577 s, avg_samples: 1.5, ips: 3.36494 samples/s, eta: 0:12:59\n",
      "[2023/12/12 07:02:32] ppocr INFO: save model in ./output/db_mv3/latest\n",
      "[2023/12/12 07:02:35] ppocr INFO: epoch: [292/500], global_step: 876, lr: 0.001000, loss: 1.264200, loss_shrink_maps: 0.652489, loss_threshold_maps: 0.469792, loss_binary_maps: 0.126412, loss_cbn: 0.000000, avg_reader_cost: 0.28215 s, avg_batch_cost: 0.33528 s, avg_samples: 1.5, ips: 4.47387 samples/s, eta: 0:12:55\n",
      "[2023/12/12 07:02:35] ppocr INFO: save model in ./output/db_mv3/latest\n",
      "[2023/12/12 07:02:38] ppocr INFO: epoch: [293/500], global_step: 879, lr: 0.001000, loss: 1.264200, loss_shrink_maps: 0.652489, loss_threshold_maps: 0.471394, loss_binary_maps: 0.126412, loss_cbn: 0.000000, avg_reader_cost: 0.29586 s, avg_batch_cost: 0.34842 s, avg_samples: 1.5, ips: 4.30512 samples/s, eta: 0:12:51\n",
      "[2023/12/12 07:02:39] ppocr INFO: save model in ./output/db_mv3/latest\n",
      "[2023/12/12 07:02:43] ppocr INFO: epoch: [294/500], global_step: 880, lr: 0.001000, loss: 1.282972, loss_shrink_maps: 0.672968, loss_threshold_maps: 0.475339, loss_binary_maps: 0.130919, loss_cbn: 0.000000, avg_reader_cost: 0.39855 s, avg_batch_cost: 0.42681 s, avg_samples: 0.5, ips: 1.17149 samples/s, eta: 0:12:52\n",
      "[2023/12/12 07:02:43] ppocr INFO: epoch: [294/500], global_step: 882, lr: 0.001000, loss: 1.264200, loss_shrink_maps: 0.670786, loss_threshold_maps: 0.471394, loss_binary_maps: 0.130160, loss_cbn: 0.000000, avg_reader_cost: 0.01096 s, avg_batch_cost: 0.04482 s, avg_samples: 1.0, ips: 22.31258 samples/s, eta: 0:12:48\n",
      "[2023/12/12 07:02:44] ppocr INFO: save model in ./output/db_mv3/latest\n",
      "[2023/12/12 07:02:47] ppocr INFO: epoch: [295/500], global_step: 885, lr: 0.001000, loss: 1.282972, loss_shrink_maps: 0.681851, loss_threshold_maps: 0.471394, loss_binary_maps: 0.133746, loss_cbn: 0.000000, avg_reader_cost: 0.34400 s, avg_batch_cost: 0.39557 s, avg_samples: 1.5, ips: 3.79200 samples/s, eta: 0:12:45\n",
      "[2023/12/12 07:02:48] ppocr INFO: save model in ./output/db_mv3/latest\n",
      "[2023/12/12 07:02:51] ppocr INFO: epoch: [296/500], global_step: 888, lr: 0.001000, loss: 1.252723, loss_shrink_maps: 0.661372, loss_threshold_maps: 0.462791, loss_binary_maps: 0.127491, loss_cbn: 0.000000, avg_reader_cost: 0.26459 s, avg_batch_cost: 0.32124 s, avg_samples: 1.5, ips: 4.66941 samples/s, eta: 0:12:40\n",
      "[2023/12/12 07:02:51] ppocr INFO: save model in ./output/db_mv3/latest\n",
      "[2023/12/12 07:02:54] ppocr INFO: epoch: [297/500], global_step: 890, lr: 0.001000, loss: 1.255388, loss_shrink_maps: 0.661372, loss_threshold_maps: 0.473865, loss_binary_maps: 0.127491, loss_cbn: 0.000000, avg_reader_cost: 0.27805 s, avg_batch_cost: 0.31625 s, avg_samples: 1.0, ips: 3.16204 samples/s, eta: 0:12:38\n",
      "[2023/12/12 07:02:54] ppocr INFO: epoch: [297/500], global_step: 891, lr: 0.001000, loss: 1.255388, loss_shrink_maps: 0.653482, loss_threshold_maps: 0.473865, loss_binary_maps: 0.126646, loss_cbn: 0.000000, avg_reader_cost: 0.00002 s, avg_batch_cost: 0.01478 s, avg_samples: 0.5, ips: 33.82345 samples/s, eta: 0:12:36\n",
      "[2023/12/12 07:02:55] ppocr INFO: save model in ./output/db_mv3/latest\n",
      "[2023/12/12 07:02:59] ppocr INFO: epoch: [298/500], global_step: 894, lr: 0.001000, loss: 1.285636, loss_shrink_maps: 0.673000, loss_threshold_maps: 0.471499, loss_binary_maps: 0.131076, loss_cbn: 0.000000, avg_reader_cost: 0.45228 s, avg_batch_cost: 0.50568 s, avg_samples: 1.5, ips: 2.96633 samples/s, eta: 0:12:34\n",
      "[2023/12/12 07:03:00] ppocr INFO: save model in ./output/db_mv3/latest\n",
      "[2023/12/12 07:03:03] ppocr INFO: epoch: [299/500], global_step: 897, lr: 0.001000, loss: 1.285636, loss_shrink_maps: 0.670615, loss_threshold_maps: 0.471499, loss_binary_maps: 0.130132, loss_cbn: 0.000000, avg_reader_cost: 0.34895 s, avg_batch_cost: 0.40237 s, avg_samples: 1.5, ips: 3.72788 samples/s, eta: 0:12:30\n",
      "[2023/12/12 07:03:04] ppocr INFO: save model in ./output/db_mv3/latest\n",
      "[2023/12/12 07:03:07] ppocr INFO: epoch: [300/500], global_step: 900, lr: 0.001000, loss: 1.268576, loss_shrink_maps: 0.670615, loss_threshold_maps: 0.478865, loss_binary_maps: 0.129788, loss_cbn: 0.000000, avg_reader_cost: 0.28611 s, avg_batch_cost: 0.33765 s, avg_samples: 1.5, ips: 4.44249 samples/s, eta: 0:12:26\n",
      "eval model:: 100% 6/6 [00:02<00:00,  2.52it/s]\n",
      "[2023/12/12 07:03:09] ppocr INFO: cur metric, precision: 0.4906832298136646, recall: 0.43646408839779005, hmean: 0.4619883040935672, fps: 25.211936632100112\n",
      "[2023/12/12 07:03:09] ppocr INFO: best metric, hmean: 0.4871060171919771, is_float16: False, precision: 0.5059523809523809, recall: 0.4696132596685083, fps: 18.26470581831404, best_epoch: 267\n",
      "[2023/12/12 07:03:10] ppocr INFO: save model in ./output/db_mv3/latest\n",
      "[2023/12/12 07:03:14] ppocr INFO: epoch: [301/500], global_step: 903, lr: 0.001000, loss: 1.268576, loss_shrink_maps: 0.671178, loss_threshold_maps: 0.478865, loss_binary_maps: 0.129788, loss_cbn: 0.000000, avg_reader_cost: 0.38614 s, avg_batch_cost: 0.44082 s, avg_samples: 1.5, ips: 3.40275 samples/s, eta: 0:12:23\n",
      "[2023/12/12 07:03:15] ppocr INFO: save model in ./output/db_mv3/latest\n",
      "[2023/12/12 07:03:19] ppocr INFO: epoch: [302/500], global_step: 906, lr: 0.001000, loss: 1.268576, loss_shrink_maps: 0.671178, loss_threshold_maps: 0.480463, loss_binary_maps: 0.129788, loss_cbn: 0.000000, avg_reader_cost: 0.48144 s, avg_batch_cost: 0.53955 s, avg_samples: 1.5, ips: 2.78010 samples/s, eta: 0:12:20\n",
      "[2023/12/12 07:03:20] ppocr INFO: save model in ./output/db_mv3/latest\n",
      "[2023/12/12 07:03:23] ppocr INFO: epoch: [303/500], global_step: 909, lr: 0.001000, loss: 1.255788, loss_shrink_maps: 0.654264, loss_threshold_maps: 0.473097, loss_binary_maps: 0.127578, loss_cbn: 0.000000, avg_reader_cost: 0.33063 s, avg_batch_cost: 0.38593 s, avg_samples: 1.5, ips: 3.88676 samples/s, eta: 0:12:16\n",
      "[2023/12/12 07:03:24] ppocr INFO: save model in ./output/db_mv3/latest\n",
      "[2023/12/12 07:03:27] ppocr INFO: epoch: [304/500], global_step: 910, lr: 0.001000, loss: 1.259845, loss_shrink_maps: 0.666112, loss_threshold_maps: 0.473097, loss_binary_maps: 0.129087, loss_cbn: 0.000000, avg_reader_cost: 0.33959 s, avg_batch_cost: 0.36367 s, avg_samples: 0.5, ips: 1.37489 samples/s, eta: 0:12:17\n",
      "[2023/12/12 07:03:27] ppocr INFO: epoch: [304/500], global_step: 912, lr: 0.001000, loss: 1.285414, loss_shrink_maps: 0.671178, loss_threshold_maps: 0.486458, loss_binary_maps: 0.130593, loss_cbn: 0.000000, avg_reader_cost: 0.00003 s, avg_batch_cost: 0.02909 s, avg_samples: 1.0, ips: 34.37064 samples/s, eta: 0:12:13\n",
      "[2023/12/12 07:03:28] ppocr INFO: save model in ./output/db_mv3/latest\n",
      "[2023/12/12 07:03:32] ppocr INFO: epoch: [305/500], global_step: 915, lr: 0.001000, loss: 1.275212, loss_shrink_maps: 0.668278, loss_threshold_maps: 0.486461, loss_binary_maps: 0.130276, loss_cbn: 0.000000, avg_reader_cost: 0.42210 s, avg_batch_cost: 0.47474 s, avg_samples: 1.5, ips: 3.15965 samples/s, eta: 0:12:10\n",
      "[2023/12/12 07:03:33] ppocr INFO: save model in ./output/db_mv3/latest\n",
      "[2023/12/12 07:03:36] ppocr INFO: epoch: [306/500], global_step: 918, lr: 0.001000, loss: 1.280982, loss_shrink_maps: 0.670132, loss_threshold_maps: 0.486461, loss_binary_maps: 0.130664, loss_cbn: 0.000000, avg_reader_cost: 0.33716 s, avg_batch_cost: 0.39051 s, avg_samples: 1.5, ips: 3.84118 samples/s, eta: 0:12:06\n",
      "[2023/12/12 07:03:37] ppocr INFO: save model in ./output/db_mv3/latest\n",
      "[2023/12/12 07:03:40] ppocr INFO: epoch: [307/500], global_step: 920, lr: 0.001000, loss: 1.280982, loss_shrink_maps: 0.670132, loss_threshold_maps: 0.480631, loss_binary_maps: 0.130664, loss_cbn: 0.000000, avg_reader_cost: 0.28714 s, avg_batch_cost: 0.33005 s, avg_samples: 1.0, ips: 3.02988 samples/s, eta: 0:12:04\n",
      "[2023/12/12 07:03:40] ppocr INFO: epoch: [307/500], global_step: 921, lr: 0.001000, loss: 1.280982, loss_shrink_maps: 0.670132, loss_threshold_maps: 0.480631, loss_binary_maps: 0.130664, loss_cbn: 0.000000, avg_reader_cost: 0.00002 s, avg_batch_cost: 0.01475 s, avg_samples: 0.5, ips: 33.90827 samples/s, eta: 0:12:02\n",
      "[2023/12/12 07:03:40] ppocr INFO: save model in ./output/db_mv3/latest\n",
      "[2023/12/12 07:03:43] ppocr INFO: epoch: [308/500], global_step: 924, lr: 0.001000, loss: 1.302172, loss_shrink_maps: 0.688302, loss_threshold_maps: 0.485092, loss_binary_maps: 0.133020, loss_cbn: 0.000000, avg_reader_cost: 0.29038 s, avg_batch_cost: 0.34659 s, avg_samples: 1.5, ips: 4.32793 samples/s, eta: 0:11:58\n",
      "[2023/12/12 07:03:44] ppocr INFO: save model in ./output/db_mv3/latest\n",
      "[2023/12/12 07:03:48] ppocr INFO: epoch: [309/500], global_step: 927, lr: 0.001000, loss: 1.283202, loss_shrink_maps: 0.676464, loss_threshold_maps: 0.480631, loss_binary_maps: 0.131265, loss_cbn: 0.000000, avg_reader_cost: 0.41587 s, avg_batch_cost: 0.47758 s, avg_samples: 1.5, ips: 3.14086 samples/s, eta: 0:11:55\n",
      "[2023/12/12 07:03:49] ppocr INFO: save model in ./output/db_mv3/latest\n",
      "[2023/12/12 07:03:52] ppocr INFO: epoch: [310/500], global_step: 930, lr: 0.001000, loss: 1.283202, loss_shrink_maps: 0.676464, loss_threshold_maps: 0.476162, loss_binary_maps: 0.131538, loss_cbn: 0.000000, avg_reader_cost: 0.30131 s, avg_batch_cost: 0.36139 s, avg_samples: 1.5, ips: 4.15068 samples/s, eta: 0:11:51\n",
      "[2023/12/12 07:03:52] ppocr INFO: save model in ./output/db_mv3/latest\n",
      "[2023/12/12 07:03:55] ppocr INFO: epoch: [311/500], global_step: 933, lr: 0.001000, loss: 1.291352, loss_shrink_maps: 0.682397, loss_threshold_maps: 0.476162, loss_binary_maps: 0.131867, loss_cbn: 0.000000, avg_reader_cost: 0.29520 s, avg_batch_cost: 0.34637 s, avg_samples: 1.5, ips: 4.33069 samples/s, eta: 0:11:47\n",
      "[2023/12/12 07:03:56] ppocr INFO: save model in ./output/db_mv3/latest\n",
      "[2023/12/12 07:03:59] ppocr INFO: epoch: [312/500], global_step: 936, lr: 0.001000, loss: 1.285080, loss_shrink_maps: 0.682397, loss_threshold_maps: 0.473264, loss_binary_maps: 0.131867, loss_cbn: 0.000000, avg_reader_cost: 0.29980 s, avg_batch_cost: 0.35207 s, avg_samples: 1.5, ips: 4.26046 samples/s, eta: 0:11:44\n",
      "[2023/12/12 07:04:00] ppocr INFO: save model in ./output/db_mv3/latest\n",
      "[2023/12/12 07:04:04] ppocr INFO: epoch: [313/500], global_step: 939, lr: 0.001000, loss: 1.285080, loss_shrink_maps: 0.676151, loss_threshold_maps: 0.473264, loss_binary_maps: 0.131538, loss_cbn: 0.000000, avg_reader_cost: 0.42371 s, avg_batch_cost: 0.48264 s, avg_samples: 1.5, ips: 3.10788 samples/s, eta: 0:11:40\n",
      "[2023/12/12 07:04:04] ppocr INFO: save model in ./output/db_mv3/latest\n",
      "[2023/12/12 07:04:07] ppocr INFO: epoch: [314/500], global_step: 940, lr: 0.001000, loss: 1.285080, loss_shrink_maps: 0.676151, loss_threshold_maps: 0.466863, loss_binary_maps: 0.131538, loss_cbn: 0.000000, avg_reader_cost: 0.24708 s, avg_batch_cost: 0.26940 s, avg_samples: 0.5, ips: 1.85598 samples/s, eta: 0:11:40\n",
      "[2023/12/12 07:04:07] ppocr INFO: epoch: [314/500], global_step: 942, lr: 0.001000, loss: 1.285080, loss_shrink_maps: 0.676151, loss_threshold_maps: 0.466863, loss_binary_maps: 0.131538, loss_cbn: 0.000000, avg_reader_cost: 0.01939 s, avg_batch_cost: 0.04997 s, avg_samples: 1.0, ips: 20.01044 samples/s, eta: 0:11:36\n",
      "[2023/12/12 07:04:08] ppocr INFO: save model in ./output/db_mv3/latest\n",
      "[2023/12/12 07:04:11] ppocr INFO: epoch: [315/500], global_step: 945, lr: 0.001000, loss: 1.268568, loss_shrink_maps: 0.665160, loss_threshold_maps: 0.466863, loss_binary_maps: 0.130732, loss_cbn: 0.000000, avg_reader_cost: 0.28071 s, avg_batch_cost: 0.33733 s, avg_samples: 1.5, ips: 4.44664 samples/s, eta: 0:11:32\n",
      "[2023/12/12 07:04:11] ppocr INFO: save model in ./output/db_mv3/latest\n",
      "[2023/12/12 07:04:15] ppocr INFO: epoch: [316/500], global_step: 948, lr: 0.001000, loss: 1.295461, loss_shrink_maps: 0.671620, loss_threshold_maps: 0.476279, loss_binary_maps: 0.131060, loss_cbn: 0.000000, avg_reader_cost: 0.30968 s, avg_batch_cost: 0.36916 s, avg_samples: 1.5, ips: 4.06327 samples/s, eta: 0:11:29\n",
      "[2023/12/12 07:04:15] ppocr INFO: save model in ./output/db_mv3/latest\n",
      "[2023/12/12 07:04:19] ppocr INFO: epoch: [317/500], global_step: 950, lr: 0.001000, loss: 1.298284, loss_shrink_maps: 0.671620, loss_threshold_maps: 0.488444, loss_binary_maps: 0.131060, loss_cbn: 0.000000, avg_reader_cost: 0.39413 s, avg_batch_cost: 0.43398 s, avg_samples: 1.0, ips: 2.30426 samples/s, eta: 0:11:27\n",
      "[2023/12/12 07:04:19] ppocr INFO: epoch: [317/500], global_step: 951, lr: 0.001000, loss: 1.287058, loss_shrink_maps: 0.661724, loss_threshold_maps: 0.483124, loss_binary_maps: 0.129315, loss_cbn: 0.000000, avg_reader_cost: 0.00774 s, avg_batch_cost: 0.02235 s, avg_samples: 0.5, ips: 22.36996 samples/s, eta: 0:11:25\n",
      "[2023/12/12 07:04:20] ppocr INFO: save model in ./output/db_mv3/latest\n",
      "[2023/12/12 07:04:23] ppocr INFO: epoch: [318/500], global_step: 954, lr: 0.001000, loss: 1.276382, loss_shrink_maps: 0.661724, loss_threshold_maps: 0.476163, loss_binary_maps: 0.129315, loss_cbn: 0.000000, avg_reader_cost: 0.30460 s, avg_batch_cost: 0.35670 s, avg_samples: 1.5, ips: 4.20519 samples/s, eta: 0:11:22\n",
      "[2023/12/12 07:04:23] ppocr INFO: save model in ./output/db_mv3/latest\n",
      "[2023/12/12 07:04:27] ppocr INFO: epoch: [319/500], global_step: 957, lr: 0.001000, loss: 1.287119, loss_shrink_maps: 0.689710, loss_threshold_maps: 0.477656, loss_binary_maps: 0.135294, loss_cbn: 0.000000, avg_reader_cost: 0.30879 s, avg_batch_cost: 0.36203 s, avg_samples: 1.5, ips: 4.14335 samples/s, eta: 0:11:18\n",
      "[2023/12/12 07:04:27] ppocr INFO: save model in ./output/db_mv3/latest\n",
      "[2023/12/12 07:04:32] ppocr INFO: epoch: [320/500], global_step: 960, lr: 0.001000, loss: 1.276382, loss_shrink_maps: 0.687732, loss_threshold_maps: 0.477656, loss_binary_maps: 0.133166, loss_cbn: 0.000000, avg_reader_cost: 0.44206 s, avg_batch_cost: 0.49598 s, avg_samples: 1.5, ips: 3.02431 samples/s, eta: 0:11:15\n",
      "[2023/12/12 07:04:33] ppocr INFO: save model in ./output/db_mv3/latest\n",
      "[2023/12/12 07:04:36] ppocr INFO: epoch: [321/500], global_step: 963, lr: 0.001000, loss: 1.276382, loss_shrink_maps: 0.687732, loss_threshold_maps: 0.477656, loss_binary_maps: 0.133166, loss_cbn: 0.000000, avg_reader_cost: 0.33616 s, avg_batch_cost: 0.38978 s, avg_samples: 1.5, ips: 3.84835 samples/s, eta: 0:11:11\n",
      "[2023/12/12 07:04:36] ppocr INFO: save model in ./output/db_mv3/latest\n",
      "[2023/12/12 07:04:39] ppocr INFO: epoch: [322/500], global_step: 966, lr: 0.001000, loss: 1.287119, loss_shrink_maps: 0.699866, loss_threshold_maps: 0.477656, loss_binary_maps: 0.137671, loss_cbn: 0.000000, avg_reader_cost: 0.29608 s, avg_batch_cost: 0.34939 s, avg_samples: 1.5, ips: 4.29325 samples/s, eta: 0:11:07\n",
      "[2023/12/12 07:04:40] ppocr INFO: save model in ./output/db_mv3/latest\n",
      "[2023/12/12 07:04:43] ppocr INFO: epoch: [323/500], global_step: 969, lr: 0.001000, loss: 1.261332, loss_shrink_maps: 0.683897, loss_threshold_maps: 0.447882, loss_binary_maps: 0.132192, loss_cbn: 0.000000, avg_reader_cost: 0.27676 s, avg_batch_cost: 0.32905 s, avg_samples: 1.5, ips: 4.55859 samples/s, eta: 0:11:03\n",
      "[2023/12/12 07:04:43] ppocr INFO: save model in ./output/db_mv3/latest\n",
      "[2023/12/12 07:04:48] ppocr INFO: epoch: [324/500], global_step: 970, lr: 0.001000, loss: 1.249786, loss_shrink_maps: 0.676105, loss_threshold_maps: 0.446262, loss_binary_maps: 0.131176, loss_cbn: 0.000000, avg_reader_cost: 0.44303 s, avg_batch_cost: 0.46631 s, avg_samples: 0.5, ips: 1.07226 samples/s, eta: 0:11:04\n",
      "[2023/12/12 07:04:48] ppocr INFO: epoch: [324/500], global_step: 972, lr: 0.001000, loss: 1.249786, loss_shrink_maps: 0.676105, loss_threshold_maps: 0.447882, loss_binary_maps: 0.131176, loss_cbn: 0.000000, avg_reader_cost: 0.00003 s, avg_batch_cost: 0.02923 s, avg_samples: 1.0, ips: 34.21121 samples/s, eta: 0:11:00\n",
      "[2023/12/12 07:04:48] ppocr INFO: save model in ./output/db_mv3/latest\n",
      "[2023/12/12 07:04:51] ppocr INFO: epoch: [325/500], global_step: 975, lr: 0.001000, loss: 1.254658, loss_shrink_maps: 0.683897, loss_threshold_maps: 0.451181, loss_binary_maps: 0.134116, loss_cbn: 0.000000, avg_reader_cost: 0.26903 s, avg_batch_cost: 0.32581 s, avg_samples: 1.5, ips: 4.60395 samples/s, eta: 0:10:56\n",
      "[2023/12/12 07:04:52] ppocr INFO: save model in ./output/db_mv3/latest\n",
      "[2023/12/12 07:04:55] ppocr INFO: epoch: [326/500], global_step: 978, lr: 0.001000, loss: 1.249786, loss_shrink_maps: 0.657100, loss_threshold_maps: 0.442505, loss_binary_maps: 0.127666, loss_cbn: 0.000000, avg_reader_cost: 0.29931 s, avg_batch_cost: 0.35228 s, avg_samples: 1.5, ips: 4.25802 samples/s, eta: 0:10:52\n",
      "[2023/12/12 07:04:55] ppocr INFO: save model in ./output/db_mv3/latest\n",
      "[2023/12/12 07:04:59] ppocr INFO: epoch: [327/500], global_step: 980, lr: 0.001000, loss: 1.253585, loss_shrink_maps: 0.652552, loss_threshold_maps: 0.453387, loss_binary_maps: 0.127302, loss_cbn: 0.000000, avg_reader_cost: 0.31485 s, avg_batch_cost: 0.35592 s, avg_samples: 1.0, ips: 2.80962 samples/s, eta: 0:10:50\n",
      "[2023/12/12 07:04:59] ppocr INFO: epoch: [327/500], global_step: 981, lr: 0.001000, loss: 1.254996, loss_shrink_maps: 0.670421, loss_threshold_maps: 0.465967, loss_binary_maps: 0.131517, loss_cbn: 0.000000, avg_reader_cost: 0.00002 s, avg_batch_cost: 0.01495 s, avg_samples: 0.5, ips: 33.43434 samples/s, eta: 0:10:48\n",
      "[2023/12/12 07:04:59] ppocr INFO: save model in ./output/db_mv3/latest\n",
      "[2023/12/12 07:05:03] ppocr INFO: epoch: [328/500], global_step: 984, lr: 0.001000, loss: 1.253585, loss_shrink_maps: 0.652552, loss_threshold_maps: 0.465967, loss_binary_maps: 0.127302, loss_cbn: 0.000000, avg_reader_cost: 0.39557 s, avg_batch_cost: 0.44878 s, avg_samples: 1.5, ips: 3.34236 samples/s, eta: 0:10:45\n",
      "[2023/12/12 07:05:04] ppocr INFO: save model in ./output/db_mv3/latest\n",
      "[2023/12/12 07:05:07] ppocr INFO: epoch: [329/500], global_step: 987, lr: 0.001000, loss: 1.250883, loss_shrink_maps: 0.638853, loss_threshold_maps: 0.468524, loss_binary_maps: 0.125123, loss_cbn: 0.000000, avg_reader_cost: 0.26637 s, avg_batch_cost: 0.32369 s, avg_samples: 1.5, ips: 4.63413 samples/s, eta: 0:10:41\n",
      "[2023/12/12 07:05:07] ppocr INFO: save model in ./output/db_mv3/latest\n",
      "[2023/12/12 07:05:10] ppocr INFO: epoch: [330/500], global_step: 990, lr: 0.001000, loss: 1.251221, loss_shrink_maps: 0.638853, loss_threshold_maps: 0.470384, loss_binary_maps: 0.125123, loss_cbn: 0.000000, avg_reader_cost: 0.27452 s, avg_batch_cost: 0.32670 s, avg_samples: 1.5, ips: 4.59136 samples/s, eta: 0:10:37\n",
      "[2023/12/12 07:05:11] ppocr INFO: save model in ./output/db_mv3/latest\n",
      "[2023/12/12 07:05:14] ppocr INFO: epoch: [331/500], global_step: 993, lr: 0.001000, loss: 1.260034, loss_shrink_maps: 0.647395, loss_threshold_maps: 0.487487, loss_binary_maps: 0.126182, loss_cbn: 0.000000, avg_reader_cost: 0.32092 s, avg_batch_cost: 0.37988 s, avg_samples: 1.5, ips: 3.94860 samples/s, eta: 0:10:33\n",
      "[2023/12/12 07:05:15] ppocr INFO: save model in ./output/db_mv3/latest\n",
      "[2023/12/12 07:05:19] ppocr INFO: epoch: [332/500], global_step: 996, lr: 0.001000, loss: 1.252482, loss_shrink_maps: 0.660017, loss_threshold_maps: 0.477691, loss_binary_maps: 0.128573, loss_cbn: 0.000000, avg_reader_cost: 0.38896 s, avg_batch_cost: 0.44207 s, avg_samples: 1.5, ips: 3.39310 samples/s, eta: 0:10:30\n",
      "[2023/12/12 07:05:19] ppocr INFO: save model in ./output/db_mv3/latest\n",
      "[2023/12/12 07:05:22] ppocr INFO: epoch: [333/500], global_step: 999, lr: 0.001000, loss: 1.249780, loss_shrink_maps: 0.660017, loss_threshold_maps: 0.471763, loss_binary_maps: 0.129059, loss_cbn: 0.000000, avg_reader_cost: 0.30127 s, avg_batch_cost: 0.35408 s, avg_samples: 1.5, ips: 4.23639 samples/s, eta: 0:10:26\n",
      "[2023/12/12 07:05:23] ppocr INFO: save model in ./output/db_mv3/latest\n",
      "[2023/12/12 07:05:25] ppocr INFO: epoch: [334/500], global_step: 1000, lr: 0.001000, loss: 1.249780, loss_shrink_maps: 0.660017, loss_threshold_maps: 0.471763, loss_binary_maps: 0.129059, loss_cbn: 0.000000, avg_reader_cost: 0.22549 s, avg_batch_cost: 0.24990 s, avg_samples: 0.5, ips: 2.00082 samples/s, eta: 0:10:25\n",
      "eval model:: 100% 6/6 [00:03<00:00,  1.61it/s]\n",
      "[2023/12/12 07:05:28] ppocr INFO: cur metric, precision: 0.6351351351351351, recall: 0.5193370165745856, hmean: 0.5714285714285715, fps: 21.418506379382393\n",
      "[2023/12/12 07:05:29] ppocr INFO: save best model is to ./output/db_mv3/best_accuracy\n",
      "[2023/12/12 07:05:29] ppocr INFO: best metric, hmean: 0.5714285714285715, is_float16: False, precision: 0.6351351351351351, recall: 0.5193370165745856, fps: 21.418506379382393, best_epoch: 334\n",
      "[2023/12/12 07:05:29] ppocr INFO: epoch: [334/500], global_step: 1002, lr: 0.001000, loss: 1.249780, loss_shrink_maps: 0.660017, loss_threshold_maps: 0.471763, loss_binary_maps: 0.129059, loss_cbn: 0.000000, avg_reader_cost: 0.00004 s, avg_batch_cost: 0.03559 s, avg_samples: 1.0, ips: 28.10164 samples/s, eta: 0:10:22\n",
      "[2023/12/12 07:05:30] ppocr INFO: save model in ./output/db_mv3/latest\n",
      "[2023/12/12 07:05:34] ppocr INFO: epoch: [335/500], global_step: 1005, lr: 0.001000, loss: 1.290838, loss_shrink_maps: 0.675759, loss_threshold_maps: 0.479024, loss_binary_maps: 0.131538, loss_cbn: 0.000000, avg_reader_cost: 0.39188 s, avg_batch_cost: 0.44460 s, avg_samples: 1.5, ips: 3.37382 samples/s, eta: 0:10:18\n",
      "[2023/12/12 07:05:34] ppocr INFO: save model in ./output/db_mv3/latest\n",
      "[2023/12/12 07:05:37] ppocr INFO: epoch: [336/500], global_step: 1008, lr: 0.001000, loss: 1.290838, loss_shrink_maps: 0.675759, loss_threshold_maps: 0.472957, loss_binary_maps: 0.132489, loss_cbn: 0.000000, avg_reader_cost: 0.29952 s, avg_batch_cost: 0.35191 s, avg_samples: 1.5, ips: 4.26242 samples/s, eta: 0:10:14\n",
      "[2023/12/12 07:05:38] ppocr INFO: save model in ./output/db_mv3/latest\n",
      "[2023/12/12 07:05:40] ppocr INFO: epoch: [337/500], global_step: 1010, lr: 0.001000, loss: 1.290838, loss_shrink_maps: 0.675759, loss_threshold_maps: 0.472957, loss_binary_maps: 0.132489, loss_cbn: 0.000000, avg_reader_cost: 0.26106 s, avg_batch_cost: 0.29924 s, avg_samples: 1.0, ips: 3.34176 samples/s, eta: 0:10:12\n",
      "[2023/12/12 07:05:41] ppocr INFO: epoch: [337/500], global_step: 1011, lr: 0.001000, loss: 1.296592, loss_shrink_maps: 0.678218, loss_threshold_maps: 0.472957, loss_binary_maps: 0.133732, loss_cbn: 0.000000, avg_reader_cost: 0.01760 s, avg_batch_cost: 0.03226 s, avg_samples: 0.5, ips: 15.49835 samples/s, eta: 0:10:10\n",
      "[2023/12/12 07:05:41] ppocr INFO: save model in ./output/db_mv3/latest\n",
      "[2023/12/12 07:05:46] ppocr INFO: epoch: [338/500], global_step: 1014, lr: 0.001000, loss: 1.294034, loss_shrink_maps: 0.678218, loss_threshold_maps: 0.472084, loss_binary_maps: 0.133732, loss_cbn: 0.000000, avg_reader_cost: 0.40994 s, avg_batch_cost: 0.46509 s, avg_samples: 1.5, ips: 3.22515 samples/s, eta: 0:10:07\n",
      "[2023/12/12 07:05:46] ppocr INFO: save model in ./output/db_mv3/latest\n",
      "[2023/12/12 07:05:50] ppocr INFO: epoch: [339/500], global_step: 1017, lr: 0.001000, loss: 1.283419, loss_shrink_maps: 0.686151, loss_threshold_maps: 0.472084, loss_binary_maps: 0.134394, loss_cbn: 0.000000, avg_reader_cost: 0.34472 s, avg_batch_cost: 0.39689 s, avg_samples: 1.5, ips: 3.77936 samples/s, eta: 0:10:04\n",
      "[2023/12/12 07:05:50] ppocr INFO: save model in ./output/db_mv3/latest\n",
      "[2023/12/12 07:05:53] ppocr INFO: epoch: [340/500], global_step: 1020, lr: 0.001000, loss: 1.327945, loss_shrink_maps: 0.698159, loss_threshold_maps: 0.472084, loss_binary_maps: 0.136583, loss_cbn: 0.000000, avg_reader_cost: 0.29838 s, avg_batch_cost: 0.36700 s, avg_samples: 1.5, ips: 4.08715 samples/s, eta: 0:10:00\n",
      "[2023/12/12 07:05:54] ppocr INFO: save model in ./output/db_mv3/latest\n",
      "[2023/12/12 07:05:57] ppocr INFO: epoch: [341/500], global_step: 1023, lr: 0.001000, loss: 1.283419, loss_shrink_maps: 0.688322, loss_threshold_maps: 0.470365, loss_binary_maps: 0.134492, loss_cbn: 0.000000, avg_reader_cost: 0.27127 s, avg_batch_cost: 0.32821 s, avg_samples: 1.5, ips: 4.57020 samples/s, eta: 0:09:56\n",
      "[2023/12/12 07:05:57] ppocr INFO: save model in ./output/db_mv3/latest\n",
      "[2023/12/12 07:06:02] ppocr INFO: epoch: [342/500], global_step: 1026, lr: 0.001000, loss: 1.272554, loss_shrink_maps: 0.675203, loss_threshold_maps: 0.469627, loss_binary_maps: 0.133480, loss_cbn: 0.000000, avg_reader_cost: 0.41022 s, avg_batch_cost: 0.46765 s, avg_samples: 1.5, ips: 3.20750 samples/s, eta: 0:09:52\n",
      "[2023/12/12 07:06:02] ppocr INFO: save model in ./output/db_mv3/latest\n",
      "[2023/12/12 07:06:05] ppocr INFO: epoch: [343/500], global_step: 1029, lr: 0.001000, loss: 1.278194, loss_shrink_maps: 0.684863, loss_threshold_maps: 0.467908, loss_binary_maps: 0.134492, loss_cbn: 0.000000, avg_reader_cost: 0.28562 s, avg_batch_cost: 0.33881 s, avg_samples: 1.5, ips: 4.42728 samples/s, eta: 0:09:49\n",
      "[2023/12/12 07:06:05] ppocr INFO: save model in ./output/db_mv3/latest\n",
      "[2023/12/12 07:06:08] ppocr INFO: epoch: [344/500], global_step: 1030, lr: 0.001000, loss: 1.288025, loss_shrink_maps: 0.688322, loss_threshold_maps: 0.470170, loss_binary_maps: 0.134865, loss_cbn: 0.000000, avg_reader_cost: 0.26348 s, avg_batch_cost: 0.28580 s, avg_samples: 0.5, ips: 1.74948 samples/s, eta: 0:09:48\n",
      "[2023/12/12 07:06:08] ppocr INFO: epoch: [344/500], global_step: 1032, lr: 0.001000, loss: 1.278194, loss_shrink_maps: 0.684863, loss_threshold_maps: 0.462434, loss_binary_maps: 0.134492, loss_cbn: 0.000000, avg_reader_cost: 0.00003 s, avg_batch_cost: 0.02953 s, avg_samples: 1.0, ips: 33.86296 samples/s, eta: 0:09:45\n",
      "[2023/12/12 07:06:09] ppocr INFO: save model in ./output/db_mv3/latest\n",
      "[2023/12/12 07:06:11] ppocr INFO: epoch: [345/500], global_step: 1035, lr: 0.001000, loss: 1.269204, loss_shrink_maps: 0.668071, loss_threshold_maps: 0.467908, loss_binary_maps: 0.132344, loss_cbn: 0.000000, avg_reader_cost: 0.25040 s, avg_batch_cost: 0.30460 s, avg_samples: 1.5, ips: 4.92454 samples/s, eta: 0:09:40\n",
      "[2023/12/12 07:06:12] ppocr INFO: save model in ./output/db_mv3/latest\n",
      "[2023/12/12 07:06:16] ppocr INFO: epoch: [346/500], global_step: 1038, lr: 0.001000, loss: 1.262587, loss_shrink_maps: 0.675822, loss_threshold_maps: 0.459540, loss_binary_maps: 0.132403, loss_cbn: 0.000000, avg_reader_cost: 0.42799 s, avg_batch_cost: 0.48227 s, avg_samples: 1.5, ips: 3.11031 samples/s, eta: 0:09:37\n",
      "[2023/12/12 07:06:17] ppocr INFO: save model in ./output/db_mv3/latest\n",
      "[2023/12/12 07:06:20] ppocr INFO: epoch: [347/500], global_step: 1040, lr: 0.001000, loss: 1.259604, loss_shrink_maps: 0.668071, loss_threshold_maps: 0.466585, loss_binary_maps: 0.131872, loss_cbn: 0.000000, avg_reader_cost: 0.30293 s, avg_batch_cost: 0.34464 s, avg_samples: 1.0, ips: 2.90159 samples/s, eta: 0:09:35\n",
      "[2023/12/12 07:06:20] ppocr INFO: epoch: [347/500], global_step: 1041, lr: 0.001000, loss: 1.259604, loss_shrink_maps: 0.668071, loss_threshold_maps: 0.464778, loss_binary_maps: 0.131872, loss_cbn: 0.000000, avg_reader_cost: 0.00001 s, avg_batch_cost: 0.01469 s, avg_samples: 0.5, ips: 34.04694 samples/s, eta: 0:09:33\n",
      "[2023/12/12 07:06:20] ppocr INFO: save model in ./output/db_mv3/latest\n",
      "[2023/12/12 07:06:24] ppocr INFO: epoch: [348/500], global_step: 1044, lr: 0.001000, loss: 1.259604, loss_shrink_maps: 0.668308, loss_threshold_maps: 0.464978, loss_binary_maps: 0.132072, loss_cbn: 0.000000, avg_reader_cost: 0.29779 s, avg_batch_cost: 0.35120 s, avg_samples: 1.5, ips: 4.27112 samples/s, eta: 0:09:29\n",
      "[2023/12/12 07:06:24] ppocr INFO: save model in ./output/db_mv3/latest\n",
      "[2023/12/12 07:06:27] ppocr INFO: epoch: [349/500], global_step: 1047, lr: 0.001000, loss: 1.261977, loss_shrink_maps: 0.671236, loss_threshold_maps: 0.464978, loss_binary_maps: 0.132532, loss_cbn: 0.000000, avg_reader_cost: 0.28198 s, avg_batch_cost: 0.33979 s, avg_samples: 1.5, ips: 4.41451 samples/s, eta: 0:09:26\n",
      "[2023/12/12 07:06:28] ppocr INFO: save model in ./output/db_mv3/latest\n",
      "[2023/12/12 07:06:32] ppocr INFO: epoch: [350/500], global_step: 1050, lr: 0.001000, loss: 1.254670, loss_shrink_maps: 0.668308, loss_threshold_maps: 0.463782, loss_binary_maps: 0.132072, loss_cbn: 0.000000, avg_reader_cost: 0.44496 s, avg_batch_cost: 0.51087 s, avg_samples: 1.5, ips: 2.93619 samples/s, eta: 0:09:22\n",
      "[2023/12/12 07:06:33] ppocr INFO: save model in ./output/db_mv3/latest\n",
      "[2023/12/12 07:06:36] ppocr INFO: epoch: [351/500], global_step: 1053, lr: 0.001000, loss: 1.254670, loss_shrink_maps: 0.671236, loss_threshold_maps: 0.463782, loss_binary_maps: 0.132532, loss_cbn: 0.000000, avg_reader_cost: 0.31515 s, avg_batch_cost: 0.36773 s, avg_samples: 1.5, ips: 4.07911 samples/s, eta: 0:09:19\n",
      "[2023/12/12 07:06:37] ppocr INFO: save model in ./output/db_mv3/latest\n",
      "[2023/12/12 07:06:40] ppocr INFO: epoch: [352/500], global_step: 1056, lr: 0.001000, loss: 1.266474, loss_shrink_maps: 0.681757, loss_threshold_maps: 0.466365, loss_binary_maps: 0.134471, loss_cbn: 0.000000, avg_reader_cost: 0.30145 s, avg_batch_cost: 0.35340 s, avg_samples: 1.5, ips: 4.24446 samples/s, eta: 0:09:15\n",
      "[2023/12/12 07:06:40] ppocr INFO: save model in ./output/db_mv3/latest\n",
      "[2023/12/12 07:06:44] ppocr INFO: epoch: [353/500], global_step: 1059, lr: 0.001000, loss: 1.275828, loss_shrink_maps: 0.677353, loss_threshold_maps: 0.466365, loss_binary_maps: 0.133153, loss_cbn: 0.000000, avg_reader_cost: 0.32299 s, avg_batch_cost: 0.37803 s, avg_samples: 1.5, ips: 3.96793 samples/s, eta: 0:09:11\n",
      "[2023/12/12 07:06:44] ppocr INFO: save model in ./output/db_mv3/latest\n",
      "[2023/12/12 07:06:48] ppocr INFO: epoch: [354/500], global_step: 1060, lr: 0.001000, loss: 1.275828, loss_shrink_maps: 0.677353, loss_threshold_maps: 0.465169, loss_binary_maps: 0.133153, loss_cbn: 0.000000, avg_reader_cost: 0.36500 s, avg_batch_cost: 0.38858 s, avg_samples: 0.5, ips: 1.28673 samples/s, eta: 0:09:11\n",
      "[2023/12/12 07:06:48] ppocr INFO: epoch: [354/500], global_step: 1062, lr: 0.001000, loss: 1.262218, loss_shrink_maps: 0.678640, loss_threshold_maps: 0.463144, loss_binary_maps: 0.133153, loss_cbn: 0.000000, avg_reader_cost: 0.00004 s, avg_batch_cost: 0.02952 s, avg_samples: 1.0, ips: 33.87727 samples/s, eta: 0:09:07\n",
      "[2023/12/12 07:06:48] ppocr INFO: save model in ./output/db_mv3/latest\n",
      "[2023/12/12 07:06:51] ppocr INFO: epoch: [355/500], global_step: 1065, lr: 0.001000, loss: 1.240789, loss_shrink_maps: 0.670294, loss_threshold_maps: 0.460558, loss_binary_maps: 0.131509, loss_cbn: 0.000000, avg_reader_cost: 0.26099 s, avg_batch_cost: 0.31795 s, avg_samples: 1.5, ips: 4.71768 samples/s, eta: 0:09:03\n",
      "[2023/12/12 07:06:52] ppocr INFO: save model in ./output/db_mv3/latest\n",
      "[2023/12/12 07:06:55] ppocr INFO: epoch: [356/500], global_step: 1068, lr: 0.001000, loss: 1.236986, loss_shrink_maps: 0.660074, loss_threshold_maps: 0.450415, loss_binary_maps: 0.129634, loss_cbn: 0.000000, avg_reader_cost: 0.29310 s, avg_batch_cost: 0.34518 s, avg_samples: 1.5, ips: 4.34551 samples/s, eta: 0:09:00\n",
      "[2023/12/12 07:06:55] ppocr INFO: save model in ./output/db_mv3/latest\n",
      "[2023/12/12 07:06:59] ppocr INFO: epoch: [357/500], global_step: 1070, lr: 0.001000, loss: 1.236986, loss_shrink_maps: 0.660074, loss_threshold_maps: 0.442620, loss_binary_maps: 0.129634, loss_cbn: 0.000000, avg_reader_cost: 0.31219 s, avg_batch_cost: 0.35652 s, avg_samples: 1.0, ips: 2.80487 samples/s, eta: 0:08:58\n",
      "[2023/12/12 07:06:59] ppocr INFO: epoch: [357/500], global_step: 1071, lr: 0.001000, loss: 1.240789, loss_shrink_maps: 0.671581, loss_threshold_maps: 0.450415, loss_binary_maps: 0.131509, loss_cbn: 0.000000, avg_reader_cost: 0.05660 s, avg_batch_cost: 0.07144 s, avg_samples: 0.5, ips: 6.99875 samples/s, eta: 0:08:56\n",
      "[2023/12/12 07:07:00] ppocr INFO: save model in ./output/db_mv3/latest\n",
      "[2023/12/12 07:07:04] ppocr INFO: epoch: [358/500], global_step: 1074, lr: 0.001000, loss: 1.206436, loss_shrink_maps: 0.644357, loss_threshold_maps: 0.438111, loss_binary_maps: 0.125995, loss_cbn: 0.000000, avg_reader_cost: 0.35564 s, avg_batch_cost: 0.41278 s, avg_samples: 1.5, ips: 3.63392 samples/s, eta: 0:08:52\n",
      "[2023/12/12 07:07:04] ppocr INFO: save model in ./output/db_mv3/latest\n",
      "[2023/12/12 07:07:07] ppocr INFO: epoch: [359/500], global_step: 1077, lr: 0.001000, loss: 1.196980, loss_shrink_maps: 0.636343, loss_threshold_maps: 0.438111, loss_binary_maps: 0.124004, loss_cbn: 0.000000, avg_reader_cost: 0.29310 s, avg_batch_cost: 0.34661 s, avg_samples: 1.5, ips: 4.32769 samples/s, eta: 0:08:49\n",
      "[2023/12/12 07:07:08] ppocr INFO: save model in ./output/db_mv3/latest\n",
      "[2023/12/12 07:07:10] ppocr INFO: epoch: [360/500], global_step: 1080, lr: 0.001000, loss: 1.189604, loss_shrink_maps: 0.618136, loss_threshold_maps: 0.440029, loss_binary_maps: 0.120572, loss_cbn: 0.000000, avg_reader_cost: 0.26113 s, avg_batch_cost: 0.31701 s, avg_samples: 1.5, ips: 4.73173 samples/s, eta: 0:08:45\n",
      "[2023/12/12 07:07:11] ppocr INFO: save model in ./output/db_mv3/latest\n",
      "[2023/12/12 07:07:15] ppocr INFO: epoch: [361/500], global_step: 1083, lr: 0.001000, loss: 1.204669, loss_shrink_maps: 0.618136, loss_threshold_maps: 0.445586, loss_binary_maps: 0.121350, loss_cbn: 0.000000, avg_reader_cost: 0.34438 s, avg_batch_cost: 0.40608 s, avg_samples: 1.5, ips: 3.69381 samples/s, eta: 0:08:41\n",
      "[2023/12/12 07:07:15] ppocr INFO: save model in ./output/db_mv3/latest\n",
      "[2023/12/12 07:07:19] ppocr INFO: epoch: [362/500], global_step: 1086, lr: 0.001000, loss: 1.200345, loss_shrink_maps: 0.627321, loss_threshold_maps: 0.450964, loss_binary_maps: 0.123565, loss_cbn: 0.000000, avg_reader_cost: 0.38479 s, avg_batch_cost: 0.43895 s, avg_samples: 1.5, ips: 3.41723 samples/s, eta: 0:08:37\n",
      "[2023/12/12 07:07:20] ppocr INFO: save model in ./output/db_mv3/latest\n",
      "[2023/12/12 07:07:23] ppocr INFO: epoch: [363/500], global_step: 1089, lr: 0.001000, loss: 1.172127, loss_shrink_maps: 0.620054, loss_threshold_maps: 0.442995, loss_binary_maps: 0.120674, loss_cbn: 0.000000, avg_reader_cost: 0.27495 s, avg_batch_cost: 0.33295 s, avg_samples: 1.5, ips: 4.50518 samples/s, eta: 0:08:34\n",
      "[2023/12/12 07:07:23] ppocr INFO: save model in ./output/db_mv3/latest\n",
      "[2023/12/12 07:07:26] ppocr INFO: epoch: [364/500], global_step: 1090, lr: 0.001000, loss: 1.172127, loss_shrink_maps: 0.620054, loss_threshold_maps: 0.445391, loss_binary_maps: 0.120674, loss_cbn: 0.000000, avg_reader_cost: 0.30482 s, avg_batch_cost: 0.32851 s, avg_samples: 0.5, ips: 1.52201 samples/s, eta: 0:08:33\n",
      "[2023/12/12 07:07:26] ppocr INFO: epoch: [364/500], global_step: 1092, lr: 0.001000, loss: 1.172127, loss_shrink_maps: 0.620054, loss_threshold_maps: 0.445391, loss_binary_maps: 0.120674, loss_cbn: 0.000000, avg_reader_cost: 0.00003 s, avg_batch_cost: 0.02918 s, avg_samples: 1.0, ips: 34.26478 samples/s, eta: 0:08:30\n",
      "[2023/12/12 07:07:27] ppocr INFO: save model in ./output/db_mv3/latest\n",
      "[2023/12/12 07:07:31] ppocr INFO: epoch: [365/500], global_step: 1095, lr: 0.001000, loss: 1.211949, loss_shrink_maps: 0.630716, loss_threshold_maps: 0.450916, loss_binary_maps: 0.123870, loss_cbn: 0.000000, avg_reader_cost: 0.41856 s, avg_batch_cost: 0.48269 s, avg_samples: 1.5, ips: 3.10761 samples/s, eta: 0:08:26\n",
      "[2023/12/12 07:07:32] ppocr INFO: save model in ./output/db_mv3/latest\n",
      "[2023/12/12 07:07:36] ppocr INFO: epoch: [366/500], global_step: 1098, lr: 0.001000, loss: 1.200345, loss_shrink_maps: 0.630716, loss_threshold_maps: 0.445391, loss_binary_maps: 0.124132, loss_cbn: 0.000000, avg_reader_cost: 0.39309 s, avg_batch_cost: 0.44545 s, avg_samples: 1.5, ips: 3.36738 samples/s, eta: 0:08:23\n",
      "[2023/12/12 07:07:36] ppocr INFO: save model in ./output/db_mv3/latest\n",
      "[2023/12/12 07:07:39] ppocr INFO: epoch: [367/500], global_step: 1100, lr: 0.001000, loss: 1.200345, loss_shrink_maps: 0.630716, loss_threshold_maps: 0.450778, loss_binary_maps: 0.124132, loss_cbn: 0.000000, avg_reader_cost: 0.24752 s, avg_batch_cost: 0.28643 s, avg_samples: 1.0, ips: 3.49124 samples/s, eta: 0:08:21\n",
      "eval model:: 100% 6/6 [00:02<00:00,  2.25it/s]\n",
      "[2023/12/12 07:07:41] ppocr INFO: cur metric, precision: 0.47513812154696133, recall: 0.47513812154696133, hmean: 0.47513812154696133, fps: 24.18049308719009\n",
      "[2023/12/12 07:07:41] ppocr INFO: best metric, hmean: 0.5714285714285715, is_float16: False, precision: 0.6351351351351351, recall: 0.5193370165745856, fps: 21.418506379382393, best_epoch: 334\n",
      "[2023/12/12 07:07:42] ppocr INFO: epoch: [367/500], global_step: 1101, lr: 0.001000, loss: 1.214911, loss_shrink_maps: 0.633851, loss_threshold_maps: 0.463688, loss_binary_maps: 0.124778, loss_cbn: 0.000000, avg_reader_cost: 0.00002 s, avg_batch_cost: 0.01905 s, avg_samples: 0.5, ips: 26.25240 samples/s, eta: 0:08:19\n",
      "[2023/12/12 07:07:42] ppocr INFO: save model in ./output/db_mv3/latest\n",
      "[2023/12/12 07:07:46] ppocr INFO: epoch: [368/500], global_step: 1104, lr: 0.001000, loss: 1.226016, loss_shrink_maps: 0.642084, loss_threshold_maps: 0.467174, loss_binary_maps: 0.125680, loss_cbn: 0.000000, avg_reader_cost: 0.34918 s, avg_batch_cost: 0.41165 s, avg_samples: 1.5, ips: 3.64383 samples/s, eta: 0:08:15\n",
      "[2023/12/12 07:07:47] ppocr INFO: save model in ./output/db_mv3/latest\n",
      "[2023/12/12 07:07:50] ppocr INFO: epoch: [369/500], global_step: 1107, lr: 0.001000, loss: 1.255555, loss_shrink_maps: 0.657488, loss_threshold_maps: 0.480739, loss_binary_maps: 0.128676, loss_cbn: 0.000000, avg_reader_cost: 0.37399 s, avg_batch_cost: 0.42612 s, avg_samples: 1.5, ips: 3.52015 samples/s, eta: 0:08:12\n",
      "[2023/12/12 07:07:51] ppocr INFO: save model in ./output/db_mv3/latest\n",
      "[2023/12/12 07:07:54] ppocr INFO: epoch: [370/500], global_step: 1110, lr: 0.001000, loss: 1.295339, loss_shrink_maps: 0.670754, loss_threshold_maps: 0.480739, loss_binary_maps: 0.131271, loss_cbn: 0.000000, avg_reader_cost: 0.27176 s, avg_batch_cost: 0.32503 s, avg_samples: 1.5, ips: 4.61502 samples/s, eta: 0:08:08\n",
      "[2023/12/12 07:07:54] ppocr INFO: save model in ./output/db_mv3/latest\n",
      "[2023/12/12 07:07:57] ppocr INFO: epoch: [371/500], global_step: 1113, lr: 0.001000, loss: 1.317948, loss_shrink_maps: 0.670754, loss_threshold_maps: 0.486002, loss_binary_maps: 0.131271, loss_cbn: 0.000000, avg_reader_cost: 0.29725 s, avg_batch_cost: 0.35072 s, avg_samples: 1.5, ips: 4.27689 samples/s, eta: 0:08:04\n",
      "[2023/12/12 07:07:58] ppocr INFO: save model in ./output/db_mv3/latest\n",
      "[2023/12/12 07:08:02] ppocr INFO: epoch: [372/500], global_step: 1116, lr: 0.001000, loss: 1.280255, loss_shrink_maps: 0.663107, loss_threshold_maps: 0.480739, loss_binary_maps: 0.129093, loss_cbn: 0.000000, avg_reader_cost: 0.37210 s, avg_batch_cost: 0.43503 s, avg_samples: 1.5, ips: 3.44804 samples/s, eta: 0:08:00\n",
      "[2023/12/12 07:08:02] ppocr INFO: save model in ./output/db_mv3/latest\n",
      "[2023/12/12 07:08:06] ppocr INFO: epoch: [373/500], global_step: 1119, lr: 0.001000, loss: 1.277046, loss_shrink_maps: 0.663107, loss_threshold_maps: 0.476694, loss_binary_maps: 0.128985, loss_cbn: 0.000000, avg_reader_cost: 0.36874 s, avg_batch_cost: 0.42113 s, avg_samples: 1.5, ips: 3.56186 samples/s, eta: 0:07:57\n",
      "[2023/12/12 07:08:06] ppocr INFO: save model in ./output/db_mv3/latest\n",
      "[2023/12/12 07:08:09] ppocr INFO: epoch: [374/500], global_step: 1120, lr: 0.001000, loss: 1.277046, loss_shrink_maps: 0.663107, loss_threshold_maps: 0.476694, loss_binary_maps: 0.128985, loss_cbn: 0.000000, avg_reader_cost: 0.28424 s, avg_batch_cost: 0.30736 s, avg_samples: 0.5, ips: 1.62673 samples/s, eta: 0:07:56\n",
      "[2023/12/12 07:08:09] ppocr INFO: epoch: [374/500], global_step: 1122, lr: 0.001000, loss: 1.277046, loss_shrink_maps: 0.667850, loss_threshold_maps: 0.479396, loss_binary_maps: 0.130819, loss_cbn: 0.000000, avg_reader_cost: 0.00003 s, avg_batch_cost: 0.02950 s, avg_samples: 1.0, ips: 33.90137 samples/s, eta: 0:07:53\n",
      "[2023/12/12 07:08:10] ppocr INFO: save model in ./output/db_mv3/latest\n",
      "[2023/12/12 07:08:13] ppocr INFO: epoch: [375/500], global_step: 1125, lr: 0.001000, loss: 1.260268, loss_shrink_maps: 0.664051, loss_threshold_maps: 0.474116, loss_binary_maps: 0.128985, loss_cbn: 0.000000, avg_reader_cost: 0.27343 s, avg_batch_cost: 0.33099 s, avg_samples: 1.5, ips: 4.53184 samples/s, eta: 0:07:49\n",
      "[2023/12/12 07:08:13] ppocr INFO: save model in ./output/db_mv3/latest\n",
      "[2023/12/12 07:08:17] ppocr INFO: epoch: [376/500], global_step: 1128, lr: 0.001000, loss: 1.242745, loss_shrink_maps: 0.657966, loss_threshold_maps: 0.472684, loss_binary_maps: 0.126421, loss_cbn: 0.000000, avg_reader_cost: 0.37624 s, avg_batch_cost: 0.43422 s, avg_samples: 1.5, ips: 3.45446 samples/s, eta: 0:07:45\n",
      "[2023/12/12 07:08:18] ppocr INFO: save model in ./output/db_mv3/latest\n",
      "[2023/12/12 07:08:21] ppocr INFO: epoch: [377/500], global_step: 1130, lr: 0.001000, loss: 1.260268, loss_shrink_maps: 0.661842, loss_threshold_maps: 0.472684, loss_binary_maps: 0.127237, loss_cbn: 0.000000, avg_reader_cost: 0.35995 s, avg_batch_cost: 0.39719 s, avg_samples: 1.0, ips: 2.51770 samples/s, eta: 0:07:43\n",
      "[2023/12/12 07:08:22] ppocr INFO: epoch: [377/500], global_step: 1131, lr: 0.001000, loss: 1.248481, loss_shrink_maps: 0.657966, loss_threshold_maps: 0.472684, loss_binary_maps: 0.126728, loss_cbn: 0.000000, avg_reader_cost: 0.00002 s, avg_batch_cost: 0.01465 s, avg_samples: 0.5, ips: 34.13850 samples/s, eta: 0:07:42\n",
      "[2023/12/12 07:08:22] ppocr INFO: save model in ./output/db_mv3/latest\n",
      "[2023/12/12 07:08:25] ppocr INFO: epoch: [378/500], global_step: 1134, lr: 0.001000, loss: 1.245547, loss_shrink_maps: 0.656956, loss_threshold_maps: 0.466311, loss_binary_maps: 0.127237, loss_cbn: 0.000000, avg_reader_cost: 0.26079 s, avg_batch_cost: 0.31432 s, avg_samples: 1.5, ips: 4.77225 samples/s, eta: 0:07:38\n",
      "[2023/12/12 07:08:25] ppocr INFO: save model in ./output/db_mv3/latest\n",
      "[2023/12/12 07:08:28] ppocr INFO: epoch: [379/500], global_step: 1137, lr: 0.001000, loss: 1.236448, loss_shrink_maps: 0.651618, loss_threshold_maps: 0.466311, loss_binary_maps: 0.126728, loss_cbn: 0.000000, avg_reader_cost: 0.25328 s, avg_batch_cost: 0.30666 s, avg_samples: 1.5, ips: 4.89141 samples/s, eta: 0:07:34\n",
      "[2023/12/12 07:08:28] ppocr INFO: save model in ./output/db_mv3/latest\n",
      "[2023/12/12 07:08:32] ppocr INFO: epoch: [380/500], global_step: 1140, lr: 0.001000, loss: 1.245547, loss_shrink_maps: 0.656956, loss_threshold_maps: 0.467019, loss_binary_maps: 0.127283, loss_cbn: 0.000000, avg_reader_cost: 0.36499 s, avg_batch_cost: 0.42382 s, avg_samples: 1.5, ips: 3.53925 samples/s, eta: 0:07:30\n",
      "[2023/12/12 07:08:33] ppocr INFO: save model in ./output/db_mv3/latest\n",
      "[2023/12/12 07:08:37] ppocr INFO: epoch: [381/500], global_step: 1143, lr: 0.001000, loss: 1.253939, loss_shrink_maps: 0.651618, loss_threshold_maps: 0.467019, loss_binary_maps: 0.127262, loss_cbn: 0.000000, avg_reader_cost: 0.37463 s, avg_batch_cost: 0.42780 s, avg_samples: 1.5, ips: 3.50627 samples/s, eta: 0:07:27\n",
      "[2023/12/12 07:08:37] ppocr INFO: save model in ./output/db_mv3/latest\n",
      "[2023/12/12 07:08:40] ppocr INFO: epoch: [382/500], global_step: 1146, lr: 0.001000, loss: 1.253939, loss_shrink_maps: 0.654505, loss_threshold_maps: 0.467019, loss_binary_maps: 0.127330, loss_cbn: 0.000000, avg_reader_cost: 0.25882 s, avg_batch_cost: 0.31608 s, avg_samples: 1.5, ips: 4.74557 samples/s, eta: 0:07:23\n",
      "[2023/12/12 07:08:40] ppocr INFO: save model in ./output/db_mv3/latest\n",
      "[2023/12/12 07:08:43] ppocr INFO: epoch: [383/500], global_step: 1149, lr: 0.001000, loss: 1.231955, loss_shrink_maps: 0.646281, loss_threshold_maps: 0.467019, loss_binary_maps: 0.127330, loss_cbn: 0.000000, avg_reader_cost: 0.28037 s, avg_batch_cost: 0.33288 s, avg_samples: 1.5, ips: 4.50613 samples/s, eta: 0:07:19\n",
      "[2023/12/12 07:08:44] ppocr INFO: save model in ./output/db_mv3/latest\n",
      "[2023/12/12 07:08:48] ppocr INFO: epoch: [384/500], global_step: 1150, lr: 0.001000, loss: 1.227341, loss_shrink_maps: 0.643872, loss_threshold_maps: 0.463363, loss_binary_maps: 0.126775, loss_cbn: 0.000000, avg_reader_cost: 0.42031 s, avg_batch_cost: 0.45318 s, avg_samples: 0.5, ips: 1.10331 samples/s, eta: 0:07:19\n",
      "[2023/12/12 07:08:49] ppocr INFO: epoch: [384/500], global_step: 1152, lr: 0.001000, loss: 1.228471, loss_shrink_maps: 0.647089, loss_threshold_maps: 0.463363, loss_binary_maps: 0.128068, loss_cbn: 0.000000, avg_reader_cost: 0.10373 s, avg_batch_cost: 0.13797 s, avg_samples: 1.0, ips: 7.24806 samples/s, eta: 0:07:16\n",
      "[2023/12/12 07:08:50] ppocr INFO: save model in ./output/db_mv3/latest\n",
      "[2023/12/12 07:08:54] ppocr INFO: epoch: [385/500], global_step: 1155, lr: 0.001000, loss: 1.228471, loss_shrink_maps: 0.651067, loss_threshold_maps: 0.460940, loss_binary_maps: 0.128498, loss_cbn: 0.000000, avg_reader_cost: 0.40370 s, avg_batch_cost: 0.45727 s, avg_samples: 1.5, ips: 3.28035 samples/s, eta: 0:07:12\n",
      "[2023/12/12 07:08:55] ppocr INFO: save model in ./output/db_mv3/latest\n",
      "[2023/12/12 07:08:57] ppocr INFO: epoch: [386/500], global_step: 1158, lr: 0.001000, loss: 1.223331, loss_shrink_maps: 0.648251, loss_threshold_maps: 0.456081, loss_binary_maps: 0.127783, loss_cbn: 0.000000, avg_reader_cost: 0.26441 s, avg_batch_cost: 0.31822 s, avg_samples: 1.5, ips: 4.71368 samples/s, eta: 0:07:08\n",
      "[2023/12/12 07:08:58] ppocr INFO: save model in ./output/db_mv3/latest\n",
      "[2023/12/12 07:09:01] ppocr INFO: epoch: [387/500], global_step: 1160, lr: 0.001000, loss: 1.223331, loss_shrink_maps: 0.648251, loss_threshold_maps: 0.451386, loss_binary_maps: 0.127783, loss_cbn: 0.000000, avg_reader_cost: 0.29841 s, avg_batch_cost: 0.33650 s, avg_samples: 1.0, ips: 2.97181 samples/s, eta: 0:07:06\n",
      "[2023/12/12 07:09:01] ppocr INFO: epoch: [387/500], global_step: 1161, lr: 0.001000, loss: 1.223331, loss_shrink_maps: 0.648251, loss_threshold_maps: 0.456081, loss_binary_maps: 0.127783, loss_cbn: 0.000000, avg_reader_cost: 0.00002 s, avg_batch_cost: 0.01450 s, avg_samples: 0.5, ips: 34.48843 samples/s, eta: 0:07:04\n",
      "[2023/12/12 07:09:01] ppocr INFO: save model in ./output/db_mv3/latest\n",
      "[2023/12/12 07:09:06] ppocr INFO: epoch: [388/500], global_step: 1164, lr: 0.001000, loss: 1.233107, loss_shrink_maps: 0.651067, loss_threshold_maps: 0.466688, loss_binary_maps: 0.128498, loss_cbn: 0.000000, avg_reader_cost: 0.41460 s, avg_batch_cost: 0.47206 s, avg_samples: 1.5, ips: 3.17755 samples/s, eta: 0:07:01\n",
      "[2023/12/12 07:09:07] ppocr INFO: save model in ./output/db_mv3/latest\n",
      "[2023/12/12 07:09:10] ppocr INFO: epoch: [389/500], global_step: 1167, lr: 0.001000, loss: 1.239116, loss_shrink_maps: 0.648251, loss_threshold_maps: 0.475736, loss_binary_maps: 0.127783, loss_cbn: 0.000000, avg_reader_cost: 0.31782 s, avg_batch_cost: 0.37166 s, avg_samples: 1.5, ips: 4.03590 samples/s, eta: 0:06:57\n",
      "[2023/12/12 07:09:10] ppocr INFO: save model in ./output/db_mv3/latest\n",
      "[2023/12/12 07:09:13] ppocr INFO: epoch: [390/500], global_step: 1170, lr: 0.001000, loss: 1.264702, loss_shrink_maps: 0.652121, loss_threshold_maps: 0.477275, loss_binary_maps: 0.128891, loss_cbn: 0.000000, avg_reader_cost: 0.27490 s, avg_batch_cost: 0.32701 s, avg_samples: 1.5, ips: 4.58708 samples/s, eta: 0:06:53\n",
      "[2023/12/12 07:09:14] ppocr INFO: save model in ./output/db_mv3/latest\n",
      "[2023/12/12 07:09:16] ppocr INFO: epoch: [391/500], global_step: 1173, lr: 0.001000, loss: 1.252015, loss_shrink_maps: 0.648251, loss_threshold_maps: 0.477275, loss_binary_maps: 0.127783, loss_cbn: 0.000000, avg_reader_cost: 0.26383 s, avg_batch_cost: 0.31668 s, avg_samples: 1.5, ips: 4.73670 samples/s, eta: 0:06:49\n",
      "[2023/12/12 07:09:17] ppocr INFO: save model in ./output/db_mv3/latest\n",
      "[2023/12/12 07:09:21] ppocr INFO: epoch: [392/500], global_step: 1176, lr: 0.001000, loss: 1.248774, loss_shrink_maps: 0.640603, loss_threshold_maps: 0.477275, loss_binary_maps: 0.125920, loss_cbn: 0.000000, avg_reader_cost: 0.37836 s, avg_batch_cost: 0.44248 s, avg_samples: 1.5, ips: 3.39002 samples/s, eta: 0:06:46\n",
      "[2023/12/12 07:09:22] ppocr INFO: save model in ./output/db_mv3/latest\n",
      "[2023/12/12 07:09:25] ppocr INFO: epoch: [393/500], global_step: 1179, lr: 0.001000, loss: 1.283547, loss_shrink_maps: 0.644472, loss_threshold_maps: 0.480440, loss_binary_maps: 0.127027, loss_cbn: 0.000000, avg_reader_cost: 0.39240 s, avg_batch_cost: 0.44476 s, avg_samples: 1.5, ips: 3.37257 samples/s, eta: 0:06:42\n",
      "[2023/12/12 07:09:26] ppocr INFO: save model in ./output/db_mv3/latest\n",
      "[2023/12/12 07:09:29] ppocr INFO: epoch: [394/500], global_step: 1180, lr: 0.001000, loss: 1.283547, loss_shrink_maps: 0.655330, loss_threshold_maps: 0.480440, loss_binary_maps: 0.129053, loss_cbn: 0.000000, avg_reader_cost: 0.27858 s, avg_batch_cost: 0.30417 s, avg_samples: 0.5, ips: 1.64381 samples/s, eta: 0:06:41\n",
      "[2023/12/12 07:09:29] ppocr INFO: epoch: [394/500], global_step: 1182, lr: 0.001000, loss: 1.255465, loss_shrink_maps: 0.656889, loss_threshold_maps: 0.475658, loss_binary_maps: 0.129053, loss_cbn: 0.000000, avg_reader_cost: 0.00004 s, avg_batch_cost: 0.03060 s, avg_samples: 1.0, ips: 32.67941 samples/s, eta: 0:06:38\n",
      "[2023/12/12 07:09:29] ppocr INFO: save model in ./output/db_mv3/latest\n",
      "[2023/12/12 07:09:33] ppocr INFO: epoch: [395/500], global_step: 1185, lr: 0.001000, loss: 1.221204, loss_shrink_maps: 0.651492, loss_threshold_maps: 0.465852, loss_binary_maps: 0.126584, loss_cbn: 0.000000, avg_reader_cost: 0.30946 s, avg_batch_cost: 0.36151 s, avg_samples: 1.5, ips: 4.14929 samples/s, eta: 0:06:35\n",
      "[2023/12/12 07:09:33] ppocr INFO: save model in ./output/db_mv3/latest\n",
      "[2023/12/12 07:09:38] ppocr INFO: epoch: [396/500], global_step: 1188, lr: 0.001000, loss: 1.200166, loss_shrink_maps: 0.633939, loss_threshold_maps: 0.457356, loss_binary_maps: 0.123674, loss_cbn: 0.000000, avg_reader_cost: 0.42774 s, avg_batch_cost: 0.48538 s, avg_samples: 1.5, ips: 3.09037 samples/s, eta: 0:06:31\n",
      "[2023/12/12 07:09:38] ppocr INFO: save model in ./output/db_mv3/latest\n",
      "[2023/12/12 07:09:41] ppocr INFO: epoch: [397/500], global_step: 1190, lr: 0.001000, loss: 1.200166, loss_shrink_maps: 0.633939, loss_threshold_maps: 0.457356, loss_binary_maps: 0.123588, loss_cbn: 0.000000, avg_reader_cost: 0.33102 s, avg_batch_cost: 0.36988 s, avg_samples: 1.0, ips: 2.70354 samples/s, eta: 0:06:29\n",
      "[2023/12/12 07:09:42] ppocr INFO: epoch: [397/500], global_step: 1191, lr: 0.001000, loss: 1.200166, loss_shrink_maps: 0.633939, loss_threshold_maps: 0.457356, loss_binary_maps: 0.123588, loss_cbn: 0.000000, avg_reader_cost: 0.00002 s, avg_batch_cost: 0.01462 s, avg_samples: 0.5, ips: 34.19612 samples/s, eta: 0:06:27\n",
      "[2023/12/12 07:09:42] ppocr INFO: save model in ./output/db_mv3/latest\n",
      "[2023/12/12 07:09:45] ppocr INFO: epoch: [398/500], global_step: 1194, lr: 0.001000, loss: 1.199121, loss_shrink_maps: 0.633939, loss_threshold_maps: 0.453032, loss_binary_maps: 0.123588, loss_cbn: 0.000000, avg_reader_cost: 0.28142 s, avg_batch_cost: 0.33460 s, avg_samples: 1.5, ips: 4.48302 samples/s, eta: 0:06:23\n",
      "[2023/12/12 07:09:45] ppocr INFO: save model in ./output/db_mv3/latest\n",
      "[2023/12/12 07:09:49] ppocr INFO: epoch: [399/500], global_step: 1197, lr: 0.001000, loss: 1.200571, loss_shrink_maps: 0.644440, loss_threshold_maps: 0.457356, loss_binary_maps: 0.124763, loss_cbn: 0.000000, avg_reader_cost: 0.29491 s, avg_batch_cost: 0.34835 s, avg_samples: 1.5, ips: 4.30603 samples/s, eta: 0:06:20\n",
      "[2023/12/12 07:09:49] ppocr INFO: save model in ./output/db_mv3/latest\n",
      "[2023/12/12 07:09:54] ppocr INFO: epoch: [400/500], global_step: 1200, lr: 0.001000, loss: 1.200571, loss_shrink_maps: 0.644440, loss_threshold_maps: 0.458260, loss_binary_maps: 0.124763, loss_cbn: 0.000000, avg_reader_cost: 0.43256 s, avg_batch_cost: 0.49541 s, avg_samples: 1.5, ips: 3.02781 samples/s, eta: 0:06:16\n",
      "eval model:: 100% 6/6 [00:02<00:00,  2.47it/s]\n",
      "[2023/12/12 07:09:56] ppocr INFO: cur metric, precision: 0.553072625698324, recall: 0.5469613259668509, hmean: 0.55, fps: 22.976780197065203\n",
      "[2023/12/12 07:09:56] ppocr INFO: best metric, hmean: 0.5714285714285715, is_float16: False, precision: 0.6351351351351351, recall: 0.5193370165745856, fps: 21.418506379382393, best_epoch: 334\n",
      "[2023/12/12 07:09:57] ppocr INFO: save model in ./output/db_mv3/latest\n",
      "[2023/12/12 07:09:59] ppocr INFO: epoch: [401/500], global_step: 1203, lr: 0.001000, loss: 1.199121, loss_shrink_maps: 0.625112, loss_threshold_maps: 0.457518, loss_binary_maps: 0.121923, loss_cbn: 0.000000, avg_reader_cost: 0.26473 s, avg_batch_cost: 0.32207 s, avg_samples: 1.5, ips: 4.65732 samples/s, eta: 0:06:12\n",
      "[2023/12/12 07:10:00] ppocr INFO: save model in ./output/db_mv3/latest\n",
      "[2023/12/12 07:10:03] ppocr INFO: epoch: [402/500], global_step: 1206, lr: 0.001000, loss: 1.204542, loss_shrink_maps: 0.635613, loss_threshold_maps: 0.438371, loss_binary_maps: 0.124055, loss_cbn: 0.000000, avg_reader_cost: 0.26074 s, avg_batch_cost: 0.31849 s, avg_samples: 1.5, ips: 4.70973 samples/s, eta: 0:06:08\n",
      "[2023/12/12 07:10:03] ppocr INFO: save model in ./output/db_mv3/latest\n",
      "[2023/12/12 07:10:08] ppocr INFO: epoch: [403/500], global_step: 1209, lr: 0.001000, loss: 1.204542, loss_shrink_maps: 0.635613, loss_threshold_maps: 0.443700, loss_binary_maps: 0.124055, loss_cbn: 0.000000, avg_reader_cost: 0.45776 s, avg_batch_cost: 0.50983 s, avg_samples: 1.5, ips: 2.94214 samples/s, eta: 0:06:05\n",
      "[2023/12/12 07:10:08] ppocr INFO: save model in ./output/db_mv3/latest\n",
      "[2023/12/12 07:10:11] ppocr INFO: epoch: [404/500], global_step: 1210, lr: 0.001000, loss: 1.204542, loss_shrink_maps: 0.635613, loss_threshold_maps: 0.451828, loss_binary_maps: 0.124055, loss_cbn: 0.000000, avg_reader_cost: 0.25925 s, avg_batch_cost: 0.28738 s, avg_samples: 0.5, ips: 1.73988 samples/s, eta: 0:06:04\n",
      "[2023/12/12 07:10:12] ppocr INFO: epoch: [404/500], global_step: 1212, lr: 0.001000, loss: 1.172408, loss_shrink_maps: 0.611945, loss_threshold_maps: 0.443700, loss_binary_maps: 0.118896, loss_cbn: 0.000000, avg_reader_cost: 0.02964 s, avg_batch_cost: 0.06567 s, avg_samples: 1.0, ips: 15.22823 samples/s, eta: 0:06:01\n",
      "[2023/12/12 07:10:12] ppocr INFO: save model in ./output/db_mv3/latest\n",
      "[2023/12/12 07:10:15] ppocr INFO: epoch: [405/500], global_step: 1215, lr: 0.001000, loss: 1.167365, loss_shrink_maps: 0.601137, loss_threshold_maps: 0.436980, loss_binary_maps: 0.117582, loss_cbn: 0.000000, avg_reader_cost: 0.27642 s, avg_batch_cost: 0.32977 s, avg_samples: 1.5, ips: 4.54864 samples/s, eta: 0:05:57\n",
      "[2023/12/12 07:10:15] ppocr INFO: save model in ./output/db_mv3/latest\n",
      "[2023/12/12 07:10:19] ppocr INFO: epoch: [406/500], global_step: 1218, lr: 0.001000, loss: 1.167365, loss_shrink_maps: 0.601137, loss_threshold_maps: 0.443700, loss_binary_maps: 0.117582, loss_cbn: 0.000000, avg_reader_cost: 0.33826 s, avg_batch_cost: 0.39153 s, avg_samples: 1.5, ips: 3.83115 samples/s, eta: 0:05:53\n",
      "[2023/12/12 07:10:20] ppocr INFO: save model in ./output/db_mv3/latest\n",
      "[2023/12/12 07:10:23] ppocr INFO: epoch: [407/500], global_step: 1220, lr: 0.001000, loss: 1.147465, loss_shrink_maps: 0.601137, loss_threshold_maps: 0.442275, loss_binary_maps: 0.117582, loss_cbn: 0.000000, avg_reader_cost: 0.35742 s, avg_batch_cost: 0.39578 s, avg_samples: 1.0, ips: 2.52667 samples/s, eta: 0:05:51\n",
      "[2023/12/12 07:10:23] ppocr INFO: epoch: [407/500], global_step: 1221, lr: 0.001000, loss: 1.172408, loss_shrink_maps: 0.601137, loss_threshold_maps: 0.445132, loss_binary_maps: 0.117582, loss_cbn: 0.000000, avg_reader_cost: 0.00001 s, avg_batch_cost: 0.01461 s, avg_samples: 0.5, ips: 34.23162 samples/s, eta: 0:05:50\n",
      "[2023/12/12 07:10:24] ppocr INFO: save model in ./output/db_mv3/latest\n",
      "[2023/12/12 07:10:27] ppocr INFO: epoch: [408/500], global_step: 1224, lr: 0.001000, loss: 1.155399, loss_shrink_maps: 0.595922, loss_threshold_maps: 0.445132, loss_binary_maps: 0.117582, loss_cbn: 0.000000, avg_reader_cost: 0.29581 s, avg_batch_cost: 0.35181 s, avg_samples: 1.5, ips: 4.26369 samples/s, eta: 0:05:46\n",
      "[2023/12/12 07:10:27] ppocr INFO: save model in ./output/db_mv3/latest\n",
      "[2023/12/12 07:10:31] ppocr INFO: epoch: [409/500], global_step: 1227, lr: 0.001000, loss: 1.133011, loss_shrink_maps: 0.591333, loss_threshold_maps: 0.443565, loss_binary_maps: 0.116429, loss_cbn: 0.000000, avg_reader_cost: 0.30157 s, avg_batch_cost: 0.35339 s, avg_samples: 1.5, ips: 4.24459 samples/s, eta: 0:05:42\n",
      "[2023/12/12 07:10:31] ppocr INFO: save model in ./output/db_mv3/latest\n",
      "[2023/12/12 07:10:35] ppocr INFO: epoch: [410/500], global_step: 1230, lr: 0.001000, loss: 1.155399, loss_shrink_maps: 0.595688, loss_threshold_maps: 0.448769, loss_binary_maps: 0.117269, loss_cbn: 0.000000, avg_reader_cost: 0.42940 s, avg_batch_cost: 0.48440 s, avg_samples: 1.5, ips: 3.09665 samples/s, eta: 0:05:39\n",
      "[2023/12/12 07:10:36] ppocr INFO: save model in ./output/db_mv3/latest\n",
      "[2023/12/12 07:10:40] ppocr INFO: epoch: [411/500], global_step: 1233, lr: 0.001000, loss: 1.174365, loss_shrink_maps: 0.595688, loss_threshold_maps: 0.463950, loss_binary_maps: 0.117269, loss_cbn: 0.000000, avg_reader_cost: 0.37566 s, avg_batch_cost: 0.42904 s, avg_samples: 1.5, ips: 3.49616 samples/s, eta: 0:05:35\n",
      "[2023/12/12 07:10:40] ppocr INFO: save model in ./output/db_mv3/latest\n",
      "[2023/12/12 07:10:43] ppocr INFO: epoch: [412/500], global_step: 1236, lr: 0.001000, loss: 1.141349, loss_shrink_maps: 0.592154, loss_threshold_maps: 0.457356, loss_binary_maps: 0.115794, loss_cbn: 0.000000, avg_reader_cost: 0.29362 s, avg_batch_cost: 0.34709 s, avg_samples: 1.5, ips: 4.32166 samples/s, eta: 0:05:31\n",
      "[2023/12/12 07:10:44] ppocr INFO: save model in ./output/db_mv3/latest\n",
      "[2023/12/12 07:10:47] ppocr INFO: epoch: [413/500], global_step: 1239, lr: 0.001000, loss: 1.148968, loss_shrink_maps: 0.592154, loss_threshold_maps: 0.454321, loss_binary_maps: 0.115794, loss_cbn: 0.000000, avg_reader_cost: 0.29571 s, avg_batch_cost: 0.34920 s, avg_samples: 1.5, ips: 4.29553 samples/s, eta: 0:05:27\n",
      "[2023/12/12 07:10:48] ppocr INFO: save model in ./output/db_mv3/latest\n",
      "[2023/12/12 07:10:51] ppocr INFO: epoch: [414/500], global_step: 1240, lr: 0.001000, loss: 1.148968, loss_shrink_maps: 0.592154, loss_threshold_maps: 0.454321, loss_binary_maps: 0.115794, loss_cbn: 0.000000, avg_reader_cost: 0.37813 s, avg_batch_cost: 0.40737 s, avg_samples: 0.5, ips: 1.22738 samples/s, eta: 0:05:27\n",
      "[2023/12/12 07:10:52] ppocr INFO: epoch: [414/500], global_step: 1242, lr: 0.001000, loss: 1.164589, loss_shrink_maps: 0.598496, loss_threshold_maps: 0.456888, loss_binary_maps: 0.117386, loss_cbn: 0.000000, avg_reader_cost: 0.06878 s, avg_batch_cost: 0.09899 s, avg_samples: 1.0, ips: 10.10155 samples/s, eta: 0:05:24\n",
      "[2023/12/12 07:10:53] ppocr INFO: save model in ./output/db_mv3/latest\n",
      "[2023/12/12 07:10:56] ppocr INFO: epoch: [415/500], global_step: 1245, lr: 0.001000, loss: 1.200650, loss_shrink_maps: 0.605112, loss_threshold_maps: 0.461453, loss_binary_maps: 0.117785, loss_cbn: 0.000000, avg_reader_cost: 0.27254 s, avg_batch_cost: 0.32411 s, avg_samples: 1.5, ips: 4.62809 samples/s, eta: 0:05:20\n",
      "[2023/12/12 07:10:56] ppocr INFO: save model in ./output/db_mv3/latest\n",
      "[2023/12/12 07:10:59] ppocr INFO: epoch: [416/500], global_step: 1248, lr: 0.001000, loss: 1.164589, loss_shrink_maps: 0.601579, loss_threshold_maps: 0.456888, loss_binary_maps: 0.117463, loss_cbn: 0.000000, avg_reader_cost: 0.26144 s, avg_batch_cost: 0.31507 s, avg_samples: 1.5, ips: 4.76080 samples/s, eta: 0:05:16\n",
      "[2023/12/12 07:10:59] ppocr INFO: save model in ./output/db_mv3/latest\n",
      "[2023/12/12 07:11:02] ppocr INFO: epoch: [417/500], global_step: 1250, lr: 0.001000, loss: 1.172607, loss_shrink_maps: 0.611531, loss_threshold_maps: 0.456888, loss_binary_maps: 0.118720, loss_cbn: 0.000000, avg_reader_cost: 0.28735 s, avg_batch_cost: 0.33108 s, avg_samples: 1.0, ips: 3.02042 samples/s, eta: 0:05:14\n",
      "[2023/12/12 07:11:02] ppocr INFO: epoch: [417/500], global_step: 1251, lr: 0.001000, loss: 1.172607, loss_shrink_maps: 0.611531, loss_threshold_maps: 0.456888, loss_binary_maps: 0.118720, loss_cbn: 0.000000, avg_reader_cost: 0.00002 s, avg_batch_cost: 0.01488 s, avg_samples: 0.5, ips: 33.59803 samples/s, eta: 0:05:12\n",
      "[2023/12/12 07:11:03] ppocr INFO: save model in ./output/db_mv3/latest\n",
      "[2023/12/12 07:11:08] ppocr INFO: epoch: [418/500], global_step: 1254, lr: 0.001000, loss: 1.221414, loss_shrink_maps: 0.630931, loss_threshold_maps: 0.456888, loss_binary_maps: 0.124786, loss_cbn: 0.000000, avg_reader_cost: 0.43444 s, avg_batch_cost: 0.49491 s, avg_samples: 1.5, ips: 3.03084 samples/s, eta: 0:05:09\n",
      "[2023/12/12 07:11:08] ppocr INFO: save model in ./output/db_mv3/latest\n",
      "[2023/12/12 07:11:11] ppocr INFO: epoch: [419/500], global_step: 1257, lr: 0.001000, loss: 1.221414, loss_shrink_maps: 0.630931, loss_threshold_maps: 0.457033, loss_binary_maps: 0.124786, loss_cbn: 0.000000, avg_reader_cost: 0.28306 s, avg_batch_cost: 0.33914 s, avg_samples: 1.5, ips: 4.42299 samples/s, eta: 0:05:05\n",
      "[2023/12/12 07:11:11] ppocr INFO: save model in ./output/db_mv3/latest\n",
      "[2023/12/12 07:11:14] ppocr INFO: epoch: [420/500], global_step: 1260, lr: 0.001000, loss: 1.253333, loss_shrink_maps: 0.650666, loss_threshold_maps: 0.471310, loss_binary_maps: 0.127597, loss_cbn: 0.000000, avg_reader_cost: 0.26715 s, avg_batch_cost: 0.32438 s, avg_samples: 1.5, ips: 4.62419 samples/s, eta: 0:05:01\n",
      "[2023/12/12 07:11:15] ppocr INFO: save model in ./output/db_mv3/latest\n",
      "[2023/12/12 07:11:18] ppocr INFO: epoch: [421/500], global_step: 1263, lr: 0.001000, loss: 1.190508, loss_shrink_maps: 0.626446, loss_threshold_maps: 0.453512, loss_binary_maps: 0.124016, loss_cbn: 0.000000, avg_reader_cost: 0.33011 s, avg_batch_cost: 0.39349 s, avg_samples: 1.5, ips: 3.81200 samples/s, eta: 0:04:57\n",
      "[2023/12/12 07:11:19] ppocr INFO: save model in ./output/db_mv3/latest\n",
      "[2023/12/12 07:11:23] ppocr INFO: epoch: [422/500], global_step: 1266, lr: 0.001000, loss: 1.183312, loss_shrink_maps: 0.623533, loss_threshold_maps: 0.448811, loss_binary_maps: 0.124016, loss_cbn: 0.000000, avg_reader_cost: 0.36272 s, avg_batch_cost: 0.41578 s, avg_samples: 1.5, ips: 3.60766 samples/s, eta: 0:04:53\n",
      "[2023/12/12 07:11:23] ppocr INFO: save model in ./output/db_mv3/latest\n",
      "[2023/12/12 07:11:26] ppocr INFO: epoch: [423/500], global_step: 1269, lr: 0.001000, loss: 1.180508, loss_shrink_maps: 0.617572, loss_threshold_maps: 0.448811, loss_binary_maps: 0.122770, loss_cbn: 0.000000, avg_reader_cost: 0.27458 s, avg_batch_cost: 0.33040 s, avg_samples: 1.5, ips: 4.54000 samples/s, eta: 0:04:50\n",
      "[2023/12/12 07:11:27] ppocr INFO: save model in ./output/db_mv3/latest\n",
      "[2023/12/12 07:11:29] ppocr INFO: epoch: [424/500], global_step: 1270, lr: 0.001000, loss: 1.157550, loss_shrink_maps: 0.612556, loss_threshold_maps: 0.442861, loss_binary_maps: 0.121490, loss_cbn: 0.000000, avg_reader_cost: 0.29489 s, avg_batch_cost: 0.31858 s, avg_samples: 0.5, ips: 1.56947 samples/s, eta: 0:04:49\n",
      "[2023/12/12 07:11:30] ppocr INFO: epoch: [424/500], global_step: 1272, lr: 0.001000, loss: 1.180508, loss_shrink_maps: 0.617572, loss_threshold_maps: 0.441022, loss_binary_maps: 0.122584, loss_cbn: 0.000000, avg_reader_cost: 0.00004 s, avg_batch_cost: 0.02947 s, avg_samples: 1.0, ips: 33.93656 samples/s, eta: 0:04:46\n",
      "[2023/12/12 07:11:30] ppocr INFO: save model in ./output/db_mv3/latest\n",
      "[2023/12/12 07:11:34] ppocr INFO: epoch: [425/500], global_step: 1275, lr: 0.001000, loss: 1.199505, loss_shrink_maps: 0.627199, loss_threshold_maps: 0.441022, loss_binary_maps: 0.122584, loss_cbn: 0.000000, avg_reader_cost: 0.40085 s, avg_batch_cost: 0.45885 s, avg_samples: 1.5, ips: 3.26908 samples/s, eta: 0:04:42\n",
      "[2023/12/12 07:11:35] ppocr INFO: save model in ./output/db_mv3/latest\n",
      "[2023/12/12 07:11:39] ppocr INFO: epoch: [426/500], global_step: 1278, lr: 0.001000, loss: 1.199505, loss_shrink_maps: 0.627199, loss_threshold_maps: 0.441022, loss_binary_maps: 0.122584, loss_cbn: 0.000000, avg_reader_cost: 0.36927 s, avg_batch_cost: 0.42124 s, avg_samples: 1.5, ips: 3.56090 samples/s, eta: 0:04:39\n",
      "[2023/12/12 07:11:39] ppocr INFO: save model in ./output/db_mv3/latest\n",
      "[2023/12/12 07:11:42] ppocr INFO: epoch: [427/500], global_step: 1280, lr: 0.001000, loss: 1.199505, loss_shrink_maps: 0.627199, loss_threshold_maps: 0.441022, loss_binary_maps: 0.122584, loss_cbn: 0.000000, avg_reader_cost: 0.28026 s, avg_batch_cost: 0.31811 s, avg_samples: 1.0, ips: 3.14357 samples/s, eta: 0:04:36\n",
      "[2023/12/12 07:11:42] ppocr INFO: epoch: [427/500], global_step: 1281, lr: 0.001000, loss: 1.199505, loss_shrink_maps: 0.620719, loss_threshold_maps: 0.441022, loss_binary_maps: 0.122584, loss_cbn: 0.000000, avg_reader_cost: 0.00001 s, avg_batch_cost: 0.01459 s, avg_samples: 0.5, ips: 34.27609 samples/s, eta: 0:04:35\n",
      "[2023/12/12 07:11:43] ppocr INFO: save model in ./output/db_mv3/latest\n",
      "[2023/12/12 07:11:46] ppocr INFO: epoch: [428/500], global_step: 1284, lr: 0.001000, loss: 1.203136, loss_shrink_maps: 0.620719, loss_threshold_maps: 0.440431, loss_binary_maps: 0.122584, loss_cbn: 0.000000, avg_reader_cost: 0.29321 s, avg_batch_cost: 0.34696 s, avg_samples: 1.5, ips: 4.32332 samples/s, eta: 0:04:31\n",
      "[2023/12/12 07:11:46] ppocr INFO: save model in ./output/db_mv3/latest\n",
      "[2023/12/12 07:11:51] ppocr INFO: epoch: [429/500], global_step: 1287, lr: 0.001000, loss: 1.203136, loss_shrink_maps: 0.627635, loss_threshold_maps: 0.440431, loss_binary_maps: 0.123513, loss_cbn: 0.000000, avg_reader_cost: 0.40908 s, avg_batch_cost: 0.46356 s, avg_samples: 1.5, ips: 3.23582 samples/s, eta: 0:04:27\n",
      "[2023/12/12 07:11:51] ppocr INFO: save model in ./output/db_mv3/latest\n",
      "[2023/12/12 07:11:55] ppocr INFO: epoch: [430/500], global_step: 1290, lr: 0.001000, loss: 1.209765, loss_shrink_maps: 0.635553, loss_threshold_maps: 0.449980, loss_binary_maps: 0.124439, loss_cbn: 0.000000, avg_reader_cost: 0.34031 s, avg_batch_cost: 0.39203 s, avg_samples: 1.5, ips: 3.82620 samples/s, eta: 0:04:23\n",
      "[2023/12/12 07:11:55] ppocr INFO: save model in ./output/db_mv3/latest\n",
      "[2023/12/12 07:11:58] ppocr INFO: epoch: [431/500], global_step: 1293, lr: 0.001000, loss: 1.203693, loss_shrink_maps: 0.618371, loss_threshold_maps: 0.449980, loss_binary_maps: 0.123128, loss_cbn: 0.000000, avg_reader_cost: 0.26630 s, avg_batch_cost: 0.32087 s, avg_samples: 1.5, ips: 4.67474 samples/s, eta: 0:04:20\n",
      "[2023/12/12 07:11:58] ppocr INFO: save model in ./output/db_mv3/latest\n",
      "[2023/12/12 07:12:01] ppocr INFO: epoch: [432/500], global_step: 1296, lr: 0.001000, loss: 1.197610, loss_shrink_maps: 0.616440, loss_threshold_maps: 0.454853, loss_binary_maps: 0.121969, loss_cbn: 0.000000, avg_reader_cost: 0.28967 s, avg_batch_cost: 0.34494 s, avg_samples: 1.5, ips: 4.34855 samples/s, eta: 0:04:16\n",
      "[2023/12/12 07:12:02] ppocr INFO: save model in ./output/db_mv3/latest\n",
      "[2023/12/12 07:12:07] ppocr INFO: epoch: [433/500], global_step: 1299, lr: 0.001000, loss: 1.177204, loss_shrink_maps: 0.613281, loss_threshold_maps: 0.449980, loss_binary_maps: 0.118985, loss_cbn: 0.000000, avg_reader_cost: 0.43222 s, avg_batch_cost: 0.49709 s, avg_samples: 1.5, ips: 3.01755 samples/s, eta: 0:04:12\n",
      "[2023/12/12 07:12:07] ppocr INFO: save model in ./output/db_mv3/latest\n",
      "[2023/12/12 07:12:10] ppocr INFO: epoch: [434/500], global_step: 1300, lr: 0.001000, loss: 1.177204, loss_shrink_maps: 0.613281, loss_threshold_maps: 0.449980, loss_binary_maps: 0.118985, loss_cbn: 0.000000, avg_reader_cost: 0.32738 s, avg_batch_cost: 0.35139 s, avg_samples: 0.5, ips: 1.42290 samples/s, eta: 0:04:11\n",
      "eval model:: 100% 6/6 [00:02<00:00,  2.51it/s]\n",
      "[2023/12/12 07:12:12] ppocr INFO: cur metric, precision: 0.4539877300613497, recall: 0.4088397790055249, hmean: 0.43023255813953487, fps: 24.557485957852087\n",
      "[2023/12/12 07:12:12] ppocr INFO: best metric, hmean: 0.5714285714285715, is_float16: False, precision: 0.6351351351351351, recall: 0.5193370165745856, fps: 21.418506379382393, best_epoch: 334\n",
      "[2023/12/12 07:12:13] ppocr INFO: epoch: [434/500], global_step: 1302, lr: 0.001000, loss: 1.177204, loss_shrink_maps: 0.606642, loss_threshold_maps: 0.449980, loss_binary_maps: 0.118580, loss_cbn: 0.000000, avg_reader_cost: 0.00004 s, avg_batch_cost: 0.03602 s, avg_samples: 1.0, ips: 27.76008 samples/s, eta: 0:04:08\n",
      "[2023/12/12 07:12:13] ppocr INFO: save model in ./output/db_mv3/latest\n",
      "[2023/12/12 07:12:16] ppocr INFO: epoch: [435/500], global_step: 1305, lr: 0.001000, loss: 1.181173, loss_shrink_maps: 0.613281, loss_threshold_maps: 0.450727, loss_binary_maps: 0.119248, loss_cbn: 0.000000, avg_reader_cost: 0.28991 s, avg_batch_cost: 0.34298 s, avg_samples: 1.5, ips: 4.37346 samples/s, eta: 0:04:05\n",
      "[2023/12/12 07:12:17] ppocr INFO: save model in ./output/db_mv3/latest\n",
      "[2023/12/12 07:12:21] ppocr INFO: epoch: [436/500], global_step: 1308, lr: 0.001000, loss: 1.167982, loss_shrink_maps: 0.613281, loss_threshold_maps: 0.457254, loss_binary_maps: 0.119248, loss_cbn: 0.000000, avg_reader_cost: 0.40006 s, avg_batch_cost: 0.45459 s, avg_samples: 1.5, ips: 3.29966 samples/s, eta: 0:04:01\n",
      "[2023/12/12 07:12:22] ppocr INFO: save model in ./output/db_mv3/latest\n",
      "[2023/12/12 07:12:25] ppocr INFO: epoch: [437/500], global_step: 1310, lr: 0.001000, loss: 1.167982, loss_shrink_maps: 0.613281, loss_threshold_maps: 0.446944, loss_binary_maps: 0.119436, loss_cbn: 0.000000, avg_reader_cost: 0.30936 s, avg_batch_cost: 0.35360 s, avg_samples: 1.0, ips: 2.82806 samples/s, eta: 0:03:59\n",
      "[2023/12/12 07:12:25] ppocr INFO: epoch: [437/500], global_step: 1311, lr: 0.001000, loss: 1.167982, loss_shrink_maps: 0.613281, loss_threshold_maps: 0.446944, loss_binary_maps: 0.119436, loss_cbn: 0.000000, avg_reader_cost: 0.02368 s, avg_batch_cost: 0.03823 s, avg_samples: 0.5, ips: 13.07944 samples/s, eta: 0:03:57\n",
      "[2023/12/12 07:12:26] ppocr INFO: save model in ./output/db_mv3/latest\n",
      "[2023/12/12 07:12:29] ppocr INFO: epoch: [438/500], global_step: 1314, lr: 0.001000, loss: 1.167982, loss_shrink_maps: 0.614838, loss_threshold_maps: 0.446944, loss_binary_maps: 0.119436, loss_cbn: 0.000000, avg_reader_cost: 0.30181 s, avg_batch_cost: 0.35794 s, avg_samples: 1.5, ips: 4.19063 samples/s, eta: 0:03:53\n",
      "[2023/12/12 07:12:29] ppocr INFO: save model in ./output/db_mv3/latest\n",
      "[2023/12/12 07:12:32] ppocr INFO: epoch: [439/500], global_step: 1317, lr: 0.001000, loss: 1.198370, loss_shrink_maps: 0.618581, loss_threshold_maps: 0.456971, loss_binary_maps: 0.121294, loss_cbn: 0.000000, avg_reader_cost: 0.28822 s, avg_batch_cost: 0.34103 s, avg_samples: 1.5, ips: 4.39850 samples/s, eta: 0:03:50\n",
      "[2023/12/12 07:12:33] ppocr INFO: save model in ./output/db_mv3/latest\n",
      "[2023/12/12 07:12:37] ppocr INFO: epoch: [440/500], global_step: 1320, lr: 0.001000, loss: 1.205883, loss_shrink_maps: 0.622844, loss_threshold_maps: 0.453420, loss_binary_maps: 0.123358, loss_cbn: 0.000000, avg_reader_cost: 0.40808 s, avg_batch_cost: 0.46632 s, avg_samples: 1.5, ips: 3.21669 samples/s, eta: 0:03:46\n",
      "[2023/12/12 07:12:38] ppocr INFO: save model in ./output/db_mv3/latest\n",
      "[2023/12/12 07:12:42] ppocr INFO: epoch: [441/500], global_step: 1323, lr: 0.001000, loss: 1.167982, loss_shrink_maps: 0.609424, loss_threshold_maps: 0.433776, loss_binary_maps: 0.119810, loss_cbn: 0.000000, avg_reader_cost: 0.37645 s, avg_batch_cost: 0.44113 s, avg_samples: 1.5, ips: 3.40036 samples/s, eta: 0:03:42\n",
      "[2023/12/12 07:12:42] ppocr INFO: save model in ./output/db_mv3/latest\n",
      "[2023/12/12 07:12:45] ppocr INFO: epoch: [442/500], global_step: 1326, lr: 0.001000, loss: 1.180825, loss_shrink_maps: 0.609424, loss_threshold_maps: 0.443393, loss_binary_maps: 0.119810, loss_cbn: 0.000000, avg_reader_cost: 0.27407 s, avg_batch_cost: 0.32835 s, avg_samples: 1.5, ips: 4.56823 samples/s, eta: 0:03:38\n",
      "[2023/12/12 07:12:45] ppocr INFO: save model in ./output/db_mv3/latest\n",
      "[2023/12/12 07:12:49] ppocr INFO: epoch: [443/500], global_step: 1329, lr: 0.001000, loss: 1.214516, loss_shrink_maps: 0.611328, loss_threshold_maps: 0.454081, loss_binary_maps: 0.120072, loss_cbn: 0.000000, avg_reader_cost: 0.29576 s, avg_batch_cost: 0.34875 s, avg_samples: 1.5, ips: 4.30103 samples/s, eta: 0:03:35\n",
      "[2023/12/12 07:12:49] ppocr INFO: save model in ./output/db_mv3/latest\n",
      "[2023/12/12 07:12:53] ppocr INFO: epoch: [444/500], global_step: 1330, lr: 0.001000, loss: 1.211622, loss_shrink_maps: 0.603812, loss_threshold_maps: 0.454081, loss_binary_maps: 0.118376, loss_cbn: 0.000000, avg_reader_cost: 0.38480 s, avg_batch_cost: 0.41164 s, avg_samples: 0.5, ips: 1.21465 samples/s, eta: 0:03:34\n",
      "[2023/12/12 07:12:54] ppocr INFO: epoch: [444/500], global_step: 1332, lr: 0.001000, loss: 1.211622, loss_shrink_maps: 0.603812, loss_threshold_maps: 0.454942, loss_binary_maps: 0.118376, loss_cbn: 0.000000, avg_reader_cost: 0.07109 s, avg_batch_cost: 0.10084 s, avg_samples: 1.0, ips: 9.91666 samples/s, eta: 0:03:31\n",
      "[2023/12/12 07:12:54] ppocr INFO: save model in ./output/db_mv3/latest\n",
      "[2023/12/12 07:12:57] ppocr INFO: epoch: [445/500], global_step: 1335, lr: 0.001000, loss: 1.192945, loss_shrink_maps: 0.596677, loss_threshold_maps: 0.454942, loss_binary_maps: 0.116845, loss_cbn: 0.000000, avg_reader_cost: 0.26023 s, avg_batch_cost: 0.31379 s, avg_samples: 1.5, ips: 4.78023 samples/s, eta: 0:03:27\n",
      "[2023/12/12 07:12:58] ppocr INFO: save model in ./output/db_mv3/latest\n",
      "[2023/12/12 07:13:01] ppocr INFO: epoch: [446/500], global_step: 1338, lr: 0.001000, loss: 1.172036, loss_shrink_maps: 0.595919, loss_threshold_maps: 0.454081, loss_binary_maps: 0.116845, loss_cbn: 0.000000, avg_reader_cost: 0.28832 s, avg_batch_cost: 0.34158 s, avg_samples: 1.5, ips: 4.39136 samples/s, eta: 0:03:23\n",
      "[2023/12/12 07:13:01] ppocr INFO: save model in ./output/db_mv3/latest\n",
      "[2023/12/12 07:13:04] ppocr INFO: epoch: [447/500], global_step: 1340, lr: 0.001000, loss: 1.172036, loss_shrink_maps: 0.595919, loss_threshold_maps: 0.454081, loss_binary_maps: 0.116845, loss_cbn: 0.000000, avg_reader_cost: 0.25379 s, avg_batch_cost: 0.29514 s, avg_samples: 1.0, ips: 3.38822 samples/s, eta: 0:03:21\n",
      "[2023/12/12 07:13:04] ppocr INFO: epoch: [447/500], global_step: 1341, lr: 0.001000, loss: 1.180821, loss_shrink_maps: 0.599666, loss_threshold_maps: 0.454081, loss_binary_maps: 0.117189, loss_cbn: 0.000000, avg_reader_cost: 0.03944 s, avg_batch_cost: 0.05423 s, avg_samples: 0.5, ips: 9.22073 samples/s, eta: 0:03:20\n",
      "[2023/12/12 07:13:05] ppocr INFO: save model in ./output/db_mv3/latest\n",
      "[2023/12/12 07:13:09] ppocr INFO: epoch: [448/500], global_step: 1344, lr: 0.001000, loss: 1.180821, loss_shrink_maps: 0.603054, loss_threshold_maps: 0.454081, loss_binary_maps: 0.118383, loss_cbn: 0.000000, avg_reader_cost: 0.44122 s, avg_batch_cost: 0.49812 s, avg_samples: 1.5, ips: 3.01133 samples/s, eta: 0:03:16\n",
      "[2023/12/12 07:13:10] ppocr INFO: save model in ./output/db_mv3/latest\n",
      "[2023/12/12 07:13:13] ppocr INFO: epoch: [449/500], global_step: 1347, lr: 0.001000, loss: 1.180821, loss_shrink_maps: 0.613377, loss_threshold_maps: 0.455220, loss_binary_maps: 0.120615, loss_cbn: 0.000000, avg_reader_cost: 0.28977 s, avg_batch_cost: 0.34385 s, avg_samples: 1.5, ips: 4.36238 samples/s, eta: 0:03:12\n",
      "[2023/12/12 07:13:13] ppocr INFO: save model in ./output/db_mv3/latest\n",
      "[2023/12/12 07:13:16] ppocr INFO: epoch: [450/500], global_step: 1350, lr: 0.001000, loss: 1.172036, loss_shrink_maps: 0.598677, loss_threshold_maps: 0.456052, loss_binary_maps: 0.117434, loss_cbn: 0.000000, avg_reader_cost: 0.28116 s, avg_batch_cost: 0.33725 s, avg_samples: 1.5, ips: 4.44773 samples/s, eta: 0:03:08\n",
      "[2023/12/12 07:13:17] ppocr INFO: save model in ./output/db_mv3/latest\n",
      "[2023/12/12 07:13:21] ppocr INFO: epoch: [451/500], global_step: 1353, lr: 0.001000, loss: 1.173347, loss_shrink_maps: 0.598677, loss_threshold_maps: 0.450680, loss_binary_maps: 0.117434, loss_cbn: 0.000000, avg_reader_cost: 0.33743 s, avg_batch_cost: 0.39534 s, avg_samples: 1.5, ips: 3.79424 samples/s, eta: 0:03:04\n",
      "[2023/12/12 07:13:21] ppocr INFO: save model in ./output/db_mv3/latest\n",
      "[2023/12/12 07:13:25] ppocr INFO: epoch: [452/500], global_step: 1356, lr: 0.001000, loss: 1.162418, loss_shrink_maps: 0.594851, loss_threshold_maps: 0.445486, loss_binary_maps: 0.116416, loss_cbn: 0.000000, avg_reader_cost: 0.36556 s, avg_batch_cost: 0.42074 s, avg_samples: 1.5, ips: 3.56511 samples/s, eta: 0:03:01\n",
      "[2023/12/12 07:13:25] ppocr INFO: save model in ./output/db_mv3/latest\n",
      "[2023/12/12 07:13:28] ppocr INFO: epoch: [453/500], global_step: 1359, lr: 0.001000, loss: 1.162418, loss_shrink_maps: 0.594851, loss_threshold_maps: 0.445486, loss_binary_maps: 0.116416, loss_cbn: 0.000000, avg_reader_cost: 0.26255 s, avg_batch_cost: 0.32162 s, avg_samples: 1.5, ips: 4.66391 samples/s, eta: 0:02:57\n",
      "[2023/12/12 07:13:29] ppocr INFO: save model in ./output/db_mv3/latest\n",
      "[2023/12/12 07:13:31] ppocr INFO: epoch: [454/500], global_step: 1360, lr: 0.001000, loss: 1.143864, loss_shrink_maps: 0.590971, loss_threshold_maps: 0.445486, loss_binary_maps: 0.116289, loss_cbn: 0.000000, avg_reader_cost: 0.21367 s, avg_batch_cost: 0.24138 s, avg_samples: 0.5, ips: 2.07139 samples/s, eta: 0:02:56\n",
      "[2023/12/12 07:13:32] ppocr INFO: epoch: [454/500], global_step: 1362, lr: 0.001000, loss: 1.143864, loss_shrink_maps: 0.590971, loss_threshold_maps: 0.442357, loss_binary_maps: 0.116289, loss_cbn: 0.000000, avg_reader_cost: 0.06830 s, avg_batch_cost: 0.09824 s, avg_samples: 1.0, ips: 10.17890 samples/s, eta: 0:02:53\n",
      "[2023/12/12 07:13:32] ppocr INFO: save model in ./output/db_mv3/latest\n",
      "[2023/12/12 07:13:36] ppocr INFO: epoch: [455/500], global_step: 1365, lr: 0.001000, loss: 1.140746, loss_shrink_maps: 0.590971, loss_threshold_maps: 0.439776, loss_binary_maps: 0.116289, loss_cbn: 0.000000, avg_reader_cost: 0.36385 s, avg_batch_cost: 0.42621 s, avg_samples: 1.5, ips: 3.51941 samples/s, eta: 0:02:49\n",
      "[2023/12/12 07:13:37] ppocr INFO: save model in ./output/db_mv3/latest\n",
      "[2023/12/12 07:13:41] ppocr INFO: epoch: [456/500], global_step: 1368, lr: 0.001000, loss: 1.126910, loss_shrink_maps: 0.584228, loss_threshold_maps: 0.432023, loss_binary_maps: 0.114629, loss_cbn: 0.000000, avg_reader_cost: 0.38329 s, avg_batch_cost: 0.43895 s, avg_samples: 1.5, ips: 3.41726 samples/s, eta: 0:02:46\n",
      "[2023/12/12 07:13:41] ppocr INFO: save model in ./output/db_mv3/latest\n",
      "[2023/12/12 07:13:44] ppocr INFO: epoch: [457/500], global_step: 1370, lr: 0.001000, loss: 1.126910, loss_shrink_maps: 0.584228, loss_threshold_maps: 0.427312, loss_binary_maps: 0.113828, loss_cbn: 0.000000, avg_reader_cost: 0.29965 s, avg_batch_cost: 0.33767 s, avg_samples: 1.0, ips: 2.96143 samples/s, eta: 0:02:43\n",
      "[2023/12/12 07:13:44] ppocr INFO: epoch: [457/500], global_step: 1371, lr: 0.001000, loss: 1.126910, loss_shrink_maps: 0.584228, loss_threshold_maps: 0.427312, loss_binary_maps: 0.113828, loss_cbn: 0.000000, avg_reader_cost: 0.00002 s, avg_batch_cost: 0.01470 s, avg_samples: 0.5, ips: 34.01160 samples/s, eta: 0:02:42\n",
      "[2023/12/12 07:13:45] ppocr INFO: save model in ./output/db_mv3/latest\n",
      "[2023/12/12 07:13:48] ppocr INFO: epoch: [458/500], global_step: 1374, lr: 0.001000, loss: 1.114271, loss_shrink_maps: 0.585715, loss_threshold_maps: 0.418351, loss_binary_maps: 0.115040, loss_cbn: 0.000000, avg_reader_cost: 0.27490 s, avg_batch_cost: 0.32861 s, avg_samples: 1.5, ips: 4.56472 samples/s, eta: 0:02:38\n",
      "[2023/12/12 07:13:48] ppocr INFO: save model in ./output/db_mv3/latest\n",
      "[2023/12/12 07:13:52] ppocr INFO: epoch: [459/500], global_step: 1377, lr: 0.001000, loss: 1.118404, loss_shrink_maps: 0.582056, loss_threshold_maps: 0.427312, loss_binary_maps: 0.113996, loss_cbn: 0.000000, avg_reader_cost: 0.40136 s, avg_batch_cost: 0.45655 s, avg_samples: 1.5, ips: 3.28554 samples/s, eta: 0:02:34\n",
      "[2023/12/12 07:13:53] ppocr INFO: save model in ./output/db_mv3/latest\n",
      "[2023/12/12 07:13:56] ppocr INFO: epoch: [460/500], global_step: 1380, lr: 0.001000, loss: 1.118404, loss_shrink_maps: 0.582056, loss_threshold_maps: 0.421276, loss_binary_maps: 0.113996, loss_cbn: 0.000000, avg_reader_cost: 0.33922 s, avg_batch_cost: 0.39444 s, avg_samples: 1.5, ips: 3.80282 samples/s, eta: 0:02:31\n",
      "[2023/12/12 07:13:57] ppocr INFO: save model in ./output/db_mv3/latest\n",
      "[2023/12/12 07:14:00] ppocr INFO: epoch: [461/500], global_step: 1383, lr: 0.001000, loss: 1.117794, loss_shrink_maps: 0.582056, loss_threshold_maps: 0.411267, loss_binary_maps: 0.113996, loss_cbn: 0.000000, avg_reader_cost: 0.28331 s, avg_batch_cost: 0.33563 s, avg_samples: 1.5, ips: 4.46920 samples/s, eta: 0:02:27\n",
      "[2023/12/12 07:14:00] ppocr INFO: save model in ./output/db_mv3/latest\n",
      "[2023/12/12 07:14:04] ppocr INFO: epoch: [462/500], global_step: 1386, lr: 0.001000, loss: 1.117794, loss_shrink_maps: 0.582056, loss_threshold_maps: 0.408368, loss_binary_maps: 0.113996, loss_cbn: 0.000000, avg_reader_cost: 0.31325 s, avg_batch_cost: 0.36643 s, avg_samples: 1.5, ips: 4.09356 samples/s, eta: 0:02:23\n",
      "[2023/12/12 07:14:04] ppocr INFO: save model in ./output/db_mv3/latest\n",
      "[2023/12/12 07:14:09] ppocr INFO: epoch: [463/500], global_step: 1389, lr: 0.001000, loss: 1.117794, loss_shrink_maps: 0.582056, loss_threshold_maps: 0.411267, loss_binary_maps: 0.113996, loss_cbn: 0.000000, avg_reader_cost: 0.46613 s, avg_batch_cost: 0.52135 s, avg_samples: 1.5, ips: 2.87715 samples/s, eta: 0:02:19\n",
      "[2023/12/12 07:14:09] ppocr INFO: save model in ./output/db_mv3/latest\n",
      "[2023/12/12 07:14:12] ppocr INFO: epoch: [464/500], global_step: 1390, lr: 0.001000, loss: 1.117794, loss_shrink_maps: 0.582056, loss_threshold_maps: 0.411267, loss_binary_maps: 0.113996, loss_cbn: 0.000000, avg_reader_cost: 0.25270 s, avg_batch_cost: 0.27575 s, avg_samples: 0.5, ips: 1.81327 samples/s, eta: 0:02:18\n",
      "[2023/12/12 07:14:12] ppocr INFO: epoch: [464/500], global_step: 1392, lr: 0.001000, loss: 1.114997, loss_shrink_maps: 0.581869, loss_threshold_maps: 0.409011, loss_binary_maps: 0.113641, loss_cbn: 0.000000, avg_reader_cost: 0.03151 s, avg_batch_cost: 0.06164 s, avg_samples: 1.0, ips: 16.22444 samples/s, eta: 0:02:16\n",
      "[2023/12/12 07:14:13] ppocr INFO: save model in ./output/db_mv3/latest\n",
      "[2023/12/12 07:14:17] ppocr INFO: epoch: [465/500], global_step: 1395, lr: 0.001000, loss: 1.141413, loss_shrink_maps: 0.601002, loss_threshold_maps: 0.421418, loss_binary_maps: 0.117843, loss_cbn: 0.000000, avg_reader_cost: 0.39588 s, avg_batch_cost: 0.46219 s, avg_samples: 1.5, ips: 3.24543 samples/s, eta: 0:02:12\n",
      "[2023/12/12 07:14:18] ppocr INFO: save model in ./output/db_mv3/latest\n",
      "[2023/12/12 07:14:22] ppocr INFO: epoch: [466/500], global_step: 1398, lr: 0.001000, loss: 1.141413, loss_shrink_maps: 0.601002, loss_threshold_maps: 0.421418, loss_binary_maps: 0.117843, loss_cbn: 0.000000, avg_reader_cost: 0.45520 s, avg_batch_cost: 0.51612 s, avg_samples: 1.5, ips: 2.90632 samples/s, eta: 0:02:08\n",
      "[2023/12/12 07:14:23] ppocr INFO: save model in ./output/db_mv3/latest\n",
      "[2023/12/12 07:14:27] ppocr INFO: epoch: [467/500], global_step: 1400, lr: 0.001000, loss: 1.156031, loss_shrink_maps: 0.609454, loss_threshold_maps: 0.427184, loss_binary_maps: 0.120318, loss_cbn: 0.000000, avg_reader_cost: 0.38067 s, avg_batch_cost: 0.41957 s, avg_samples: 1.0, ips: 2.38338 samples/s, eta: 0:02:06\n",
      "eval model:: 100% 6/6 [00:02<00:00,  2.41it/s]\n",
      "[2023/12/12 07:14:29] ppocr INFO: cur metric, precision: 0.5459770114942529, recall: 0.5248618784530387, hmean: 0.5352112676056339, fps: 26.6554081750461\n",
      "[2023/12/12 07:14:29] ppocr INFO: best metric, hmean: 0.5714285714285715, is_float16: False, precision: 0.6351351351351351, recall: 0.5193370165745856, fps: 21.418506379382393, best_epoch: 334\n",
      "[2023/12/12 07:14:29] ppocr INFO: epoch: [467/500], global_step: 1401, lr: 0.001000, loss: 1.156031, loss_shrink_maps: 0.609454, loss_threshold_maps: 0.427184, loss_binary_maps: 0.120318, loss_cbn: 0.000000, avg_reader_cost: 0.00002 s, avg_batch_cost: 0.02026 s, avg_samples: 0.5, ips: 24.67606 samples/s, eta: 0:02:04\n",
      "[2023/12/12 07:14:30] ppocr INFO: save model in ./output/db_mv3/latest\n",
      "[2023/12/12 07:14:33] ppocr INFO: epoch: [468/500], global_step: 1404, lr: 0.001000, loss: 1.145970, loss_shrink_maps: 0.599134, loss_threshold_maps: 0.429289, loss_binary_maps: 0.117611, loss_cbn: 0.000000, avg_reader_cost: 0.28784 s, avg_batch_cost: 0.34158 s, avg_samples: 1.5, ips: 4.39139 samples/s, eta: 0:02:01\n",
      "[2023/12/12 07:14:33] ppocr INFO: save model in ./output/db_mv3/latest\n",
      "[2023/12/12 07:14:37] ppocr INFO: epoch: [469/500], global_step: 1407, lr: 0.001000, loss: 1.151735, loss_shrink_maps: 0.599134, loss_threshold_maps: 0.436264, loss_binary_maps: 0.117945, loss_cbn: 0.000000, avg_reader_cost: 0.36929 s, avg_batch_cost: 0.42636 s, avg_samples: 1.5, ips: 3.51816 samples/s, eta: 0:01:57\n",
      "[2023/12/12 07:14:38] ppocr INFO: save model in ./output/db_mv3/latest\n",
      "[2023/12/12 07:14:42] ppocr INFO: epoch: [470/500], global_step: 1410, lr: 0.001000, loss: 1.165027, loss_shrink_maps: 0.602120, loss_threshold_maps: 0.436884, loss_binary_maps: 0.118537, loss_cbn: 0.000000, avg_reader_cost: 0.38024 s, avg_batch_cost: 0.43643 s, avg_samples: 1.5, ips: 3.43695 samples/s, eta: 0:01:53\n",
      "[2023/12/12 07:14:42] ppocr INFO: save model in ./output/db_mv3/latest\n",
      "[2023/12/12 07:14:45] ppocr INFO: epoch: [471/500], global_step: 1413, lr: 0.001000, loss: 1.165027, loss_shrink_maps: 0.602120, loss_threshold_maps: 0.437561, loss_binary_maps: 0.117945, loss_cbn: 0.000000, avg_reader_cost: 0.27028 s, avg_batch_cost: 0.32430 s, avg_samples: 1.5, ips: 4.62537 samples/s, eta: 0:01:49\n",
      "[2023/12/12 07:14:46] ppocr INFO: save model in ./output/db_mv3/latest\n",
      "[2023/12/12 07:14:48] ppocr INFO: epoch: [472/500], global_step: 1416, lr: 0.001000, loss: 1.164439, loss_shrink_maps: 0.602120, loss_threshold_maps: 0.437561, loss_binary_maps: 0.117945, loss_cbn: 0.000000, avg_reader_cost: 0.26394 s, avg_batch_cost: 0.31902 s, avg_samples: 1.5, ips: 4.70185 samples/s, eta: 0:01:45\n",
      "[2023/12/12 07:14:49] ppocr INFO: save model in ./output/db_mv3/latest\n",
      "[2023/12/12 07:14:53] ppocr INFO: epoch: [473/500], global_step: 1419, lr: 0.001000, loss: 1.136058, loss_shrink_maps: 0.595984, loss_threshold_maps: 0.438432, loss_binary_maps: 0.115611, loss_cbn: 0.000000, avg_reader_cost: 0.37883 s, avg_batch_cost: 0.43420 s, avg_samples: 1.5, ips: 3.45461 samples/s, eta: 0:01:42\n",
      "[2023/12/12 07:14:54] ppocr INFO: save model in ./output/db_mv3/latest\n",
      "[2023/12/12 07:14:57] ppocr INFO: epoch: [474/500], global_step: 1420, lr: 0.001000, loss: 1.136058, loss_shrink_maps: 0.595984, loss_threshold_maps: 0.438432, loss_binary_maps: 0.115611, loss_cbn: 0.000000, avg_reader_cost: 0.38205 s, avg_batch_cost: 0.40596 s, avg_samples: 0.5, ips: 1.23163 samples/s, eta: 0:01:41\n",
      "[2023/12/12 07:14:57] ppocr INFO: epoch: [474/500], global_step: 1422, lr: 0.001000, loss: 1.145532, loss_shrink_maps: 0.601895, loss_threshold_maps: 0.439964, loss_binary_maps: 0.117945, loss_cbn: 0.000000, avg_reader_cost: 0.00004 s, avg_batch_cost: 0.02919 s, avg_samples: 1.0, ips: 34.26397 samples/s, eta: 0:01:38\n",
      "[2023/12/12 07:14:58] ppocr INFO: save model in ./output/db_mv3/latest\n",
      "[2023/12/12 07:15:01] ppocr INFO: epoch: [475/500], global_step: 1425, lr: 0.001000, loss: 1.127659, loss_shrink_maps: 0.581616, loss_threshold_maps: 0.429567, loss_binary_maps: 0.114689, loss_cbn: 0.000000, avg_reader_cost: 0.28770 s, avg_batch_cost: 0.34125 s, avg_samples: 1.5, ips: 4.39560 samples/s, eta: 0:01:34\n",
      "[2023/12/12 07:15:01] ppocr INFO: save model in ./output/db_mv3/latest\n",
      "[2023/12/12 07:15:05] ppocr INFO: epoch: [476/500], global_step: 1428, lr: 0.001000, loss: 1.127659, loss_shrink_maps: 0.592707, loss_threshold_maps: 0.422682, loss_binary_maps: 0.117101, loss_cbn: 0.000000, avg_reader_cost: 0.31017 s, avg_batch_cost: 0.36224 s, avg_samples: 1.5, ips: 4.14093 samples/s, eta: 0:01:30\n",
      "[2023/12/12 07:15:05] ppocr INFO: save model in ./output/db_mv3/latest\n",
      "[2023/12/12 07:15:09] ppocr INFO: epoch: [477/500], global_step: 1430, lr: 0.001000, loss: 1.123995, loss_shrink_maps: 0.571815, loss_threshold_maps: 0.418846, loss_binary_maps: 0.112642, loss_cbn: 0.000000, avg_reader_cost: 0.39652 s, avg_batch_cost: 0.44086 s, avg_samples: 1.0, ips: 2.26827 samples/s, eta: 0:01:28\n",
      "[2023/12/12 07:15:10] ppocr INFO: epoch: [477/500], global_step: 1431, lr: 0.001000, loss: 1.123995, loss_shrink_maps: 0.563348, loss_threshold_maps: 0.418846, loss_binary_maps: 0.110778, loss_cbn: 0.000000, avg_reader_cost: 0.04698 s, avg_batch_cost: 0.06170 s, avg_samples: 0.5, ips: 8.10423 samples/s, eta: 0:01:27\n",
      "[2023/12/12 07:15:11] ppocr INFO: save model in ./output/db_mv3/latest\n",
      "[2023/12/12 07:15:14] ppocr INFO: epoch: [478/500], global_step: 1434, lr: 0.001000, loss: 1.127659, loss_shrink_maps: 0.571319, loss_threshold_maps: 0.416400, loss_binary_maps: 0.112302, loss_cbn: 0.000000, avg_reader_cost: 0.31461 s, avg_batch_cost: 0.37049 s, avg_samples: 1.5, ips: 4.04873 samples/s, eta: 0:01:23\n",
      "[2023/12/12 07:15:14] ppocr INFO: save model in ./output/db_mv3/latest\n",
      "[2023/12/12 07:15:17] ppocr INFO: epoch: [479/500], global_step: 1437, lr: 0.001000, loss: 1.127659, loss_shrink_maps: 0.571319, loss_threshold_maps: 0.414435, loss_binary_maps: 0.112302, loss_cbn: 0.000000, avg_reader_cost: 0.27038 s, avg_batch_cost: 0.32988 s, avg_samples: 1.5, ips: 4.54706 samples/s, eta: 0:01:19\n",
      "[2023/12/12 07:15:18] ppocr INFO: save model in ./output/db_mv3/latest\n",
      "[2023/12/12 07:15:21] ppocr INFO: epoch: [480/500], global_step: 1440, lr: 0.001000, loss: 1.110362, loss_shrink_maps: 0.562274, loss_threshold_maps: 0.407315, loss_binary_maps: 0.110512, loss_cbn: 0.000000, avg_reader_cost: 0.29589 s, avg_batch_cost: 0.34784 s, avg_samples: 1.5, ips: 4.31236 samples/s, eta: 0:01:15\n",
      "[2023/12/12 07:15:21] ppocr INFO: save model in ./output/db_mv3/latest\n",
      "[2023/12/12 07:15:26] ppocr INFO: epoch: [481/500], global_step: 1443, lr: 0.001000, loss: 1.073043, loss_shrink_maps: 0.556449, loss_threshold_maps: 0.411703, loss_binary_maps: 0.109390, loss_cbn: 0.000000, avg_reader_cost: 0.45327 s, avg_batch_cost: 0.50550 s, avg_samples: 1.5, ips: 2.96734 samples/s, eta: 0:01:11\n",
      "[2023/12/12 07:15:26] ppocr INFO: save model in ./output/db_mv3/latest\n",
      "[2023/12/12 07:15:29] ppocr INFO: epoch: [482/500], global_step: 1446, lr: 0.001000, loss: 1.093825, loss_shrink_maps: 0.571187, loss_threshold_maps: 0.411703, loss_binary_maps: 0.111589, loss_cbn: 0.000000, avg_reader_cost: 0.27243 s, avg_batch_cost: 0.32963 s, avg_samples: 1.5, ips: 4.55049 samples/s, eta: 0:01:08\n",
      "[2023/12/12 07:15:30] ppocr INFO: save model in ./output/db_mv3/latest\n",
      "[2023/12/12 07:15:33] ppocr INFO: epoch: [483/500], global_step: 1449, lr: 0.001000, loss: 1.109511, loss_shrink_maps: 0.571187, loss_threshold_maps: 0.420835, loss_binary_maps: 0.111589, loss_cbn: 0.000000, avg_reader_cost: 0.28468 s, avg_batch_cost: 0.33764 s, avg_samples: 1.5, ips: 4.44254 samples/s, eta: 0:01:04\n",
      "[2023/12/12 07:15:33] ppocr INFO: save model in ./output/db_mv3/latest\n",
      "[2023/12/12 07:15:36] ppocr INFO: epoch: [484/500], global_step: 1450, lr: 0.001000, loss: 1.077810, loss_shrink_maps: 0.563107, loss_threshold_maps: 0.411990, loss_binary_maps: 0.110158, loss_cbn: 0.000000, avg_reader_cost: 0.26558 s, avg_batch_cost: 0.29099 s, avg_samples: 0.5, ips: 1.71829 samples/s, eta: 0:01:03\n",
      "[2023/12/12 07:15:36] ppocr INFO: epoch: [484/500], global_step: 1452, lr: 0.001000, loss: 1.047451, loss_shrink_maps: 0.546401, loss_threshold_maps: 0.403194, loss_binary_maps: 0.106513, loss_cbn: 0.000000, avg_reader_cost: 0.02601 s, avg_batch_cost: 0.05734 s, avg_samples: 1.0, ips: 17.43981 samples/s, eta: 0:01:00\n",
      "[2023/12/12 07:15:37] ppocr INFO: save model in ./output/db_mv3/latest\n",
      "[2023/12/12 07:15:41] ppocr INFO: epoch: [485/500], global_step: 1455, lr: 0.001000, loss: 1.070788, loss_shrink_maps: 0.568321, loss_threshold_maps: 0.403481, loss_binary_maps: 0.110420, loss_cbn: 0.000000, avg_reader_cost: 0.43244 s, avg_batch_cost: 0.48463 s, avg_samples: 1.5, ips: 3.09516 samples/s, eta: 0:00:56\n",
      "[2023/12/12 07:15:42] ppocr INFO: save model in ./output/db_mv3/latest\n",
      "[2023/12/12 07:15:45] ppocr INFO: epoch: [486/500], global_step: 1458, lr: 0.001000, loss: 1.084779, loss_shrink_maps: 0.568321, loss_threshold_maps: 0.411990, loss_binary_maps: 0.110420, loss_cbn: 0.000000, avg_reader_cost: 0.29334 s, avg_batch_cost: 0.34592 s, avg_samples: 1.5, ips: 4.33630 samples/s, eta: 0:00:53\n",
      "[2023/12/12 07:15:45] ppocr INFO: save model in ./output/db_mv3/latest\n",
      "[2023/12/12 07:15:48] ppocr INFO: epoch: [487/500], global_step: 1460, lr: 0.001000, loss: 1.089553, loss_shrink_maps: 0.571303, loss_threshold_maps: 0.421284, loss_binary_maps: 0.110569, loss_cbn: 0.000000, avg_reader_cost: 0.26334 s, avg_batch_cost: 0.30399 s, avg_samples: 1.0, ips: 3.28962 samples/s, eta: 0:00:50\n",
      "[2023/12/12 07:15:48] ppocr INFO: epoch: [487/500], global_step: 1461, lr: 0.001000, loss: 1.097238, loss_shrink_maps: 0.579904, loss_threshold_maps: 0.426762, loss_binary_maps: 0.112386, loss_cbn: 0.000000, avg_reader_cost: 0.00001 s, avg_batch_cost: 0.01457 s, avg_samples: 0.5, ips: 34.31434 samples/s, eta: 0:00:49\n",
      "[2023/12/12 07:15:49] ppocr INFO: save model in ./output/db_mv3/latest\n",
      "[2023/12/12 07:15:52] ppocr INFO: epoch: [488/500], global_step: 1464, lr: 0.001000, loss: 1.096054, loss_shrink_maps: 0.571303, loss_threshold_maps: 0.432501, loss_binary_maps: 0.110569, loss_cbn: 0.000000, avg_reader_cost: 0.35506 s, avg_batch_cost: 0.42347 s, avg_samples: 1.5, ips: 3.54219 samples/s, eta: 0:00:45\n",
      "[2023/12/12 07:15:53] ppocr INFO: save model in ./output/db_mv3/latest\n",
      "[2023/12/12 07:15:57] ppocr INFO: epoch: [489/500], global_step: 1467, lr: 0.001000, loss: 1.093807, loss_shrink_maps: 0.558732, loss_threshold_maps: 0.427336, loss_binary_maps: 0.108836, loss_cbn: 0.000000, avg_reader_cost: 0.37682 s, avg_batch_cost: 0.43118 s, avg_samples: 1.5, ips: 3.47886 samples/s, eta: 0:00:41\n",
      "[2023/12/12 07:15:57] ppocr INFO: save model in ./output/db_mv3/latest\n",
      "[2023/12/12 07:16:00] ppocr INFO: epoch: [490/500], global_step: 1470, lr: 0.001000, loss: 1.101492, loss_shrink_maps: 0.574806, loss_threshold_maps: 0.427336, loss_binary_maps: 0.112255, loss_cbn: 0.000000, avg_reader_cost: 0.25765 s, avg_batch_cost: 0.31205 s, avg_samples: 1.5, ips: 4.80694 samples/s, eta: 0:00:37\n",
      "[2023/12/12 07:16:01] ppocr INFO: save model in ./output/db_mv3/latest\n",
      "[2023/12/12 07:16:04] ppocr INFO: epoch: [491/500], global_step: 1473, lr: 0.001000, loss: 1.143174, loss_shrink_maps: 0.598908, loss_threshold_maps: 0.437778, loss_binary_maps: 0.116200, loss_cbn: 0.000000, avg_reader_cost: 0.30904 s, avg_batch_cost: 0.36254 s, avg_samples: 1.5, ips: 4.13744 samples/s, eta: 0:00:34\n",
      "[2023/12/12 07:16:04] ppocr INFO: save model in ./output/db_mv3/latest\n",
      "[2023/12/12 07:16:09] ppocr INFO: epoch: [492/500], global_step: 1476, lr: 0.001000, loss: 1.101492, loss_shrink_maps: 0.573800, loss_threshold_maps: 0.426125, loss_binary_maps: 0.113291, loss_cbn: 0.000000, avg_reader_cost: 0.39992 s, avg_batch_cost: 0.45344 s, avg_samples: 1.5, ips: 3.30808 samples/s, eta: 0:00:30\n",
      "[2023/12/12 07:16:09] ppocr INFO: save model in ./output/db_mv3/latest\n",
      "[2023/12/12 07:16:13] ppocr INFO: epoch: [493/500], global_step: 1479, lr: 0.001000, loss: 1.095494, loss_shrink_maps: 0.573719, loss_threshold_maps: 0.422674, loss_binary_maps: 0.113291, loss_cbn: 0.000000, avg_reader_cost: 0.38930 s, avg_batch_cost: 0.44294 s, avg_samples: 1.5, ips: 3.38645 samples/s, eta: 0:00:26\n",
      "[2023/12/12 07:16:14] ppocr INFO: save model in ./output/db_mv3/latest\n",
      "[2023/12/12 07:16:16] ppocr INFO: epoch: [494/500], global_step: 1480, lr: 0.001000, loss: 1.116635, loss_shrink_maps: 0.587965, loss_threshold_maps: 0.422674, loss_binary_maps: 0.116101, loss_cbn: 0.000000, avg_reader_cost: 0.30697 s, avg_batch_cost: 0.33078 s, avg_samples: 0.5, ips: 1.51156 samples/s, eta: 0:00:25\n",
      "[2023/12/12 07:16:17] ppocr INFO: epoch: [494/500], global_step: 1482, lr: 0.001000, loss: 1.120197, loss_shrink_maps: 0.588348, loss_threshold_maps: 0.422674, loss_binary_maps: 0.116101, loss_cbn: 0.000000, avg_reader_cost: 0.00003 s, avg_batch_cost: 0.02929 s, avg_samples: 1.0, ips: 34.13567 samples/s, eta: 0:00:22\n",
      "[2023/12/12 07:16:17] ppocr INFO: save model in ./output/db_mv3/latest\n",
      "[2023/12/12 07:16:20] ppocr INFO: epoch: [495/500], global_step: 1485, lr: 0.001000, loss: 1.126862, loss_shrink_maps: 0.600743, loss_threshold_maps: 0.422674, loss_binary_maps: 0.118168, loss_cbn: 0.000000, avg_reader_cost: 0.25745 s, avg_batch_cost: 0.31531 s, avg_samples: 1.5, ips: 4.75718 samples/s, eta: 0:00:18\n",
      "[2023/12/12 07:16:20] ppocr INFO: save model in ./output/db_mv3/latest\n",
      "[2023/12/12 07:16:25] ppocr INFO: epoch: [496/500], global_step: 1488, lr: 0.001000, loss: 1.105156, loss_shrink_maps: 0.581778, loss_threshold_maps: 0.415997, loss_binary_maps: 0.115022, loss_cbn: 0.000000, avg_reader_cost: 0.44786 s, avg_batch_cost: 0.50289 s, avg_samples: 1.5, ips: 2.98274 samples/s, eta: 0:00:15\n",
      "[2023/12/12 07:16:26] ppocr INFO: save model in ./output/db_mv3/latest\n",
      "[2023/12/12 07:16:29] ppocr INFO: epoch: [497/500], global_step: 1490, lr: 0.001000, loss: 1.120197, loss_shrink_maps: 0.586276, loss_threshold_maps: 0.420061, loss_binary_maps: 0.115650, loss_cbn: 0.000000, avg_reader_cost: 0.32576 s, avg_batch_cost: 0.36729 s, avg_samples: 1.0, ips: 2.72264 samples/s, eta: 0:00:12\n",
      "[2023/12/12 07:16:29] ppocr INFO: epoch: [497/500], global_step: 1491, lr: 0.001000, loss: 1.120197, loss_shrink_maps: 0.585945, loss_threshold_maps: 0.420061, loss_binary_maps: 0.115022, loss_cbn: 0.000000, avg_reader_cost: 0.01686 s, avg_batch_cost: 0.03144 s, avg_samples: 0.5, ips: 15.90347 samples/s, eta: 0:00:11\n",
      "[2023/12/12 07:16:30] ppocr INFO: save model in ./output/db_mv3/latest\n",
      "[2023/12/12 07:16:33] ppocr INFO: epoch: [498/500], global_step: 1494, lr: 0.001000, loss: 1.107400, loss_shrink_maps: 0.581778, loss_threshold_maps: 0.415997, loss_binary_maps: 0.114531, loss_cbn: 0.000000, avg_reader_cost: 0.29342 s, avg_batch_cost: 0.34605 s, avg_samples: 1.5, ips: 4.33462 samples/s, eta: 0:00:07\n",
      "[2023/12/12 07:16:33] ppocr INFO: save model in ./output/db_mv3/latest\n",
      "[2023/12/12 07:16:36] ppocr INFO: epoch: [499/500], global_step: 1497, lr: 0.001000, loss: 1.116863, loss_shrink_maps: 0.585945, loss_threshold_maps: 0.413018, loss_binary_maps: 0.114531, loss_cbn: 0.000000, avg_reader_cost: 0.28082 s, avg_batch_cost: 0.33206 s, avg_samples: 1.5, ips: 4.51731 samples/s, eta: 0:00:03\n",
      "[2023/12/12 07:16:37] ppocr INFO: save model in ./output/db_mv3/latest\n",
      "[2023/12/12 07:16:41] ppocr INFO: epoch: [500/500], global_step: 1500, lr: 0.001000, loss: 1.104631, loss_shrink_maps: 0.565308, loss_threshold_maps: 0.405947, loss_binary_maps: 0.110629, loss_cbn: 0.000000, avg_reader_cost: 0.44371 s, avg_batch_cost: 0.50890 s, avg_samples: 1.5, ips: 2.94751 samples/s, eta: 0:00:00\n",
      "eval model:: 100% 6/6 [00:02<00:00,  2.36it/s]\n",
      "[2023/12/12 07:16:44] ppocr INFO: cur metric, precision: 0.4742857142857143, recall: 0.4585635359116022, hmean: 0.4662921348314607, fps: 24.69256627477761\n",
      "[2023/12/12 07:16:44] ppocr INFO: best metric, hmean: 0.5714285714285715, is_float16: False, precision: 0.6351351351351351, recall: 0.5193370165745856, fps: 21.418506379382393, best_epoch: 334\n",
      "[2023/12/12 07:16:44] ppocr INFO: save model in ./output/db_mv3/latest\n",
      "[2023/12/12 07:16:45] ppocr INFO: save model in ./output/db_mv3/iter_epoch_500\n",
      "[2023/12/12 07:16:45] ppocr INFO: best metric, hmean: 0.5714285714285715, is_float16: False, precision: 0.6351351351351351, recall: 0.5193370165745856, fps: 21.418506379382393, best_epoch: 334\n"
     ]
    }
   ],
   "source": [
    "\n",
    "!python3 tools/train.py -c /content/det_mv3_db.yml -o Global.pretrained_model=/content/pretrain_models/MobileNetV3_large_x0_5_pretrained.pdparams"
   ]
  },
  {
   "cell_type": "code",
   "execution_count": 14,
   "id": "ce498537",
   "metadata": {
    "colab": {
     "base_uri": "https://localhost:8080/"
    },
    "id": "ce498537",
    "outputId": "9ed11a29-475f-43ca-b43f-3148ca98f2b0",
    "papermill": {
     "duration": null,
     "end_time": null,
     "exception": null,
     "start_time": null,
     "status": "pending"
    },
    "tags": []
   },
   "outputs": [
    {
     "name": "stdout",
     "output_type": "stream",
     "text": [
      "/usr/local/lib/python3.10/dist-packages/pkg_resources/__init__.py:121: DeprecationWarning: pkg_resources is deprecated as an API\n",
      "  warnings.warn(\"pkg_resources is deprecated as an API\", DeprecationWarning)\n",
      "/usr/local/lib/python3.10/dist-packages/pkg_resources/__init__.py:2870: DeprecationWarning: Deprecated call to `pkg_resources.declare_namespace('google')`.\n",
      "Implementing implicit namespace packages (as specified in PEP 420) is preferred to `pkg_resources.declare_namespace`. See https://setuptools.pypa.io/en/latest/references/keywords.html#keyword-namespace-packages\n",
      "  declare_namespace(pkg)\n",
      "/usr/local/lib/python3.10/dist-packages/pkg_resources/__init__.py:2870: DeprecationWarning: Deprecated call to `pkg_resources.declare_namespace('google.ai')`.\n",
      "Implementing implicit namespace packages (as specified in PEP 420) is preferred to `pkg_resources.declare_namespace`. See https://setuptools.pypa.io/en/latest/references/keywords.html#keyword-namespace-packages\n",
      "  declare_namespace(pkg)\n",
      "/usr/local/lib/python3.10/dist-packages/pkg_resources/__init__.py:2349: DeprecationWarning: Deprecated call to `pkg_resources.declare_namespace('google')`.\n",
      "Implementing implicit namespace packages (as specified in PEP 420) is preferred to `pkg_resources.declare_namespace`. See https://setuptools.pypa.io/en/latest/references/keywords.html#keyword-namespace-packages\n",
      "  declare_namespace(parent)\n",
      "/usr/local/lib/python3.10/dist-packages/pkg_resources/__init__.py:2870: DeprecationWarning: Deprecated call to `pkg_resources.declare_namespace('google.cloud')`.\n",
      "Implementing implicit namespace packages (as specified in PEP 420) is preferred to `pkg_resources.declare_namespace`. See https://setuptools.pypa.io/en/latest/references/keywords.html#keyword-namespace-packages\n",
      "  declare_namespace(pkg)\n",
      "/usr/local/lib/python3.10/dist-packages/pkg_resources/__init__.py:2870: DeprecationWarning: Deprecated call to `pkg_resources.declare_namespace('google.logging')`.\n",
      "Implementing implicit namespace packages (as specified in PEP 420) is preferred to `pkg_resources.declare_namespace`. See https://setuptools.pypa.io/en/latest/references/keywords.html#keyword-namespace-packages\n",
      "  declare_namespace(pkg)\n",
      "/usr/local/lib/python3.10/dist-packages/pkg_resources/__init__.py:2870: DeprecationWarning: Deprecated call to `pkg_resources.declare_namespace('google.iam')`.\n",
      "Implementing implicit namespace packages (as specified in PEP 420) is preferred to `pkg_resources.declare_namespace`. See https://setuptools.pypa.io/en/latest/references/keywords.html#keyword-namespace-packages\n",
      "  declare_namespace(pkg)\n",
      "/usr/local/lib/python3.10/dist-packages/pkg_resources/__init__.py:2870: DeprecationWarning: Deprecated call to `pkg_resources.declare_namespace('mpl_toolkits')`.\n",
      "Implementing implicit namespace packages (as specified in PEP 420) is preferred to `pkg_resources.declare_namespace`. See https://setuptools.pypa.io/en/latest/references/keywords.html#keyword-namespace-packages\n",
      "  declare_namespace(pkg)\n",
      "/usr/local/lib/python3.10/dist-packages/pkg_resources/__init__.py:2870: DeprecationWarning: Deprecated call to `pkg_resources.declare_namespace('sphinxcontrib')`.\n",
      "Implementing implicit namespace packages (as specified in PEP 420) is preferred to `pkg_resources.declare_namespace`. See https://setuptools.pypa.io/en/latest/references/keywords.html#keyword-namespace-packages\n",
      "  declare_namespace(pkg)\n",
      "LAUNCH ERROR 2023-12-12 04:38:58,412 Device not found 0 from 0,1 for setting \n",
      "[2023-12-12 04:38:58,412] [   ERROR] __init__.py:36 - Device not found 0 from 0,1 for setting \n",
      "LAUNCH ERROR 2023-12-12 04:38:58,412 Device not found 1 from 0,1 for setting \n",
      "[2023-12-12 04:38:58,412] [   ERROR] __init__.py:36 - Device not found 1 from 0,1 for setting \n",
      "LAUNCH INFO 2023-12-12 04:38:58,417 -----------  Configuration  ----------------------\n",
      "[2023-12-12 04:38:58,417] [    INFO] __init__.py:45 - -----------  Configuration  ----------------------\n",
      "LAUNCH INFO 2023-12-12 04:38:58,417 devices: 0,1\n",
      "[2023-12-12 04:38:58,417] [    INFO] __init__.py:47 - devices: 0,1\n",
      "LAUNCH INFO 2023-12-12 04:38:58,417 elastic_level: -1\n",
      "[2023-12-12 04:38:58,417] [    INFO] __init__.py:47 - elastic_level: -1\n",
      "LAUNCH INFO 2023-12-12 04:38:58,417 elastic_timeout: 30\n",
      "[2023-12-12 04:38:58,417] [    INFO] __init__.py:47 - elastic_timeout: 30\n",
      "LAUNCH INFO 2023-12-12 04:38:58,417 gloo_port: 6767\n",
      "[2023-12-12 04:38:58,417] [    INFO] __init__.py:47 - gloo_port: 6767\n",
      "LAUNCH INFO 2023-12-12 04:38:58,417 host: None\n",
      "[2023-12-12 04:38:58,417] [    INFO] __init__.py:47 - host: None\n",
      "LAUNCH INFO 2023-12-12 04:38:58,417 ips: None\n",
      "[2023-12-12 04:38:58,417] [    INFO] __init__.py:47 - ips: None\n",
      "LAUNCH INFO 2023-12-12 04:38:58,417 job_id: default\n",
      "[2023-12-12 04:38:58,417] [    INFO] __init__.py:47 - job_id: default\n",
      "LAUNCH INFO 2023-12-12 04:38:58,417 legacy: False\n",
      "[2023-12-12 04:38:58,417] [    INFO] __init__.py:47 - legacy: False\n",
      "LAUNCH INFO 2023-12-12 04:38:58,417 log_dir: log\n",
      "[2023-12-12 04:38:58,417] [    INFO] __init__.py:47 - log_dir: log\n",
      "LAUNCH INFO 2023-12-12 04:38:58,417 log_level: INFO\n",
      "[2023-12-12 04:38:58,417] [    INFO] __init__.py:47 - log_level: INFO\n",
      "LAUNCH INFO 2023-12-12 04:38:58,417 master: None\n",
      "[2023-12-12 04:38:58,417] [    INFO] __init__.py:47 - master: None\n",
      "LAUNCH INFO 2023-12-12 04:38:58,417 max_restart: 3\n",
      "[2023-12-12 04:38:58,417] [    INFO] __init__.py:47 - max_restart: 3\n",
      "LAUNCH INFO 2023-12-12 04:38:58,418 nnodes: 1\n",
      "[2023-12-12 04:38:58,418] [    INFO] __init__.py:47 - nnodes: 1\n",
      "LAUNCH INFO 2023-12-12 04:38:58,418 nproc_per_node: None\n",
      "[2023-12-12 04:38:58,418] [    INFO] __init__.py:47 - nproc_per_node: None\n",
      "LAUNCH INFO 2023-12-12 04:38:58,418 rank: -1\n",
      "[2023-12-12 04:38:58,418] [    INFO] __init__.py:47 - rank: -1\n",
      "LAUNCH INFO 2023-12-12 04:38:58,418 run_mode: collective\n",
      "[2023-12-12 04:38:58,418] [    INFO] __init__.py:47 - run_mode: collective\n",
      "LAUNCH INFO 2023-12-12 04:38:58,418 server_num: None\n",
      "[2023-12-12 04:38:58,418] [    INFO] __init__.py:47 - server_num: None\n",
      "LAUNCH INFO 2023-12-12 04:38:58,418 servers: \n",
      "[2023-12-12 04:38:58,418] [    INFO] __init__.py:47 - servers: \n",
      "LAUNCH INFO 2023-12-12 04:38:58,418 start_port: 6070\n",
      "[2023-12-12 04:38:58,418] [    INFO] __init__.py:47 - start_port: 6070\n",
      "LAUNCH INFO 2023-12-12 04:38:58,418 trainer_num: None\n",
      "[2023-12-12 04:38:58,418] [    INFO] __init__.py:47 - trainer_num: None\n",
      "LAUNCH INFO 2023-12-12 04:38:58,418 trainers: \n",
      "[2023-12-12 04:38:58,418] [    INFO] __init__.py:47 - trainers: \n",
      "LAUNCH INFO 2023-12-12 04:38:58,418 training_script: tools/train.py\n",
      "[2023-12-12 04:38:58,418] [    INFO] __init__.py:47 - training_script: tools/train.py\n",
      "LAUNCH INFO 2023-12-12 04:38:58,418 training_script_args: ['-c', 'configs/det/det_mv3_db.yml', '-o', 'Global.pretrained_model=./pretrain_models/MobileNetV3_large_x0_5_pretrained']\n",
      "[2023-12-12 04:38:58,418] [    INFO] __init__.py:47 - training_script_args: ['-c', 'configs/det/det_mv3_db.yml', '-o', 'Global.pretrained_model=./pretrain_models/MobileNetV3_large_x0_5_pretrained']\n",
      "LAUNCH INFO 2023-12-12 04:38:58,418 with_gloo: 1\n",
      "[2023-12-12 04:38:58,418] [    INFO] __init__.py:47 - with_gloo: 1\n",
      "LAUNCH INFO 2023-12-12 04:38:58,418 --------------------------------------------------\n",
      "[2023-12-12 04:38:58,418] [    INFO] __init__.py:48 - --------------------------------------------------\n",
      "LAUNCH INFO 2023-12-12 04:38:58,419 Job: default, mode collective, replicas 1[1:1], elastic False\n",
      "[2023-12-12 04:38:58,419] [    INFO] controller.py:168 - Job: default, mode collective, replicas 1[1:1], elastic False\n",
      "Traceback (most recent call last):\n",
      "  File \"/usr/lib/python3.10/runpy.py\", line 196, in _run_module_as_main\n",
      "    return _run_code(code, main_globals, None,\n",
      "  File \"/usr/lib/python3.10/runpy.py\", line 86, in _run_code\n",
      "    exec(code, run_globals)\n",
      "  File \"/usr/local/lib/python3.10/dist-packages/paddle/distributed/launch/__main__.py\", line 17, in <module>\n",
      "    launch()\n",
      "  File \"/usr/local/lib/python3.10/dist-packages/paddle/distributed/launch/main.py\", line 282, in launch\n",
      "    c.run()\n",
      "  File \"/usr/local/lib/python3.10/dist-packages/paddle/distributed/launch/controllers/controller.py\", line 68, in run\n",
      "    self.build_pod()\n",
      "  File \"/usr/local/lib/python3.10/dist-packages/paddle/distributed/launch/controllers/collective.py\", line 40, in build_pod\n",
      "    self._build_pod_with_master()\n",
      "  File \"/usr/local/lib/python3.10/dist-packages/paddle/distributed/launch/controllers/collective.py\", line 141, in _build_pod_with_master\n",
      "    selected_dev_list = self.ctx.node.device.get_selected_devices(\n",
      "  File \"/usr/local/lib/python3.10/dist-packages/paddle/distributed/launch/context/device.py\", line 90, in get_selected_devices\n",
      "    return [str(self._labels.index(d)) for d in devs]\n",
      "  File \"/usr/local/lib/python3.10/dist-packages/paddle/distributed/launch/context/device.py\", line 90, in <listcomp>\n",
      "    return [str(self._labels.index(d)) for d in devs]\n",
      "ValueError: substring not found\n"
     ]
    }
   ],
   "source": [
    "#@title\n",
    "#Multi-GPU Training\n",
    "!python3 -m paddle.distributed.launch --gpus '0,1'  tools/train.py -c configs/det/det_mv3_db.yml -o Global.pretrained_model=./pretrain_models/MobileNetV3_large_x0_5_pretrained"
   ]
  },
  {
   "cell_type": "code",
   "execution_count": 3,
   "id": "C8ImNkURiCu1",
   "metadata": {
    "colab": {
     "base_uri": "https://localhost:8080/"
    },
    "id": "C8ImNkURiCu1",
    "outputId": "8ded80d6-c2cd-41c2-c9b1-72ab193597d2"
   },
   "outputs": [
    {
     "name": "stdout",
     "output_type": "stream",
     "text": [
      "/content/PaddleOCR\n"
     ]
    }
   ],
   "source": [
    "%cd PaddleOCR"
   ]
  },
  {
   "cell_type": "code",
   "execution_count": 4,
   "id": "b396e7c6",
   "metadata": {
    "colab": {
     "base_uri": "https://localhost:8080/"
    },
    "id": "b396e7c6",
    "outputId": "e9d1628a-9f36-4227-fe54-f2f5452f207a",
    "papermill": {
     "duration": null,
     "end_time": null,
     "exception": null,
     "start_time": null,
     "status": "pending"
    },
    "tags": []
   },
   "outputs": [
    {
     "name": "stdout",
     "output_type": "stream",
     "text": [
      "[2023/12/12 06:36:49] ppocr INFO: Architecture : \n",
      "[2023/12/12 06:36:49] ppocr INFO:     Backbone : \n",
      "[2023/12/12 06:36:49] ppocr INFO:         model_name : large\n",
      "[2023/12/12 06:36:49] ppocr INFO:         name : MobileNetV3\n",
      "[2023/12/12 06:36:49] ppocr INFO:         scale : 0.5\n",
      "[2023/12/12 06:36:49] ppocr INFO:     Head : \n",
      "[2023/12/12 06:36:49] ppocr INFO:         k : 50\n",
      "[2023/12/12 06:36:49] ppocr INFO:         name : DBHead\n",
      "[2023/12/12 06:36:49] ppocr INFO:     Neck : \n",
      "[2023/12/12 06:36:49] ppocr INFO:         name : DBFPN\n",
      "[2023/12/12 06:36:49] ppocr INFO:         out_channels : 256\n",
      "[2023/12/12 06:36:49] ppocr INFO:     Transform : None\n",
      "[2023/12/12 06:36:49] ppocr INFO:     algorithm : DB\n",
      "[2023/12/12 06:36:49] ppocr INFO:     model_type : det\n",
      "[2023/12/12 06:36:49] ppocr INFO: Eval : \n",
      "[2023/12/12 06:36:49] ppocr INFO:     dataset : \n",
      "[2023/12/12 06:36:49] ppocr INFO:         data_dir : ./train_data/icdar2015/text_localization/\n",
      "[2023/12/12 06:36:49] ppocr INFO:         label_file_list : ['./train_data/icdar2015/text_localization/test_icdar2015_label.txt']\n",
      "[2023/12/12 06:36:49] ppocr INFO:         name : SimpleDataSet\n",
      "[2023/12/12 06:36:49] ppocr INFO:         transforms : \n",
      "[2023/12/12 06:36:49] ppocr INFO:             DecodeImage : \n",
      "[2023/12/12 06:36:49] ppocr INFO:                 channel_first : False\n",
      "[2023/12/12 06:36:49] ppocr INFO:                 img_mode : BGR\n",
      "[2023/12/12 06:36:49] ppocr INFO:             DetLabelEncode : None\n",
      "[2023/12/12 06:36:49] ppocr INFO:             DetResizeForTest : \n",
      "[2023/12/12 06:36:49] ppocr INFO:                 image_shape : [736, 1280]\n",
      "[2023/12/12 06:36:49] ppocr INFO:             NormalizeImage : \n",
      "[2023/12/12 06:36:49] ppocr INFO:                 mean : [0.485, 0.456, 0.406]\n",
      "[2023/12/12 06:36:49] ppocr INFO:                 order : hwc\n",
      "[2023/12/12 06:36:49] ppocr INFO:                 scale : 1./255.\n",
      "[2023/12/12 06:36:49] ppocr INFO:                 std : [0.229, 0.224, 0.225]\n",
      "[2023/12/12 06:36:49] ppocr INFO:             ToCHWImage : None\n",
      "[2023/12/12 06:36:49] ppocr INFO:             KeepKeys : \n",
      "[2023/12/12 06:36:49] ppocr INFO:                 keep_keys : ['image', 'shape', 'polys', 'ignore_tags']\n",
      "[2023/12/12 06:36:49] ppocr INFO:     loader : \n",
      "[2023/12/12 06:36:49] ppocr INFO:         batch_size_per_card : 1\n",
      "[2023/12/12 06:36:49] ppocr INFO:         drop_last : False\n",
      "[2023/12/12 06:36:49] ppocr INFO:         num_workers : 8\n",
      "[2023/12/12 06:36:49] ppocr INFO:         shuffle : False\n",
      "[2023/12/12 06:36:49] ppocr INFO:         use_shared_memory : True\n",
      "[2023/12/12 06:36:49] ppocr INFO: Global : \n",
      "[2023/12/12 06:36:49] ppocr INFO:     cal_metric_during_train : False\n",
      "[2023/12/12 06:36:49] ppocr INFO:     checkpoints : None\n",
      "[2023/12/12 06:36:49] ppocr INFO:     distributed : False\n",
      "[2023/12/12 06:36:49] ppocr INFO:     epoch_num : 1200\n",
      "[2023/12/12 06:36:49] ppocr INFO:     eval_batch_step : [0, 2000]\n",
      "[2023/12/12 06:36:49] ppocr INFO:     infer_img : doc/imgs_en/img_10.jpg\n",
      "[2023/12/12 06:36:49] ppocr INFO:     log_smooth_window : 20\n",
      "[2023/12/12 06:36:49] ppocr INFO:     pretrained_model : ./pretrain_models/MobileNetV3_large_x0_5_pretrained\n",
      "[2023/12/12 06:36:49] ppocr INFO:     print_batch_step : 10\n",
      "[2023/12/12 06:36:49] ppocr INFO:     save_epoch_step : 1200\n",
      "[2023/12/12 06:36:49] ppocr INFO:     save_inference_dir : None\n",
      "[2023/12/12 06:36:49] ppocr INFO:     save_model_dir : ./output/db_mv3/\n",
      "[2023/12/12 06:36:49] ppocr INFO:     save_res_path : ./output/det_db/predicts_db.txt\n",
      "[2023/12/12 06:36:49] ppocr INFO:     use_gpu : True\n",
      "[2023/12/12 06:36:49] ppocr INFO:     use_mlu : False\n",
      "[2023/12/12 06:36:49] ppocr INFO:     use_visualdl : False\n",
      "[2023/12/12 06:36:49] ppocr INFO:     use_xpu : False\n",
      "[2023/12/12 06:36:49] ppocr INFO: Loss : \n",
      "[2023/12/12 06:36:49] ppocr INFO:     alpha : 5\n",
      "[2023/12/12 06:36:49] ppocr INFO:     balance_loss : True\n",
      "[2023/12/12 06:36:49] ppocr INFO:     beta : 10\n",
      "[2023/12/12 06:36:49] ppocr INFO:     main_loss_type : DiceLoss\n",
      "[2023/12/12 06:36:49] ppocr INFO:     name : DBLoss\n",
      "[2023/12/12 06:36:49] ppocr INFO:     ohem_ratio : 3\n",
      "[2023/12/12 06:36:49] ppocr INFO: Metric : \n",
      "[2023/12/12 06:36:49] ppocr INFO:     main_indicator : hmean\n",
      "[2023/12/12 06:36:49] ppocr INFO:     name : DetMetric\n",
      "[2023/12/12 06:36:49] ppocr INFO: Optimizer : \n",
      "[2023/12/12 06:36:49] ppocr INFO:     beta1 : 0.9\n",
      "[2023/12/12 06:36:49] ppocr INFO:     beta2 : 0.999\n",
      "[2023/12/12 06:36:49] ppocr INFO:     lr : \n",
      "[2023/12/12 06:36:49] ppocr INFO:         learning_rate : 0.001\n",
      "[2023/12/12 06:36:49] ppocr INFO:     name : Adam\n",
      "[2023/12/12 06:36:49] ppocr INFO:     regularizer : \n",
      "[2023/12/12 06:36:49] ppocr INFO:         factor : 0\n",
      "[2023/12/12 06:36:49] ppocr INFO:         name : L2\n",
      "[2023/12/12 06:36:49] ppocr INFO: PostProcess : \n",
      "[2023/12/12 06:36:49] ppocr INFO:     box_thresh : 0.6\n",
      "[2023/12/12 06:36:49] ppocr INFO:     max_candidates : 1000\n",
      "[2023/12/12 06:36:49] ppocr INFO:     name : DBPostProcess\n",
      "[2023/12/12 06:36:49] ppocr INFO:     thresh : 0.3\n",
      "[2023/12/12 06:36:49] ppocr INFO:     unclip_ratio : 1.5\n",
      "[2023/12/12 06:36:49] ppocr INFO: Train : \n",
      "[2023/12/12 06:36:49] ppocr INFO:     dataset : \n",
      "[2023/12/12 06:36:49] ppocr INFO:         data_dir : ./train_data/icdar2015/text_localization/\n",
      "[2023/12/12 06:36:49] ppocr INFO:         label_file_list : ['./train_data/icdar2015/text_localization/train_icdar2015_label.txt']\n",
      "[2023/12/12 06:36:49] ppocr INFO:         name : SimpleDataSet\n",
      "[2023/12/12 06:36:49] ppocr INFO:         ratio_list : [1.0]\n",
      "[2023/12/12 06:36:49] ppocr INFO:         transforms : \n",
      "[2023/12/12 06:36:49] ppocr INFO:             DecodeImage : \n",
      "[2023/12/12 06:36:49] ppocr INFO:                 channel_first : False\n",
      "[2023/12/12 06:36:49] ppocr INFO:                 img_mode : BGR\n",
      "[2023/12/12 06:36:49] ppocr INFO:             DetLabelEncode : None\n",
      "[2023/12/12 06:36:49] ppocr INFO:             IaaAugment : \n",
      "[2023/12/12 06:36:49] ppocr INFO:                 augmenter_args : \n",
      "[2023/12/12 06:36:49] ppocr INFO:                     args : \n",
      "[2023/12/12 06:36:49] ppocr INFO:                         p : 0.5\n",
      "[2023/12/12 06:36:49] ppocr INFO:                     type : Fliplr\n",
      "[2023/12/12 06:36:49] ppocr INFO:                     args : \n",
      "[2023/12/12 06:36:49] ppocr INFO:                         rotate : [-10, 10]\n",
      "[2023/12/12 06:36:49] ppocr INFO:                     type : Affine\n",
      "[2023/12/12 06:36:49] ppocr INFO:                     args : \n",
      "[2023/12/12 06:36:49] ppocr INFO:                         size : [0.5, 3]\n",
      "[2023/12/12 06:36:49] ppocr INFO:                     type : Resize\n",
      "[2023/12/12 06:36:49] ppocr INFO:             EastRandomCropData : \n",
      "[2023/12/12 06:36:49] ppocr INFO:                 keep_ratio : True\n",
      "[2023/12/12 06:36:49] ppocr INFO:                 max_tries : 50\n",
      "[2023/12/12 06:36:49] ppocr INFO:                 size : [640, 640]\n",
      "[2023/12/12 06:36:49] ppocr INFO:             MakeBorderMap : \n",
      "[2023/12/12 06:36:49] ppocr INFO:                 shrink_ratio : 0.4\n",
      "[2023/12/12 06:36:49] ppocr INFO:                 thresh_max : 0.7\n",
      "[2023/12/12 06:36:49] ppocr INFO:                 thresh_min : 0.3\n",
      "[2023/12/12 06:36:49] ppocr INFO:             MakeShrinkMap : \n",
      "[2023/12/12 06:36:49] ppocr INFO:                 min_text_size : 8\n",
      "[2023/12/12 06:36:49] ppocr INFO:                 shrink_ratio : 0.4\n",
      "[2023/12/12 06:36:49] ppocr INFO:             NormalizeImage : \n",
      "[2023/12/12 06:36:49] ppocr INFO:                 mean : [0.485, 0.456, 0.406]\n",
      "[2023/12/12 06:36:49] ppocr INFO:                 order : hwc\n",
      "[2023/12/12 06:36:49] ppocr INFO:                 scale : 1./255.\n",
      "[2023/12/12 06:36:49] ppocr INFO:                 std : [0.229, 0.224, 0.225]\n",
      "[2023/12/12 06:36:49] ppocr INFO:             ToCHWImage : None\n",
      "[2023/12/12 06:36:49] ppocr INFO:             KeepKeys : \n",
      "[2023/12/12 06:36:49] ppocr INFO:                 keep_keys : ['image', 'threshold_map', 'threshold_mask', 'shrink_map', 'shrink_mask']\n",
      "[2023/12/12 06:36:49] ppocr INFO:     loader : \n",
      "[2023/12/12 06:36:49] ppocr INFO:         batch_size_per_card : 16\n",
      "[2023/12/12 06:36:49] ppocr INFO:         drop_last : False\n",
      "[2023/12/12 06:36:49] ppocr INFO:         num_workers : 8\n",
      "[2023/12/12 06:36:49] ppocr INFO:         shuffle : True\n",
      "[2023/12/12 06:36:49] ppocr INFO:         use_shared_memory : True\n",
      "[2023/12/12 06:36:49] ppocr INFO: profiler_options : None\n",
      "[2023/12/12 06:36:49] ppocr INFO: train with paddle 2.5.2 and device Place(gpu:0)\n",
      "[2023/12/12 06:36:49] ppocr INFO: Initialize indexs of datasets:['./train_data/icdar2015/text_localization/train_icdar2015_label.txt']\n",
      "Traceback (most recent call last):\n",
      "  File \"/content/PaddleOCR/tools/train.py\", line 227, in <module>\n",
      "    main(config, device, logger, vdl_writer)\n",
      "  File \"/content/PaddleOCR/tools/train.py\", line 53, in main\n",
      "    train_dataloader = build_dataloader(config, 'Train', device, logger)\n",
      "  File \"/content/PaddleOCR/ppocr/data/__init__.py\", line 107, in build_dataloader\n",
      "    dataset = eval(module_name)(config, mode, logger, seed)\n",
      "  File \"/content/PaddleOCR/ppocr/data/simple_dataset.py\", line 49, in __init__\n",
      "    self.data_lines = self.get_image_info_list(label_file_list, ratio_list)\n",
      "  File \"/content/PaddleOCR/ppocr/data/simple_dataset.py\", line 83, in get_image_info_list\n",
      "    with open(file, \"rb\") as f:\n",
      "FileNotFoundError: [Errno 2] No such file or directory: './train_data/icdar2015/text_localization/train_icdar2015_label.txt'\n"
     ]
    }
   ],
   "source": [
    "#@title\n",
    "#Single GPU Training\n",
    "!python3 tools/train.py -c configs/det/det_mv3_db.yml  \\\n",
    "         -o Global.pretrained_model=./pretrain_models/MobileNetV3_large_x0_5_pretrained"
   ]
  },
  {
   "cell_type": "code",
   "execution_count": 10,
   "id": "L1Jq3dnQittH",
   "metadata": {
    "colab": {
     "base_uri": "https://localhost:8080/"
    },
    "id": "L1Jq3dnQittH",
    "outputId": "4df77e49-3841-4e09-df5a-8d89ce64b82e"
   },
   "outputs": [
    {
     "name": "stdout",
     "output_type": "stream",
     "text": [
      "Running verify PaddlePaddle program ... \n",
      "PaddlePaddle works well on 1 CPU.\n",
      "PaddlePaddle works well on 2 CPUs.\n",
      "PaddlePaddle is installed successfully! Let's start deep learning with PaddlePaddle now.\n"
     ]
    },
    {
     "name": "stderr",
     "output_type": "stream",
     "text": [
      "/usr/local/lib/python3.10/dist-packages/paddle/fluid/executor.py:1583: UserWarning: Standalone executor is not used for data parallel\n",
      "  warnings.warn(\n"
     ]
    }
   ],
   "source": [
    "import paddle\n",
    "paddle.utils.run_check()"
   ]
  },
  {
   "cell_type": "code",
   "execution_count": 14,
   "id": "ULBoQ1NgjhPm",
   "metadata": {
    "colab": {
     "base_uri": "https://localhost:8080/"
    },
    "id": "ULBoQ1NgjhPm",
    "outputId": "2b962e05-cc28-4a31-bf64-92ff3fadbf94"
   },
   "outputs": [
    {
     "name": "stdout",
     "output_type": "stream",
     "text": [
      "Collecting paddlepaddle==2.3.0\n",
      "  Downloading paddlepaddle-2.3.0-cp310-cp310-manylinux1_x86_64.whl (112.4 MB)\n",
      "\u001b[2K     \u001b[90m━━━━━━━━━━━━━━━━━━━━━━━━━━━━━━━━━━━━━━━━\u001b[0m \u001b[32m112.4/112.4 MB\u001b[0m \u001b[31m5.2 MB/s\u001b[0m eta \u001b[36m0:00:00\u001b[0m\n",
      "\u001b[?25hRequirement already satisfied: requests>=2.20.0 in /usr/local/lib/python3.10/dist-packages (from paddlepaddle==2.3.0) (2.31.0)\n",
      "Requirement already satisfied: numpy>=1.13 in /usr/local/lib/python3.10/dist-packages (from paddlepaddle==2.3.0) (1.26.2)\n",
      "Requirement already satisfied: protobuf>=3.1.0 in /usr/local/lib/python3.10/dist-packages (from paddlepaddle==2.3.0) (3.20.0)\n",
      "Requirement already satisfied: Pillow in /usr/local/lib/python3.10/dist-packages (from paddlepaddle==2.3.0) (10.0.1)\n",
      "Requirement already satisfied: six in /usr/local/lib/python3.10/dist-packages (from paddlepaddle==2.3.0) (1.16.0)\n",
      "Requirement already satisfied: decorator in /usr/local/lib/python3.10/dist-packages (from paddlepaddle==2.3.0) (4.4.2)\n",
      "Requirement already satisfied: astor in /usr/local/lib/python3.10/dist-packages (from paddlepaddle==2.3.0) (0.8.1)\n",
      "Collecting paddle-bfloat==0.1.2 (from paddlepaddle==2.3.0)\n",
      "  Downloading paddle_bfloat-0.1.2-cp310-cp310-manylinux_2_5_x86_64.manylinux1_x86_64.manylinux_2_12_x86_64.manylinux2010_x86_64.whl (375 kB)\n",
      "\u001b[2K     \u001b[90m━━━━━━━━━━━━━━━━━━━━━━━━━━━━━━━━━━━━━━━━\u001b[0m \u001b[32m375.7/375.7 kB\u001b[0m \u001b[31m33.9 MB/s\u001b[0m eta \u001b[36m0:00:00\u001b[0m\n",
      "\u001b[?25hRequirement already satisfied: opt-einsum==3.3.0 in /usr/local/lib/python3.10/dist-packages (from paddlepaddle==2.3.0) (3.3.0)\n",
      "Requirement already satisfied: charset-normalizer<4,>=2 in /usr/local/lib/python3.10/dist-packages (from requests>=2.20.0->paddlepaddle==2.3.0) (3.3.2)\n",
      "Requirement already satisfied: idna<4,>=2.5 in /usr/local/lib/python3.10/dist-packages (from requests>=2.20.0->paddlepaddle==2.3.0) (3.6)\n",
      "Requirement already satisfied: urllib3<3,>=1.21.1 in /usr/local/lib/python3.10/dist-packages (from requests>=2.20.0->paddlepaddle==2.3.0) (2.0.7)\n",
      "Requirement already satisfied: certifi>=2017.4.17 in /usr/local/lib/python3.10/dist-packages (from requests>=2.20.0->paddlepaddle==2.3.0) (2023.11.17)\n",
      "Installing collected packages: paddle-bfloat, paddlepaddle\n",
      "  Attempting uninstall: paddle-bfloat\n",
      "    Found existing installation: paddle-bfloat 0.1.7\n",
      "    Uninstalling paddle-bfloat-0.1.7:\n",
      "      Successfully uninstalled paddle-bfloat-0.1.7\n",
      "  Attempting uninstall: paddlepaddle\n",
      "    Found existing installation: paddlepaddle 2.4.0rc0\n",
      "    Uninstalling paddlepaddle-2.4.0rc0:\n",
      "      Successfully uninstalled paddlepaddle-2.4.0rc0\n",
      "\u001b[31mERROR: pip's dependency resolver does not currently take into account all the packages that are installed. This behaviour is the source of the following dependency conflicts.\n",
      "paddlepaddle-gpu 2.3.2 requires paddle-bfloat==0.1.7, but you have paddle-bfloat 0.1.2 which is incompatible.\u001b[0m\u001b[31m\n",
      "\u001b[0mSuccessfully installed paddle-bfloat-0.1.2 paddlepaddle-2.3.0\n"
     ]
    }
   ],
   "source": [
    "!pip install paddlepaddle==2.3.0"
   ]
  },
  {
   "cell_type": "code",
   "execution_count": 16,
   "id": "hSml2gIVj5jw",
   "metadata": {
    "colab": {
     "base_uri": "https://localhost:8080/"
    },
    "id": "hSml2gIVj5jw",
    "outputId": "091f668a-64ed-4fb4-daa8-0b7c0b28b50c"
   },
   "outputs": [
    {
     "name": "stdout",
     "output_type": "stream",
     "text": [
      "/content/PaddleOCR\n"
     ]
    }
   ],
   "source": [
    "%cd PaddleOCR"
   ]
  },
  {
   "cell_type": "code",
   "execution_count": null,
   "id": "e1877790",
   "metadata": {
    "id": "e1877790",
    "papermill": {
     "duration": null,
     "end_time": null,
     "exception": null,
     "start_time": null,
     "status": "pending"
    },
    "tags": []
   },
   "outputs": [],
   "source": [
    "#Multi-GPU Training\n",
    "!python3 -m paddle.distributed.launch --gpus '0,1'  ./PaddleOCR/tools/train.py -c ./det_mv3_db.yml -o Global.pretrained_model=./pretrain_models/MobileNetV3_large_x0_5_pretrained"
   ]
  },
  {
   "cell_type": "code",
   "execution_count": 17,
   "id": "94084518",
   "metadata": {
    "colab": {
     "base_uri": "https://localhost:8080/"
    },
    "id": "94084518",
    "outputId": "d4a6e5c1-d355-4df4-b91b-519085430679",
    "papermill": {
     "duration": null,
     "end_time": null,
     "exception": null,
     "start_time": null,
     "status": "pending"
    },
    "scrolled": true,
    "tags": []
   },
   "outputs": [
    {
     "name": "stdout",
     "output_type": "stream",
     "text": [
      "Error: Can not import avx core while this file exists: /usr/local/lib/python3.10/dist-packages/paddle/fluid/core_avx.so\n",
      "Traceback (most recent call last):\n",
      "  File \"/content/PaddleOCR/tools/train.py\", line 27, in <module>\n",
      "    import paddle\n",
      "  File \"/usr/local/lib/python3.10/dist-packages/paddle/__init__.py\", line 25, in <module>\n",
      "    from .framework import monkey_patch_variable\n",
      "  File \"/usr/local/lib/python3.10/dist-packages/paddle/framework/__init__.py\", line 17, in <module>\n",
      "    from . import random  # noqa: F401\n",
      "  File \"/usr/local/lib/python3.10/dist-packages/paddle/framework/random.py\", line 16, in <module>\n",
      "    import paddle.fluid as fluid\n",
      "  File \"/usr/local/lib/python3.10/dist-packages/paddle/fluid/__init__.py\", line 36, in <module>\n",
      "    from . import framework\n",
      "  File \"/usr/local/lib/python3.10/dist-packages/paddle/fluid/framework.py\", line 37, in <module>\n",
      "    from . import core\n",
      "  File \"/usr/local/lib/python3.10/dist-packages/paddle/fluid/core.py\", line 298, in <module>\n",
      "    raise e\n",
      "  File \"/usr/local/lib/python3.10/dist-packages/paddle/fluid/core.py\", line 256, in <module>\n",
      "    from . import core_avx\n",
      "ImportError: /usr/local/lib/python3.10/dist-packages/paddle/fluid/core_avx.so: undefined symbol: _dl_sym, version GLIBC_PRIVATE\n"
     ]
    }
   ],
   "source": [
    "#Single GPU Training\n",
    "!python3 tools/train.py -c /content/det_mv3_db.yml  -o Global.pretrained_model=./pretrain_models/MobileNetV3_large_x0_5_pretrained.pdparams"
   ]
  },
  {
   "cell_type": "markdown",
   "id": "96c97ef0",
   "metadata": {
    "id": "96c97ef0",
    "papermill": {
     "duration": null,
     "end_time": null,
     "exception": null,
     "start_time": null,
     "status": "pending"
    },
    "tags": []
   },
   "source": [
    "# Recognizer Training"
   ]
  },
  {
   "cell_type": "code",
   "execution_count": null,
   "id": "c3174936",
   "metadata": {
    "collapsed": true,
    "id": "c3174936",
    "jupyter": {
     "outputs_hidden": true,
     "source_hidden": true
    },
    "papermill": {
     "duration": null,
     "end_time": null,
     "exception": null,
     "start_time": null,
     "status": "pending"
    },
    "tags": []
   },
   "outputs": [],
   "source": [
    "#@title\n",
    "# Preparing the Training Annotation File and images\n",
    "\n",
    "count = 0\n",
    "flag = 1\n",
    "img_counter = 0\n",
    "for i in tqdm(os.listdir(\"Total-Text/Train\")):\n",
    "  img_path = os.path.join(\"Total-Text/Train\", i)\n",
    "  bounding_box_path = os.path.join(\"Total-Text/Annotation/groundtruth_polygonal_annotation/Train\", \"poly_gt_\"+i.split(\".\")[0]+\".txt\")\n",
    "  var = open(bounding_box_path, \"r\")\n",
    "  var = var.readlines()\n",
    "  for j in var:\n",
    "    try:\n",
    "      j = j.replace(\"\\n\", '')\n",
    "      x_coordinates = j.split(\",\")[0].split(\"[\")[2].split(\"]\")[0].split(\" \")\n",
    "      y_coordinates = j.split(\",\")[1].split(\"[\")[2].split(\"]\")[0].split(\" \")\n",
    "      if(len(x_coordinates) != 4 or len(y_coordinates)!=4):\n",
    "        continue\n",
    "      #text = j.split(\",\")[3].split(\"[\")[1].split(\"'\")[1]\n",
    "      if(j.split(\" \")[-1]==\"[]\"):\n",
    "        continue\n",
    "      text = j.split(\" \")[-1].split(\"'\")[1]\n",
    "      if(\"#\" in text):\n",
    "        text = \"###\"\n",
    "      x1, x2, x3, x4 = x_coordinates[0], x_coordinates[1], x_coordinates[2], x_coordinates[3]\n",
    "      y1, y2, y3, y4 = y_coordinates[0], y_coordinates[1], y_coordinates[2], y_coordinates[3]\n",
    "      dic = {}\n",
    "      dic[\"points\"] = [[x1,y1], [x2,y2], [x3,y3], [x4,y4]]\n",
    "      dic[\"transcription\"] = str(text)\n",
    "      lis.append(dic)\n",
    "      x1,y1,x2,y2,x3,y3,x4,y4 = int(x1), int(y1), int(x2), int(y2), int(x3), int(y3), int(x4), int(x4)\n",
    "      pts = np.asarray([(x1,y1), (x2,y2), (x3,y3), (x4,y4)])\n",
    "      img = cv2.imread(img_path)\n",
    "      warped = perspective.four_point_transform(img, pts)\n",
    "      new_img_path = \"crnn_train/img_\"+str(img_counter)+\".png\"\n",
    "      cv2.imwrite(new_img_path, warped)\n",
    "      with open(\"rec_train.txt\", \"a\") as ob:\n",
    "        ob.write(new_img_path+\"\\t\"+text+\"\\n\")\n",
    "      img_counter = img_counter + 1\n",
    "    except:\n",
    "      flag = 0\n",
    "  if(flag == 0):\n",
    "    flag = 1\n",
    "    continue\n",
    "  count = count + 1\n",
    "print(\"Total number of Annotations created for Training are \", count)"
   ]
  },
  {
   "cell_type": "code",
   "execution_count": null,
   "id": "7ac129bc",
   "metadata": {
    "cellView": "form",
    "collapsed": true,
    "id": "7ac129bc",
    "jupyter": {
     "outputs_hidden": true,
     "source_hidden": true
    },
    "papermill": {
     "duration": null,
     "end_time": null,
     "exception": null,
     "start_time": null,
     "status": "pending"
    },
    "tags": []
   },
   "outputs": [],
   "source": [
    "#@title\n",
    "# Preparing the Testing/Eval Annotation File and images\n",
    "\n",
    "count = 0\n",
    "flag = 1\n",
    "img_counter = 0\n",
    "for i in tqdm(os.listdir(\"Total-Text/Test\")):\n",
    "  img_path = os.path.join(\"Total-Text/Test\", i)\n",
    "  bounding_box_path = os.path.join(\"Total-Text/Annotation/groundtruth_polygonal_annotation/Test\", \"poly_gt_\"+i.split(\".\")[0]+\".txt\")\n",
    "  var = open(bounding_box_path, \"r\")\n",
    "  var = var.readlines()\n",
    "  for j in var:\n",
    "    try:\n",
    "      j = j.replace(\"\\n\", '')\n",
    "      x_coordinates = j.split(\",\")[0].split(\"[\")[2].split(\"]\")[0].split(\" \")\n",
    "      y_coordinates = j.split(\",\")[1].split(\"[\")[2].split(\"]\")[0].split(\" \")\n",
    "      if(len(x_coordinates) != 4 or len(y_coordinates)!=4):\n",
    "        continue\n",
    "      #text = j.split(\",\")[3].split(\"[\")[1].split(\"'\")[1]\n",
    "      if(j.split(\" \")[-1]==\"[]\"):\n",
    "        continue\n",
    "      text = j.split(\" \")[-1].split(\"'\")[1]\n",
    "      if(\"#\" in text):\n",
    "        text = \"###\"\n",
    "      x1, x2, x3, x4 = x_coordinates[0], x_coordinates[1], x_coordinates[2], x_coordinates[3]\n",
    "      y1, y2, y3, y4 = y_coordinates[0], y_coordinates[1], y_coordinates[2], y_coordinates[3]\n",
    "      dic = {}\n",
    "      dic[\"points\"] = [[x1,y1], [x2,y2], [x3,y3], [x4,y4]]\n",
    "      dic[\"transcription\"] = str(text)\n",
    "      lis.append(dic)\n",
    "      x1,y1,x2,y2,x3,y3,x4,y4 = int(x1), int(y1), int(x2), int(y2), int(x3), int(y3), int(x4), int(x4)\n",
    "      pts = np.asarray([(x1,y1), (x2,y2), (x3,y3), (x4,y4)])\n",
    "      img = cv2.imread(img_path)\n",
    "      warped = perspective.four_point_transform(img, pts)\n",
    "      new_img_path = \"crnn_test/img_\"+str(img_counter)+\".png\"\n",
    "      cv2.imwrite(new_img_path, warped)\n",
    "      with open(\"rec_test.txt\", \"a\") as ob:\n",
    "        ob.write(new_img_path+\"\\t\"+text+\"\\n\")\n",
    "      img_counter = img_counter + 1\n",
    "    except:\n",
    "      flag = 0\n",
    "  if(flag == 0):\n",
    "    flag = 1\n",
    "    continue\n",
    "  count = count + 1\n",
    "print(\"Total number of Annotations created for Test/Eval are \", count)"
   ]
  },
  {
   "cell_type": "code",
   "execution_count": null,
   "id": "0e5a85ad",
   "metadata": {
    "id": "0e5a85ad",
    "jupyter": {
     "source_hidden": true
    },
    "papermill": {
     "duration": null,
     "end_time": null,
     "exception": null,
     "start_time": null,
     "status": "pending"
    },
    "tags": []
   },
   "outputs": [],
   "source": [
    "%cd PaddleOCR"
   ]
  },
  {
   "cell_type": "code",
   "execution_count": 12,
   "id": "itPvxL2ol-zZ",
   "metadata": {
    "colab": {
     "base_uri": "https://localhost:8080/",
     "height": 518
    },
    "id": "itPvxL2ol-zZ",
    "outputId": "87f838c7-c8ac-473f-d28a-e3906ef5d38a"
   },
   "outputs": [
    {
     "name": "stdout",
     "output_type": "stream",
     "text": [
      "Collecting paddlepaddle==2.4.0rc0\n",
      "  Downloading paddlepaddle-2.4.0rc0-cp310-cp310-manylinux1_x86_64.whl (120.2 MB)\n",
      "\u001b[2K     \u001b[90m━━━━━━━━━━━━━━━━━━━━━━━━━━━━━━━━━━━━━━━━\u001b[0m \u001b[32m120.2/120.2 MB\u001b[0m \u001b[31m2.3 MB/s\u001b[0m eta \u001b[36m0:00:00\u001b[0m\n",
      "\u001b[?25hRequirement already satisfied: requests>=2.20.0 in /usr/local/lib/python3.10/dist-packages (from paddlepaddle==2.4.0rc0) (2.31.0)\n",
      "Requirement already satisfied: numpy>=1.13 in /usr/local/lib/python3.10/dist-packages (from paddlepaddle==2.4.0rc0) (1.26.2)\n",
      "Requirement already satisfied: protobuf<=3.20.0,>=3.1.0 in /usr/local/lib/python3.10/dist-packages (from paddlepaddle==2.4.0rc0) (3.20.0)\n",
      "Requirement already satisfied: Pillow in /usr/local/lib/python3.10/dist-packages (from paddlepaddle==2.4.0rc0) (10.0.1)\n",
      "Requirement already satisfied: six in /usr/local/lib/python3.10/dist-packages (from paddlepaddle==2.4.0rc0) (1.16.0)\n",
      "Requirement already satisfied: decorator in /usr/local/lib/python3.10/dist-packages (from paddlepaddle==2.4.0rc0) (4.4.2)\n",
      "Requirement already satisfied: astor in /usr/local/lib/python3.10/dist-packages (from paddlepaddle==2.4.0rc0) (0.8.1)\n",
      "Requirement already satisfied: paddle-bfloat==0.1.7 in /usr/local/lib/python3.10/dist-packages (from paddlepaddle==2.4.0rc0) (0.1.7)\n",
      "Requirement already satisfied: opt-einsum==3.3.0 in /usr/local/lib/python3.10/dist-packages (from paddlepaddle==2.4.0rc0) (3.3.0)\n",
      "Requirement already satisfied: charset-normalizer<4,>=2 in /usr/local/lib/python3.10/dist-packages (from requests>=2.20.0->paddlepaddle==2.4.0rc0) (3.3.2)\n",
      "Requirement already satisfied: idna<4,>=2.5 in /usr/local/lib/python3.10/dist-packages (from requests>=2.20.0->paddlepaddle==2.4.0rc0) (3.6)\n",
      "Requirement already satisfied: urllib3<3,>=1.21.1 in /usr/local/lib/python3.10/dist-packages (from requests>=2.20.0->paddlepaddle==2.4.0rc0) (2.0.7)\n",
      "Requirement already satisfied: certifi>=2017.4.17 in /usr/local/lib/python3.10/dist-packages (from requests>=2.20.0->paddlepaddle==2.4.0rc0) (2023.11.17)\n",
      "Installing collected packages: paddlepaddle\n",
      "  Attempting uninstall: paddlepaddle\n",
      "    Found existing installation: paddlepaddle 2.4.2\n",
      "    Uninstalling paddlepaddle-2.4.2:\n",
      "      Successfully uninstalled paddlepaddle-2.4.2\n",
      "Successfully installed paddlepaddle-2.4.0rc0\n"
     ]
    },
    {
     "data": {
      "application/vnd.colab-display-data+json": {
       "pip_warning": {
        "packages": [
         "paddle"
        ]
       }
      }
     },
     "metadata": {},
     "output_type": "display_data"
    }
   ],
   "source": [
    "!pip install paddlepaddle==2.4.0rc0"
   ]
  },
  {
   "cell_type": "code",
   "execution_count": 8,
   "id": "8a0e1866",
   "metadata": {
    "colab": {
     "base_uri": "https://localhost:8080/"
    },
    "collapsed": true,
    "id": "8a0e1866",
    "jupyter": {
     "outputs_hidden": true,
     "source_hidden": true
    },
    "outputId": "347df3d2-e272-4f5e-e5e8-b38778c0eef7",
    "papermill": {
     "duration": null,
     "end_time": null,
     "exception": null,
     "start_time": null,
     "status": "pending"
    },
    "tags": []
   },
   "outputs": [
    {
     "name": "stdout",
     "output_type": "stream",
     "text": [
      "--2023-12-12 05:55:24--  https://paddleocr.bj.bcebos.com/PP-OCRv3/english/en_PP-OCRv3_rec_train.tar\n",
      "Resolving paddleocr.bj.bcebos.com (paddleocr.bj.bcebos.com)... 103.235.46.61, 2409:8c04:1001:1002:0:ff:b001:368a\n",
      "Connecting to paddleocr.bj.bcebos.com (paddleocr.bj.bcebos.com)|103.235.46.61|:443... connected.\n",
      "HTTP request sent, awaiting response... 200 OK\n",
      "Length: 204093440 (195M) [application/x-tar]\n",
      "Saving to: ‘./pretrain_models/en_PP-OCRv3_rec_train.tar.1’\n",
      "\n",
      "en_PP-OCRv3_rec_tra 100%[===================>] 194.64M  12.1MB/s    in 48s     \n",
      "\n",
      "2023-12-12 05:56:13 (4.05 MB/s) - ‘./pretrain_models/en_PP-OCRv3_rec_train.tar.1’ saved [204093440/204093440]\n",
      "\n",
      "/content/PaddleOCR/pretrain_models\n",
      "tar: Unexpected EOF in archive\n",
      "tar: rmtlseek not stopped at a record boundary\n",
      "tar: Error is not recoverable: exiting now\n",
      "/content/PaddleOCR\n"
     ]
    }
   ],
   "source": [
    "# Download the pre-trained model of en_PP-OCRv3\n",
    "!wget -P ./pretrain_models/ https://paddleocr.bj.bcebos.com/PP-OCRv3/english/en_PP-OCRv3_rec_train.tar\n",
    "# Decompress model parameters\n",
    "%cd pretrain_models\n",
    "!tar -xf en_PP-OCRv3_rec_train.tar && rm -rf en_PP-OCRv3_rec_train.tar\n",
    "%cd .."
   ]
  },
  {
   "cell_type": "code",
   "execution_count": 8,
   "id": "8oWRRFmNtYeI",
   "metadata": {
    "colab": {
     "base_uri": "https://localhost:8080/"
    },
    "id": "8oWRRFmNtYeI",
    "outputId": "428453c9-cd71-4f92-84b1-c74f0f05e995"
   },
   "outputs": [
    {
     "name": "stdout",
     "output_type": "stream",
     "text": [
      "/content/PaddleOCR\n"
     ]
    }
   ],
   "source": [
    "%cd PaddleOCR"
   ]
  },
  {
   "cell_type": "code",
   "execution_count": 9,
   "id": "6a942269",
   "metadata": {
    "colab": {
     "base_uri": "https://localhost:8080/"
    },
    "id": "6a942269",
    "jupyter": {
     "source_hidden": true
    },
    "outputId": "dc0d44b9-ad3b-46e4-fd74-9e4ca14171c5",
    "papermill": {
     "duration": null,
     "end_time": null,
     "exception": null,
     "start_time": null,
     "status": "pending"
    },
    "tags": []
   },
   "outputs": [
    {
     "name": "stdout",
     "output_type": "stream",
     "text": [
      "/usr/local/lib/python3.10/dist-packages/pkg_resources/__init__.py:121: DeprecationWarning: pkg_resources is deprecated as an API\n",
      "  warnings.warn(\"pkg_resources is deprecated as an API\", DeprecationWarning)\n",
      "/usr/local/lib/python3.10/dist-packages/pkg_resources/__init__.py:2870: DeprecationWarning: Deprecated call to `pkg_resources.declare_namespace('google')`.\n",
      "Implementing implicit namespace packages (as specified in PEP 420) is preferred to `pkg_resources.declare_namespace`. See https://setuptools.pypa.io/en/latest/references/keywords.html#keyword-namespace-packages\n",
      "  declare_namespace(pkg)\n",
      "/usr/local/lib/python3.10/dist-packages/pkg_resources/__init__.py:2870: DeprecationWarning: Deprecated call to `pkg_resources.declare_namespace('google.ai')`.\n",
      "Implementing implicit namespace packages (as specified in PEP 420) is preferred to `pkg_resources.declare_namespace`. See https://setuptools.pypa.io/en/latest/references/keywords.html#keyword-namespace-packages\n",
      "  declare_namespace(pkg)\n",
      "/usr/local/lib/python3.10/dist-packages/pkg_resources/__init__.py:2349: DeprecationWarning: Deprecated call to `pkg_resources.declare_namespace('google')`.\n",
      "Implementing implicit namespace packages (as specified in PEP 420) is preferred to `pkg_resources.declare_namespace`. See https://setuptools.pypa.io/en/latest/references/keywords.html#keyword-namespace-packages\n",
      "  declare_namespace(parent)\n",
      "/usr/local/lib/python3.10/dist-packages/pkg_resources/__init__.py:2870: DeprecationWarning: Deprecated call to `pkg_resources.declare_namespace('google.cloud')`.\n",
      "Implementing implicit namespace packages (as specified in PEP 420) is preferred to `pkg_resources.declare_namespace`. See https://setuptools.pypa.io/en/latest/references/keywords.html#keyword-namespace-packages\n",
      "  declare_namespace(pkg)\n",
      "/usr/local/lib/python3.10/dist-packages/pkg_resources/__init__.py:2870: DeprecationWarning: Deprecated call to `pkg_resources.declare_namespace('google.logging')`.\n",
      "Implementing implicit namespace packages (as specified in PEP 420) is preferred to `pkg_resources.declare_namespace`. See https://setuptools.pypa.io/en/latest/references/keywords.html#keyword-namespace-packages\n",
      "  declare_namespace(pkg)\n",
      "/usr/local/lib/python3.10/dist-packages/pkg_resources/__init__.py:2870: DeprecationWarning: Deprecated call to `pkg_resources.declare_namespace('google.iam')`.\n",
      "Implementing implicit namespace packages (as specified in PEP 420) is preferred to `pkg_resources.declare_namespace`. See https://setuptools.pypa.io/en/latest/references/keywords.html#keyword-namespace-packages\n",
      "  declare_namespace(pkg)\n",
      "/usr/local/lib/python3.10/dist-packages/pkg_resources/__init__.py:2870: DeprecationWarning: Deprecated call to `pkg_resources.declare_namespace('mpl_toolkits')`.\n",
      "Implementing implicit namespace packages (as specified in PEP 420) is preferred to `pkg_resources.declare_namespace`. See https://setuptools.pypa.io/en/latest/references/keywords.html#keyword-namespace-packages\n",
      "  declare_namespace(pkg)\n",
      "/usr/local/lib/python3.10/dist-packages/pkg_resources/__init__.py:2870: DeprecationWarning: Deprecated call to `pkg_resources.declare_namespace('sphinxcontrib')`.\n",
      "Implementing implicit namespace packages (as specified in PEP 420) is preferred to `pkg_resources.declare_namespace`. See https://setuptools.pypa.io/en/latest/references/keywords.html#keyword-namespace-packages\n",
      "  declare_namespace(pkg)\n",
      "LAUNCH INFO 2023-12-12 06:28:51,129 -----------  Configuration  ----------------------\n",
      "INFO 2023-12-12 06:28:51,129 __init__.py:45] -----------  Configuration  ----------------------\n",
      "LAUNCH INFO 2023-12-12 06:28:51,129 devices: None\n",
      "INFO 2023-12-12 06:28:51,129 __init__.py:47] devices: None\n",
      "LAUNCH INFO 2023-12-12 06:28:51,129 elastic_level: -1\n",
      "INFO 2023-12-12 06:28:51,129 __init__.py:47] elastic_level: -1\n",
      "LAUNCH INFO 2023-12-12 06:28:51,129 elastic_timeout: 30\n",
      "INFO 2023-12-12 06:28:51,129 __init__.py:47] elastic_timeout: 30\n",
      "LAUNCH INFO 2023-12-12 06:28:51,129 gloo_port: 6767\n",
      "INFO 2023-12-12 06:28:51,129 __init__.py:47] gloo_port: 6767\n",
      "LAUNCH INFO 2023-12-12 06:28:51,130 host: None\n",
      "INFO 2023-12-12 06:28:51,130 __init__.py:47] host: None\n",
      "LAUNCH INFO 2023-12-12 06:28:51,130 ips: None\n",
      "INFO 2023-12-12 06:28:51,130 __init__.py:47] ips: None\n",
      "LAUNCH INFO 2023-12-12 06:28:51,130 job_id: default\n",
      "INFO 2023-12-12 06:28:51,130 __init__.py:47] job_id: default\n",
      "LAUNCH INFO 2023-12-12 06:28:51,130 legacy: False\n",
      "INFO 2023-12-12 06:28:51,130 __init__.py:47] legacy: False\n",
      "LAUNCH INFO 2023-12-12 06:28:51,130 log_dir: log\n",
      "INFO 2023-12-12 06:28:51,130 __init__.py:47] log_dir: log\n",
      "LAUNCH INFO 2023-12-12 06:28:51,130 log_level: INFO\n",
      "INFO 2023-12-12 06:28:51,130 __init__.py:47] log_level: INFO\n",
      "LAUNCH INFO 2023-12-12 06:28:51,130 master: None\n",
      "INFO 2023-12-12 06:28:51,130 __init__.py:47] master: None\n",
      "LAUNCH INFO 2023-12-12 06:28:51,130 max_restart: 3\n",
      "INFO 2023-12-12 06:28:51,130 __init__.py:47] max_restart: 3\n",
      "LAUNCH INFO 2023-12-12 06:28:51,130 nnodes: 1\n",
      "INFO 2023-12-12 06:28:51,130 __init__.py:47] nnodes: 1\n",
      "LAUNCH INFO 2023-12-12 06:28:51,130 nproc_per_node: None\n",
      "INFO 2023-12-12 06:28:51,130 __init__.py:47] nproc_per_node: None\n",
      "LAUNCH INFO 2023-12-12 06:28:51,130 rank: -1\n",
      "INFO 2023-12-12 06:28:51,130 __init__.py:47] rank: -1\n",
      "LAUNCH INFO 2023-12-12 06:28:51,130 run_mode: collective\n",
      "INFO 2023-12-12 06:28:51,130 __init__.py:47] run_mode: collective\n",
      "LAUNCH INFO 2023-12-12 06:28:51,130 server_num: None\n",
      "INFO 2023-12-12 06:28:51,130 __init__.py:47] server_num: None\n",
      "LAUNCH INFO 2023-12-12 06:28:51,130 servers: \n",
      "INFO 2023-12-12 06:28:51,130 __init__.py:47] servers: \n",
      "LAUNCH INFO 2023-12-12 06:28:51,130 start_port: 6070\n",
      "INFO 2023-12-12 06:28:51,130 __init__.py:47] start_port: 6070\n",
      "LAUNCH INFO 2023-12-12 06:28:51,130 trainer_num: None\n",
      "INFO 2023-12-12 06:28:51,130 __init__.py:47] trainer_num: None\n",
      "LAUNCH INFO 2023-12-12 06:28:51,130 trainers: \n",
      "INFO 2023-12-12 06:28:51,130 __init__.py:47] trainers: \n",
      "LAUNCH INFO 2023-12-12 06:28:51,130 training_script: tools/train.py\n",
      "INFO 2023-12-12 06:28:51,130 __init__.py:47] training_script: tools/train.py\n",
      "LAUNCH INFO 2023-12-12 06:28:51,130 training_script_args: ['-c', 'configs/rec/PP-OCRv3/en_PP-OCRv3_rec.yml', '-o', 'Global.pretrained_model=en_PP-OCRv3_rec_train/best_accuracy']\n",
      "INFO 2023-12-12 06:28:51,130 __init__.py:47] training_script_args: ['-c', 'configs/rec/PP-OCRv3/en_PP-OCRv3_rec.yml', '-o', 'Global.pretrained_model=en_PP-OCRv3_rec_train/best_accuracy']\n",
      "LAUNCH INFO 2023-12-12 06:28:51,131 with_gloo: 1\n",
      "INFO 2023-12-12 06:28:51,131 __init__.py:47] with_gloo: 1\n",
      "LAUNCH INFO 2023-12-12 06:28:51,131 --------------------------------------------------\n",
      "INFO 2023-12-12 06:28:51,131 __init__.py:48] --------------------------------------------------\n",
      "LAUNCH INFO 2023-12-12 06:28:51,131 Job: default, mode collective, replicas 1[1:1], elastic False\n",
      "INFO 2023-12-12 06:28:51,131 controller.py:168] Job: default, mode collective, replicas 1[1:1], elastic False\n",
      "LAUNCH INFO 2023-12-12 06:28:51,131 Run Pod: dfgpdm, replicas 1, status ready\n",
      "INFO 2023-12-12 06:28:51,131 controller.py:60] Run Pod: dfgpdm, replicas 1, status ready\n",
      "LAUNCH INFO 2023-12-12 06:28:51,139 Watching Pod: dfgpdm, replicas 1, status running\n",
      "INFO 2023-12-12 06:28:51,139 controller.py:80] Watching Pod: dfgpdm, replicas 1, status running\n",
      "/usr/local/lib/python3.10/dist-packages/pkg_resources/__init__.py:121: DeprecationWarning: pkg_resources is deprecated as an API\n",
      "  warnings.warn(\"pkg_resources is deprecated as an API\", DeprecationWarning)\n",
      "/usr/local/lib/python3.10/dist-packages/pkg_resources/__init__.py:2870: DeprecationWarning: Deprecated call to `pkg_resources.declare_namespace('google')`.\n",
      "Implementing implicit namespace packages (as specified in PEP 420) is preferred to `pkg_resources.declare_namespace`. See https://setuptools.pypa.io/en/latest/references/keywords.html#keyword-namespace-packages\n",
      "  declare_namespace(pkg)\n",
      "/usr/local/lib/python3.10/dist-packages/pkg_resources/__init__.py:2870: DeprecationWarning: Deprecated call to `pkg_resources.declare_namespace('google.ai')`.\n",
      "Implementing implicit namespace packages (as specified in PEP 420) is preferred to `pkg_resources.declare_namespace`. See https://setuptools.pypa.io/en/latest/references/keywords.html#keyword-namespace-packages\n",
      "  declare_namespace(pkg)\n",
      "/usr/local/lib/python3.10/dist-packages/pkg_resources/__init__.py:2349: DeprecationWarning: Deprecated call to `pkg_resources.declare_namespace('google')`.\n",
      "Implementing implicit namespace packages (as specified in PEP 420) is preferred to `pkg_resources.declare_namespace`. See https://setuptools.pypa.io/en/latest/references/keywords.html#keyword-namespace-packages\n",
      "  declare_namespace(parent)\n",
      "/usr/local/lib/python3.10/dist-packages/pkg_resources/__init__.py:2870: DeprecationWarning: Deprecated call to `pkg_resources.declare_namespace('google.cloud')`.\n",
      "Implementing implicit namespace packages (as specified in PEP 420) is preferred to `pkg_resources.declare_namespace`. See https://setuptools.pypa.io/en/latest/references/keywords.html#keyword-namespace-packages\n",
      "  declare_namespace(pkg)\n",
      "/usr/local/lib/python3.10/dist-packages/pkg_resources/__init__.py:2870: DeprecationWarning: Deprecated call to `pkg_resources.declare_namespace('google.logging')`.\n",
      "Implementing implicit namespace packages (as specified in PEP 420) is preferred to `pkg_resources.declare_namespace`. See https://setuptools.pypa.io/en/latest/references/keywords.html#keyword-namespace-packages\n",
      "  declare_namespace(pkg)\n",
      "/usr/local/lib/python3.10/dist-packages/pkg_resources/__init__.py:2870: DeprecationWarning: Deprecated call to `pkg_resources.declare_namespace('google.iam')`.\n",
      "Implementing implicit namespace packages (as specified in PEP 420) is preferred to `pkg_resources.declare_namespace`. See https://setuptools.pypa.io/en/latest/references/keywords.html#keyword-namespace-packages\n",
      "  declare_namespace(pkg)\n",
      "/usr/local/lib/python3.10/dist-packages/pkg_resources/__init__.py:2870: DeprecationWarning: Deprecated call to `pkg_resources.declare_namespace('mpl_toolkits')`.\n",
      "Implementing implicit namespace packages (as specified in PEP 420) is preferred to `pkg_resources.declare_namespace`. See https://setuptools.pypa.io/en/latest/references/keywords.html#keyword-namespace-packages\n",
      "  declare_namespace(pkg)\n",
      "/usr/local/lib/python3.10/dist-packages/pkg_resources/__init__.py:2870: DeprecationWarning: Deprecated call to `pkg_resources.declare_namespace('sphinxcontrib')`.\n",
      "Implementing implicit namespace packages (as specified in PEP 420) is preferred to `pkg_resources.declare_namespace`. See https://setuptools.pypa.io/en/latest/references/keywords.html#keyword-namespace-packages\n",
      "  declare_namespace(pkg)\n",
      "/usr/local/lib/python3.10/dist-packages/skimage/util/dtype.py:27: DeprecationWarning: `np.bool8` is a deprecated alias for `np.bool_`.  (Deprecated NumPy 1.24)\n",
      "  np.bool8: (False, True),\n",
      "Traceback (most recent call last):\n",
      "  File \"/content/PaddleOCR/tools/train.py\", line 224, in <module>\n",
      "    config, device, logger, vdl_writer = program.preprocess(is_train=True)\n",
      "  File \"/content/PaddleOCR/tools/program.py\", line 678, in preprocess\n",
      "    .dev_id) if use_gpu else 'cpu'\n",
      "  File \"/usr/local/lib/python3.10/dist-packages/paddle/fluid/dygraph/parallel.py\", line 208, in device_id\n",
      "    return self._device_id\n",
      "AttributeError: 'ParallelEnv' object has no attribute '_device_id'. Did you mean: 'device_id'?\n",
      "LAUNCH INFO 2023-12-12 06:28:54,142 Pod failed\n",
      "INFO 2023-12-12 06:28:54,142 controller.py:109] Pod failed\n",
      "LAUNCH ERROR 2023-12-12 06:28:54,142 Container failed !!!\n",
      "Container rank 0 status failed cmd ['/usr/bin/python3', '-u', 'tools/train.py', '-c', 'configs/rec/PP-OCRv3/en_PP-OCRv3_rec.yml', '-o', 'Global.pretrained_model=en_PP-OCRv3_rec_train/best_accuracy'] code 1 log log/workerlog.0 \n",
      "env {'SHELL': '/bin/bash', 'NV_LIBCUBLAS_VERSION': '11.11.3.6-1', 'NVIDIA_VISIBLE_DEVICES': 'all', 'COLAB_JUPYTER_TRANSPORT': 'ipc', 'NV_NVML_DEV_VERSION': '11.8.86-1', 'NV_CUDNN_PACKAGE_NAME': 'libcudnn8', 'CGROUP_MEMORY_EVENTS': '/sys/fs/cgroup/memory.events /var/colab/cgroup/jupyter-children/memory.events', 'NV_LIBNCCL_DEV_PACKAGE': 'libnccl-dev=2.15.5-1+cuda11.8', 'NV_LIBNCCL_DEV_PACKAGE_VERSION': '2.15.5-1', 'VM_GCE_METADATA_HOST': '169.254.169.253', 'HOSTNAME': '21172eadcd30', 'LANGUAGE': 'en_US', 'TBE_RUNTIME_ADDR': '172.28.0.1:8011', 'GCE_METADATA_TIMEOUT': '3', 'NVIDIA_REQUIRE_CUDA': 'cuda>=11.8 brand=tesla,driver>=470,driver<471 brand=unknown,driver>=470,driver<471 brand=nvidia,driver>=470,driver<471 brand=nvidiartx,driver>=470,driver<471 brand=geforce,driver>=470,driver<471 brand=geforcertx,driver>=470,driver<471 brand=quadro,driver>=470,driver<471 brand=quadrortx,driver>=470,driver<471 brand=titan,driver>=470,driver<471 brand=titanrtx,driver>=470,driver<471', 'NV_LIBCUBLAS_DEV_PACKAGE': 'libcublas-dev-11-8=11.11.3.6-1', 'NV_NVTX_VERSION': '11.8.86-1', 'COLAB_JUPYTER_IP': '172.28.0.12', 'NV_CUDA_CUDART_DEV_VERSION': '11.8.89-1', 'NV_LIBCUSPARSE_VERSION': '11.7.5.86-1', 'COLAB_LANGUAGE_SERVER_PROXY_ROOT_URL': 'http://172.28.0.1:8013/', 'NV_LIBNPP_VERSION': '11.8.0.86-1', 'NCCL_VERSION': '2.15.5-1', 'KMP_LISTEN_PORT': '6000', 'TF_FORCE_GPU_ALLOW_GROWTH': 'true', 'ENV': '/root/.bashrc', 'PWD': '/content/PaddleOCR', 'TBE_EPHEM_CREDS_ADDR': '172.28.0.1:8009', 'COLAB_LANGUAGE_SERVER_PROXY_REQUEST_TIMEOUT': '30s', 'TBE_CREDS_ADDR': '172.28.0.1:8008', 'NV_CUDNN_PACKAGE': 'libcudnn8=8.9.6.50-1+cuda11.8', 'NVIDIA_DRIVER_CAPABILITIES': 'compute,utility', 'COLAB_JUPYTER_TOKEN': '', 'LAST_FORCED_REBUILD': '20231205', 'NV_NVPROF_DEV_PACKAGE': 'cuda-nvprof-11-8=11.8.87-1', 'NV_LIBNPP_PACKAGE': 'libnpp-11-8=11.8.0.86-1', 'NV_LIBNCCL_DEV_PACKAGE_NAME': 'libnccl-dev', 'TCLLIBPATH': '/usr/share/tcltk/tcllib1.20', 'NV_LIBCUBLAS_DEV_VERSION': '11.11.3.6-1', 'COLAB_KERNEL_MANAGER_PROXY_HOST': '172.28.0.12', 'NVIDIA_PRODUCT_NAME': 'CUDA', 'NV_LIBCUBLAS_DEV_PACKAGE_NAME': 'libcublas-dev-11-8', 'USE_AUTH_EPHEM': '1', 'NV_CUDA_CUDART_VERSION': '11.8.89-1', 'COLAB_WARMUP_DEFAULTS': '1', 'HOME': '/root', 'LANG': 'en_US.UTF-8', 'COLUMNS': '100', 'CUDA_VERSION': '11.8.0', 'CLOUDSDK_CONFIG': '/content/.config', 'NV_LIBCUBLAS_PACKAGE': 'libcublas-11-8=11.11.3.6-1', 'NV_CUDA_NSIGHT_COMPUTE_DEV_PACKAGE': 'cuda-nsight-compute-11-8=11.8.0-1', 'COLAB_RELEASE_TAG': 'release-colab_20231208-060140_RC00', 'PYDEVD_USE_FRAME_EVAL': 'NO', 'KMP_TARGET_PORT': '9000', 'CLICOLOR': '1', 'KMP_EXTRA_ARGS': '--logtostderr --listen_host=172.28.0.12 --target_host=172.28.0.12 --tunnel_background_save_url=https://colab.research.google.com/tun/m/cc48301118ce562b961b3c22d803539adc1e0c19/gpu-t4-s-1bwtr92kpz8xj --tunnel_background_save_delay=10s --tunnel_periodic_background_save_frequency=30m0s --enable_output_coalescing=true --output_coalescing_required=true', 'NV_LIBNPP_DEV_PACKAGE': 'libnpp-dev-11-8=11.8.0.86-1', 'COLAB_LANGUAGE_SERVER_PROXY_LSP_DIRS': '/datalab/web/pyright/typeshed-fallback/stdlib,/usr/local/lib/python3.10/dist-packages', 'NV_LIBCUBLAS_PACKAGE_NAME': 'libcublas-11-8', 'COLAB_KERNEL_MANAGER_PROXY_PORT': '6000', 'CLOUDSDK_PYTHON': 'python3', 'NV_LIBNPP_DEV_VERSION': '11.8.0.86-1', 'ENABLE_DIRECTORYPREFETCHER': '1', 'NO_GCE_CHECK': 'False', 'JPY_PARENT_PID': '99', 'PYTHONPATH': '/env/python', 'TERM': 'xterm-color', 'NV_LIBCUSPARSE_DEV_VERSION': '11.7.5.86-1', 'GIT_PAGER': 'cat', 'LIBRARY_PATH': '/usr/local/cuda/lib64/stubs', 'NV_CUDNN_VERSION': '8.9.6.50', 'SHLVL': '0', 'PAGER': 'cat', 'COLAB_LANGUAGE_SERVER_PROXY': '/usr/colab/bin/language_service', 'NV_CUDA_LIB_VERSION': '11.8.0-1', 'NVARCH': 'x86_64', 'NV_CUDNN_PACKAGE_DEV': 'libcudnn8-dev=8.9.6.50-1+cuda11.8', 'NV_CUDA_COMPAT_PACKAGE': 'cuda-compat-11-8', 'MPLBACKEND': 'module://ipykernel.pylab.backend_inline', 'NV_LIBNCCL_PACKAGE': 'libnccl2=2.15.5-1+cuda11.8', 'LD_LIBRARY_PATH': '/usr/local/lib/python3.10/dist-packages/cv2/../../lib64:/usr/lib64-nvidia', 'COLAB_GPU': '1', 'GCS_READ_CACHE_BLOCK_SIZE_MB': '16', 'NV_CUDA_NSIGHT_COMPUTE_VERSION': '11.8.0-1', 'NV_NVPROF_VERSION': '11.8.87-1', 'LC_ALL': 'en_US.UTF-8', 'COLAB_FILE_HANDLER_ADDR': 'localhost:3453', 'PATH': '/opt/bin:/usr/local/nvidia/bin:/usr/local/cuda/bin:/usr/local/sbin:/usr/local/bin:/usr/sbin:/usr/bin:/sbin:/bin:/tools/node/bin:/tools/google-cloud-sdk/bin', 'NV_LIBNCCL_PACKAGE_NAME': 'libnccl2', 'COLAB_DEBUG_ADAPTER_MUX_PATH': '/usr/local/bin/dap_multiplexer', 'NV_LIBNCCL_PACKAGE_VERSION': '2.15.5-1', 'PYTHONWARNINGS': 'ignore:::pip._internal.cli.base_command', 'DEBIAN_FRONTEND': 'noninteractive', 'COLAB_BACKEND_VERSION': 'next', 'OLDPWD': '/', '_': '/usr/bin/python3', 'CUSTOM_DEVICE_ROOT': '', 'OMP_NUM_THREADS': '1', 'QT_QPA_PLATFORM_PLUGIN_PATH': '/usr/local/lib/python3.10/dist-packages/cv2/qt/plugins', 'QT_QPA_FONTDIR': '/usr/local/lib/python3.10/dist-packages/cv2/qt/fonts', 'POD_NAME': 'dfgpdm', 'PADDLE_MASTER': '172.28.0.12:40678', 'PADDLE_GLOBAL_SIZE': '1', 'PADDLE_LOCAL_SIZE': '1', 'PADDLE_GLOBAL_RANK': '0', 'PADDLE_LOCAL_RANK': '0', 'PADDLE_NNODES': '1', 'PADDLE_TRAINER_ENDPOINTS': '172.28.0.12:40679', 'PADDLE_CURRENT_ENDPOINT': '172.28.0.12:40679', 'PADDLE_TRAINER_ID': '0', 'PADDLE_TRAINERS_NUM': '1', 'PADDLE_RANK_IN_NODE': '0', 'PADDLE_DISTRI_BACKEND': 'gloo'}\n",
      "ERROR 2023-12-12 06:28:54,142 controller.py:110] Container failed !!!\n",
      "Container rank 0 status failed cmd ['/usr/bin/python3', '-u', 'tools/train.py', '-c', 'configs/rec/PP-OCRv3/en_PP-OCRv3_rec.yml', '-o', 'Global.pretrained_model=en_PP-OCRv3_rec_train/best_accuracy'] code 1 log log/workerlog.0 \n",
      "env {'SHELL': '/bin/bash', 'NV_LIBCUBLAS_VERSION': '11.11.3.6-1', 'NVIDIA_VISIBLE_DEVICES': 'all', 'COLAB_JUPYTER_TRANSPORT': 'ipc', 'NV_NVML_DEV_VERSION': '11.8.86-1', 'NV_CUDNN_PACKAGE_NAME': 'libcudnn8', 'CGROUP_MEMORY_EVENTS': '/sys/fs/cgroup/memory.events /var/colab/cgroup/jupyter-children/memory.events', 'NV_LIBNCCL_DEV_PACKAGE': 'libnccl-dev=2.15.5-1+cuda11.8', 'NV_LIBNCCL_DEV_PACKAGE_VERSION': '2.15.5-1', 'VM_GCE_METADATA_HOST': '169.254.169.253', 'HOSTNAME': '21172eadcd30', 'LANGUAGE': 'en_US', 'TBE_RUNTIME_ADDR': '172.28.0.1:8011', 'GCE_METADATA_TIMEOUT': '3', 'NVIDIA_REQUIRE_CUDA': 'cuda>=11.8 brand=tesla,driver>=470,driver<471 brand=unknown,driver>=470,driver<471 brand=nvidia,driver>=470,driver<471 brand=nvidiartx,driver>=470,driver<471 brand=geforce,driver>=470,driver<471 brand=geforcertx,driver>=470,driver<471 brand=quadro,driver>=470,driver<471 brand=quadrortx,driver>=470,driver<471 brand=titan,driver>=470,driver<471 brand=titanrtx,driver>=470,driver<471', 'NV_LIBCUBLAS_DEV_PACKAGE': 'libcublas-dev-11-8=11.11.3.6-1', 'NV_NVTX_VERSION': '11.8.86-1', 'COLAB_JUPYTER_IP': '172.28.0.12', 'NV_CUDA_CUDART_DEV_VERSION': '11.8.89-1', 'NV_LIBCUSPARSE_VERSION': '11.7.5.86-1', 'COLAB_LANGUAGE_SERVER_PROXY_ROOT_URL': 'http://172.28.0.1:8013/', 'NV_LIBNPP_VERSION': '11.8.0.86-1', 'NCCL_VERSION': '2.15.5-1', 'KMP_LISTEN_PORT': '6000', 'TF_FORCE_GPU_ALLOW_GROWTH': 'true', 'ENV': '/root/.bashrc', 'PWD': '/content/PaddleOCR', 'TBE_EPHEM_CREDS_ADDR': '172.28.0.1:8009', 'COLAB_LANGUAGE_SERVER_PROXY_REQUEST_TIMEOUT': '30s', 'TBE_CREDS_ADDR': '172.28.0.1:8008', 'NV_CUDNN_PACKAGE': 'libcudnn8=8.9.6.50-1+cuda11.8', 'NVIDIA_DRIVER_CAPABILITIES': 'compute,utility', 'COLAB_JUPYTER_TOKEN': '', 'LAST_FORCED_REBUILD': '20231205', 'NV_NVPROF_DEV_PACKAGE': 'cuda-nvprof-11-8=11.8.87-1', 'NV_LIBNPP_PACKAGE': 'libnpp-11-8=11.8.0.86-1', 'NV_LIBNCCL_DEV_PACKAGE_NAME': 'libnccl-dev', 'TCLLIBPATH': '/usr/share/tcltk/tcllib1.20', 'NV_LIBCUBLAS_DEV_VERSION': '11.11.3.6-1', 'COLAB_KERNEL_MANAGER_PROXY_HOST': '172.28.0.12', 'NVIDIA_PRODUCT_NAME': 'CUDA', 'NV_LIBCUBLAS_DEV_PACKAGE_NAME': 'libcublas-dev-11-8', 'USE_AUTH_EPHEM': '1', 'NV_CUDA_CUDART_VERSION': '11.8.89-1', 'COLAB_WARMUP_DEFAULTS': '1', 'HOME': '/root', 'LANG': 'en_US.UTF-8', 'COLUMNS': '100', 'CUDA_VERSION': '11.8.0', 'CLOUDSDK_CONFIG': '/content/.config', 'NV_LIBCUBLAS_PACKAGE': 'libcublas-11-8=11.11.3.6-1', 'NV_CUDA_NSIGHT_COMPUTE_DEV_PACKAGE': 'cuda-nsight-compute-11-8=11.8.0-1', 'COLAB_RELEASE_TAG': 'release-colab_20231208-060140_RC00', 'PYDEVD_USE_FRAME_EVAL': 'NO', 'KMP_TARGET_PORT': '9000', 'CLICOLOR': '1', 'KMP_EXTRA_ARGS': '--logtostderr --listen_host=172.28.0.12 --target_host=172.28.0.12 --tunnel_background_save_url=https://colab.research.google.com/tun/m/cc48301118ce562b961b3c22d803539adc1e0c19/gpu-t4-s-1bwtr92kpz8xj --tunnel_background_save_delay=10s --tunnel_periodic_background_save_frequency=30m0s --enable_output_coalescing=true --output_coalescing_required=true', 'NV_LIBNPP_DEV_PACKAGE': 'libnpp-dev-11-8=11.8.0.86-1', 'COLAB_LANGUAGE_SERVER_PROXY_LSP_DIRS': '/datalab/web/pyright/typeshed-fallback/stdlib,/usr/local/lib/python3.10/dist-packages', 'NV_LIBCUBLAS_PACKAGE_NAME': 'libcublas-11-8', 'COLAB_KERNEL_MANAGER_PROXY_PORT': '6000', 'CLOUDSDK_PYTHON': 'python3', 'NV_LIBNPP_DEV_VERSION': '11.8.0.86-1', 'ENABLE_DIRECTORYPREFETCHER': '1', 'NO_GCE_CHECK': 'False', 'JPY_PARENT_PID': '99', 'PYTHONPATH': '/env/python', 'TERM': 'xterm-color', 'NV_LIBCUSPARSE_DEV_VERSION': '11.7.5.86-1', 'GIT_PAGER': 'cat', 'LIBRARY_PATH': '/usr/local/cuda/lib64/stubs', 'NV_CUDNN_VERSION': '8.9.6.50', 'SHLVL': '0', 'PAGER': 'cat', 'COLAB_LANGUAGE_SERVER_PROXY': '/usr/colab/bin/language_service', 'NV_CUDA_LIB_VERSION': '11.8.0-1', 'NVARCH': 'x86_64', 'NV_CUDNN_PACKAGE_DEV': 'libcudnn8-dev=8.9.6.50-1+cuda11.8', 'NV_CUDA_COMPAT_PACKAGE': 'cuda-compat-11-8', 'MPLBACKEND': 'module://ipykernel.pylab.backend_inline', 'NV_LIBNCCL_PACKAGE': 'libnccl2=2.15.5-1+cuda11.8', 'LD_LIBRARY_PATH': '/usr/local/lib/python3.10/dist-packages/cv2/../../lib64:/usr/lib64-nvidia', 'COLAB_GPU': '1', 'GCS_READ_CACHE_BLOCK_SIZE_MB': '16', 'NV_CUDA_NSIGHT_COMPUTE_VERSION': '11.8.0-1', 'NV_NVPROF_VERSION': '11.8.87-1', 'LC_ALL': 'en_US.UTF-8', 'COLAB_FILE_HANDLER_ADDR': 'localhost:3453', 'PATH': '/opt/bin:/usr/local/nvidia/bin:/usr/local/cuda/bin:/usr/local/sbin:/usr/local/bin:/usr/sbin:/usr/bin:/sbin:/bin:/tools/node/bin:/tools/google-cloud-sdk/bin', 'NV_LIBNCCL_PACKAGE_NAME': 'libnccl2', 'COLAB_DEBUG_ADAPTER_MUX_PATH': '/usr/local/bin/dap_multiplexer', 'NV_LIBNCCL_PACKAGE_VERSION': '2.15.5-1', 'PYTHONWARNINGS': 'ignore:::pip._internal.cli.base_command', 'DEBIAN_FRONTEND': 'noninteractive', 'COLAB_BACKEND_VERSION': 'next', 'OLDPWD': '/', '_': '/usr/bin/python3', 'CUSTOM_DEVICE_ROOT': '', 'OMP_NUM_THREADS': '1', 'QT_QPA_PLATFORM_PLUGIN_PATH': '/usr/local/lib/python3.10/dist-packages/cv2/qt/plugins', 'QT_QPA_FONTDIR': '/usr/local/lib/python3.10/dist-packages/cv2/qt/fonts', 'POD_NAME': 'dfgpdm', 'PADDLE_MASTER': '172.28.0.12:40678', 'PADDLE_GLOBAL_SIZE': '1', 'PADDLE_LOCAL_SIZE': '1', 'PADDLE_GLOBAL_RANK': '0', 'PADDLE_LOCAL_RANK': '0', 'PADDLE_NNODES': '1', 'PADDLE_TRAINER_ENDPOINTS': '172.28.0.12:40679', 'PADDLE_CURRENT_ENDPOINT': '172.28.0.12:40679', 'PADDLE_TRAINER_ID': '0', 'PADDLE_TRAINERS_NUM': '1', 'PADDLE_RANK_IN_NODE': '0', 'PADDLE_DISTRI_BACKEND': 'gloo'}\n",
      "LAUNCH INFO 2023-12-12 06:28:54,142 ------------------------- ERROR LOG DETAIL -------------------------\n",
      "INFO 2023-12-12 06:28:54,142 controller.py:111] ------------------------- ERROR LOG DETAIL -------------------------\n",
      "nWarning: Deprecated call to `pkg_resources.declare_namespace('google')`.\n",
      "Implementing implicit namespace packages (as specified in PEP 420) is preferred to `pkg_resources.declare_namespace`. See https://setuptools.pypa.io/en/latest/references/keywords.html#keyword-namespace-packages\n",
      "  declare_namespace(parent)\n",
      "/usr/local/lib/python3.10/dist-packages/pkg_resources/__init__.py:2870: DeprecationWarning: Deprecated call to `pkg_resources.declare_namespace('google.cloud')`.\n",
      "Implementing implicit namespace packages (as specified in PEP 420) is preferred to `pkg_resources.declare_namespace`. See https://setuptools.pypa.io/en/latest/references/keywords.html#keyword-namespace-packages\n",
      "  declare_namespace(pkg)\n",
      "/usr/local/lib/python3.10/dist-packages/pkg_resources/__init__.py:2870: DeprecationWarning: Deprecated call to `pkg_resources.declare_namespace('google.logging')`.\n",
      "Implementing implicit namespace packages (as specified in PEP 420) is preferred to `pkg_resources.declare_namespace`. See https://setuptools.pypa.io/en/latest/references/keywords.html#keyword-namespace-packages\n",
      "  declare_namespace(pkg)\n",
      "/usr/local/lib/python3.10/dist-packages/pkg_resources/__init__.py:2870: DeprecationWarning: Deprecated call to `pkg_resources.declare_namespace('google.iam')`.\n",
      "Implementing implicit namespace packages (as specified in PEP 420) is preferred to `pkg_resources.declare_namespace`. See https://setuptools.pypa.io/en/latest/references/keywords.html#keyword-namespace-packages\n",
      "  declare_namespace(pkg)\n",
      "/usr/local/lib/python3.10/dist-packages/pkg_resources/__init__.py:2870: DeprecationWarning: Deprecated call to `pkg_resources.declare_namespace('mpl_toolkits')`.\n",
      "Implementing implicit namespace packages (as specified in PEP 420) is preferred to `pkg_resources.declare_namespace`. See https://setuptools.pypa.io/en/latest/references/keywords.html#keyword-namespace-packages\n",
      "  declare_namespace(pkg)\n",
      "/usr/local/lib/python3.10/dist-packages/pkg_resources/__init__.py:2870: DeprecationWarning: Deprecated call to `pkg_resources.declare_namespace('sphinxcontrib')`.\n",
      "Implementing implicit namespace packages (as specified in PEP 420) is preferred to `pkg_resources.declare_namespace`. See https://setuptools.pypa.io/en/latest/references/keywords.html#keyword-namespace-packages\n",
      "  declare_namespace(pkg)\n",
      "/usr/local/lib/python3.10/dist-packages/skimage/util/dtype.py:27: DeprecationWarning: `np.bool8` is a deprecated alias for `np.bool_`.  (Deprecated NumPy 1.24)\n",
      "  np.bool8: (False, True),\n",
      "Traceback (most recent call last):\n",
      "  File \"/content/PaddleOCR/tools/train.py\", line 224, in <module>\n",
      "    config, device, logger, vdl_writer = program.preprocess(is_train=True)\n",
      "  File \"/content/PaddleOCR/tools/program.py\", line 678, in preprocess\n",
      "    .dev_id) if use_gpu else 'cpu'\n",
      "  File \"/usr/local/lib/python3.10/dist-packages/paddle/fluid/dygraph/parallel.py\", line 208, in device_id\n",
      "    return self._device_id\n",
      "AttributeError: 'ParallelEnv' object has no attribute '_device_id'. Did you mean: 'device_id'?\n",
      "LAUNCH INFO 2023-12-12 06:28:54,154 Exit code 1\n",
      "INFO 2023-12-12 06:28:54,154 controller.py:141] Exit code 1\n"
     ]
    }
   ],
   "source": [
    "#@title\n",
    "!python3 -m paddle.distributed.launch  tools/train.py -c configs/rec/PP-OCRv3/en_PP-OCRv3_rec.yml -o Global.pretrained_model=en_PP-OCRv3_rec_train/best_accuracy"
   ]
  },
  {
   "cell_type": "code",
   "execution_count": null,
   "id": "3fe1b958",
   "metadata": {
    "execution": {
     "iopub.execute_input": "2023-05-23T15:17:24.059891Z",
     "iopub.status.busy": "2023-05-23T15:17:24.059469Z"
    },
    "id": "3fe1b958",
    "papermill": {
     "duration": null,
     "end_time": null,
     "exception": null,
     "start_time": null,
     "status": "pending"
    },
    "scrolled": true,
    "tags": []
   },
   "outputs": [],
   "source": [
    "#@title\n",
    "!python3 -m paddle.distributed.launch --gpus '0,1'  ./PaddleOCR/tools/train.py -c ./en_PP-OCRv3_rec.yml -o Global.pretrained_model=./pretrain_models/en_PP-OCRv3_rec_train/best_accuracy"
   ]
  },
  {
   "cell_type": "code",
   "execution_count": 11,
   "id": "i4m4y_Qymd2p",
   "metadata": {
    "colab": {
     "base_uri": "https://localhost:8080/"
    },
    "id": "i4m4y_Qymd2p",
    "outputId": "6816de3c-6db3-4d1c-d8f5-43211f9fdd25"
   },
   "outputs": [
    {
     "name": "stdout",
     "output_type": "stream",
     "text": [
      "/content\n"
     ]
    }
   ],
   "source": [
    "%cd .."
   ]
  },
  {
   "cell_type": "code",
   "execution_count": 4,
   "id": "9e2ed713",
   "metadata": {
    "colab": {
     "base_uri": "https://localhost:8080/"
    },
    "collapsed": true,
    "id": "9e2ed713",
    "jupyter": {
     "outputs_hidden": true,
     "source_hidden": true
    },
    "outputId": "d2319a74-dfed-4e97-ecf4-62e5cdd97209",
    "papermill": {
     "duration": null,
     "end_time": null,
     "exception": null,
     "start_time": null,
     "status": "pending"
    },
    "tags": []
   },
   "outputs": [
    {
     "name": "stdout",
     "output_type": "stream",
     "text": [
      "python3: can't open file '/content/PaddleOCR/./PaddleOCR/tools/train.py': [Errno 2] No such file or directory\n"
     ]
    }
   ],
   "source": [
    "#Single GPU Training\n",
    "!python3 ./PaddleOCR/tools/train.py -c ./en_PP-OCRv3_rec.yml  -o Global.pretrained_model=./pretrain_models/en_PP-OCRv3_rec_train/best_accuracy.pdparams"
   ]
  },
  {
   "cell_type": "markdown",
   "id": "98c077aa",
   "metadata": {
    "id": "98c077aa",
    "papermill": {
     "duration": null,
     "end_time": null,
     "exception": null,
     "start_time": null,
     "status": "pending"
    },
    "tags": []
   },
   "source": [
    "# Converting Trained Weights to Inference Weights"
   ]
  },
  {
   "cell_type": "code",
   "execution_count": null,
   "id": "f8a01de2",
   "metadata": {
    "id": "f8a01de2",
    "papermill": {
     "duration": null,
     "end_time": null,
     "exception": null,
     "start_time": null,
     "status": "pending"
    },
    "tags": []
   },
   "outputs": [],
   "source": [
    "%cd PaddleOCR"
   ]
  },
  {
   "cell_type": "code",
   "execution_count": null,
   "id": "3731fd75",
   "metadata": {
    "id": "3731fd75",
    "papermill": {
     "duration": null,
     "end_time": null,
     "exception": null,
     "start_time": null,
     "status": "pending"
    },
    "tags": []
   },
   "outputs": [],
   "source": [
    "#Conversion of Recognizer Trained weights to Inference\n",
    "\n",
    "!python3 tools/export_model.py -c configs/rec/PP-OCRv3/en_PP-OCRv3_rec.yml -o Global.pretrained_model=output/v3_en_mobile/best_accuracy  Global.save_inference_dir=./inference/en_PP-OCRv3_rec/"
   ]
  },
  {
   "cell_type": "code",
   "execution_count": null,
   "id": "9e19c1af",
   "metadata": {
    "id": "9e19c1af",
    "papermill": {
     "duration": null,
     "end_time": null,
     "exception": null,
     "start_time": null,
     "status": "pending"
    },
    "tags": []
   },
   "outputs": [],
   "source": [
    "#conversion of Detection Trained Weights to Inference\n",
    "\n",
    "!python3 tools/export_model.py -c /content/PaddleOCR/configs/det/det_mv3_db.yml -o Global.pretrained_model=\"./output/db_mv3/best_accuracy\" Global.save_inference_dir=\"./output/det_db_inference/\""
   ]
  },
  {
   "cell_type": "markdown",
   "id": "9fb773e4",
   "metadata": {
    "id": "9fb773e4",
    "papermill": {
     "duration": null,
     "end_time": null,
     "exception": null,
     "start_time": null,
     "status": "pending"
    },
    "tags": []
   },
   "source": [
    "# Inference using Custom Weights in PyPi Version"
   ]
  },
  {
   "cell_type": "code",
   "execution_count": null,
   "id": "79c5870a",
   "metadata": {
    "id": "79c5870a",
    "papermill": {
     "duration": null,
     "end_time": null,
     "exception": null,
     "start_time": null,
     "status": "pending"
    },
    "tags": []
   },
   "outputs": [],
   "source": [
    "from paddleocr import PaddleOCR,draw_ocr\n",
    "from PIL import Image"
   ]
  },
  {
   "cell_type": "code",
   "execution_count": null,
   "id": "4daa90fe",
   "metadata": {
    "id": "4daa90fe",
    "papermill": {
     "duration": null,
     "end_time": null,
     "exception": null,
     "start_time": null,
     "status": "pending"
    },
    "tags": []
   },
   "outputs": [],
   "source": [
    "#Loading the detector and ocr with the previously trained weights\n",
    "custom_ocr = PaddleOCR(use_angle_cls=True,\n",
    "                rec_model_dir='PaddleOCR/inference/en_PP-OCRv3_rec',\n",
    "                det_model_dir='/content/PaddleOCR/output/det_db_inference',\n",
    "                rec_char_dict_path='ppocr/utils/en_dict.txt',\n",
    "                use_gpu=True,\n",
    "                show_log=False)"
   ]
  },
  {
   "cell_type": "code",
   "execution_count": null,
   "id": "aa2c3ebf",
   "metadata": {
    "id": "aa2c3ebf",
    "papermill": {
     "duration": null,
     "end_time": null,
     "exception": null,
     "start_time": null,
     "status": "pending"
    },
    "tags": []
   },
   "outputs": [],
   "source": [
    "ocr = PaddleOCR(use_angle_cls=True, lang=\"en\")"
   ]
  },
  {
   "cell_type": "code",
   "execution_count": null,
   "id": "c46f6052",
   "metadata": {
    "id": "c46f6052",
    "papermill": {
     "duration": null,
     "end_time": null,
     "exception": null,
     "start_time": null,
     "status": "pending"
    },
    "tags": []
   },
   "outputs": [],
   "source": [
    "img_path = \"/content/drive/MyDrive/MachineLearning/Total-Text/Sample/Train/11664.jpg\"\n",
    "img = cv2.imread(img_path)\n",
    "plt.imshow(img)"
   ]
  },
  {
   "cell_type": "code",
   "execution_count": null,
   "id": "7291bcd1",
   "metadata": {
    "id": "7291bcd1",
    "papermill": {
     "duration": null,
     "end_time": null,
     "exception": null,
     "start_time": null,
     "status": "pending"
    },
    "tags": []
   },
   "outputs": [],
   "source": [
    "result = custom_ocr.ocr(img)"
   ]
  },
  {
   "cell_type": "code",
   "execution_count": null,
   "id": "b1d1b01f",
   "metadata": {
    "id": "b1d1b01f",
    "papermill": {
     "duration": null,
     "end_time": null,
     "exception": null,
     "start_time": null,
     "status": "pending"
    },
    "tags": []
   },
   "outputs": [],
   "source": [
    "# draw result\n",
    "image = Image.open(img_path).convert('RGB')\n",
    "boxes = [line[0] for line in result]\n",
    "txts = [line[1][0] for line in result]\n",
    "scores = [line[1][1] for line in result]\n",
    "im_show = draw_ocr(image, boxes, txts, scores, font_path='doc/fonts/simfang.ttf')\n",
    "im_show = Image.fromarray(im_show)\n",
    "im_show.save('result.jpg')"
   ]
  },
  {
   "cell_type": "code",
   "execution_count": null,
   "id": "9ca94bb7",
   "metadata": {
    "id": "9ca94bb7",
    "papermill": {
     "duration": null,
     "end_time": null,
     "exception": null,
     "start_time": null,
     "status": "pending"
    },
    "tags": []
   },
   "outputs": [],
   "source": [
    "im_show"
   ]
  },
  {
   "cell_type": "code",
   "execution_count": null,
   "id": "c3433b55",
   "metadata": {
    "id": "c3433b55",
    "papermill": {
     "duration": null,
     "end_time": null,
     "exception": null,
     "start_time": null,
     "status": "pending"
    },
    "tags": []
   },
   "outputs": [],
   "source": []
  }
 ],
 "metadata": {
  "accelerator": "GPU",
  "colab": {
   "gpuType": "T4",
   "provenance": []
  },
  "environment": {
   "kernel": "background_kernel",
   "name": "tf2-cpu.2-11.m112",
   "type": "gcloud",
   "uri": "gcr.io/deeplearning-platform-release/tf2-cpu.2-11:m112"
  },
  "kernelspec": {
   "display_name": "background_kernel",
   "language": "python",
   "name": "background_kernel"
  },
  "language_info": {
   "codemirror_mode": {
    "name": "ipython",
    "version": 3
   },
   "file_extension": ".py",
   "mimetype": "text/x-python",
   "name": "python",
   "nbconvert_exporter": "python",
   "pygments_lexer": "ipython3",
   "version": "3.10.12"
  },
  "papermill": {
   "default_parameters": {},
   "duration": 17.303123,
   "end_time": "2023-05-23T15:38:47.994268",
   "environment_variables": {},
   "exception": true,
   "input_path": "__notebook__.ipynb",
   "output_path": "__notebook__.ipynb",
   "parameters": {},
   "start_time": "2023-05-23T15:38:30.691145",
   "version": "2.4.0"
  }
 },
 "nbformat": 4,
 "nbformat_minor": 5
}
